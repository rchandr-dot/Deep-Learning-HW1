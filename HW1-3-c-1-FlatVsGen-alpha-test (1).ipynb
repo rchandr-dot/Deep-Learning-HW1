{
 "cells": [
  {
   "cell_type": "code",
   "execution_count": 1,
   "metadata": {
    "tags": []
   },
   "outputs": [],
   "source": [
    "import os\n",
    "os.environ['TF_CPP_MIN_LOG_LEVEL'] = '3'  \n"
   ]
  },
  {
   "cell_type": "code",
   "execution_count": 2,
   "metadata": {
    "id": "9BBPiirv_Kh8",
    "tags": []
   },
   "outputs": [],
   "source": [
    "import os\n",
    "import numpy as np\n",
    "import matplotlib.pyplot as plt\n",
    "import pandas as pd\n",
    "import sklearn\n",
    "import seaborn\n",
    "import torch.nn as nn\n",
    "import torch.nn.functional as F\n",
    "from torch import optim\n",
    "import torch\n",
    "from torchvision import datasets\n",
    "from torchvision.transforms import ToTensor\n",
    "from torchvision import transforms\n",
    "\n",
    "from torch.utils.data import TensorDataset\n",
    "from tqdm import tqdm\n",
    "from torch.utils.tensorboard import SummaryWriter\n",
    "from torch.utils.data import DataLoader\n",
    "\n",
    "import matplotlib.pyplot as plt\n",
    "import random\n",
    "from sklearn.decomposition import PCA"
   ]
  },
  {
   "cell_type": "code",
   "execution_count": 3,
   "metadata": {
    "id": "pCrOa33yBdVF"
   },
   "outputs": [],
   "source": [
    "class Trainer:\n",
    "\n",
    "    def __init__(self,\n",
    "                 model: torch.nn.Module,\n",
    "                 device: torch.device,\n",
    "                 criterion: torch.nn.Module,\n",
    "                 optimizer: torch.optim.Optimizer,\n",
    "                 training_DataLoader: torch.utils.data.Dataset,\n",
    "                 validation_DataLoader: None,\n",
    "                 # lr_scheduler: torch.optim.lr_scheduler = None,\n",
    "                 epochs: int = 100,\n",
    "                 epoch: int = 0,\n",
    "                 notebook: bool = False,\n",
    "                 path2write: str = None,\n",
    "                 save_best=False,\n",
    "                 save_final=True,\n",
    "                 save_interval=10,\n",
    "                 checkpoint_start_epoch=50\n",
    "                 ):\n",
    "        self.model = model\n",
    "        self.criterion = criterion\n",
    "        self.optimizer = optimizer\n",
    "        # self.lr_scheduler = lr_scheduler\n",
    "        self.training_DataLoader = training_DataLoader\n",
    "        self.validation_DataLoader = validation_DataLoader\n",
    "        self.device = device\n",
    "        self.epochs = epochs\n",
    "        self.epoch = epoch\n",
    "        self.notebook = notebook\n",
    "        self.path2write = path2write\n",
    "        LOG_DIR = os.path.join(path2write, 'Log')  # path2write + 'Log/'\n",
    "        self.writer_train = SummaryWriter(os.path.join(LOG_DIR, \"train\"))\n",
    "        self.writer_val = SummaryWriter(os.path.join(LOG_DIR, \"val\"))\n",
    "        self.check_point_path = os.path.join(path2write, 'check_points')\n",
    "        if not os.path.exists(self.check_point_path):\n",
    "            os.makedirs(self.check_point_path)\n",
    "        self.save_best = save_best\n",
    "        self.save_final = save_final\n",
    "        self.save_interval = save_interval\n",
    "        self.checkpoint_start_epoch = checkpoint_start_epoch\n",
    "        self.training_loss = []\n",
    "        self.validation_loss = []\n",
    "        self.learning_rate = []\n",
    "        self.training_accuracy = []\n",
    "        self.validation_accuracy = []\n",
    "\n",
    "    def run_trainer(self):\n",
    "        self.model.to(self.device)\n",
    "        #         print(next(self.model.parameters()).device)\n",
    "        if self.notebook:\n",
    "            print('Notebook')\n",
    "            from tqdm.notebook import tqdm, trange\n",
    "        else:\n",
    "            from tqdm import tqdm, trange\n",
    "        #         print(self.epochs)\n",
    "        progressbar = trange(self.epochs, desc='Progress', disable=True)  # don't show progressbar\n",
    "        loss_max = None\n",
    "        for epoch in progressbar:\n",
    "            print(f'Epoch - {epoch}')\n",
    "\n",
    "            # Training Block\n",
    "            train_loss, train_accuracy = self._train()\n",
    "            self.writer_train.add_scalar(\"Train Loss\", train_loss, epoch)\n",
    "            self.writer_train.add_scalar(\"Train Accuracy\", train_accuracy, epoch)\n",
    "\n",
    "\n",
    "            # Val Block\n",
    "            val_loss, val_accuracy = self._validate()\n",
    "            self.writer_val.add_scalar(\"Val Loss\", val_loss, epoch)\n",
    "            self.writer_val.add_scalar(\"Val Accuracy\", val_accuracy, epoch)\n",
    "\n",
    "            # lr\n",
    "            self.writer_train.add_scalar(\"Learning Rate\", self.optimizer.param_groups[0]['lr'], epoch)\n",
    "\n",
    "            print('Epoch - {} Train Loss - {:.6f} Val Loss - {:.6f} Train Accuracy - {:.6f} Val Accuracy - {:.6f}'.format(epoch, train_loss, val_loss, train_accuracy, val_accuracy))\n",
    "            if self.save_final:\n",
    "                if epoch == self.epochs-1:\n",
    "                    model_name = 'epoch-{}-loss{:.6f}'.format(epoch, val_loss)\n",
    "                    torch.save(self.model.state_dict(), os.path.join(self.check_point_path, model_name))\n",
    "            loss_max = val_loss\n",
    "\n",
    "        return self.training_loss, self.validation_loss, self.model, self.training_accuracy, self.validation_accuracy\n",
    "\n",
    "    def _train(self):\n",
    "\n",
    "        self.model.train()\n",
    "        train_losses = []\n",
    "        batch_iter = tqdm(enumerate(self.training_DataLoader), 'Training', total=len(self.training_DataLoader),\n",
    "                          disable=False)\n",
    "        batch_acc = 0\n",
    "        for i, (x, y) in batch_iter:\n",
    "            input, target = x.type(torch.float32).to(self.device), y.type(torch.float32).to(self.device)\n",
    "            self.optimizer.zero_grad()\n",
    "            target = target.type(torch.LongTensor).to(self.device)\n",
    "            output = self.model(input)\n",
    "            loss = self.criterion(output, target)\n",
    "            train_losses.append(loss.item())\n",
    "            loss.backward()\n",
    "            self.optimizer.step()\n",
    "            pred = output.argmax(dim=1, keepdim=True) # max of prob\n",
    "            pred = pred.flatten()\n",
    "            batch_acc += torch.mean(pred.eq(target.view_as(pred)).type(torch.FloatTensor))\n",
    "        accuracy = batch_acc/len(self.training_DataLoader)\n",
    "        self.training_loss.append(np.mean(train_losses))  # Mean batch loss\n",
    "        self.learning_rate.append(self.optimizer.param_groups[0]['lr'])\n",
    "        self.training_accuracy.append(accuracy)\n",
    "\n",
    "        batch_iter.close()  # clean up the bar\n",
    "        return np.mean(train_losses), accuracy\n",
    "\n",
    "    def _validate(self):\n",
    "\n",
    "        self.model.eval()\n",
    "        valid_losses = []\n",
    "        batch_iter = tqdm(enumerate(self.validation_DataLoader), 'validation', total=len(self.validation_DataLoader), disable=False)\n",
    "        batch_acc = 0\n",
    "        for i, (x, y) in batch_iter:\n",
    "            input, target = x.type(torch.float32).to(self.device), y.to(self.device)\n",
    "            with torch.no_grad():\n",
    "                output = self.model(input)\n",
    "                target = target.type(torch.LongTensor).to(self.device)\n",
    "                loss = self.criterion(output, target)\n",
    "                valid_losses.append(loss.item())\n",
    "                pred = output.argmax(dim=1, keepdim=True)\n",
    "                batch_acc += torch.mean(pred.eq(target.view_as(pred)).type(torch.FloatTensor)).item()\n",
    "\n",
    "        accuracy = batch_acc/len(self.validation_DataLoader)\n",
    "        self.validation_loss.append(np.mean(valid_losses))\n",
    "        self.validation_accuracy.append(accuracy)\n",
    "        batch_iter.close()\n",
    "        return np.mean(valid_losses), accuracy"
   ]
  },
  {
   "cell_type": "code",
   "execution_count": 4,
   "metadata": {
    "id": "zzAXg75IB1mk"
   },
   "outputs": [],
   "source": [
    "class DNN(nn.Module): #for mnist\n",
    "  def __init__(self):\n",
    "    super().__init__()\n",
    "    self.Dense1 = nn.Linear(28*28, 64)\n",
    "    self.Dense2 = nn.Linear(64, 32)\n",
    "    self.Dense3 = nn.Linear(32, 16)\n",
    "    self.Dense4 = nn.Linear(16, 10)\n",
    "\n",
    "  def forward(self, x):\n",
    "    x = x.view(x.shape[0], -1)\n",
    "    x = self.Dense1(x)\n",
    "    x = self.Dense2(x)\n",
    "    x = self.Dense3(x)\n",
    "    x = self.Dense4(x)\n",
    "    out = F.log_softmax(x)\n",
    "\n",
    "    return out"
   ]
  },
  {
   "cell_type": "code",
   "execution_count": 5,
   "metadata": {
    "tags": []
   },
   "outputs": [],
   "source": [
    "path2write = os.path.expanduser(\"~/my_logs\")  # This will create a 'my_logs' directory in your home directory\n"
   ]
  },
  {
   "cell_type": "code",
   "execution_count": 6,
   "metadata": {
    "id": "sk7RTkeADOqO"
   },
   "outputs": [],
   "source": [
    "gpu_id = 0\n",
    "loss_fn = nn.CrossEntropyLoss()\n",
    "epochs =  20\n",
    "notebook = True\n",
    "checkpoint_start_epoch = 5 #Not using\n",
    "path2write = \"drive/MyDrive/DL_homework/HW1_1/\""
   ]
  },
  {
   "cell_type": "code",
   "execution_count": 7,
   "metadata": {
    "id": "uYOJnL9yDrAv"
   },
   "outputs": [
    {
     "name": "stdout",
     "output_type": "stream",
     "text": [
      "Notebook\n",
      "Epoch - 0\n"
     ]
    },
    {
     "name": "stderr",
     "output_type": "stream",
     "text": [
      "Training:   0%|          | 0/235 [00:00<?, ?it/s]/local_scratch/slurm.707385/ipykernel_656613/2850139075.py:15: UserWarning: Implicit dimension choice for log_softmax has been deprecated. Change the call to include dim=X as an argument.\n",
      "  out = F.log_softmax(x)\n",
      "Training: 100%|██████████| 235/235 [00:04<00:00, 51.92it/s]\n",
      "validation: 100%|██████████| 40/40 [00:00<00:00, 56.86it/s]\n"
     ]
    },
    {
     "name": "stdout",
     "output_type": "stream",
     "text": [
      "Epoch - 0 Train Loss - 1.836728 Val Loss - 1.222279 Train Accuracy - 0.469997 Val Accuracy - 0.681934\n",
      "Epoch - 1\n"
     ]
    },
    {
     "name": "stderr",
     "output_type": "stream",
     "text": [
      "Training: 100%|██████████| 235/235 [00:04<00:00, 53.35it/s]\n",
      "validation: 100%|██████████| 40/40 [00:00<00:00, 57.08it/s]\n"
     ]
    },
    {
     "name": "stdout",
     "output_type": "stream",
     "text": [
      "Epoch - 1 Train Loss - 0.907117 Val Loss - 0.687595 Train Accuracy - 0.752504 Val Accuracy - 0.805176\n",
      "Epoch - 2\n"
     ]
    },
    {
     "name": "stderr",
     "output_type": "stream",
     "text": [
      "Training: 100%|██████████| 235/235 [00:04<00:00, 53.11it/s]\n",
      "validation: 100%|██████████| 40/40 [00:00<00:00, 56.84it/s]\n"
     ]
    },
    {
     "name": "stdout",
     "output_type": "stream",
     "text": [
      "Epoch - 2 Train Loss - 0.621194 Val Loss - 0.548178 Train Accuracy - 0.821077 Val Accuracy - 0.840723\n",
      "Epoch - 3\n"
     ]
    },
    {
     "name": "stderr",
     "output_type": "stream",
     "text": [
      "Training: 100%|██████████| 235/235 [00:04<00:00, 52.98it/s]\n",
      "validation: 100%|██████████| 40/40 [00:00<00:00, 57.55it/s]\n"
     ]
    },
    {
     "name": "stdout",
     "output_type": "stream",
     "text": [
      "Epoch - 3 Train Loss - 0.527914 Val Loss - 0.483201 Train Accuracy - 0.848870 Val Accuracy - 0.860352\n",
      "Epoch - 4\n"
     ]
    },
    {
     "name": "stderr",
     "output_type": "stream",
     "text": [
      "Training: 100%|██████████| 235/235 [00:04<00:00, 53.02it/s]\n",
      "validation: 100%|██████████| 40/40 [00:00<00:00, 57.21it/s]\n"
     ]
    },
    {
     "name": "stdout",
     "output_type": "stream",
     "text": [
      "Epoch - 4 Train Loss - 0.479387 Val Loss - 0.460050 Train Accuracy - 0.862395 Val Accuracy - 0.866602\n",
      "Epoch - 5\n"
     ]
    },
    {
     "name": "stderr",
     "output_type": "stream",
     "text": [
      "Training: 100%|██████████| 235/235 [00:04<00:00, 53.35it/s]\n",
      "validation: 100%|██████████| 40/40 [00:00<00:00, 56.71it/s]\n"
     ]
    },
    {
     "name": "stdout",
     "output_type": "stream",
     "text": [
      "Epoch - 5 Train Loss - 0.445585 Val Loss - 0.422409 Train Accuracy - 0.873886 Val Accuracy - 0.881055\n",
      "Epoch - 6\n"
     ]
    },
    {
     "name": "stderr",
     "output_type": "stream",
     "text": [
      "Training: 100%|██████████| 235/235 [00:04<00:00, 53.17it/s]\n",
      "validation: 100%|██████████| 40/40 [00:00<00:00, 56.50it/s]\n"
     ]
    },
    {
     "name": "stdout",
     "output_type": "stream",
     "text": [
      "Epoch - 6 Train Loss - 0.418535 Val Loss - 0.405850 Train Accuracy - 0.882353 Val Accuracy - 0.885254\n",
      "Epoch - 7\n"
     ]
    },
    {
     "name": "stderr",
     "output_type": "stream",
     "text": [
      "Training: 100%|██████████| 235/235 [00:04<00:00, 53.13it/s]\n",
      "validation: 100%|██████████| 40/40 [00:00<00:00, 56.90it/s]\n"
     ]
    },
    {
     "name": "stdout",
     "output_type": "stream",
     "text": [
      "Epoch - 7 Train Loss - 0.394266 Val Loss - 0.383774 Train Accuracy - 0.889844 Val Accuracy - 0.891406\n",
      "Epoch - 8\n"
     ]
    },
    {
     "name": "stderr",
     "output_type": "stream",
     "text": [
      "Training: 100%|██████████| 235/235 [00:04<00:00, 53.05it/s]\n",
      "validation: 100%|██████████| 40/40 [00:00<00:00, 57.39it/s]\n"
     ]
    },
    {
     "name": "stdout",
     "output_type": "stream",
     "text": [
      "Epoch - 8 Train Loss - 0.373299 Val Loss - 0.358105 Train Accuracy - 0.895861 Val Accuracy - 0.900391\n",
      "Epoch - 9\n"
     ]
    },
    {
     "name": "stderr",
     "output_type": "stream",
     "text": [
      "Training: 100%|██████████| 235/235 [00:04<00:00, 53.24it/s]\n",
      "validation: 100%|██████████| 40/40 [00:00<00:00, 57.27it/s]\n"
     ]
    },
    {
     "name": "stdout",
     "output_type": "stream",
     "text": [
      "Epoch - 9 Train Loss - 0.354943 Val Loss - 0.341346 Train Accuracy - 0.901036 Val Accuracy - 0.905664\n",
      "Epoch - 10\n"
     ]
    },
    {
     "name": "stderr",
     "output_type": "stream",
     "text": [
      "Training: 100%|██████████| 235/235 [00:04<00:00, 53.20it/s]\n",
      "validation: 100%|██████████| 40/40 [00:00<00:00, 56.78it/s]\n"
     ]
    },
    {
     "name": "stdout",
     "output_type": "stream",
     "text": [
      "Epoch - 10 Train Loss - 0.338903 Val Loss - 0.333381 Train Accuracy - 0.904865 Val Accuracy - 0.908594\n",
      "Epoch - 11\n"
     ]
    },
    {
     "name": "stderr",
     "output_type": "stream",
     "text": [
      "Training: 100%|██████████| 235/235 [00:04<00:00, 53.31it/s]\n",
      "validation: 100%|██████████| 40/40 [00:00<00:00, 56.74it/s]\n"
     ]
    },
    {
     "name": "stdout",
     "output_type": "stream",
     "text": [
      "Epoch - 11 Train Loss - 0.326267 Val Loss - 0.321103 Train Accuracy - 0.909397 Val Accuracy - 0.909180\n",
      "Epoch - 12\n"
     ]
    },
    {
     "name": "stderr",
     "output_type": "stream",
     "text": [
      "Training: 100%|██████████| 235/235 [00:04<00:00, 53.13it/s]\n",
      "validation: 100%|██████████| 40/40 [00:00<00:00, 56.89it/s]\n"
     ]
    },
    {
     "name": "stdout",
     "output_type": "stream",
     "text": [
      "Epoch - 12 Train Loss - 0.315890 Val Loss - 0.309282 Train Accuracy - 0.912118 Val Accuracy - 0.912012\n",
      "Epoch - 13\n"
     ]
    },
    {
     "name": "stderr",
     "output_type": "stream",
     "text": [
      "Training: 100%|██████████| 235/235 [00:04<00:00, 53.21it/s]\n",
      "validation: 100%|██████████| 40/40 [00:00<00:00, 56.94it/s]\n"
     ]
    },
    {
     "name": "stdout",
     "output_type": "stream",
     "text": [
      "Epoch - 13 Train Loss - 0.308325 Val Loss - 0.319090 Train Accuracy - 0.914356 Val Accuracy - 0.915527\n",
      "Epoch - 14\n"
     ]
    },
    {
     "name": "stderr",
     "output_type": "stream",
     "text": [
      "Training: 100%|██████████| 235/235 [00:04<00:00, 53.36it/s]\n",
      "validation: 100%|██████████| 40/40 [00:00<00:00, 57.21it/s]\n"
     ]
    },
    {
     "name": "stdout",
     "output_type": "stream",
     "text": [
      "Epoch - 14 Train Loss - 0.300951 Val Loss - 0.294615 Train Accuracy - 0.916523 Val Accuracy - 0.918359\n",
      "Epoch - 15\n"
     ]
    },
    {
     "name": "stderr",
     "output_type": "stream",
     "text": [
      "Training: 100%|██████████| 235/235 [00:04<00:00, 53.12it/s]\n",
      "validation: 100%|██████████| 40/40 [00:00<00:00, 57.01it/s]\n"
     ]
    },
    {
     "name": "stdout",
     "output_type": "stream",
     "text": [
      "Epoch - 15 Train Loss - 0.296258 Val Loss - 0.292568 Train Accuracy - 0.917791 Val Accuracy - 0.919727\n",
      "Epoch - 16\n"
     ]
    },
    {
     "name": "stderr",
     "output_type": "stream",
     "text": [
      "Training: 100%|██████████| 235/235 [00:04<00:00, 53.27it/s]\n",
      "validation: 100%|██████████| 40/40 [00:00<00:00, 57.26it/s]\n"
     ]
    },
    {
     "name": "stdout",
     "output_type": "stream",
     "text": [
      "Epoch - 16 Train Loss - 0.291613 Val Loss - 0.291278 Train Accuracy - 0.918545 Val Accuracy - 0.920898\n",
      "Epoch - 17\n"
     ]
    },
    {
     "name": "stderr",
     "output_type": "stream",
     "text": [
      "Training: 100%|██████████| 235/235 [00:04<00:00, 53.25it/s]\n",
      "validation: 100%|██████████| 40/40 [00:00<00:00, 57.09it/s]\n"
     ]
    },
    {
     "name": "stdout",
     "output_type": "stream",
     "text": [
      "Epoch - 17 Train Loss - 0.287718 Val Loss - 0.294984 Train Accuracy - 0.920085 Val Accuracy - 0.919531\n",
      "Epoch - 18\n"
     ]
    },
    {
     "name": "stderr",
     "output_type": "stream",
     "text": [
      "Training: 100%|██████████| 235/235 [00:04<00:00, 53.19it/s]\n",
      "validation: 100%|██████████| 40/40 [00:00<00:00, 57.26it/s]\n"
     ]
    },
    {
     "name": "stdout",
     "output_type": "stream",
     "text": [
      "Epoch - 18 Train Loss - 0.284694 Val Loss - 0.282545 Train Accuracy - 0.920684 Val Accuracy - 0.923730\n",
      "Epoch - 19\n"
     ]
    },
    {
     "name": "stderr",
     "output_type": "stream",
     "text": [
      "Training: 100%|██████████| 235/235 [00:04<00:00, 53.25it/s]\n",
      "validation: 100%|██████████| 40/40 [00:00<00:00, 56.77it/s]"
     ]
    },
    {
     "name": "stdout",
     "output_type": "stream",
     "text": [
      "Epoch - 19 Train Loss - 0.281889 Val Loss - 0.284740 Train Accuracy - 0.921310 Val Accuracy - 0.918652\n"
     ]
    },
    {
     "name": "stderr",
     "output_type": "stream",
     "text": [
      "\n"
     ]
    }
   ],
   "source": [
    "bath_size = 256\n",
    "lr = 1e-4\n",
    "\n",
    "transform=transforms.Compose([\n",
    "        transforms.ToTensor()\n",
    "        ])\n",
    "dataset1 = datasets.MNIST('Home work', train=True, download=True, transform=transform)\n",
    "dataset2 = datasets.MNIST('Home work', train=False, transform=transform)\n",
    "training_DataLoader = DataLoader(dataset1, batch_size=bath_size, shuffle=True)\n",
    "validation_DataLoader= DataLoader(dataset2, batch_size=bath_size, shuffle=True)\n",
    "\n",
    "\n",
    "model = DNN()\n",
    "optimizer = torch.optim.Adam(model.parameters(), lr = lr)\n",
    "trainer = Trainer(model=model,\n",
    "                        device=gpu_id,\n",
    "                        criterion=loss_fn,\n",
    "                        optimizer=optimizer,\n",
    "                        training_DataLoader=training_DataLoader,\n",
    "                        validation_DataLoader=validation_DataLoader,\n",
    "                        # lr_scheduler=lr_scheduler,\n",
    "                        epochs=epochs,\n",
    "                        epoch=0,\n",
    "                        notebook=True,\n",
    "                        path2write= path2write,\n",
    "                        checkpoint_start_epoch=checkpoint_start_epoch )\n",
    "training_loss_lr1e4_B256, validation_loss_lr1e4_B256, model_lr1e4_B256, training_accuracy_lr1e4_B256, validation_accuracy_lr1e4_B256 = trainer.run_trainer()\n",
    "\n"
   ]
  },
  {
   "cell_type": "code",
   "execution_count": 8,
   "metadata": {
    "id": "RqbK_EtzEXsV"
   },
   "outputs": [
    {
     "name": "stdout",
     "output_type": "stream",
     "text": [
      "Notebook\n",
      "Epoch - 0\n"
     ]
    },
    {
     "name": "stderr",
     "output_type": "stream",
     "text": [
      "Training:   0%|          | 0/59 [00:00<?, ?it/s]/local_scratch/slurm.707385/ipykernel_656613/2850139075.py:15: UserWarning: Implicit dimension choice for log_softmax has been deprecated. Change the call to include dim=X as an argument.\n",
      "  out = F.log_softmax(x)\n",
      "Training: 100%|██████████| 59/59 [00:04<00:00, 13.64it/s]\n",
      "validation: 100%|██████████| 10/10 [00:00<00:00, 14.99it/s]\n"
     ]
    },
    {
     "name": "stdout",
     "output_type": "stream",
     "text": [
      "Epoch - 0 Train Loss - 2.227791 Val Loss - 2.123015 Train Accuracy - 0.281467 Val Accuracy - 0.418662\n",
      "Epoch - 1\n"
     ]
    },
    {
     "name": "stderr",
     "output_type": "stream",
     "text": [
      "Training: 100%|██████████| 59/59 [00:04<00:00, 14.51it/s]\n",
      "validation: 100%|██████████| 10/10 [00:00<00:00, 14.98it/s]\n"
     ]
    },
    {
     "name": "stdout",
     "output_type": "stream",
     "text": [
      "Epoch - 1 Train Loss - 1.990046 Val Loss - 1.827865 Train Accuracy - 0.517605 Val Accuracy - 0.577152\n",
      "Epoch - 2\n"
     ]
    },
    {
     "name": "stderr",
     "output_type": "stream",
     "text": [
      "Training: 100%|██████████| 59/59 [00:04<00:00, 14.55it/s]\n",
      "validation: 100%|██████████| 10/10 [00:00<00:00, 15.03it/s]\n"
     ]
    },
    {
     "name": "stdout",
     "output_type": "stream",
     "text": [
      "Epoch - 2 Train Loss - 1.667246 Val Loss - 1.495772 Train Accuracy - 0.614107 Val Accuracy - 0.646947\n",
      "Epoch - 3\n"
     ]
    },
    {
     "name": "stderr",
     "output_type": "stream",
     "text": [
      "Training: 100%|██████████| 59/59 [00:04<00:00, 14.51it/s]\n",
      "validation: 100%|██████████| 10/10 [00:00<00:00, 15.01it/s]\n"
     ]
    },
    {
     "name": "stdout",
     "output_type": "stream",
     "text": [
      "Epoch - 3 Train Loss - 1.353139 Val Loss - 1.204511 Train Accuracy - 0.686083 Val Accuracy - 0.719794\n",
      "Epoch - 4\n"
     ]
    },
    {
     "name": "stderr",
     "output_type": "stream",
     "text": [
      "Training: 100%|██████████| 59/59 [00:04<00:00, 14.52it/s]\n",
      "validation: 100%|██████████| 10/10 [00:00<00:00, 14.89it/s]\n"
     ]
    },
    {
     "name": "stdout",
     "output_type": "stream",
     "text": [
      "Epoch - 4 Train Loss - 1.093781 Val Loss - 0.975505 Train Accuracy - 0.743597 Val Accuracy - 0.771000\n",
      "Epoch - 5\n"
     ]
    },
    {
     "name": "stderr",
     "output_type": "stream",
     "text": [
      "Training: 100%|██████████| 59/59 [00:04<00:00, 14.46it/s]\n",
      "validation: 100%|██████████| 10/10 [00:00<00:00, 14.98it/s]\n"
     ]
    },
    {
     "name": "stdout",
     "output_type": "stream",
     "text": [
      "Epoch - 5 Train Loss - 0.895866 Val Loss - 0.803640 Train Accuracy - 0.785833 Val Accuracy - 0.809060\n",
      "Epoch - 6\n"
     ]
    },
    {
     "name": "stderr",
     "output_type": "stream",
     "text": [
      "Training: 100%|██████████| 59/59 [00:04<00:00, 14.51it/s]\n",
      "validation: 100%|██████████| 10/10 [00:00<00:00, 15.03it/s]\n"
     ]
    },
    {
     "name": "stdout",
     "output_type": "stream",
     "text": [
      "Epoch - 6 Train Loss - 0.748552 Val Loss - 0.678503 Train Accuracy - 0.818513 Val Accuracy - 0.833050\n",
      "Epoch - 7\n"
     ]
    },
    {
     "name": "stderr",
     "output_type": "stream",
     "text": [
      "Training: 100%|██████████| 59/59 [00:04<00:00, 14.40it/s]\n",
      "validation: 100%|██████████| 10/10 [00:00<00:00, 14.89it/s]\n"
     ]
    },
    {
     "name": "stdout",
     "output_type": "stream",
     "text": [
      "Epoch - 7 Train Loss - 0.643590 Val Loss - 0.589929 Train Accuracy - 0.839150 Val Accuracy - 0.851044\n",
      "Epoch - 8\n"
     ]
    },
    {
     "name": "stderr",
     "output_type": "stream",
     "text": [
      "Training: 100%|██████████| 59/59 [00:04<00:00, 14.49it/s]\n",
      "validation: 100%|██████████| 10/10 [00:00<00:00, 11.02it/s]\n"
     ]
    },
    {
     "name": "stdout",
     "output_type": "stream",
     "text": [
      "Epoch - 8 Train Loss - 0.569025 Val Loss - 0.526708 Train Accuracy - 0.852708 Val Accuracy - 0.865069\n",
      "Epoch - 9\n"
     ]
    },
    {
     "name": "stderr",
     "output_type": "stream",
     "text": [
      "Training: 100%|██████████| 59/59 [00:04<00:00, 14.53it/s]\n",
      "validation: 100%|██████████| 10/10 [00:00<00:00, 14.99it/s]\n"
     ]
    },
    {
     "name": "stdout",
     "output_type": "stream",
     "text": [
      "Epoch - 9 Train Loss - 0.516001 Val Loss - 0.482174 Train Accuracy - 0.862363 Val Accuracy - 0.871712\n",
      "Epoch - 10\n"
     ]
    },
    {
     "name": "stderr",
     "output_type": "stream",
     "text": [
      "Training: 100%|██████████| 59/59 [00:04<00:00, 14.53it/s]\n",
      "validation: 100%|██████████| 10/10 [00:00<00:00, 15.02it/s]\n"
     ]
    },
    {
     "name": "stdout",
     "output_type": "stream",
     "text": [
      "Epoch - 10 Train Loss - 0.476379 Val Loss - 0.448566 Train Accuracy - 0.870368 Val Accuracy - 0.876847\n",
      "Epoch - 11\n"
     ]
    },
    {
     "name": "stderr",
     "output_type": "stream",
     "text": [
      "Training: 100%|██████████| 59/59 [00:04<00:00, 14.52it/s]\n",
      "validation: 100%|██████████| 10/10 [00:00<00:00, 15.00it/s]\n"
     ]
    },
    {
     "name": "stdout",
     "output_type": "stream",
     "text": [
      "Epoch - 11 Train Loss - 0.447215 Val Loss - 0.422149 Train Accuracy - 0.876922 Val Accuracy - 0.883418\n",
      "Epoch - 12\n"
     ]
    },
    {
     "name": "stderr",
     "output_type": "stream",
     "text": [
      "Training: 100%|██████████| 59/59 [00:04<00:00, 14.53it/s]\n",
      "validation: 100%|██████████| 10/10 [00:00<00:00, 15.00it/s]\n"
     ]
    },
    {
     "name": "stdout",
     "output_type": "stream",
     "text": [
      "Epoch - 12 Train Loss - 0.424852 Val Loss - 0.401139 Train Accuracy - 0.881045 Val Accuracy - 0.889569\n",
      "Epoch - 13\n"
     ]
    },
    {
     "name": "stderr",
     "output_type": "stream",
     "text": [
      "Training: 100%|██████████| 59/59 [00:04<00:00, 14.54it/s]\n",
      "validation: 100%|██████████| 10/10 [00:00<00:00, 14.93it/s]\n"
     ]
    },
    {
     "name": "stdout",
     "output_type": "stream",
     "text": [
      "Epoch - 13 Train Loss - 0.406286 Val Loss - 0.385667 Train Accuracy - 0.885275 Val Accuracy - 0.893529\n",
      "Epoch - 14\n"
     ]
    },
    {
     "name": "stderr",
     "output_type": "stream",
     "text": [
      "Training: 100%|██████████| 59/59 [00:04<00:00, 14.49it/s]\n",
      "validation: 100%|██████████| 10/10 [00:00<00:00, 15.06it/s]\n"
     ]
    },
    {
     "name": "stdout",
     "output_type": "stream",
     "text": [
      "Epoch - 14 Train Loss - 0.391331 Val Loss - 0.373289 Train Accuracy - 0.889245 Val Accuracy - 0.896722\n",
      "Epoch - 15\n"
     ]
    },
    {
     "name": "stderr",
     "output_type": "stream",
     "text": [
      "Training: 100%|██████████| 59/59 [00:04<00:00, 14.50it/s]\n",
      "validation: 100%|██████████| 10/10 [00:00<00:00, 15.04it/s]\n"
     ]
    },
    {
     "name": "stdout",
     "output_type": "stream",
     "text": [
      "Epoch - 15 Train Loss - 0.379131 Val Loss - 0.362428 Train Accuracy - 0.892204 Val Accuracy - 0.899328\n",
      "Epoch - 16\n"
     ]
    },
    {
     "name": "stderr",
     "output_type": "stream",
     "text": [
      "Training: 100%|██████████| 59/59 [00:04<00:00, 14.50it/s]\n",
      "validation: 100%|██████████| 10/10 [00:00<00:00, 14.91it/s]\n"
     ]
    },
    {
     "name": "stdout",
     "output_type": "stream",
     "text": [
      "Epoch - 16 Train Loss - 0.368207 Val Loss - 0.352482 Train Accuracy - 0.895479 Val Accuracy - 0.901423\n",
      "Epoch - 17\n"
     ]
    },
    {
     "name": "stderr",
     "output_type": "stream",
     "text": [
      "Training: 100%|██████████| 59/59 [00:04<00:00, 13.62it/s]\n",
      "validation: 100%|██████████| 10/10 [00:00<00:00, 14.90it/s]\n"
     ]
    },
    {
     "name": "stdout",
     "output_type": "stream",
     "text": [
      "Epoch - 17 Train Loss - 0.359474 Val Loss - 0.345109 Train Accuracy - 0.898009 Val Accuracy - 0.903850\n",
      "Epoch - 18\n"
     ]
    },
    {
     "name": "stderr",
     "output_type": "stream",
     "text": [
      "Training: 100%|██████████| 59/59 [00:04<00:00, 14.40it/s]\n",
      "validation: 100%|██████████| 10/10 [00:00<00:00, 14.98it/s]\n"
     ]
    },
    {
     "name": "stdout",
     "output_type": "stream",
     "text": [
      "Epoch - 18 Train Loss - 0.351516 Val Loss - 0.338944 Train Accuracy - 0.900339 Val Accuracy - 0.905226\n",
      "Epoch - 19\n"
     ]
    },
    {
     "name": "stderr",
     "output_type": "stream",
     "text": [
      "Training: 100%|██████████| 59/59 [00:04<00:00, 14.51it/s]\n",
      "validation: 100%|██████████| 10/10 [00:00<00:00, 15.00it/s]"
     ]
    },
    {
     "name": "stdout",
     "output_type": "stream",
     "text": [
      "Epoch - 19 Train Loss - 0.344366 Val Loss - 0.332350 Train Accuracy - 0.902095 Val Accuracy - 0.907388\n"
     ]
    },
    {
     "name": "stderr",
     "output_type": "stream",
     "text": [
      "\n"
     ]
    }
   ],
   "source": [
    "bath_size = 1024\n",
    "lr = 1e-4\n",
    "\n",
    "transform=transforms.Compose([\n",
    "        transforms.ToTensor()\n",
    "        ])\n",
    "dataset1 = datasets.MNIST('Home work', train=True, download=True, transform=transform)\n",
    "dataset2 = datasets.MNIST('Home work', train=False, transform=transform)\n",
    "training_DataLoader = DataLoader(dataset1, batch_size=bath_size, shuffle=True)\n",
    "validation_DataLoader= DataLoader(dataset2, batch_size=bath_size, shuffle=True)\n",
    "\n",
    "\n",
    "model = DNN()\n",
    "optimizer = torch.optim.Adam(model.parameters(), lr = lr)\n",
    "trainer = Trainer(model=model,\n",
    "                        device=gpu_id,\n",
    "                        criterion=loss_fn,\n",
    "                        optimizer=optimizer,\n",
    "                        training_DataLoader=training_DataLoader,\n",
    "                        validation_DataLoader=validation_DataLoader,\n",
    "                        # lr_scheduler=lr_scheduler,\n",
    "                        epochs=epochs,\n",
    "                        epoch=0,\n",
    "                        notebook=True,\n",
    "                        path2write= path2write,\n",
    "                        checkpoint_start_epoch=checkpoint_start_epoch )\n",
    "training_loss_lr1e4_B1024, validation_loss_lr1e4_B1024, model_lr1e4_B1024, training_accuracy_lr1e4_B1024, validation_accuracy_lr1e4_B1024 = trainer.run_trainer()"
   ]
  },
  {
   "cell_type": "code",
   "execution_count": 9,
   "metadata": {
    "id": "Vpi3XE9mGh4t"
   },
   "outputs": [
    {
     "name": "stdout",
     "output_type": "stream",
     "text": [
      "Notebook\n",
      "Epoch - 0\n"
     ]
    },
    {
     "name": "stderr",
     "output_type": "stream",
     "text": [
      "Training:   0%|          | 0/59 [00:00<?, ?it/s]/local_scratch/slurm.707385/ipykernel_656613/2850139075.py:15: UserWarning: Implicit dimension choice for log_softmax has been deprecated. Change the call to include dim=X as an argument.\n",
      "  out = F.log_softmax(x)\n",
      "Training: 100%|██████████| 59/59 [00:04<00:00, 14.47it/s]\n",
      "validation: 100%|██████████| 10/10 [00:00<00:00, 14.81it/s]\n"
     ]
    },
    {
     "name": "stdout",
     "output_type": "stream",
     "text": [
      "Epoch - 0 Train Loss - 0.569040 Val Loss - 0.313066 Train Accuracy - 0.823357 Val Accuracy - 0.910437\n",
      "Epoch - 1\n"
     ]
    },
    {
     "name": "stderr",
     "output_type": "stream",
     "text": [
      "Training: 100%|██████████| 59/59 [00:04<00:00, 14.49it/s]\n",
      "validation: 100%|██████████| 10/10 [00:00<00:00, 15.01it/s]\n"
     ]
    },
    {
     "name": "stdout",
     "output_type": "stream",
     "text": [
      "Epoch - 1 Train Loss - 0.311116 Val Loss - 0.285805 Train Accuracy - 0.910982 Val Accuracy - 0.919051\n",
      "Epoch - 2\n"
     ]
    },
    {
     "name": "stderr",
     "output_type": "stream",
     "text": [
      "Training: 100%|██████████| 59/59 [00:04<00:00, 14.47it/s]\n",
      "validation: 100%|██████████| 10/10 [00:00<00:00, 15.00it/s]\n"
     ]
    },
    {
     "name": "stdout",
     "output_type": "stream",
     "text": [
      "Epoch - 2 Train Loss - 0.286023 Val Loss - 0.281725 Train Accuracy - 0.920661 Val Accuracy - 0.923079\n",
      "Epoch - 3\n"
     ]
    },
    {
     "name": "stderr",
     "output_type": "stream",
     "text": [
      "Training: 100%|██████████| 59/59 [00:04<00:00, 13.78it/s]\n",
      "validation: 100%|██████████| 10/10 [00:00<00:00, 15.14it/s]\n"
     ]
    },
    {
     "name": "stdout",
     "output_type": "stream",
     "text": [
      "Epoch - 3 Train Loss - 0.280969 Val Loss - 0.281101 Train Accuracy - 0.920770 Val Accuracy - 0.924137\n",
      "Epoch - 4\n"
     ]
    },
    {
     "name": "stderr",
     "output_type": "stream",
     "text": [
      "Training: 100%|██████████| 59/59 [00:04<00:00, 14.43it/s]\n",
      "validation: 100%|██████████| 10/10 [00:00<00:00, 14.74it/s]\n"
     ]
    },
    {
     "name": "stdout",
     "output_type": "stream",
     "text": [
      "Epoch - 4 Train Loss - 0.281754 Val Loss - 0.291011 Train Accuracy - 0.921204 Val Accuracy - 0.920081\n",
      "Epoch - 5\n"
     ]
    },
    {
     "name": "stderr",
     "output_type": "stream",
     "text": [
      "Training: 100%|██████████| 59/59 [00:04<00:00, 14.45it/s]\n",
      "validation: 100%|██████████| 10/10 [00:00<00:00, 14.77it/s]\n"
     ]
    },
    {
     "name": "stdout",
     "output_type": "stream",
     "text": [
      "Epoch - 5 Train Loss - 0.273600 Val Loss - 0.284075 Train Accuracy - 0.923035 Val Accuracy - 0.921470\n",
      "Epoch - 6\n"
     ]
    },
    {
     "name": "stderr",
     "output_type": "stream",
     "text": [
      "Training: 100%|██████████| 59/59 [00:04<00:00, 14.44it/s]\n",
      "validation: 100%|██████████| 10/10 [00:00<00:00, 14.90it/s]\n"
     ]
    },
    {
     "name": "stdout",
     "output_type": "stream",
     "text": [
      "Epoch - 6 Train Loss - 0.276153 Val Loss - 0.290891 Train Accuracy - 0.923142 Val Accuracy - 0.915328\n",
      "Epoch - 7\n"
     ]
    },
    {
     "name": "stderr",
     "output_type": "stream",
     "text": [
      "Training: 100%|██████████| 59/59 [00:04<00:00, 14.39it/s]\n",
      "validation: 100%|██████████| 10/10 [00:00<00:00, 14.85it/s]\n"
     ]
    },
    {
     "name": "stdout",
     "output_type": "stream",
     "text": [
      "Epoch - 7 Train Loss - 0.271805 Val Loss - 0.279449 Train Accuracy - 0.923488 Val Accuracy - 0.922078\n",
      "Epoch - 8\n"
     ]
    },
    {
     "name": "stderr",
     "output_type": "stream",
     "text": [
      "Training: 100%|██████████| 59/59 [00:04<00:00, 14.40it/s]\n",
      "validation: 100%|██████████| 10/10 [00:00<00:00, 14.83it/s]\n"
     ]
    },
    {
     "name": "stdout",
     "output_type": "stream",
     "text": [
      "Epoch - 8 Train Loss - 0.271423 Val Loss - 0.293121 Train Accuracy - 0.924323 Val Accuracy - 0.920817\n",
      "Epoch - 9\n"
     ]
    },
    {
     "name": "stderr",
     "output_type": "stream",
     "text": [
      "Training: 100%|██████████| 59/59 [00:04<00:00, 14.43it/s]\n",
      "validation: 100%|██████████| 10/10 [00:00<00:00, 11.11it/s]\n"
     ]
    },
    {
     "name": "stdout",
     "output_type": "stream",
     "text": [
      "Epoch - 9 Train Loss - 0.268197 Val Loss - 0.294111 Train Accuracy - 0.925007 Val Accuracy - 0.919061\n",
      "Epoch - 10\n"
     ]
    },
    {
     "name": "stderr",
     "output_type": "stream",
     "text": [
      "Training: 100%|██████████| 59/59 [00:04<00:00, 14.39it/s]\n",
      "validation: 100%|██████████| 10/10 [00:00<00:00, 14.82it/s]\n"
     ]
    },
    {
     "name": "stdout",
     "output_type": "stream",
     "text": [
      "Epoch - 10 Train Loss - 0.264970 Val Loss - 0.287470 Train Accuracy - 0.925702 Val Accuracy - 0.922357\n",
      "Epoch - 11\n"
     ]
    },
    {
     "name": "stderr",
     "output_type": "stream",
     "text": [
      "Training: 100%|██████████| 59/59 [00:04<00:00, 14.35it/s]\n",
      "validation: 100%|██████████| 10/10 [00:00<00:00, 14.84it/s]\n"
     ]
    },
    {
     "name": "stdout",
     "output_type": "stream",
     "text": [
      "Epoch - 11 Train Loss - 0.266042 Val Loss - 0.292473 Train Accuracy - 0.925409 Val Accuracy - 0.916793\n",
      "Epoch - 12\n"
     ]
    },
    {
     "name": "stderr",
     "output_type": "stream",
     "text": [
      "Training: 100%|██████████| 59/59 [00:04<00:00, 14.37it/s]\n",
      "validation: 100%|██████████| 10/10 [00:00<00:00, 14.88it/s]\n"
     ]
    },
    {
     "name": "stdout",
     "output_type": "stream",
     "text": [
      "Epoch - 12 Train Loss - 0.266161 Val Loss - 0.295591 Train Accuracy - 0.924746 Val Accuracy - 0.918491\n",
      "Epoch - 13\n"
     ]
    },
    {
     "name": "stderr",
     "output_type": "stream",
     "text": [
      "Training: 100%|██████████| 59/59 [00:04<00:00, 14.33it/s]\n",
      "validation: 100%|██████████| 10/10 [00:00<00:00, 14.87it/s]\n"
     ]
    },
    {
     "name": "stdout",
     "output_type": "stream",
     "text": [
      "Epoch - 13 Train Loss - 0.268019 Val Loss - 0.288196 Train Accuracy - 0.923735 Val Accuracy - 0.922349\n",
      "Epoch - 14\n"
     ]
    },
    {
     "name": "stderr",
     "output_type": "stream",
     "text": [
      "Training: 100%|██████████| 59/59 [00:04<00:00, 14.43it/s]\n",
      "validation: 100%|██████████| 10/10 [00:00<00:00, 14.72it/s]\n"
     ]
    },
    {
     "name": "stdout",
     "output_type": "stream",
     "text": [
      "Epoch - 14 Train Loss - 0.268193 Val Loss - 0.294086 Train Accuracy - 0.924074 Val Accuracy - 0.918461\n",
      "Epoch - 15\n"
     ]
    },
    {
     "name": "stderr",
     "output_type": "stream",
     "text": [
      "Training: 100%|██████████| 59/59 [00:04<00:00, 14.34it/s]\n",
      "validation: 100%|██████████| 10/10 [00:00<00:00, 14.84it/s]\n"
     ]
    },
    {
     "name": "stdout",
     "output_type": "stream",
     "text": [
      "Epoch - 15 Train Loss - 0.259477 Val Loss - 0.296499 Train Accuracy - 0.927310 Val Accuracy - 0.920578\n",
      "Epoch - 16\n"
     ]
    },
    {
     "name": "stderr",
     "output_type": "stream",
     "text": [
      "Training: 100%|██████████| 59/59 [00:04<00:00, 14.40it/s]\n",
      "validation: 100%|██████████| 10/10 [00:00<00:00, 14.76it/s]\n"
     ]
    },
    {
     "name": "stdout",
     "output_type": "stream",
     "text": [
      "Epoch - 16 Train Loss - 0.264179 Val Loss - 0.289069 Train Accuracy - 0.925072 Val Accuracy - 0.921419\n",
      "Epoch - 17\n"
     ]
    },
    {
     "name": "stderr",
     "output_type": "stream",
     "text": [
      "Training: 100%|██████████| 59/59 [00:04<00:00, 14.42it/s]\n",
      "validation: 100%|██████████| 10/10 [00:00<00:00, 14.72it/s]\n"
     ]
    },
    {
     "name": "stdout",
     "output_type": "stream",
     "text": [
      "Epoch - 17 Train Loss - 0.261400 Val Loss - 0.293081 Train Accuracy - 0.925793 Val Accuracy - 0.921494\n",
      "Epoch - 18\n"
     ]
    },
    {
     "name": "stderr",
     "output_type": "stream",
     "text": [
      "Training: 100%|██████████| 59/59 [00:04<00:00, 13.61it/s]\n",
      "validation: 100%|██████████| 10/10 [00:00<00:00, 14.62it/s]\n"
     ]
    },
    {
     "name": "stdout",
     "output_type": "stream",
     "text": [
      "Epoch - 18 Train Loss - 0.263723 Val Loss - 0.292103 Train Accuracy - 0.925437 Val Accuracy - 0.921733\n",
      "Epoch - 19\n"
     ]
    },
    {
     "name": "stderr",
     "output_type": "stream",
     "text": [
      "Training: 100%|██████████| 59/59 [00:04<00:00, 14.20it/s]\n",
      "validation: 100%|██████████| 10/10 [00:00<00:00, 14.85it/s]"
     ]
    },
    {
     "name": "stdout",
     "output_type": "stream",
     "text": [
      "Epoch - 19 Train Loss - 0.261831 Val Loss - 0.293571 Train Accuracy - 0.926111 Val Accuracy - 0.919444\n"
     ]
    },
    {
     "name": "stderr",
     "output_type": "stream",
     "text": [
      "\n"
     ]
    }
   ],
   "source": [
    "bath_size = 1024\n",
    "lr = 1e-2\n",
    "\n",
    "transform=transforms.Compose([\n",
    "        transforms.ToTensor()\n",
    "        ])\n",
    "dataset1 = datasets.MNIST('Home work', train=True, download=True, transform=transform)\n",
    "dataset2 = datasets.MNIST('Home work', train=False, transform=transform)\n",
    "training_DataLoader = DataLoader(dataset1, batch_size=bath_size, shuffle=True)\n",
    "validation_DataLoader= DataLoader(dataset2, batch_size=bath_size, shuffle=True)\n",
    "\n",
    "\n",
    "model = DNN()\n",
    "optimizer = torch.optim.Adam(model.parameters(), lr = lr)\n",
    "trainer = Trainer(model=model,\n",
    "                        device=gpu_id,\n",
    "                        criterion=loss_fn,\n",
    "                        optimizer=optimizer,\n",
    "                        training_DataLoader=training_DataLoader,\n",
    "                        validation_DataLoader=validation_DataLoader,\n",
    "                        # lr_scheduler=lr_scheduler,\n",
    "                        epochs=epochs,\n",
    "                        epoch=0,\n",
    "                        notebook=True,\n",
    "                        path2write= path2write,\n",
    "                        checkpoint_start_epoch=checkpoint_start_epoch )\n",
    "training_loss_lr1e2_B1024, validation_loss_lr1e2_B1024, model_lr1e2_B1024, training_accuracy_lr1e2_B1024, validation_accuracy_lr1e2_B1024 = trainer.run_trainer()"
   ]
  },
  {
   "cell_type": "code",
   "execution_count": 17,
   "metadata": {
    "id": "cn5tgU2bG2jj"
   },
   "outputs": [
    {
     "data": {
      "image/png": "[encoded data removed]",
      "text/plain": [
       "<Figure size 1500x500 with 2 Axes>"
      ]
     },
     "metadata": {},
     "output_type": "display_data"
    }
   ],
   "source": [
    "fig = plt.figure(figsize=(15,5))\n",
    "\n",
    "ax1 = fig.add_subplot(1,2,1)\n",
    "ax1.plot(training_loss_lr1e4_B256, color='orange', label='loss batch size - 256, lr=1e-4')\n",
    "ax1.plot(training_loss_lr1e4_B1024, color='blue', label='loss batch size - 1024, lr=1e-4')\n",
    "ax1.legend()\n",
    "ax1.set_title('Batchsize Vs Loss')\n",
    "ax1.set_xlabel('Epochs')\n",
    "ax1.set_ylabel('Cross Entrophy Loss')\n",
    "fig.savefig(os.path.join(path2write, 'FlatVSGen_loss_constantB.png'))\n",
    "\n",
    "ax2 = fig.add_subplot(1,2,2)\n",
    "ax2.plot(training_loss_lr1e2_B1024, color='orange', label='loss batch size - 1024, lr=1e-2')\n",
    "ax2.plot(training_loss_lr1e4_B1024, color='blue', label='loss batch size - 1024, lr=1e-4')\n",
    "ax2.legend()\n",
    "ax2.set_title('Learning Rate Vs Loss')\n",
    "ax2.set_xlabel('Epochs')\n",
    "ax2.set_ylabel('Cross Entrophy Loss')\n",
    "fig.savefig(os.path.join(path2write, 'FlatVSGen_loss_constantLr.png'))\n",
    "\n",
    "plt.show()\n"
   ]
  },
  {
   "cell_type": "code",
   "execution_count": 19,
   "metadata": {
    "id": "bqH6IX0UKzIT"
   },
   "outputs": [],
   "source": [
    "# alpha test\n",
    "def inference(model, DataLoader, criterion, device=0):\n",
    "  model.eval()\n",
    "  valid_losses = []\n",
    "  batch_iter = tqdm(enumerate(DataLoader), 'inference_loader', total=len(DataLoader), disable=False)\n",
    "  batch_acc = 0\n",
    "  for i, (x, y) in batch_iter:\n",
    "      input, target = x.type(torch.float32).to(device), y.to(device)\n",
    "      with torch.no_grad():\n",
    "          output = model(input)\n",
    "          target = target.type(torch.LongTensor).to(device)\n",
    "          loss = criterion(output, target)\n",
    "          valid_losses.append(loss.item())\n",
    "          pred = output.argmax(dim=1, keepdim=True)\n",
    "          batch_acc += torch.mean(pred.eq(target.view_as(pred)).type(torch.FloatTensor)).item()\n",
    "  batch_iter.close()\n",
    "  accuracy = batch_acc/len(DataLoader)\n",
    "  loss = np.mean(valid_losses)\n",
    "  return accuracy, loss"
   ]
  },
  {
   "cell_type": "code",
   "execution_count": 20,
   "metadata": {
    "id": "xpMBJ7E1VAqs"
   },
   "outputs": [],
   "source": [
    "def alpha_test(model, model1, model2, training_DataLoader, validation_DataLoader, loss_fn):\n",
    "  alphas = np.linspace(-1, 1, 10)\n",
    "  train_loss = []\n",
    "  train_accuracy = []\n",
    "  val_loss = []\n",
    "  val_accuracy = []\n",
    "  model1_ = model1.state_dict()\n",
    "  model2_ = model2.state_dict()\n",
    "  model.to(device=0)\n",
    "  for i in range(len(alphas)):\n",
    "    alpha = alphas[i]\n",
    "    parm_ = {}\n",
    "    for key in  model1_.keys():\n",
    "      parm_[key] = (1-alpha)*model1_[key] + alpha*model2_[key]\n",
    "    model.load_state_dict(parm_)\n",
    "    train_accuracy_, train_loss_ = inference(model, training_DataLoader, loss_fn, device=0)\n",
    "    val_accuracy_, val_loss_ = inference(model, validation_DataLoader, loss_fn, device=0)\n",
    "    train_loss.append(train_loss_)\n",
    "    train_accuracy.append(train_accuracy_)\n",
    "    val_loss.append(val_loss_)\n",
    "    val_accuracy.append(val_accuracy_)\n",
    "  return alphas, train_loss, train_accuracy, val_loss, val_accuracy"
   ]
  },
  {
   "cell_type": "code",
   "execution_count": 13,
   "metadata": {
    "id": "vv_Ngz2aPE91"
   },
   "outputs": [
    {
     "name": "stderr",
     "output_type": "stream",
     "text": [
      "inference_loader:   0%|          | 0/59 [00:00<?, ?it/s]/local_scratch/slurm.707385/ipykernel_656613/2850139075.py:15: UserWarning: Implicit dimension choice for log_softmax has been deprecated. Change the call to include dim=X as an argument.\n",
      "  out = F.log_softmax(x)\n",
      "inference_loader: 100%|██████████| 59/59 [00:04<00:00, 14.27it/s]\n",
      "inference_loader: 100%|██████████| 10/10 [00:00<00:00, 14.59it/s]\n",
      "inference_loader: 100%|██████████| 59/59 [00:04<00:00, 14.36it/s]\n",
      "inference_loader: 100%|██████████| 10/10 [00:00<00:00, 14.56it/s]\n",
      "inference_loader: 100%|██████████| 59/59 [00:04<00:00, 14.63it/s]\n",
      "inference_loader: 100%|██████████| 10/10 [00:00<00:00, 14.69it/s]\n",
      "inference_loader: 100%|██████████| 59/59 [00:04<00:00, 14.59it/s]\n",
      "inference_loader: 100%|██████████| 10/10 [00:00<00:00, 10.91it/s]\n",
      "inference_loader: 100%|██████████| 59/59 [00:04<00:00, 14.37it/s]\n",
      "inference_loader: 100%|██████████| 10/10 [00:00<00:00, 14.44it/s]\n",
      "inference_loader: 100%|██████████| 59/59 [00:04<00:00, 13.96it/s]\n",
      "inference_loader: 100%|██████████| 10/10 [00:00<00:00, 14.44it/s]\n",
      "inference_loader: 100%|██████████| 59/59 [00:04<00:00, 13.94it/s]\n",
      "inference_loader: 100%|██████████| 10/10 [00:00<00:00, 14.46it/s]\n",
      "inference_loader: 100%|██████████| 59/59 [00:04<00:00, 14.26it/s]\n",
      "inference_loader: 100%|██████████| 10/10 [00:00<00:00, 14.75it/s]\n",
      "inference_loader: 100%|██████████| 59/59 [00:04<00:00, 14.19it/s]\n",
      "inference_loader: 100%|██████████| 10/10 [00:00<00:00, 14.69it/s]\n",
      "inference_loader: 100%|██████████| 59/59 [00:04<00:00, 13.34it/s]\n",
      "inference_loader: 100%|██████████| 10/10 [00:00<00:00, 14.48it/s]\n"
     ]
    }
   ],
   "source": [
    "#lr constant\n",
    "model = DNN()\n",
    "model1 = model_lr1e4_B256\n",
    "model2 = model_lr1e4_B1024\n",
    "alphasB, train_lossB, train_accuracyB, val_lossB, val_accuracyB = alpha_test(model, model1, model2, training_DataLoader, validation_DataLoader, loss_fn)\n"
   ]
  },
  {
   "cell_type": "code",
   "execution_count": 21,
   "metadata": {
    "id": "2w2HjZFHaa1C"
   },
   "outputs": [
    {
     "name": "stderr",
     "output_type": "stream",
     "text": [
      "No artists with labels found to put in legend.  Note that artists whose label start with an underscore are ignored when legend() is called with no argument.\n"
     ]
    },
    {
     "data": {
      "image/png": "[encoded data removed]",
      "text/plain": [
       "<Figure size 2000x500 with 3 Axes>"
      ]
     },
     "metadata": {},
     "output_type": "display_data"
    }
   ],
   "source": [
    "fig, ax1 = plt.subplots(figsize=(20, 5))\n",
    "\n",
    "ax1 = fig.add_subplot(1,1,1)\n",
    "ax1.plot(alphasB, train_lossB, 'b-', label='Train')\n",
    "ax1.plot(alphasB, val_lossB, 'b--', label='Validation')\n",
    "ax1.legend()\n",
    "ax1.set_xlabel('Alpha')\n",
    "ax1.set_ylabel('Loss', color='b')\n",
    "ax1.set_title('lr constant; Batch Size 256 Vs 1024')\n",
    "\n",
    "ax2 = ax1.twinx()\n",
    "ax2.plot(alphasB, train_accuracyB, 'r-')\n",
    "ax2.plot(alphasB, val_accuracyB, 'r--')\n",
    "ax2.legend()\n",
    "ax2.set_ylabel('Accuracy', color='r')\n",
    "fig.tight_layout()\n",
    "fig.savefig(os.path.join(path2write, 'alpha_test_lr_const_Batch_256Vs1024'))\n",
    "fig.show()\n"
   ]
  },
  {
   "cell_type": "code",
   "execution_count": 22,
   "metadata": {
    "id": "igM-qFeePj9c"
   },
   "outputs": [
    {
     "name": "stderr",
     "output_type": "stream",
     "text": [
      "inference_loader:   0%|          | 0/59 [00:00<?, ?it/s]/local_scratch/slurm.707385/ipykernel_656613/2850139075.py:15: UserWarning: Implicit dimension choice for log_softmax has been deprecated. Change the call to include dim=X as an argument.\n",
      "  out = F.log_softmax(x)\n",
      "inference_loader: 100%|██████████| 59/59 [00:04<00:00, 14.25it/s]\n",
      "inference_loader: 100%|██████████| 10/10 [00:00<00:00, 14.81it/s]\n",
      "inference_loader: 100%|██████████| 59/59 [00:04<00:00, 14.04it/s]\n",
      "inference_loader: 100%|██████████| 10/10 [00:00<00:00, 14.56it/s]\n",
      "inference_loader: 100%|██████████| 59/59 [00:04<00:00, 14.23it/s]\n",
      "inference_loader: 100%|██████████| 10/10 [00:00<00:00, 14.68it/s]\n",
      "inference_loader: 100%|██████████| 59/59 [00:04<00:00, 13.33it/s]\n",
      "inference_loader: 100%|██████████| 10/10 [00:00<00:00, 14.65it/s]\n",
      "inference_loader: 100%|██████████| 59/59 [00:04<00:00, 14.10it/s]\n",
      "inference_loader: 100%|██████████| 10/10 [00:00<00:00, 14.55it/s]\n",
      "inference_loader: 100%|██████████| 59/59 [00:04<00:00, 14.07it/s]\n",
      "inference_loader: 100%|██████████| 10/10 [00:00<00:00, 14.50it/s]\n",
      "inference_loader: 100%|██████████| 59/59 [00:04<00:00, 14.24it/s]\n",
      "inference_loader: 100%|██████████| 10/10 [00:00<00:00, 14.51it/s]\n",
      "inference_loader: 100%|██████████| 59/59 [00:04<00:00, 13.84it/s]\n",
      "inference_loader: 100%|██████████| 10/10 [00:00<00:00, 14.55it/s]\n",
      "inference_loader: 100%|██████████| 59/59 [00:04<00:00, 14.11it/s]\n",
      "inference_loader: 100%|██████████| 10/10 [00:00<00:00, 14.39it/s]\n",
      "inference_loader: 100%|██████████| 59/59 [00:04<00:00, 13.04it/s]\n",
      "inference_loader: 100%|██████████| 10/10 [00:00<00:00, 14.37it/s]\n"
     ]
    }
   ],
   "source": [
    "model = DNN()\n",
    "model1 = model_lr1e2_B1024\n",
    "model2 = model_lr1e4_B1024\n",
    "alphaslr, train_losslr, train_accuracylr, val_losslr, val_accuracylr = alpha_test(model, model1, model2, training_DataLoader, validation_DataLoader, loss_fn)"
   ]
  },
  {
   "cell_type": "code",
   "execution_count": 23,
   "metadata": {
    "id": "AgLlElOki3oe"
   },
   "outputs": [
    {
     "name": "stderr",
     "output_type": "stream",
     "text": [
      "No artists with labels found to put in legend.  Note that artists whose label start with an underscore are ignored when legend() is called with no argument.\n"
     ]
    },
    {
     "data": {
      "image/png": "[encoded data removed]",
      "text/plain": [
       "<Figure size 1500x500 with 3 Axes>"
      ]
     },
     "metadata": {},
     "output_type": "display_data"
    }
   ],
   "source": [
    "fig, ax1 = plt.subplots(figsize=(15, 5))\n",
    "\n",
    "ax1 = fig.add_subplot(1,1,1)\n",
    "ax1.plot(alphaslr, train_losslr, 'b-', label='Train')\n",
    "ax1.plot(alphaslr, val_losslr, 'b--', label='Validation')\n",
    "ax1.legend()\n",
    "ax1.set_xlabel('Alpha')\n",
    "ax1.set_ylabel('Loss', color='b')\n",
    "ax1.set_title('Batch Size Constant; Learning Rate 1e-2 Vs 1e-4')\n",
    "\n",
    "ax2 = ax1.twinx()\n",
    "ax2.plot(alphaslr, train_accuracylr, 'r-')\n",
    "ax2.plot(alphaslr, val_accuracylr, 'r--')\n",
    "ax2.legend()\n",
    "ax2.set_ylabel('Accuracy', color='r')\n",
    "fig.tight_layout()\n",
    "fig.savefig(os.path.join(path2write, 'alpha_test_Batch_const_lr_1e-2Vs1e-4'))\n",
    "fig.show()"
   ]
  },
  {
   "cell_type": "code",
   "execution_count": null,
   "metadata": {
    "id": "a6_RMTPfj3a-"
   },
   "outputs": [],
   "source": []
  }
 ],
 "metadata": {
  "accelerator": "GPU",
  "colab": {
   "private_outputs": true,
   "provenance": []
  },
  "gpuClass": "standard",
  "kernelspec": {
   "display_name": "Python 3 (ipykernel)",
   "language": "python",
   "name": "python3"
  },
  "language_info": {
   "codemirror_mode": {
    "name": "ipython",
    "version": 3
   },
   "file_extension": ".py",
   "mimetype": "text/x-python",
   "name": "python",
   "nbconvert_exporter": "python",
   "pygments_lexer": "ipython3",
   "version": "3.11.5"
  }
 },
 "nbformat": 4,
 "nbformat_minor": 4
}
