{
 "cells": [
  {
   "cell_type": "code",
   "execution_count": 1,
   "metadata": {
    "tags": []
   },
   "outputs": [],
   "source": [
    "import os\n",
    "os.environ['TF_CPP_MIN_LOG_LEVEL'] = '3'  \n"
   ]
  },
  {
   "cell_type": "code",
   "execution_count": 2,
   "metadata": {
    "id": "onYQI3ShIC2s",
    "tags": []
   },
   "outputs": [],
   "source": [
    "import os\n",
    "import numpy as np\n",
    "import matplotlib.pyplot as plt\n",
    "import pandas as pd\n",
    "import sklearn\n",
    "import seaborn\n",
    "import torch.nn as nn\n",
    "import torch.nn.functional as F\n",
    "from torch import optim\n",
    "import torch\n",
    "from torchvision import datasets\n",
    "from torchvision.transforms import ToTensor\n",
    "from torchvision import transforms\n",
    "\n",
    "from torch.utils.data import TensorDataset\n",
    "from tqdm import tqdm\n",
    "from torch.utils.tensorboard import SummaryWriter\n",
    "from torch.utils.data import DataLoader\n",
    "\n",
    "import matplotlib.pyplot as plt\n",
    "import random\n",
    "from sklearn.decomposition import PCA"
   ]
  },
  {
   "cell_type": "code",
   "execution_count": 3,
   "metadata": {
    "id": "vssR0yCdIKvi"
   },
   "outputs": [],
   "source": [
    "class CNN2(nn.Module):\n",
    "  def __init__(self):\n",
    "    super().__init__()\n",
    "    self.conv1 = nn.Conv2d(1, 32, kernel_size=3, stride=1, padding=1)\n",
    "    self.pool1 = nn.MaxPool2d(kernel_size=2, stride=2)\n",
    "\n",
    "    self.dense1 = nn.Linear(32*14*14, 128)\n",
    "    self.dense2 = nn.Linear(128, 10)\n",
    "\n",
    "  def forward(self, x):\n",
    "    x = self.conv1(x)\n",
    "    x = F.relu(x)\n",
    "    x = self.pool1(x)\n",
    "    x = x.view(x.shape[0], -1)\n",
    "    x = self.dense1(x)\n",
    "    x = self.dense2(x)\n",
    "    out = F.log_softmax(x)\n",
    "    return out"
   ]
  },
  {
   "cell_type": "code",
   "execution_count": 4,
   "metadata": {
    "id": "3psg3dl9KjU0"
   },
   "outputs": [],
   "source": [
    "class Trainer:\n",
    "\n",
    "    def __init__(self,\n",
    "                 model: torch.nn.Module,\n",
    "                 device: torch.device,\n",
    "                 criterion: torch.nn.Module,\n",
    "                 optimizer: torch.optim.Optimizer,\n",
    "                 training_DataLoader: torch.utils.data.Dataset,\n",
    "                 validation_DataLoader: None,\n",
    "                 # lr_scheduler: torch.optim.lr_scheduler = None,\n",
    "                 epochs: int = 100,\n",
    "                 epoch: int = 0,\n",
    "                 notebook: bool = False,\n",
    "                 path2write: str = None,\n",
    "                 save_best=False,\n",
    "                 save_final=True,\n",
    "                 save_interval=10,\n",
    "                 checkpoint_start_epoch=50\n",
    "                 ):\n",
    "        self.model = model\n",
    "        self.criterion = criterion\n",
    "        self.optimizer = optimizer\n",
    "        # self.lr_scheduler = lr_scheduler\n",
    "        self.training_DataLoader = training_DataLoader\n",
    "        self.validation_DataLoader = validation_DataLoader\n",
    "        self.device = device\n",
    "        self.epochs = epochs\n",
    "        self.epoch = epoch\n",
    "        self.notebook = notebook\n",
    "        #             if self.notebook:\n",
    "        #                 print('Notebook')\n",
    "        #                 from tqdm.notebook import tqdm, trange\n",
    "        #             else:\n",
    "        #                 from tqdm import tqdm, trange\n",
    "        self.path2write = path2write\n",
    "        LOG_DIR = os.path.join(path2write, 'Log')  # path2write + 'Log/'\n",
    "        self.writer_train = SummaryWriter(os.path.join(LOG_DIR, \"train\"))\n",
    "        self.writer_val = SummaryWriter(os.path.join(LOG_DIR, \"val\"))\n",
    "        self.check_point_path = os.path.join(path2write, 'check_points')\n",
    "        if not os.path.exists(self.check_point_path):\n",
    "            os.makedirs(self.check_point_path)\n",
    "        self.save_best = save_best\n",
    "        self.save_final = save_final\n",
    "        self.save_interval = save_interval\n",
    "        self.checkpoint_start_epoch = checkpoint_start_epoch\n",
    "        self.training_loss = []\n",
    "        self.validation_loss = []\n",
    "        self.learning_rate = []\n",
    "        self.training_accuracy = []\n",
    "        self.validation_accuracy = []\n",
    "\n",
    "    def run_trainer(self):\n",
    "        self.model.to(self.device)\n",
    "        #         print(next(self.model.parameters()).device)\n",
    "        if self.notebook:\n",
    "            print('Notebook')\n",
    "            from tqdm.notebook import tqdm, trange\n",
    "        else:\n",
    "            from tqdm import tqdm, trange\n",
    "        #         print(self.epochs)\n",
    "        progressbar = trange(self.epochs, desc='Progress', disable=True)  # don't show progressbar\n",
    "        loss_max = None\n",
    "        for epoch in progressbar:\n",
    "            print(f'Epoch - {epoch}')\n",
    "\n",
    "            # Training Block\n",
    "            train_loss, train_accuracy = self._train()\n",
    "            self.writer_train.add_scalar(\"Train Loss\", train_loss, epoch)\n",
    "            self.writer_train.add_scalar(\"Train Accuracy\", train_accuracy, epoch)\n",
    "\n",
    "\n",
    "            # Val Block\n",
    "            val_loss, val_accuracy = self._validate()\n",
    "            self.writer_val.add_scalar(\"Val Loss\", val_loss, epoch)\n",
    "            self.writer_val.add_scalar(\"Val Accuracy\", val_accuracy, epoch)\n",
    "\n",
    "            # lr\n",
    "            self.writer_train.add_scalar(\"Learning Rate\", self.optimizer.param_groups[0]['lr'], epoch)\n",
    "\n",
    "            print('Epoch - {} Train Loss - {:.6f} Val Loss - {:.6f} Train Accuracy - {:.6f} Val Accuracy - {:.6f}'.format(epoch, train_loss, val_loss, train_accuracy, val_accuracy))\n",
    "            if self.save_final:\n",
    "                if epoch == self.epochs-1:\n",
    "                    model_name = 'epoch-{}-loss{:.6f}'.format(epoch, val_loss)\n",
    "                    torch.save(self.model.state_dict(), os.path.join(self.check_point_path, model_name))\n",
    "            loss_max = val_loss\n",
    "\n",
    "        return self.training_loss, self.validation_loss, self.model, self.training_accuracy, self.validation_accuracy\n",
    "\n",
    "    def _train(self):\n",
    "\n",
    "        self.model.train()\n",
    "        train_losses = []\n",
    "        batch_iter = tqdm(enumerate(self.training_DataLoader), 'Training', total=len(self.training_DataLoader),\n",
    "                          disable=False)\n",
    "        batch_acc = 0\n",
    "        for i, (x, y) in batch_iter:\n",
    "            input, target = x.type(torch.float32).to(self.device), y.type(torch.float32).to(self.device)\n",
    "            self.optimizer.zero_grad()\n",
    "            target = target.type(torch.LongTensor).to(self.device)\n",
    "            output = self.model(input)\n",
    "            loss = self.criterion(output, target)\n",
    "            train_losses.append(loss.item())\n",
    "            loss.backward()\n",
    "            self.optimizer.step()\n",
    "            pred = output.argmax(dim=1, keepdim=True) # max of prob\n",
    "            pred = pred.flatten()\n",
    "            batch_acc += torch.mean(pred.eq(target.view_as(pred)).type(torch.FloatTensor))\n",
    "        accuracy = batch_acc/len(self.training_DataLoader)\n",
    "        self.training_loss.append(np.mean(train_losses))  # Mean batch loss\n",
    "        self.learning_rate.append(self.optimizer.param_groups[0]['lr'])\n",
    "        self.training_accuracy.append(accuracy)\n",
    "\n",
    "        batch_iter.close()  # clean up the bar\n",
    "        return np.mean(train_losses), accuracy\n",
    "\n",
    "    def _validate(self):\n",
    "\n",
    "        self.model.eval()\n",
    "        valid_losses = []\n",
    "        batch_iter = tqdm(enumerate(self.validation_DataLoader), 'validation', total=len(self.validation_DataLoader), disable=False)\n",
    "        batch_acc = 0\n",
    "        for i, (x, y) in batch_iter:\n",
    "            input, target = x.type(torch.float32).to(self.device), y.to(self.device)\n",
    "            with torch.no_grad():\n",
    "                output = self.model(input)\n",
    "                target = target.type(torch.LongTensor).to(self.device)\n",
    "                loss = self.criterion(output, target)\n",
    "                valid_losses.append(loss.item())\n",
    "                pred = output.argmax(dim=1, keepdim=True)\n",
    "                batch_acc += torch.mean(pred.eq(target.view_as(pred)).type(torch.FloatTensor)).item()\n",
    "\n",
    "        accuracy = batch_acc/len(self.validation_DataLoader)\n",
    "        self.validation_loss.append(np.mean(valid_losses))\n",
    "        self.validation_accuracy.append(accuracy)\n",
    "        batch_iter.close()\n",
    "        return np.mean(valid_losses), accuracy"
   ]
  },
  {
   "cell_type": "code",
   "execution_count": 5,
   "metadata": {
    "id": "kfIYbiAwKylt"
   },
   "outputs": [],
   "source": [
    "bath_size = 1020\n",
    "\n",
    "transform=transforms.Compose([\n",
    "        transforms.ToTensor()\n",
    "        ])\n",
    "dataset1 = datasets.MNIST('Home work', train=True, download=True, transform=transform)\n",
    "random.shuffle(dataset1.targets)\n",
    "\n",
    "dataset2 = datasets.MNIST('Home work', train=False, transform=transform)\n",
    "\n",
    "training_DataLoader = DataLoader(dataset1, batch_size=bath_size, shuffle=True)\n",
    "validation_DataLoader= DataLoader(dataset2, batch_size=bath_size, shuffle=True)"
   ]
  },
  {
   "cell_type": "code",
   "execution_count": 6,
   "metadata": {
    "tags": []
   },
   "outputs": [],
   "source": [
    "path2write = os.path.expanduser(\"~/my_logs\")  # This will create a 'my_logs' directory in your home directory\n"
   ]
  },
  {
   "cell_type": "code",
   "execution_count": 7,
   "metadata": {
    "id": "iVXWv9pkK1aE"
   },
   "outputs": [],
   "source": [
    "gpu_id = 0\n",
    "loss_fn = nn.CrossEntropyLoss()\n",
    "lr = 1e-4\n",
    "epochs =  100\n",
    "notebook = True\n",
    "checkpoint_start_epoch = 5 #Not using\n",
    "path2write = \"drive/MyDrive/DL_homework/HW1_1/CNN/\""
   ]
  },
  {
   "cell_type": "code",
   "execution_count": 8,
   "metadata": {
    "id": "A5SSbijKLPdy"
   },
   "outputs": [
    {
     "name": "stdout",
     "output_type": "stream",
     "text": [
      "Notebook\n",
      "Epoch - 0\n"
     ]
    },
    {
     "name": "stderr",
     "output_type": "stream",
     "text": [
      "Training:   0%|          | 0/59 [00:00<?, ?it/s]/local_scratch/slurm.707385/ipykernel_656721/979612184.py:17: UserWarning: Implicit dimension choice for log_softmax has been deprecated. Change the call to include dim=X as an argument.\n",
      "  out = F.log_softmax(x)\n",
      "Training: 100%|██████████| 59/59 [00:04<00:00, 12.29it/s]\n",
      "validation: 100%|██████████| 10/10 [00:00<00:00, 14.41it/s]\n"
     ]
    },
    {
     "name": "stdout",
     "output_type": "stream",
     "text": [
      "Epoch - 0 Train Loss - 2.304938 Val Loss - 2.299759 Train Accuracy - 0.107497 Val Accuracy - 0.144101\n",
      "Epoch - 1\n"
     ]
    },
    {
     "name": "stderr",
     "output_type": "stream",
     "text": [
      "Training: 100%|██████████| 59/59 [00:04<00:00, 13.51it/s]\n",
      "validation: 100%|██████████| 10/10 [00:00<00:00, 14.53it/s]\n"
     ]
    },
    {
     "name": "stdout",
     "output_type": "stream",
     "text": [
      "Epoch - 1 Train Loss - 2.300900 Val Loss - 2.300396 Train Accuracy - 0.112673 Val Accuracy - 0.116688\n",
      "Epoch - 2\n"
     ]
    },
    {
     "name": "stderr",
     "output_type": "stream",
     "text": [
      "Training: 100%|██████████| 59/59 [00:04<00:00, 13.44it/s]\n",
      "validation: 100%|██████████| 10/10 [00:00<00:00, 14.48it/s]\n"
     ]
    },
    {
     "name": "stdout",
     "output_type": "stream",
     "text": [
      "Epoch - 2 Train Loss - 2.299661 Val Loss - 2.302871 Train Accuracy - 0.115169 Val Accuracy - 0.116461\n",
      "Epoch - 3\n"
     ]
    },
    {
     "name": "stderr",
     "output_type": "stream",
     "text": [
      "Training: 100%|██████████| 59/59 [00:04<00:00, 13.56it/s]\n",
      "validation: 100%|██████████| 10/10 [00:00<00:00, 14.34it/s]\n"
     ]
    },
    {
     "name": "stdout",
     "output_type": "stream",
     "text": [
      "Epoch - 3 Train Loss - 2.298553 Val Loss - 2.301392 Train Accuracy - 0.116994 Val Accuracy - 0.118955\n",
      "Epoch - 4\n"
     ]
    },
    {
     "name": "stderr",
     "output_type": "stream",
     "text": [
      "Training: 100%|██████████| 59/59 [00:04<00:00, 13.51it/s]\n",
      "validation: 100%|██████████| 10/10 [00:00<00:00, 14.33it/s]\n"
     ]
    },
    {
     "name": "stdout",
     "output_type": "stream",
     "text": [
      "Epoch - 4 Train Loss - 2.296604 Val Loss - 2.303680 Train Accuracy - 0.119392 Val Accuracy - 0.109012\n",
      "Epoch - 5\n"
     ]
    },
    {
     "name": "stderr",
     "output_type": "stream",
     "text": [
      "Training: 100%|██████████| 59/59 [00:04<00:00, 12.77it/s]\n",
      "validation: 100%|██████████| 10/10 [00:00<00:00, 14.46it/s]\n"
     ]
    },
    {
     "name": "stdout",
     "output_type": "stream",
     "text": [
      "Epoch - 5 Train Loss - 2.296584 Val Loss - 2.298050 Train Accuracy - 0.119807 Val Accuracy - 0.124450\n",
      "Epoch - 6\n"
     ]
    },
    {
     "name": "stderr",
     "output_type": "stream",
     "text": [
      "Training: 100%|██████████| 59/59 [00:04<00:00, 13.51it/s]\n",
      "validation: 100%|██████████| 10/10 [00:00<00:00, 14.51it/s]\n"
     ]
    },
    {
     "name": "stdout",
     "output_type": "stream",
     "text": [
      "Epoch - 6 Train Loss - 2.294136 Val Loss - 2.300189 Train Accuracy - 0.122716 Val Accuracy - 0.131035\n",
      "Epoch - 7\n"
     ]
    },
    {
     "name": "stderr",
     "output_type": "stream",
     "text": [
      "Training: 100%|██████████| 59/59 [00:04<00:00, 13.53it/s]\n",
      "validation: 100%|██████████| 10/10 [00:00<00:00, 14.44it/s]\n"
     ]
    },
    {
     "name": "stdout",
     "output_type": "stream",
     "text": [
      "Epoch - 7 Train Loss - 2.292861 Val Loss - 2.301884 Train Accuracy - 0.125551 Val Accuracy - 0.130703\n",
      "Epoch - 8\n"
     ]
    },
    {
     "name": "stderr",
     "output_type": "stream",
     "text": [
      "Training: 100%|██████████| 59/59 [00:04<00:00, 13.65it/s]\n",
      "validation: 100%|██████████| 10/10 [00:00<00:00, 14.38it/s]\n"
     ]
    },
    {
     "name": "stdout",
     "output_type": "stream",
     "text": [
      "Epoch - 8 Train Loss - 2.291568 Val Loss - 2.300948 Train Accuracy - 0.127942 Val Accuracy - 0.118034\n",
      "Epoch - 9\n"
     ]
    },
    {
     "name": "stderr",
     "output_type": "stream",
     "text": [
      "Training: 100%|██████████| 59/59 [00:04<00:00, 13.51it/s]\n",
      "validation: 100%|██████████| 10/10 [00:00<00:00, 14.60it/s]\n"
     ]
    },
    {
     "name": "stdout",
     "output_type": "stream",
     "text": [
      "Epoch - 9 Train Loss - 2.289695 Val Loss - 2.296834 Train Accuracy - 0.127760 Val Accuracy - 0.132461\n",
      "Epoch - 10\n"
     ]
    },
    {
     "name": "stderr",
     "output_type": "stream",
     "text": [
      "Training: 100%|██████████| 59/59 [00:04<00:00, 13.52it/s]\n",
      "validation: 100%|██████████| 10/10 [00:00<00:00, 14.36it/s]\n"
     ]
    },
    {
     "name": "stdout",
     "output_type": "stream",
     "text": [
      "Epoch - 10 Train Loss - 2.288512 Val Loss - 2.298048 Train Accuracy - 0.130982 Val Accuracy - 0.134780\n",
      "Epoch - 11\n"
     ]
    },
    {
     "name": "stderr",
     "output_type": "stream",
     "text": [
      "Training: 100%|██████████| 59/59 [00:04<00:00, 13.57it/s]\n",
      "validation: 100%|██████████| 10/10 [00:00<00:00, 14.50it/s]\n"
     ]
    },
    {
     "name": "stdout",
     "output_type": "stream",
     "text": [
      "Epoch - 11 Train Loss - 2.287435 Val Loss - 2.300328 Train Accuracy - 0.132506 Val Accuracy - 0.138376\n",
      "Epoch - 12\n"
     ]
    },
    {
     "name": "stderr",
     "output_type": "stream",
     "text": [
      "Training: 100%|██████████| 59/59 [00:04<00:00, 13.59it/s]\n",
      "validation: 100%|██████████| 10/10 [00:00<00:00, 14.30it/s]\n"
     ]
    },
    {
     "name": "stdout",
     "output_type": "stream",
     "text": [
      "Epoch - 12 Train Loss - 2.286186 Val Loss - 2.297171 Train Accuracy - 0.132696 Val Accuracy - 0.161320\n",
      "Epoch - 13\n"
     ]
    },
    {
     "name": "stderr",
     "output_type": "stream",
     "text": [
      "Training: 100%|██████████| 59/59 [00:04<00:00, 13.53it/s]\n",
      "validation: 100%|██████████| 10/10 [00:00<00:00, 14.43it/s]\n"
     ]
    },
    {
     "name": "stdout",
     "output_type": "stream",
     "text": [
      "Epoch - 13 Train Loss - 2.284959 Val Loss - 2.301271 Train Accuracy - 0.134168 Val Accuracy - 0.139151\n",
      "Epoch - 14\n"
     ]
    },
    {
     "name": "stderr",
     "output_type": "stream",
     "text": [
      "Training: 100%|██████████| 59/59 [00:04<00:00, 13.52it/s]\n",
      "validation: 100%|██████████| 10/10 [00:00<00:00, 14.47it/s]\n"
     ]
    },
    {
     "name": "stdout",
     "output_type": "stream",
     "text": [
      "Epoch - 14 Train Loss - 2.283322 Val Loss - 2.302405 Train Accuracy - 0.135092 Val Accuracy - 0.100949\n",
      "Epoch - 15\n"
     ]
    },
    {
     "name": "stderr",
     "output_type": "stream",
     "text": [
      "Training: 100%|██████████| 59/59 [00:04<00:00, 12.95it/s]\n",
      "validation: 100%|██████████| 10/10 [00:00<00:00, 14.59it/s]\n"
     ]
    },
    {
     "name": "stdout",
     "output_type": "stream",
     "text": [
      "Epoch - 15 Train Loss - 2.282297 Val Loss - 2.298998 Train Accuracy - 0.135850 Val Accuracy - 0.135299\n",
      "Epoch - 16\n"
     ]
    },
    {
     "name": "stderr",
     "output_type": "stream",
     "text": [
      "Training: 100%|██████████| 59/59 [00:04<00:00, 13.67it/s]\n",
      "validation: 100%|██████████| 10/10 [00:00<00:00, 14.64it/s]\n"
     ]
    },
    {
     "name": "stdout",
     "output_type": "stream",
     "text": [
      "Epoch - 16 Train Loss - 2.280719 Val Loss - 2.301260 Train Accuracy - 0.137819 Val Accuracy - 0.139436\n",
      "Epoch - 17\n"
     ]
    },
    {
     "name": "stderr",
     "output_type": "stream",
     "text": [
      "Training: 100%|██████████| 59/59 [00:04<00:00, 13.68it/s]\n",
      "validation: 100%|██████████| 10/10 [00:00<00:00, 14.60it/s]\n"
     ]
    },
    {
     "name": "stdout",
     "output_type": "stream",
     "text": [
      "Epoch - 17 Train Loss - 2.279542 Val Loss - 2.298573 Train Accuracy - 0.140458 Val Accuracy - 0.124696\n",
      "Epoch - 18\n"
     ]
    },
    {
     "name": "stderr",
     "output_type": "stream",
     "text": [
      "Training: 100%|██████████| 59/59 [00:04<00:00, 13.72it/s]\n",
      "validation: 100%|██████████| 10/10 [00:00<00:00, 14.49it/s]\n"
     ]
    },
    {
     "name": "stdout",
     "output_type": "stream",
     "text": [
      "Epoch - 18 Train Loss - 2.278602 Val Loss - 2.300603 Train Accuracy - 0.141134 Val Accuracy - 0.128247\n",
      "Epoch - 19\n"
     ]
    },
    {
     "name": "stderr",
     "output_type": "stream",
     "text": [
      "Training: 100%|██████████| 59/59 [00:04<00:00, 13.71it/s]\n",
      "validation: 100%|██████████| 10/10 [00:00<00:00, 14.65it/s]\n"
     ]
    },
    {
     "name": "stdout",
     "output_type": "stream",
     "text": [
      "Epoch - 19 Train Loss - 2.276999 Val Loss - 2.295793 Train Accuracy - 0.143322 Val Accuracy - 0.137217\n",
      "Epoch - 20\n"
     ]
    },
    {
     "name": "stderr",
     "output_type": "stream",
     "text": [
      "Training: 100%|██████████| 59/59 [00:04<00:00, 13.69it/s]\n",
      "validation: 100%|██████████| 10/10 [00:00<00:00, 10.79it/s]\n"
     ]
    },
    {
     "name": "stdout",
     "output_type": "stream",
     "text": [
      "Epoch - 20 Train Loss - 2.274531 Val Loss - 2.298306 Train Accuracy - 0.144881 Val Accuracy - 0.147912\n",
      "Epoch - 21\n"
     ]
    },
    {
     "name": "stderr",
     "output_type": "stream",
     "text": [
      "Training: 100%|██████████| 59/59 [00:04<00:00, 13.68it/s]\n",
      "validation: 100%|██████████| 10/10 [00:00<00:00, 14.40it/s]\n"
     ]
    },
    {
     "name": "stdout",
     "output_type": "stream",
     "text": [
      "Epoch - 21 Train Loss - 2.274004 Val Loss - 2.299864 Train Accuracy - 0.145905 Val Accuracy - 0.108185\n",
      "Epoch - 22\n"
     ]
    },
    {
     "name": "stderr",
     "output_type": "stream",
     "text": [
      "Training: 100%|██████████| 59/59 [00:04<00:00, 13.57it/s]\n",
      "validation: 100%|██████████| 10/10 [00:00<00:00, 14.40it/s]\n"
     ]
    },
    {
     "name": "stdout",
     "output_type": "stream",
     "text": [
      "Epoch - 22 Train Loss - 2.273165 Val Loss - 2.303583 Train Accuracy - 0.145389 Val Accuracy - 0.140371\n",
      "Epoch - 23\n"
     ]
    },
    {
     "name": "stderr",
     "output_type": "stream",
     "text": [
      "Training: 100%|██████████| 59/59 [00:04<00:00, 13.56it/s]\n",
      "validation: 100%|██████████| 10/10 [00:00<00:00, 14.42it/s]\n"
     ]
    },
    {
     "name": "stdout",
     "output_type": "stream",
     "text": [
      "Epoch - 23 Train Loss - 2.271207 Val Loss - 2.298458 Train Accuracy - 0.148589 Val Accuracy - 0.144376\n",
      "Epoch - 24\n"
     ]
    },
    {
     "name": "stderr",
     "output_type": "stream",
     "text": [
      "Training: 100%|██████████| 59/59 [00:04<00:00, 13.58it/s]\n",
      "validation: 100%|██████████| 10/10 [00:00<00:00, 14.43it/s]\n"
     ]
    },
    {
     "name": "stdout",
     "output_type": "stream",
     "text": [
      "Epoch - 24 Train Loss - 2.271198 Val Loss - 2.296942 Train Accuracy - 0.147313 Val Accuracy - 0.115093\n",
      "Epoch - 25\n"
     ]
    },
    {
     "name": "stderr",
     "output_type": "stream",
     "text": [
      "Training: 100%|██████████| 59/59 [00:04<00:00, 13.58it/s]\n",
      "validation: 100%|██████████| 10/10 [00:00<00:00, 14.32it/s]\n"
     ]
    },
    {
     "name": "stdout",
     "output_type": "stream",
     "text": [
      "Epoch - 25 Train Loss - 2.269892 Val Loss - 2.301664 Train Accuracy - 0.149580 Val Accuracy - 0.144594\n",
      "Epoch - 26\n"
     ]
    },
    {
     "name": "stderr",
     "output_type": "stream",
     "text": [
      "Training: 100%|██████████| 59/59 [00:04<00:00, 13.59it/s]\n",
      "validation: 100%|██████████| 10/10 [00:00<00:00, 14.34it/s]\n"
     ]
    },
    {
     "name": "stdout",
     "output_type": "stream",
     "text": [
      "Epoch - 26 Train Loss - 2.268017 Val Loss - 2.301313 Train Accuracy - 0.149285 Val Accuracy - 0.143003\n",
      "Epoch - 27\n"
     ]
    },
    {
     "name": "stderr",
     "output_type": "stream",
     "text": [
      "Training: 100%|██████████| 59/59 [00:04<00:00, 13.61it/s]\n",
      "validation: 100%|██████████| 10/10 [00:00<00:00, 14.36it/s]\n"
     ]
    },
    {
     "name": "stdout",
     "output_type": "stream",
     "text": [
      "Epoch - 27 Train Loss - 2.265601 Val Loss - 2.296331 Train Accuracy - 0.153195 Val Accuracy - 0.145215\n",
      "Epoch - 28\n"
     ]
    },
    {
     "name": "stderr",
     "output_type": "stream",
     "text": [
      "Training: 100%|██████████| 59/59 [00:04<00:00, 13.62it/s]\n",
      "validation: 100%|██████████| 10/10 [00:00<00:00, 14.38it/s]\n"
     ]
    },
    {
     "name": "stdout",
     "output_type": "stream",
     "text": [
      "Epoch - 28 Train Loss - 2.264967 Val Loss - 2.302847 Train Accuracy - 0.151626 Val Accuracy - 0.135765\n",
      "Epoch - 29\n"
     ]
    },
    {
     "name": "stderr",
     "output_type": "stream",
     "text": [
      "Training: 100%|██████████| 59/59 [00:04<00:00, 13.56it/s]\n",
      "validation: 100%|██████████| 10/10 [00:00<00:00, 14.38it/s]\n"
     ]
    },
    {
     "name": "stdout",
     "output_type": "stream",
     "text": [
      "Epoch - 29 Train Loss - 2.262798 Val Loss - 2.302526 Train Accuracy - 0.156340 Val Accuracy - 0.137767\n",
      "Epoch - 30\n"
     ]
    },
    {
     "name": "stderr",
     "output_type": "stream",
     "text": [
      "Training: 100%|██████████| 59/59 [00:04<00:00, 12.80it/s]\n",
      "validation: 100%|██████████| 10/10 [00:00<00:00, 14.32it/s]\n"
     ]
    },
    {
     "name": "stdout",
     "output_type": "stream",
     "text": [
      "Epoch - 30 Train Loss - 2.261678 Val Loss - 2.311322 Train Accuracy - 0.157006 Val Accuracy - 0.123372\n",
      "Epoch - 31\n"
     ]
    },
    {
     "name": "stderr",
     "output_type": "stream",
     "text": [
      "Training: 100%|██████████| 59/59 [00:04<00:00, 13.66it/s]\n",
      "validation: 100%|██████████| 10/10 [00:00<00:00, 14.38it/s]\n"
     ]
    },
    {
     "name": "stdout",
     "output_type": "stream",
     "text": [
      "Epoch - 31 Train Loss - 2.259582 Val Loss - 2.306832 Train Accuracy - 0.157164 Val Accuracy - 0.137183\n",
      "Epoch - 32\n"
     ]
    },
    {
     "name": "stderr",
     "output_type": "stream",
     "text": [
      "Training: 100%|██████████| 59/59 [00:04<00:00, 13.56it/s]\n",
      "validation: 100%|██████████| 10/10 [00:00<00:00, 14.62it/s]\n"
     ]
    },
    {
     "name": "stdout",
     "output_type": "stream",
     "text": [
      "Epoch - 32 Train Loss - 2.259046 Val Loss - 2.309936 Train Accuracy - 0.157901 Val Accuracy - 0.105933\n",
      "Epoch - 33\n"
     ]
    },
    {
     "name": "stderr",
     "output_type": "stream",
     "text": [
      "Training: 100%|██████████| 59/59 [00:04<00:00, 13.57it/s]\n",
      "validation: 100%|██████████| 10/10 [00:00<00:00, 14.58it/s]\n"
     ]
    },
    {
     "name": "stdout",
     "output_type": "stream",
     "text": [
      "Epoch - 33 Train Loss - 2.257546 Val Loss - 2.302393 Train Accuracy - 0.160694 Val Accuracy - 0.136590\n",
      "Epoch - 34\n"
     ]
    },
    {
     "name": "stderr",
     "output_type": "stream",
     "text": [
      "Training: 100%|██████████| 59/59 [00:04<00:00, 13.71it/s]\n",
      "validation: 100%|██████████| 10/10 [00:00<00:00, 14.66it/s]\n"
     ]
    },
    {
     "name": "stdout",
     "output_type": "stream",
     "text": [
      "Epoch - 34 Train Loss - 2.256213 Val Loss - 2.312559 Train Accuracy - 0.159475 Val Accuracy - 0.127783\n",
      "Epoch - 35\n"
     ]
    },
    {
     "name": "stderr",
     "output_type": "stream",
     "text": [
      "Training: 100%|██████████| 59/59 [00:04<00:00, 13.79it/s]\n",
      "validation: 100%|██████████| 10/10 [00:00<00:00, 14.60it/s]\n"
     ]
    },
    {
     "name": "stdout",
     "output_type": "stream",
     "text": [
      "Epoch - 35 Train Loss - 2.253788 Val Loss - 2.300209 Train Accuracy - 0.162560 Val Accuracy - 0.152236\n",
      "Epoch - 36\n"
     ]
    },
    {
     "name": "stderr",
     "output_type": "stream",
     "text": [
      "Training: 100%|██████████| 59/59 [00:04<00:00, 12.93it/s]\n",
      "validation: 100%|██████████| 10/10 [00:00<00:00, 14.40it/s]\n"
     ]
    },
    {
     "name": "stdout",
     "output_type": "stream",
     "text": [
      "Epoch - 36 Train Loss - 2.253529 Val Loss - 2.296314 Train Accuracy - 0.160507 Val Accuracy - 0.140780\n",
      "Epoch - 37\n"
     ]
    },
    {
     "name": "stderr",
     "output_type": "stream",
     "text": [
      "Training: 100%|██████████| 59/59 [00:04<00:00, 13.60it/s]\n",
      "validation: 100%|██████████| 10/10 [00:00<00:00, 14.40it/s]\n"
     ]
    },
    {
     "name": "stdout",
     "output_type": "stream",
     "text": [
      "Epoch - 37 Train Loss - 2.250139 Val Loss - 2.296505 Train Accuracy - 0.164415 Val Accuracy - 0.155440\n",
      "Epoch - 38\n"
     ]
    },
    {
     "name": "stderr",
     "output_type": "stream",
     "text": [
      "Training: 100%|██████████| 59/59 [00:04<00:00, 13.59it/s]\n",
      "validation: 100%|██████████| 10/10 [00:00<00:00, 14.40it/s]\n"
     ]
    },
    {
     "name": "stdout",
     "output_type": "stream",
     "text": [
      "Epoch - 38 Train Loss - 2.250790 Val Loss - 2.307255 Train Accuracy - 0.163819 Val Accuracy - 0.124132\n",
      "Epoch - 39\n"
     ]
    },
    {
     "name": "stderr",
     "output_type": "stream",
     "text": [
      "Training: 100%|██████████| 59/59 [00:04<00:00, 13.55it/s]\n",
      "validation: 100%|██████████| 10/10 [00:00<00:00, 14.41it/s]\n"
     ]
    },
    {
     "name": "stdout",
     "output_type": "stream",
     "text": [
      "Epoch - 39 Train Loss - 2.247420 Val Loss - 2.310649 Train Accuracy - 0.165985 Val Accuracy - 0.131875\n",
      "Epoch - 40\n"
     ]
    },
    {
     "name": "stderr",
     "output_type": "stream",
     "text": [
      "Training: 100%|██████████| 59/59 [00:04<00:00, 13.61it/s]\n",
      "validation: 100%|██████████| 10/10 [00:00<00:00, 14.45it/s]\n"
     ]
    },
    {
     "name": "stdout",
     "output_type": "stream",
     "text": [
      "Epoch - 40 Train Loss - 2.246889 Val Loss - 2.319000 Train Accuracy - 0.165857 Val Accuracy - 0.125825\n",
      "Epoch - 41\n"
     ]
    },
    {
     "name": "stderr",
     "output_type": "stream",
     "text": [
      "Training: 100%|██████████| 59/59 [00:04<00:00, 13.59it/s]\n",
      "validation: 100%|██████████| 10/10 [00:00<00:00, 10.69it/s]\n"
     ]
    },
    {
     "name": "stdout",
     "output_type": "stream",
     "text": [
      "Epoch - 41 Train Loss - 2.244687 Val Loss - 2.318495 Train Accuracy - 0.169604 Val Accuracy - 0.124778\n",
      "Epoch - 42\n"
     ]
    },
    {
     "name": "stderr",
     "output_type": "stream",
     "text": [
      "Training: 100%|██████████| 59/59 [00:04<00:00, 13.56it/s]\n",
      "validation: 100%|██████████| 10/10 [00:00<00:00, 14.46it/s]\n"
     ]
    },
    {
     "name": "stdout",
     "output_type": "stream",
     "text": [
      "Epoch - 42 Train Loss - 2.242921 Val Loss - 2.322027 Train Accuracy - 0.167733 Val Accuracy - 0.142606\n",
      "Epoch - 43\n"
     ]
    },
    {
     "name": "stderr",
     "output_type": "stream",
     "text": [
      "Training: 100%|██████████| 59/59 [00:04<00:00, 13.60it/s]\n",
      "validation: 100%|██████████| 10/10 [00:00<00:00, 14.44it/s]\n"
     ]
    },
    {
     "name": "stdout",
     "output_type": "stream",
     "text": [
      "Epoch - 43 Train Loss - 2.243337 Val Loss - 2.321789 Train Accuracy - 0.168689 Val Accuracy - 0.142678\n",
      "Epoch - 44\n"
     ]
    },
    {
     "name": "stderr",
     "output_type": "stream",
     "text": [
      "Training: 100%|██████████| 59/59 [00:04<00:00, 13.56it/s]\n",
      "validation: 100%|██████████| 10/10 [00:00<00:00, 14.44it/s]\n"
     ]
    },
    {
     "name": "stdout",
     "output_type": "stream",
     "text": [
      "Epoch - 44 Train Loss - 2.240211 Val Loss - 2.306240 Train Accuracy - 0.171063 Val Accuracy - 0.148336\n",
      "Epoch - 45\n"
     ]
    },
    {
     "name": "stderr",
     "output_type": "stream",
     "text": [
      "Training: 100%|██████████| 59/59 [00:04<00:00, 13.55it/s]\n",
      "validation: 100%|██████████| 10/10 [00:00<00:00, 14.43it/s]\n"
     ]
    },
    {
     "name": "stdout",
     "output_type": "stream",
     "text": [
      "Epoch - 45 Train Loss - 2.238384 Val Loss - 2.317609 Train Accuracy - 0.173855 Val Accuracy - 0.136796\n",
      "Epoch - 46\n"
     ]
    },
    {
     "name": "stderr",
     "output_type": "stream",
     "text": [
      "Training: 100%|██████████| 59/59 [00:04<00:00, 13.55it/s]\n",
      "validation: 100%|██████████| 10/10 [00:00<00:00, 14.41it/s]\n"
     ]
    },
    {
     "name": "stdout",
     "output_type": "stream",
     "text": [
      "Epoch - 46 Train Loss - 2.237351 Val Loss - 2.321396 Train Accuracy - 0.173332 Val Accuracy - 0.120794\n",
      "Epoch - 47\n"
     ]
    },
    {
     "name": "stderr",
     "output_type": "stream",
     "text": [
      "Training: 100%|██████████| 59/59 [00:04<00:00, 13.56it/s]\n",
      "validation: 100%|██████████| 10/10 [00:00<00:00, 14.34it/s]\n"
     ]
    },
    {
     "name": "stdout",
     "output_type": "stream",
     "text": [
      "Epoch - 47 Train Loss - 2.235280 Val Loss - 2.309271 Train Accuracy - 0.175265 Val Accuracy - 0.123596\n",
      "Epoch - 48\n"
     ]
    },
    {
     "name": "stderr",
     "output_type": "stream",
     "text": [
      "Training: 100%|██████████| 59/59 [00:04<00:00, 13.55it/s]\n",
      "validation: 100%|██████████| 10/10 [00:00<00:00, 14.47it/s]\n"
     ]
    },
    {
     "name": "stdout",
     "output_type": "stream",
     "text": [
      "Epoch - 48 Train Loss - 2.233427 Val Loss - 2.316048 Train Accuracy - 0.174873 Val Accuracy - 0.119943\n",
      "Epoch - 49\n"
     ]
    },
    {
     "name": "stderr",
     "output_type": "stream",
     "text": [
      "Training: 100%|██████████| 59/59 [00:04<00:00, 13.54it/s]\n",
      "validation: 100%|██████████| 10/10 [00:00<00:00, 14.35it/s]\n"
     ]
    },
    {
     "name": "stdout",
     "output_type": "stream",
     "text": [
      "Epoch - 49 Train Loss - 2.232176 Val Loss - 2.299925 Train Accuracy - 0.177250 Val Accuracy - 0.133563\n",
      "Epoch - 50\n"
     ]
    },
    {
     "name": "stderr",
     "output_type": "stream",
     "text": [
      "Training: 100%|██████████| 59/59 [00:04<00:00, 13.57it/s]\n",
      "validation: 100%|██████████| 10/10 [00:00<00:00, 14.46it/s]\n"
     ]
    },
    {
     "name": "stdout",
     "output_type": "stream",
     "text": [
      "Epoch - 50 Train Loss - 2.231353 Val Loss - 2.326630 Train Accuracy - 0.176345 Val Accuracy - 0.122635\n",
      "Epoch - 51\n"
     ]
    },
    {
     "name": "stderr",
     "output_type": "stream",
     "text": [
      "Training: 100%|██████████| 59/59 [00:04<00:00, 12.82it/s]\n",
      "validation: 100%|██████████| 10/10 [00:00<00:00, 14.28it/s]\n"
     ]
    },
    {
     "name": "stdout",
     "output_type": "stream",
     "text": [
      "Epoch - 51 Train Loss - 2.228515 Val Loss - 2.318829 Train Accuracy - 0.177440 Val Accuracy - 0.125301\n",
      "Epoch - 52\n"
     ]
    },
    {
     "name": "stderr",
     "output_type": "stream",
     "text": [
      "Training: 100%|██████████| 59/59 [00:04<00:00, 13.42it/s]\n",
      "validation: 100%|██████████| 10/10 [00:00<00:00, 14.11it/s]\n"
     ]
    },
    {
     "name": "stdout",
     "output_type": "stream",
     "text": [
      "Epoch - 52 Train Loss - 2.227610 Val Loss - 2.327247 Train Accuracy - 0.179231 Val Accuracy - 0.117614\n",
      "Epoch - 53\n"
     ]
    },
    {
     "name": "stderr",
     "output_type": "stream",
     "text": [
      "Training: 100%|██████████| 59/59 [00:04<00:00, 13.45it/s]\n",
      "validation: 100%|██████████| 10/10 [00:00<00:00, 14.43it/s]\n"
     ]
    },
    {
     "name": "stdout",
     "output_type": "stream",
     "text": [
      "Epoch - 53 Train Loss - 2.224587 Val Loss - 2.319088 Train Accuracy - 0.182918 Val Accuracy - 0.136081\n",
      "Epoch - 54\n"
     ]
    },
    {
     "name": "stderr",
     "output_type": "stream",
     "text": [
      "Training: 100%|██████████| 59/59 [00:04<00:00, 13.50it/s]\n",
      "validation: 100%|██████████| 10/10 [00:00<00:00, 14.28it/s]\n"
     ]
    },
    {
     "name": "stdout",
     "output_type": "stream",
     "text": [
      "Epoch - 54 Train Loss - 2.224190 Val Loss - 2.323293 Train Accuracy - 0.180773 Val Accuracy - 0.135818\n",
      "Epoch - 55\n"
     ]
    },
    {
     "name": "stderr",
     "output_type": "stream",
     "text": [
      "Training: 100%|██████████| 59/59 [00:04<00:00, 13.39it/s]\n",
      "validation: 100%|██████████| 10/10 [00:00<00:00, 14.52it/s]\n"
     ]
    },
    {
     "name": "stdout",
     "output_type": "stream",
     "text": [
      "Epoch - 55 Train Loss - 2.222377 Val Loss - 2.327055 Train Accuracy - 0.181566 Val Accuracy - 0.118419\n",
      "Epoch - 56\n"
     ]
    },
    {
     "name": "stderr",
     "output_type": "stream",
     "text": [
      "Training: 100%|██████████| 59/59 [00:04<00:00, 13.40it/s]\n",
      "validation: 100%|██████████| 10/10 [00:00<00:00, 14.35it/s]\n"
     ]
    },
    {
     "name": "stdout",
     "output_type": "stream",
     "text": [
      "Epoch - 56 Train Loss - 2.219860 Val Loss - 2.336996 Train Accuracy - 0.181987 Val Accuracy - 0.122683\n",
      "Epoch - 57\n"
     ]
    },
    {
     "name": "stderr",
     "output_type": "stream",
     "text": [
      "Training: 100%|██████████| 59/59 [00:04<00:00, 13.42it/s]\n",
      "validation: 100%|██████████| 10/10 [00:00<00:00, 14.15it/s]\n"
     ]
    },
    {
     "name": "stdout",
     "output_type": "stream",
     "text": [
      "Epoch - 57 Train Loss - 2.219072 Val Loss - 2.336563 Train Accuracy - 0.182078 Val Accuracy - 0.123917\n",
      "Epoch - 58\n"
     ]
    },
    {
     "name": "stderr",
     "output_type": "stream",
     "text": [
      "Training: 100%|██████████| 59/59 [00:04<00:00, 13.45it/s]\n",
      "validation: 100%|██████████| 10/10 [00:00<00:00, 14.48it/s]\n"
     ]
    },
    {
     "name": "stdout",
     "output_type": "stream",
     "text": [
      "Epoch - 58 Train Loss - 2.219658 Val Loss - 2.325789 Train Accuracy - 0.181494 Val Accuracy - 0.130397\n",
      "Epoch - 59\n"
     ]
    },
    {
     "name": "stderr",
     "output_type": "stream",
     "text": [
      "Training: 100%|██████████| 59/59 [00:04<00:00, 13.47it/s]\n",
      "validation: 100%|██████████| 10/10 [00:00<00:00, 14.20it/s]\n"
     ]
    },
    {
     "name": "stdout",
     "output_type": "stream",
     "text": [
      "Epoch - 59 Train Loss - 2.214989 Val Loss - 2.313198 Train Accuracy - 0.187222 Val Accuracy - 0.129672\n",
      "Epoch - 60\n"
     ]
    },
    {
     "name": "stderr",
     "output_type": "stream",
     "text": [
      "Training: 100%|██████████| 59/59 [00:04<00:00, 12.77it/s]\n",
      "validation: 100%|██████████| 10/10 [00:00<00:00, 14.52it/s]\n"
     ]
    },
    {
     "name": "stdout",
     "output_type": "stream",
     "text": [
      "Epoch - 60 Train Loss - 2.216056 Val Loss - 2.332577 Train Accuracy - 0.184300 Val Accuracy - 0.124495\n",
      "Epoch - 61\n"
     ]
    },
    {
     "name": "stderr",
     "output_type": "stream",
     "text": [
      "Training: 100%|██████████| 59/59 [00:04<00:00, 13.56it/s]\n",
      "validation: 100%|██████████| 10/10 [00:00<00:00, 14.39it/s]\n"
     ]
    },
    {
     "name": "stdout",
     "output_type": "stream",
     "text": [
      "Epoch - 61 Train Loss - 2.212460 Val Loss - 2.343527 Train Accuracy - 0.188532 Val Accuracy - 0.120306\n",
      "Epoch - 62\n"
     ]
    },
    {
     "name": "stderr",
     "output_type": "stream",
     "text": [
      "Training: 100%|██████████| 59/59 [00:04<00:00, 13.65it/s]\n",
      "validation: 100%|██████████| 10/10 [00:00<00:00, 14.54it/s]\n"
     ]
    },
    {
     "name": "stdout",
     "output_type": "stream",
     "text": [
      "Epoch - 62 Train Loss - 2.210226 Val Loss - 2.335385 Train Accuracy - 0.189249 Val Accuracy - 0.136595\n",
      "Epoch - 63\n"
     ]
    },
    {
     "name": "stderr",
     "output_type": "stream",
     "text": [
      "Training: 100%|██████████| 59/59 [00:04<00:00, 13.62it/s]\n",
      "validation: 100%|██████████| 10/10 [00:00<00:00, 14.50it/s]\n"
     ]
    },
    {
     "name": "stdout",
     "output_type": "stream",
     "text": [
      "Epoch - 63 Train Loss - 2.209244 Val Loss - 2.338744 Train Accuracy - 0.190109 Val Accuracy - 0.123032\n",
      "Epoch - 64\n"
     ]
    },
    {
     "name": "stderr",
     "output_type": "stream",
     "text": [
      "Training: 100%|██████████| 59/59 [00:04<00:00, 13.66it/s]\n",
      "validation: 100%|██████████| 10/10 [00:00<00:00, 14.56it/s]\n"
     ]
    },
    {
     "name": "stdout",
     "output_type": "stream",
     "text": [
      "Epoch - 64 Train Loss - 2.208064 Val Loss - 2.330114 Train Accuracy - 0.189452 Val Accuracy - 0.147528\n",
      "Epoch - 65\n"
     ]
    },
    {
     "name": "stderr",
     "output_type": "stream",
     "text": [
      "Training: 100%|██████████| 59/59 [00:04<00:00, 13.63it/s]\n",
      "validation: 100%|██████████| 10/10 [00:00<00:00, 10.85it/s]\n"
     ]
    },
    {
     "name": "stdout",
     "output_type": "stream",
     "text": [
      "Epoch - 65 Train Loss - 2.205855 Val Loss - 2.344179 Train Accuracy - 0.191275 Val Accuracy - 0.129146\n",
      "Epoch - 66\n"
     ]
    },
    {
     "name": "stderr",
     "output_type": "stream",
     "text": [
      "Training: 100%|██████████| 59/59 [00:04<00:00, 13.66it/s]\n",
      "validation: 100%|██████████| 10/10 [00:00<00:00, 14.57it/s]\n"
     ]
    },
    {
     "name": "stdout",
     "output_type": "stream",
     "text": [
      "Epoch - 66 Train Loss - 2.204729 Val Loss - 2.325383 Train Accuracy - 0.192236 Val Accuracy - 0.119103\n",
      "Epoch - 67\n"
     ]
    },
    {
     "name": "stderr",
     "output_type": "stream",
     "text": [
      "Training: 100%|██████████| 59/59 [00:04<00:00, 13.57it/s]\n",
      "validation: 100%|██████████| 10/10 [00:00<00:00, 14.47it/s]\n"
     ]
    },
    {
     "name": "stdout",
     "output_type": "stream",
     "text": [
      "Epoch - 67 Train Loss - 2.203790 Val Loss - 2.333529 Train Accuracy - 0.193649 Val Accuracy - 0.128902\n",
      "Epoch - 68\n"
     ]
    },
    {
     "name": "stderr",
     "output_type": "stream",
     "text": [
      "Training: 100%|██████████| 59/59 [00:04<00:00, 13.55it/s]\n",
      "validation: 100%|██████████| 10/10 [00:00<00:00, 14.32it/s]\n"
     ]
    },
    {
     "name": "stdout",
     "output_type": "stream",
     "text": [
      "Epoch - 68 Train Loss - 2.200345 Val Loss - 2.328486 Train Accuracy - 0.195398 Val Accuracy - 0.136205\n",
      "Epoch - 69\n"
     ]
    },
    {
     "name": "stderr",
     "output_type": "stream",
     "text": [
      "Training: 100%|██████████| 59/59 [00:04<00:00, 13.52it/s]\n",
      "validation: 100%|██████████| 10/10 [00:00<00:00, 14.44it/s]\n"
     ]
    },
    {
     "name": "stdout",
     "output_type": "stream",
     "text": [
      "Epoch - 69 Train Loss - 2.199790 Val Loss - 2.345933 Train Accuracy - 0.196154 Val Accuracy - 0.128520\n",
      "Epoch - 70\n"
     ]
    },
    {
     "name": "stderr",
     "output_type": "stream",
     "text": [
      "Training: 100%|██████████| 59/59 [00:04<00:00, 13.54it/s]\n",
      "validation: 100%|██████████| 10/10 [00:00<00:00, 14.52it/s]\n"
     ]
    },
    {
     "name": "stdout",
     "output_type": "stream",
     "text": [
      "Epoch - 70 Train Loss - 2.197058 Val Loss - 2.343310 Train Accuracy - 0.196274 Val Accuracy - 0.137867\n",
      "Epoch - 71\n"
     ]
    },
    {
     "name": "stderr",
     "output_type": "stream",
     "text": [
      "Training: 100%|██████████| 59/59 [00:04<00:00, 13.62it/s]\n",
      "validation: 100%|██████████| 10/10 [00:00<00:00, 14.48it/s]\n"
     ]
    },
    {
     "name": "stdout",
     "output_type": "stream",
     "text": [
      "Epoch - 71 Train Loss - 2.197364 Val Loss - 2.331011 Train Accuracy - 0.195992 Val Accuracy - 0.130409\n",
      "Epoch - 72\n"
     ]
    },
    {
     "name": "stderr",
     "output_type": "stream",
     "text": [
      "Training: 100%|██████████| 59/59 [00:04<00:00, 13.50it/s]\n",
      "validation: 100%|██████████| 10/10 [00:00<00:00, 14.36it/s]\n"
     ]
    },
    {
     "name": "stdout",
     "output_type": "stream",
     "text": [
      "Epoch - 72 Train Loss - 2.194895 Val Loss - 2.335662 Train Accuracy - 0.199484 Val Accuracy - 0.134464\n",
      "Epoch - 73\n"
     ]
    },
    {
     "name": "stderr",
     "output_type": "stream",
     "text": [
      "Training: 100%|██████████| 59/59 [00:04<00:00, 13.55it/s]\n",
      "validation: 100%|██████████| 10/10 [00:00<00:00, 14.40it/s]\n"
     ]
    },
    {
     "name": "stdout",
     "output_type": "stream",
     "text": [
      "Epoch - 73 Train Loss - 2.194674 Val Loss - 2.338776 Train Accuracy - 0.197167 Val Accuracy - 0.136157\n",
      "Epoch - 74\n"
     ]
    },
    {
     "name": "stderr",
     "output_type": "stream",
     "text": [
      "Training: 100%|██████████| 59/59 [00:04<00:00, 13.53it/s]\n",
      "validation: 100%|██████████| 10/10 [00:00<00:00, 14.40it/s]\n"
     ]
    },
    {
     "name": "stdout",
     "output_type": "stream",
     "text": [
      "Epoch - 74 Train Loss - 2.193634 Val Loss - 2.344135 Train Accuracy - 0.200112 Val Accuracy - 0.127044\n",
      "Epoch - 75\n"
     ]
    },
    {
     "name": "stderr",
     "output_type": "stream",
     "text": [
      "Training: 100%|██████████| 59/59 [00:04<00:00, 12.80it/s]\n",
      "validation: 100%|██████████| 10/10 [00:00<00:00, 14.29it/s]\n"
     ]
    },
    {
     "name": "stdout",
     "output_type": "stream",
     "text": [
      "Epoch - 75 Train Loss - 2.190741 Val Loss - 2.350727 Train Accuracy - 0.199585 Val Accuracy - 0.118895\n",
      "Epoch - 76\n"
     ]
    },
    {
     "name": "stderr",
     "output_type": "stream",
     "text": [
      "Training: 100%|██████████| 59/59 [00:04<00:00, 13.54it/s]\n",
      "validation: 100%|██████████| 10/10 [00:00<00:00, 14.46it/s]\n"
     ]
    },
    {
     "name": "stdout",
     "output_type": "stream",
     "text": [
      "Epoch - 76 Train Loss - 2.189697 Val Loss - 2.344734 Train Accuracy - 0.199830 Val Accuracy - 0.119653\n",
      "Epoch - 77\n"
     ]
    },
    {
     "name": "stderr",
     "output_type": "stream",
     "text": [
      "Training: 100%|██████████| 59/59 [00:04<00:00, 13.54it/s]\n",
      "validation: 100%|██████████| 10/10 [00:00<00:00, 14.52it/s]\n"
     ]
    },
    {
     "name": "stdout",
     "output_type": "stream",
     "text": [
      "Epoch - 77 Train Loss - 2.186166 Val Loss - 2.346390 Train Accuracy - 0.201995 Val Accuracy - 0.139986\n",
      "Epoch - 78\n"
     ]
    },
    {
     "name": "stderr",
     "output_type": "stream",
     "text": [
      "Training: 100%|██████████| 59/59 [00:04<00:00, 13.50it/s]\n",
      "validation: 100%|██████████| 10/10 [00:00<00:00, 14.52it/s]\n"
     ]
    },
    {
     "name": "stdout",
     "output_type": "stream",
     "text": [
      "Epoch - 78 Train Loss - 2.186429 Val Loss - 2.368931 Train Accuracy - 0.200808 Val Accuracy - 0.120055\n",
      "Epoch - 79\n"
     ]
    },
    {
     "name": "stderr",
     "output_type": "stream",
     "text": [
      "Training: 100%|██████████| 59/59 [00:04<00:00, 13.54it/s]\n",
      "validation: 100%|██████████| 10/10 [00:00<00:00, 14.45it/s]\n"
     ]
    },
    {
     "name": "stdout",
     "output_type": "stream",
     "text": [
      "Epoch - 79 Train Loss - 2.184924 Val Loss - 2.338961 Train Accuracy - 0.202536 Val Accuracy - 0.142623\n",
      "Epoch - 80\n"
     ]
    },
    {
     "name": "stderr",
     "output_type": "stream",
     "text": [
      "Training: 100%|██████████| 59/59 [00:04<00:00, 13.55it/s]\n",
      "validation: 100%|██████████| 10/10 [00:00<00:00, 14.54it/s]\n"
     ]
    },
    {
     "name": "stdout",
     "output_type": "stream",
     "text": [
      "Epoch - 80 Train Loss - 2.182979 Val Loss - 2.342100 Train Accuracy - 0.203409 Val Accuracy - 0.120301\n",
      "Epoch - 81\n"
     ]
    },
    {
     "name": "stderr",
     "output_type": "stream",
     "text": [
      "Training: 100%|██████████| 59/59 [00:04<00:00, 12.87it/s]\n",
      "validation: 100%|██████████| 10/10 [00:00<00:00, 13.96it/s]\n"
     ]
    },
    {
     "name": "stdout",
     "output_type": "stream",
     "text": [
      "Epoch - 81 Train Loss - 2.183233 Val Loss - 2.360750 Train Accuracy - 0.202678 Val Accuracy - 0.108938\n",
      "Epoch - 82\n"
     ]
    },
    {
     "name": "stderr",
     "output_type": "stream",
     "text": [
      "Training: 100%|██████████| 59/59 [00:04<00:00, 13.57it/s]\n",
      "validation: 100%|██████████| 10/10 [00:00<00:00, 14.20it/s]\n"
     ]
    },
    {
     "name": "stdout",
     "output_type": "stream",
     "text": [
      "Epoch - 82 Train Loss - 2.181267 Val Loss - 2.365534 Train Accuracy - 0.206784 Val Accuracy - 0.114067\n",
      "Epoch - 83\n"
     ]
    },
    {
     "name": "stderr",
     "output_type": "stream",
     "text": [
      "Training: 100%|██████████| 59/59 [00:04<00:00, 13.62it/s]\n",
      "validation: 100%|██████████| 10/10 [00:00<00:00, 14.13it/s]\n"
     ]
    },
    {
     "name": "stdout",
     "output_type": "stream",
     "text": [
      "Epoch - 83 Train Loss - 2.179648 Val Loss - 2.361795 Train Accuracy - 0.206191 Val Accuracy - 0.113556\n",
      "Epoch - 84\n"
     ]
    },
    {
     "name": "stderr",
     "output_type": "stream",
     "text": [
      "Training: 100%|██████████| 59/59 [00:04<00:00, 13.60it/s]\n",
      "validation: 100%|██████████| 10/10 [00:00<00:00, 14.25it/s]\n"
     ]
    },
    {
     "name": "stdout",
     "output_type": "stream",
     "text": [
      "Epoch - 84 Train Loss - 2.177908 Val Loss - 2.349373 Train Accuracy - 0.208129 Val Accuracy - 0.130495\n",
      "Epoch - 85\n"
     ]
    },
    {
     "name": "stderr",
     "output_type": "stream",
     "text": [
      "Training: 100%|██████████| 59/59 [00:04<00:00, 13.35it/s]\n",
      "validation: 100%|██████████| 10/10 [00:00<00:00, 14.02it/s]\n"
     ]
    },
    {
     "name": "stdout",
     "output_type": "stream",
     "text": [
      "Epoch - 85 Train Loss - 2.175906 Val Loss - 2.378163 Train Accuracy - 0.207087 Val Accuracy - 0.108307\n",
      "Epoch - 86\n"
     ]
    },
    {
     "name": "stderr",
     "output_type": "stream",
     "text": [
      "Training: 100%|██████████| 59/59 [00:04<00:00, 13.39it/s]\n",
      "validation: 100%|██████████| 10/10 [00:00<00:00, 14.06it/s]\n"
     ]
    },
    {
     "name": "stdout",
     "output_type": "stream",
     "text": [
      "Epoch - 86 Train Loss - 2.174185 Val Loss - 2.361719 Train Accuracy - 0.209097 Val Accuracy - 0.119871\n",
      "Epoch - 87\n"
     ]
    },
    {
     "name": "stderr",
     "output_type": "stream",
     "text": [
      "Training: 100%|██████████| 59/59 [00:04<00:00, 13.38it/s]\n",
      "validation: 100%|██████████| 10/10 [00:00<00:00, 14.32it/s]\n"
     ]
    },
    {
     "name": "stdout",
     "output_type": "stream",
     "text": [
      "Epoch - 87 Train Loss - 2.173504 Val Loss - 2.376656 Train Accuracy - 0.209488 Val Accuracy - 0.122829\n",
      "Epoch - 88\n"
     ]
    },
    {
     "name": "stderr",
     "output_type": "stream",
     "text": [
      "Training: 100%|██████████| 59/59 [00:04<00:00, 13.39it/s]\n",
      "validation: 100%|██████████| 10/10 [00:00<00:00, 14.15it/s]\n"
     ]
    },
    {
     "name": "stdout",
     "output_type": "stream",
     "text": [
      "Epoch - 88 Train Loss - 2.170733 Val Loss - 2.349123 Train Accuracy - 0.211034 Val Accuracy - 0.124527\n",
      "Epoch - 89\n"
     ]
    },
    {
     "name": "stderr",
     "output_type": "stream",
     "text": [
      "Training: 100%|██████████| 59/59 [00:04<00:00, 13.37it/s]\n",
      "validation: 100%|██████████| 10/10 [00:00<00:00, 14.05it/s]\n"
     ]
    },
    {
     "name": "stdout",
     "output_type": "stream",
     "text": [
      "Epoch - 89 Train Loss - 2.169889 Val Loss - 2.358676 Train Accuracy - 0.209918 Val Accuracy - 0.108694\n",
      "Epoch - 90\n"
     ]
    },
    {
     "name": "stderr",
     "output_type": "stream",
     "text": [
      "Training: 100%|██████████| 59/59 [00:04<00:00, 12.71it/s]\n",
      "validation: 100%|██████████| 10/10 [00:00<00:00, 13.98it/s]\n"
     ]
    },
    {
     "name": "stdout",
     "output_type": "stream",
     "text": [
      "Epoch - 90 Train Loss - 2.168936 Val Loss - 2.390121 Train Accuracy - 0.212641 Val Accuracy - 0.112030\n",
      "Epoch - 91\n"
     ]
    },
    {
     "name": "stderr",
     "output_type": "stream",
     "text": [
      "Training: 100%|██████████| 59/59 [00:04<00:00, 13.30it/s]\n",
      "validation: 100%|██████████| 10/10 [00:00<00:00, 14.07it/s]\n"
     ]
    },
    {
     "name": "stdout",
     "output_type": "stream",
     "text": [
      "Epoch - 91 Train Loss - 2.169042 Val Loss - 2.387734 Train Accuracy - 0.211456 Val Accuracy - 0.102932\n",
      "Epoch - 92\n"
     ]
    },
    {
     "name": "stderr",
     "output_type": "stream",
     "text": [
      "Training: 100%|██████████| 59/59 [00:04<00:00, 13.28it/s]\n",
      "validation: 100%|██████████| 10/10 [00:00<00:00, 14.00it/s]\n"
     ]
    },
    {
     "name": "stdout",
     "output_type": "stream",
     "text": [
      "Epoch - 92 Train Loss - 2.166300 Val Loss - 2.367950 Train Accuracy - 0.213024 Val Accuracy - 0.125363\n",
      "Epoch - 93\n"
     ]
    },
    {
     "name": "stderr",
     "output_type": "stream",
     "text": [
      "Training: 100%|██████████| 59/59 [00:04<00:00, 13.30it/s]\n",
      "validation: 100%|██████████| 10/10 [00:00<00:00, 14.03it/s]\n"
     ]
    },
    {
     "name": "stdout",
     "output_type": "stream",
     "text": [
      "Epoch - 93 Train Loss - 2.165987 Val Loss - 2.351451 Train Accuracy - 0.212811 Val Accuracy - 0.134290\n",
      "Epoch - 94\n"
     ]
    },
    {
     "name": "stderr",
     "output_type": "stream",
     "text": [
      "Training: 100%|██████████| 59/59 [00:04<00:00, 13.38it/s]\n",
      "validation: 100%|██████████| 10/10 [00:00<00:00, 14.01it/s]\n"
     ]
    },
    {
     "name": "stdout",
     "output_type": "stream",
     "text": [
      "Epoch - 94 Train Loss - 2.162940 Val Loss - 2.389271 Train Accuracy - 0.215234 Val Accuracy - 0.100395\n",
      "Epoch - 95\n"
     ]
    },
    {
     "name": "stderr",
     "output_type": "stream",
     "text": [
      "Training: 100%|██████████| 59/59 [00:04<00:00, 13.38it/s]\n",
      "validation: 100%|██████████| 10/10 [00:00<00:00, 14.08it/s]\n"
     ]
    },
    {
     "name": "stdout",
     "output_type": "stream",
     "text": [
      "Epoch - 95 Train Loss - 2.165119 Val Loss - 2.380163 Train Accuracy - 0.211614 Val Accuracy - 0.117977\n",
      "Epoch - 96\n"
     ]
    },
    {
     "name": "stderr",
     "output_type": "stream",
     "text": [
      "Training: 100%|██████████| 59/59 [00:04<00:00, 13.31it/s]\n",
      "validation: 100%|██████████| 10/10 [00:00<00:00, 14.03it/s]\n"
     ]
    },
    {
     "name": "stdout",
     "output_type": "stream",
     "text": [
      "Epoch - 96 Train Loss - 2.160724 Val Loss - 2.372357 Train Accuracy - 0.215024 Val Accuracy - 0.120306\n",
      "Epoch - 97\n"
     ]
    },
    {
     "name": "stderr",
     "output_type": "stream",
     "text": [
      "Training: 100%|██████████| 59/59 [00:04<00:00, 13.30it/s]\n",
      "validation: 100%|██████████| 10/10 [00:00<00:00, 14.13it/s]\n"
     ]
    },
    {
     "name": "stdout",
     "output_type": "stream",
     "text": [
      "Epoch - 97 Train Loss - 2.159157 Val Loss - 2.377597 Train Accuracy - 0.216169 Val Accuracy - 0.109603\n",
      "Epoch - 98\n"
     ]
    },
    {
     "name": "stderr",
     "output_type": "stream",
     "text": [
      "Training: 100%|██████████| 59/59 [00:04<00:00, 13.31it/s]\n",
      "validation: 100%|██████████| 10/10 [00:00<00:00, 14.22it/s]\n"
     ]
    },
    {
     "name": "stdout",
     "output_type": "stream",
     "text": [
      "Epoch - 98 Train Loss - 2.158947 Val Loss - 2.378631 Train Accuracy - 0.215674 Val Accuracy - 0.106487\n",
      "Epoch - 99\n"
     ]
    },
    {
     "name": "stderr",
     "output_type": "stream",
     "text": [
      "Training: 100%|██████████| 59/59 [00:04<00:00, 12.62it/s]\n",
      "validation: 100%|██████████| 10/10 [00:00<00:00, 14.05it/s]"
     ]
    },
    {
     "name": "stdout",
     "output_type": "stream",
     "text": [
      "Epoch - 99 Train Loss - 2.155270 Val Loss - 2.395529 Train Accuracy - 0.217941 Val Accuracy - 0.107403\n"
     ]
    },
    {
     "name": "stderr",
     "output_type": "stream",
     "text": [
      "\n"
     ]
    }
   ],
   "source": [
    "model = CNN2()\n",
    "optimizer = torch.optim.Adam(model.parameters(), lr = lr)\n",
    "trainer = Trainer(model=model,\n",
    "                      device=gpu_id,\n",
    "                      criterion=loss_fn,\n",
    "                      optimizer=optimizer,\n",
    "                      training_DataLoader=training_DataLoader,\n",
    "                      validation_DataLoader=validation_DataLoader,\n",
    "                      # lr_scheduler=lr_scheduler,\n",
    "                      epochs=epochs,\n",
    "                      epoch=0,\n",
    "                      notebook=True,\n",
    "                      path2write= path2write,\n",
    "                      checkpoint_start_epoch=checkpoint_start_epoch )\n",
    "training_loss, validation_loss, model, training_accuracy, validation_accuracy = trainer.run_trainer()"
   ]
  },
  {
   "cell_type": "code",
   "execution_count": 10,
   "metadata": {
    "id": "P9xzioNJL0yT"
   },
   "outputs": [
    {
     "data": {
      "image/png": "[encoded data removed]",
      "text/plain": [
       "<Figure size 1500x500 with 1 Axes>"
      ]
     },
     "metadata": {},
     "output_type": "display_data"
    }
   ],
   "source": [
    "fig = plt.figure(figsize=(15,5))\n",
    "\n",
    "ax1 = fig.add_subplot(1,1,1)\n",
    "ax1.plot(training_loss, 'r-', label='Taining Loss')\n",
    "ax1.plot(validation_loss, 'b-', label='Validation Loss')\n",
    "ax1.legend()\n",
    "ax1.set_title('Loss')\n",
    "\n",
    "plt.show()\n",
    "fig.savefig(os.path.join(path2write, 'Random Labels loss.png'))"
   ]
  },
  {
   "cell_type": "code",
   "execution_count": null,
   "metadata": {
    "id": "Ukm_ST1NbuWX"
   },
   "outputs": [],
   "source": []
  }
 ],
 "metadata": {
  "accelerator": "GPU",
  "colab": {
   "authorship_tag": "ABX9TyNQK0Db49DMZNTitCP8DNP0",
   "private_outputs": true,
   "provenance": []
  },
  "gpuClass": "standard",
  "kernelspec": {
   "display_name": "Python 3 (ipykernel)",
   "language": "python",
   "name": "python3"
  },
  "language_info": {
   "codemirror_mode": {
    "name": "ipython",
    "version": 3
   },
   "file_extension": ".py",
   "mimetype": "text/x-python",
   "name": "python",
   "nbconvert_exporter": "python",
   "pygments_lexer": "ipython3",
   "version": "3.11.5"
  }
 },
 "nbformat": 4,
 "nbformat_minor": 4
}
