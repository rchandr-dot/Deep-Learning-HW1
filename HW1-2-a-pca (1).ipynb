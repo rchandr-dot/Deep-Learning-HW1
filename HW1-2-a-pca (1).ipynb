{
 "cells": [
  {
   "cell_type": "code",
   "execution_count": 3,
   "metadata": {
    "tags": []
   },
   "outputs": [],
   "source": [
    "import os\n",
    "os.environ['TF_CPP_MIN_LOG_LEVEL'] = '3'  \n"
   ]
  },
  {
   "cell_type": "code",
   "execution_count": 4,
   "metadata": {
    "executionInfo": {
     "elapsed": 7329,
     "status": "ok",
     "timestamp": 1676132477346,
     "user": {
      "displayName": "uma maheswara rao meleti",
      "userId": "16305935137347021824"
     },
     "user_tz": 300
    },
    "id": "lpgN7THsuaUH",
    "tags": []
   },
   "outputs": [],
   "source": [
    "# visualize optimization process\n",
    "\n",
    "import os\n",
    "import numpy as np\n",
    "import matplotlib.pyplot as plt\n",
    "import pandas as pd\n",
    "import sklearn\n",
    "import seaborn\n",
    "import torch.nn as nn\n",
    "import torch.nn.functional as F\n",
    "from torch import optim\n",
    "import torch\n",
    "from torchvision import datasets\n",
    "from torchvision.transforms import ToTensor\n",
    "from torchvision import transforms\n",
    "\n",
    "from torch.utils.data import TensorDataset\n",
    "from tqdm import tqdm\n",
    "from torch.utils.tensorboard import SummaryWriter\n",
    "from torch.utils.data import DataLoader\n",
    "\n",
    "import matplotlib.pyplot as plt\n",
    "import random\n",
    "from sklearn.decomposition import PCA"
   ]
  },
  {
   "cell_type": "code",
   "execution_count": 5,
   "metadata": {
    "executionInfo": {
     "elapsed": 218,
     "status": "ok",
     "timestamp": 1676132567661,
     "user": {
      "displayName": "uma maheswara rao meleti",
      "userId": "16305935137347021824"
     },
     "user_tz": 300
    },
    "id": "_5L-7Zmsv5OA",
    "tags": []
   },
   "outputs": [],
   "source": [
    "# def seed_all(n=1337):\n",
    "#   np.random.seed(n)\n",
    "#   torch.manual_seed(n)\n",
    "#   random.seed(n)\n",
    "\n",
    "# seed_all(1288)"
   ]
  },
  {
   "cell_type": "code",
   "execution_count": 6,
   "metadata": {
    "executionInfo": {
     "elapsed": 2,
     "status": "ok",
     "timestamp": 1676132567661,
     "user": {
      "displayName": "uma maheswara rao meleti",
      "userId": "16305935137347021824"
     },
     "user_tz": 300
    },
    "id": "5SXkCxiKGrha",
    "tags": []
   },
   "outputs": [],
   "source": [
    "class Trainer:\n",
    "\n",
    "    def __init__(self,\n",
    "                 model: torch.nn.Module,\n",
    "                 device: torch.device,\n",
    "                 criterion: torch.nn.Module,\n",
    "                 optimizer: torch.optim.Optimizer,\n",
    "                 training_DataLoader: torch.utils.data.Dataset,\n",
    "                 validation_DataLoader: None,\n",
    "                 # lr_scheduler: torch.optim.lr_scheduler = None,\n",
    "                 epochs: int = 100,\n",
    "                 epoch: int = 0,\n",
    "                 notebook: bool = False,\n",
    "                 path2write: str = None,\n",
    "                 save_best=False,\n",
    "                 save_final=True,\n",
    "                 save_interval=10,\n",
    "                 checkpoint_start_epoch=50,\n",
    "                 collect_weights = False\n",
    "                 ):\n",
    "        self.model = model\n",
    "        self.criterion = criterion\n",
    "        self.optimizer = optimizer\n",
    "        # self.lr_scheduler = lr_scheduler\n",
    "        self.training_DataLoader = training_DataLoader\n",
    "        self.validation_DataLoader = validation_DataLoader\n",
    "        self.device = device\n",
    "        self.epochs = epochs\n",
    "        self.epoch = epoch\n",
    "        self.notebook = notebook\n",
    "        #             if self.notebook:\n",
    "        #                 print('Notebook')\n",
    "        #                 from tqdm.notebook import tqdm, trange\n",
    "        #             else:\n",
    "        #                 from tqdm import tqdm, trange\n",
    "        self.path2write = path2write\n",
    "        LOG_DIR = os.path.join(path2write, 'Log')  # path2write + 'Log/'\n",
    "        self.writer_train = SummaryWriter(os.path.join(LOG_DIR, \"train\"))\n",
    "        self.writer_val = SummaryWriter(os.path.join(LOG_DIR, \"val\"))\n",
    "        self.check_point_path = os.path.join(path2write, 'check_points')\n",
    "        if not os.path.exists(self.check_point_path):\n",
    "            os.makedirs(self.check_point_path)\n",
    "        self.save_best = save_best\n",
    "        self.save_final = save_final\n",
    "        self.save_interval = save_interval\n",
    "        self.checkpoint_start_epoch = checkpoint_start_epoch\n",
    "        self.training_loss = []\n",
    "        self.validation_loss = []\n",
    "        self.learning_rate = []\n",
    "        self.training_accuracy = []\n",
    "        self.validation_accuracy = []\n",
    "        self.weight_layer_all_epoch = []\n",
    "        self.weight_all_all_epoch = []\n",
    "        self.weight_collection_accuracy = []\n",
    "        self.collect_weights = collect_weights\n",
    "\n",
    "    def run_trainer(self):\n",
    "        self.model.to(self.device)\n",
    "        #         print(next(self.model.parameters()).device)\n",
    "        if self.notebook:\n",
    "            print('Notebook')\n",
    "            from tqdm.notebook import tqdm, trange\n",
    "        else:\n",
    "            from tqdm import tqdm, trange\n",
    "        #         print(self.epochs)\n",
    "        progressbar = trange(self.epochs, desc='Progress', disable=True)  # don't show progressbar\n",
    "        loss_max = None\n",
    "        for epoch in progressbar:\n",
    "            print(f'Epoch - {epoch}')\n",
    "\n",
    "            # Training Block\n",
    "            train_loss, train_accuracy = self._train()\n",
    "            self.writer_train.add_scalar(\"Train Loss\", train_loss, epoch)\n",
    "            self.writer_train.add_scalar(\"Train Accuracy\", train_accuracy, epoch)\n",
    "\n",
    "\n",
    "            # Val Block\n",
    "            val_loss, val_accuracy = self._validate()\n",
    "            self.writer_val.add_scalar(\"Val Loss\", val_loss, epoch)\n",
    "            self.writer_val.add_scalar(\"Val Accuracy\", val_accuracy, epoch)\n",
    "\n",
    "            # lr\n",
    "            self.writer_train.add_scalar(\"Learning Rate\", self.optimizer.param_groups[0]['lr'], epoch)\n",
    "\n",
    "            print('Epoch - {} Train Loss - {:.6f} Val Loss - {:.6f} Train Accuracy - {:.6f} Val Accuracy - {:.6f}'.format(epoch, train_loss, val_loss, train_accuracy, val_accuracy))\n",
    "            if self.save_final:\n",
    "                if epoch == self.epochs-1:\n",
    "                    model_name = 'epoch-{}-loss{:.6f}'.format(epoch, val_loss)\n",
    "                    torch.save(self.model.state_dict(), os.path.join(self.check_point_path, model_name))\n",
    "\n",
    "            # weights collections\n",
    "            \n",
    "            if self.collect_weights:\n",
    "              if epoch%3 == 0:\n",
    "                weights_layer_epoch = np.zeros(0)\n",
    "                weights_all_epoch = np.zeros(0)\n",
    "                for name, parameters in model.named_parameters():\n",
    "                  if name == 'Dense1.weight':\n",
    "                    weights_layer_epoch = np.concatenate((weights_layer_epoch, parameters.detach().cpu().numpy().reshape(-1)))\n",
    "                  \n",
    "                  if 'weight' in name:\n",
    "                    weights_all_epoch = np.concatenate((weights_all_epoch, parameters.detach().cpu().numpy().reshape(-1)))\n",
    "\n",
    "                self.weight_layer_all_epoch.append(weights_layer_epoch)\n",
    "                self.weight_all_all_epoch.append(weights_all_epoch)\n",
    "                self.weight_collection_accuracy.append(train_accuracy)\n",
    "            \n",
    "            loss_max = val_loss\n",
    "\n",
    "        if self.collect_weights:\n",
    "          return self.weight_layer_all_epoch, self.weight_all_all_epoch, self.weight_collection_accuracy, self.training_loss, self.validation_loss\n",
    "\n",
    "        return self.training_loss, self.validation_loss, self.model, self.training_accuracy, self.validation_accuracy\n",
    "\n",
    "    def _train(self):\n",
    "\n",
    "        self.model.train()\n",
    "        train_losses = []\n",
    "        batch_iter = tqdm(enumerate(self.training_DataLoader), 'Training', total=len(self.training_DataLoader),\n",
    "                          disable=False)\n",
    "        batch_acc = 0\n",
    "        for i, (x, y) in batch_iter:\n",
    "            input, target = x.type(torch.float32).to(self.device), y.type(torch.float32).to(self.device)\n",
    "            self.optimizer.zero_grad()\n",
    "            target = target.type(torch.LongTensor).to(self.device)\n",
    "            output = self.model(input)\n",
    "            # target = target.unsqueeze(-1)\n",
    "            # print('Target Shape - ', target.shape)\n",
    "            # print('Output Shape - ', output.shape)\n",
    "            loss = self.criterion(output, target)\n",
    "            train_losses.append(loss.item())\n",
    "            loss.backward()\n",
    "            self.optimizer.step()\n",
    "            pred = output.argmax(dim=1, keepdim=True) # max of prob\n",
    "            pred = pred.flatten()\n",
    "            # correct += pred.eq(target.view_as(pred)).sum().item() \n",
    "            batch_acc += torch.mean(pred.eq(target.view_as(pred)).type(torch.FloatTensor)).item()\n",
    "            # batch_acc += (sum(pred.eq(target.view_as(pred)).type(torch.FloatTensor))/len(pred.eq(target.view_as(pred)).type(torch.FloatTensor)))\n",
    "        accuracy = batch_acc/len(self.training_DataLoader)\n",
    "        self.training_loss.append(np.mean(train_losses))  # Mean batch loss\n",
    "        self.learning_rate.append(self.optimizer.param_groups[0]['lr'])\n",
    "        self.training_accuracy.append(accuracy)\n",
    "\n",
    "        batch_iter.close()  # clean up the bar\n",
    "        return np.mean(train_losses), accuracy\n",
    "\n",
    "    def _validate(self):\n",
    "\n",
    "        self.model.eval()\n",
    "        valid_losses = []\n",
    "        batch_iter = tqdm(enumerate(self.validation_DataLoader), 'validation', total=len(self.validation_DataLoader), disable=False)\n",
    "        batch_acc = 0\n",
    "        for i, (x, y) in batch_iter:\n",
    "            input, target = x.type(torch.float32).to(self.device), y.to(self.device)\n",
    "            with torch.no_grad():\n",
    "                output = self.model(input)\n",
    "                # target = target.unsqueeze(-1)\n",
    "                target = target.type(torch.LongTensor).to(self.device)\n",
    "                loss = self.criterion(output, target)\n",
    "                valid_losses.append(loss.item())\n",
    "                pred = output.argmax(dim=1, keepdim=True)\n",
    "                # correct += pred.eq(target.view_as(pred)).sum().item()\n",
    "                batch_acc += torch.mean(pred.eq(target.view_as(pred)).type(torch.FloatTensor)).item()\n",
    "\n",
    "        accuracy = batch_acc/len(self.validation_DataLoader)\n",
    "        self.validation_loss.append(np.mean(valid_losses))\n",
    "        self.validation_accuracy.append(accuracy)\n",
    "        batch_iter.close()\n",
    "        return np.mean(valid_losses), accuracy"
   ]
  },
  {
   "cell_type": "code",
   "execution_count": 7,
   "metadata": {
    "executionInfo": {
     "elapsed": 265,
     "status": "ok",
     "timestamp": 1676132574816,
     "user": {
      "displayName": "uma maheswara rao meleti",
      "userId": "16305935137347021824"
     },
     "user_tz": 300
    },
    "id": "AGLs3O2Wxwrv",
    "tags": []
   },
   "outputs": [],
   "source": [
    "class DNN0(nn.Module): #for mnist\n",
    "  def __init__(self):\n",
    "    super().__init__()\n",
    "    self.Dense1 = nn.Linear(28*28, 64)\n",
    "    self.Dense2 = nn.Linear(64, 32)\n",
    "    self.Dense3 = nn.Linear(32, 16)\n",
    "    self.Dense4 = nn.Linear(16, 10)\n",
    "\n",
    "  def forward(self, x):\n",
    "    x = x.view(x.shape[0], -1)\n",
    "    x = self.Dense1(x)\n",
    "    x = self.Dense2(x)\n",
    "    x = self.Dense3(x)\n",
    "    x = self.Dense4(x)\n",
    "    out = F.log_softmax(x)\n",
    "\n",
    "    return out\n"
   ]
  },
  {
   "cell_type": "code",
   "execution_count": 8,
   "metadata": {
    "colab": {
     "base_uri": "https://localhost:8080/",
     "height": 423,
     "referenced_widgets": [
      "67e7d75579b74f4fbac45d1e599ba374",
      "48ec13048f56494c94bc802e6f5cf932",
      "c2f5f1f4d87f4d799f17598b53f7dcc6",
      "2a2c1ec50c7e407492dbdc87586dad42",
      "b3bf6513903d4fec9085d2d2127aadc3",
      "6248b3778735448aa270828ea34ebaf1",
      "8dd05705ebea4b0a997fa9d3f8d26e84",
      "506c0f2c5c9748cc9436262b90cfcf83",
      "a95d2ce1b7c645b1913e550fcec3f19b",
      "c8d766b6f87d4073a48303f9a4fb7676",
      "60a932522078403585be43a055faa720",
      "1df8a0eec4574078973efc58c207c56d",
      "35addf77a09b405a9707bd35d3f1c9bc",
      "6581e79496ea4b17898ae9f9b9784842",
      "a42217fc8ce4493daa7ad8f0d692719a",
      "cf225a5a7d914a88b70eba8a16e95fc3",
      "5b14fc4c88df4fc79a37b1aee52cd7eb",
      "1cf5b6b648f74ebf9c73a27e20004ed5",
      "e29cfcae12154f63afb189418bd0dc87",
      "7da2413482ef479e91f79bc7edcf66cb",
      "b71c2282eeb7446683ad76ab1a812e66",
      "273cb9b5aae1433181042dac1a3f0e4d",
      "db30c4a3abc84a14ba34ce1592e3304c",
      "32dc628015d6424290f12a7021b628d5",
      "72d47fe435784a3b89794b648dcaca86",
      "c08eed91f16e4d22951aa57ab1b1eed4",
      "bb609b3044db4742845e5b5fd4e5d942",
      "9554635ff48d4563aacae40ce76d3132",
      "e8110e48b07c4218be8e5cedeca15001",
      "8f2c1857295143bf9ead093737a30c5f",
      "1aa533bb429c4b2396bc79444e9d3e28",
      "7b2e3c2f5c62436c9a71aac96936847e",
      "e21c9bb2b4bc4854ad7cf467fcfa02fb",
      "b43da57304944bc7b3a95729e6dd3fe6",
      "5c1b5fcdf2a145e2b52856fb14d9ee86",
      "29e2e81e3b7a4722a178ef43b0cabf7c",
      "5310d0e7635542bebfaa41a2ee991c63",
      "f7911ed8fd1e4e108a465d4f9bf8a3b9",
      "de10f5236db74fe99aa7e931363d11fb",
      "e55e743c274e4b5a8032bc20f65df7f8",
      "acf0d4bab30a43ccb776823db0cc0182",
      "5e756b5c11d64239a832fa9631b95d24",
      "396eecb7e0e24122830ee9e762c8b2aa",
      "8cff8b6dc04944eba2f43f42d88724f5"
     ]
    },
    "executionInfo": {
     "elapsed": 1357,
     "status": "ok",
     "timestamp": 1676132576584,
     "user": {
      "displayName": "uma maheswara rao meleti",
      "userId": "16305935137347021824"
     },
     "user_tz": 300
    },
    "id": "JjtPxJ8YBxmL",
    "outputId": "a56fff02-0f95-4ae4-8cad-4d64efeeaed8",
    "tags": []
   },
   "outputs": [],
   "source": [
    "#dataset prepration\n",
    "bath_size = 128\n",
    "\n",
    "transform=transforms.Compose([\n",
    "        transforms.ToTensor()\n",
    "        ])\n",
    "dataset1 = datasets.MNIST('Home work', train=True, download=True, transform=transform)\n",
    "dataset2 = datasets.MNIST('Home work', train=False, transform=transform)\n",
    "\n",
    "training_DataLoader = DataLoader(dataset1, batch_size=bath_size, shuffle=True)\n",
    "validation_DataLoader= DataLoader(dataset2, batch_size=bath_size, shuffle=True)"
   ]
  },
  {
   "cell_type": "code",
   "execution_count": 9,
   "metadata": {
    "executionInfo": {
     "elapsed": 4,
     "status": "ok",
     "timestamp": 1676132578549,
     "user": {
      "displayName": "uma maheswara rao meleti",
      "userId": "16305935137347021824"
     },
     "user_tz": 300
    },
    "id": "t63QqLUCCENb",
    "tags": []
   },
   "outputs": [],
   "source": [
    "gpu_id = 0\n",
    "loss_fn = nn.CrossEntropyLoss()\n",
    "lr = 1e-4\n",
    "epochs =  16\n",
    "notebook = True\n",
    "checkpoint_start_epoch = 5 #Not using\n",
    "path2write = \"drive/MyDrive/DL_homework/\""
   ]
  },
  {
   "cell_type": "code",
   "execution_count": 10,
   "metadata": {
    "executionInfo": {
     "elapsed": 191,
     "status": "ok",
     "timestamp": 1676132581683,
     "user": {
      "displayName": "uma maheswara rao meleti",
      "userId": "16305935137347021824"
     },
     "user_tz": 300
    },
    "id": "LanAV8uvKIL-",
    "tags": []
   },
   "outputs": [],
   "source": [
    "def Weights_PCA(Weights):\n",
    "  Weights = np.array(Weights)\n",
    "  pca = PCA(n_components=2)\n",
    "  pca.fit(Weights)\n",
    "  princ_comps = pca.transform(Weights)\n",
    "  return princ_comps"
   ]
  },
  {
   "cell_type": "code",
   "execution_count": 11,
   "metadata": {
    "colab": {
     "base_uri": "https://localhost:8080/"
    },
    "executionInfo": {
     "elapsed": 1110359,
     "status": "ok",
     "timestamp": 1676133693325,
     "user": {
      "displayName": "uma maheswara rao meleti",
      "userId": "16305935137347021824"
     },
     "user_tz": 300
    },
    "id": "ox4l0ac10VaJ",
    "outputId": "beba2a32-0b83-4ac3-e5bc-cf2176fb4f01",
    "tags": []
   },
   "outputs": [
    {
     "name": "stdout",
     "output_type": "stream",
     "text": [
      "Notebook\n",
      "Epoch - 0\n"
     ]
    },
    {
     "name": "stderr",
     "output_type": "stream",
     "text": [
      "Training:   0%|          | 0/469 [00:00<?, ?it/s]/local_scratch/slurm.707385/ipykernel_653943/3305374948.py:15: UserWarning: Implicit dimension choice for log_softmax has been deprecated. Change the call to include dim=X as an argument.\n",
      "  out = F.log_softmax(x)\n",
      "Training: 100%|██████████| 469/469 [00:05<00:00, 91.74it/s]\n",
      "validation: 100%|██████████| 79/79 [00:00<00:00, 102.07it/s]\n"
     ]
    },
    {
     "name": "stdout",
     "output_type": "stream",
     "text": [
      "Epoch - 0 Train Loss - 1.464161 Val Loss - 0.743358 Train Accuracy - 0.595210 Val Accuracy - 0.799644\n",
      "Epoch - 1\n"
     ]
    },
    {
     "name": "stderr",
     "output_type": "stream",
     "text": [
      "Training: 100%|██████████| 469/469 [00:05<00:00, 92.88it/s]\n",
      "validation: 100%|██████████| 79/79 [00:00<00:00, 98.53it/s]\n"
     ]
    },
    {
     "name": "stdout",
     "output_type": "stream",
     "text": [
      "Epoch - 1 Train Loss - 0.624215 Val Loss - 0.495923 Train Accuracy - 0.818175 Val Accuracy - 0.857694\n",
      "Epoch - 2\n"
     ]
    },
    {
     "name": "stderr",
     "output_type": "stream",
     "text": [
      "Training: 100%|██████████| 469/469 [00:05<00:00, 91.67it/s]\n",
      "validation: 100%|██████████| 79/79 [00:00<00:00, 101.17it/s]\n"
     ]
    },
    {
     "name": "stdout",
     "output_type": "stream",
     "text": [
      "Epoch - 2 Train Loss - 0.461407 Val Loss - 0.390688 Train Accuracy - 0.869775 Val Accuracy - 0.891911\n",
      "Epoch - 3\n"
     ]
    },
    {
     "name": "stderr",
     "output_type": "stream",
     "text": [
      "Training: 100%|██████████| 469/469 [00:04<00:00, 94.39it/s]\n",
      "validation: 100%|██████████| 79/79 [00:00<00:00, 100.87it/s]\n"
     ]
    },
    {
     "name": "stdout",
     "output_type": "stream",
     "text": [
      "Epoch - 3 Train Loss - 0.381741 Val Loss - 0.346283 Train Accuracy - 0.893090 Val Accuracy - 0.900218\n",
      "Epoch - 4\n"
     ]
    },
    {
     "name": "stderr",
     "output_type": "stream",
     "text": [
      "Training: 100%|██████████| 469/469 [00:04<00:00, 93.93it/s]\n",
      "validation: 100%|██████████| 79/79 [00:00<00:00, 100.92it/s]\n"
     ]
    },
    {
     "name": "stdout",
     "output_type": "stream",
     "text": [
      "Epoch - 4 Train Loss - 0.345712 Val Loss - 0.324445 Train Accuracy - 0.903179 Val Accuracy - 0.905953\n",
      "Epoch - 5\n"
     ]
    },
    {
     "name": "stderr",
     "output_type": "stream",
     "text": [
      "Training: 100%|██████████| 469/469 [00:05<00:00, 93.52it/s]\n",
      "validation: 100%|██████████| 79/79 [00:00<00:00, 100.72it/s]\n"
     ]
    },
    {
     "name": "stdout",
     "output_type": "stream",
     "text": [
      "Epoch - 5 Train Loss - 0.325975 Val Loss - 0.307446 Train Accuracy - 0.908949 Val Accuracy - 0.913172\n",
      "Epoch - 6\n"
     ]
    },
    {
     "name": "stderr",
     "output_type": "stream",
     "text": [
      "Training: 100%|██████████| 469/469 [00:04<00:00, 98.13it/s] \n",
      "validation: 100%|██████████| 79/79 [00:00<00:00, 110.03it/s]\n"
     ]
    },
    {
     "name": "stdout",
     "output_type": "stream",
     "text": [
      "Epoch - 6 Train Loss - 0.313166 Val Loss - 0.299069 Train Accuracy - 0.911553 Val Accuracy - 0.917326\n",
      "Epoch - 7\n"
     ]
    },
    {
     "name": "stderr",
     "output_type": "stream",
     "text": [
      "Training: 100%|██████████| 469/469 [00:04<00:00, 101.41it/s]\n",
      "validation: 100%|██████████| 79/79 [00:00<00:00, 109.87it/s]\n"
     ]
    },
    {
     "name": "stdout",
     "output_type": "stream",
     "text": [
      "Epoch - 7 Train Loss - 0.304288 Val Loss - 0.293926 Train Accuracy - 0.915167 Val Accuracy - 0.919502\n",
      "Epoch - 8\n"
     ]
    },
    {
     "name": "stderr",
     "output_type": "stream",
     "text": [
      "Training: 100%|██████████| 469/469 [00:04<00:00, 102.21it/s]\n",
      "validation: 100%|██████████| 79/79 [00:00<00:00, 114.48it/s]\n"
     ]
    },
    {
     "name": "stdout",
     "output_type": "stream",
     "text": [
      "Epoch - 8 Train Loss - 0.297904 Val Loss - 0.291051 Train Accuracy - 0.916867 Val Accuracy - 0.917623\n",
      "Epoch - 9\n"
     ]
    },
    {
     "name": "stderr",
     "output_type": "stream",
     "text": [
      "Training: 100%|██████████| 469/469 [00:04<00:00, 104.00it/s]\n",
      "validation: 100%|██████████| 79/79 [00:00<00:00, 116.18it/s]\n"
     ]
    },
    {
     "name": "stdout",
     "output_type": "stream",
     "text": [
      "Epoch - 9 Train Loss - 0.292721 Val Loss - 0.285355 Train Accuracy - 0.918394 Val Accuracy - 0.920194\n",
      "Epoch - 10\n"
     ]
    },
    {
     "name": "stderr",
     "output_type": "stream",
     "text": [
      "Training: 100%|██████████| 469/469 [00:04<00:00, 101.49it/s]\n",
      "validation: 100%|██████████| 79/79 [00:00<00:00, 116.60it/s]\n"
     ]
    },
    {
     "name": "stdout",
     "output_type": "stream",
     "text": [
      "Epoch - 10 Train Loss - 0.288133 Val Loss - 0.289178 Train Accuracy - 0.919454 Val Accuracy - 0.920886\n",
      "Epoch - 11\n"
     ]
    },
    {
     "name": "stderr",
     "output_type": "stream",
     "text": [
      "Training: 100%|██████████| 469/469 [00:04<00:00, 101.47it/s]\n",
      "validation: 100%|██████████| 79/79 [00:00<00:00, 102.06it/s]\n"
     ]
    },
    {
     "name": "stdout",
     "output_type": "stream",
     "text": [
      "Epoch - 11 Train Loss - 0.284184 Val Loss - 0.290335 Train Accuracy - 0.920720 Val Accuracy - 0.921381\n",
      "Epoch - 12\n"
     ]
    },
    {
     "name": "stderr",
     "output_type": "stream",
     "text": [
      "Training: 100%|██████████| 469/469 [00:05<00:00, 92.00it/s]\n",
      "validation: 100%|██████████| 79/79 [00:00<00:00, 97.76it/s]\n"
     ]
    },
    {
     "name": "stdout",
     "output_type": "stream",
     "text": [
      "Epoch - 12 Train Loss - 0.281073 Val Loss - 0.278523 Train Accuracy - 0.922491 Val Accuracy - 0.922271\n",
      "Epoch - 13\n"
     ]
    },
    {
     "name": "stderr",
     "output_type": "stream",
     "text": [
      "Training: 100%|██████████| 469/469 [00:05<00:00, 92.38it/s]\n",
      "validation: 100%|██████████| 79/79 [00:00<00:00, 94.73it/s]\n"
     ]
    },
    {
     "name": "stdout",
     "output_type": "stream",
     "text": [
      "Epoch - 13 Train Loss - 0.278068 Val Loss - 0.281011 Train Accuracy - 0.922886 Val Accuracy - 0.922765\n",
      "Epoch - 14\n"
     ]
    },
    {
     "name": "stderr",
     "output_type": "stream",
     "text": [
      "Training: 100%|██████████| 469/469 [00:05<00:00, 89.99it/s]\n",
      "validation: 100%|██████████| 79/79 [00:00<00:00, 96.44it/s]\n"
     ]
    },
    {
     "name": "stdout",
     "output_type": "stream",
     "text": [
      "Epoch - 14 Train Loss - 0.275168 Val Loss - 0.277957 Train Accuracy - 0.923380 Val Accuracy - 0.922468\n",
      "Epoch - 15\n"
     ]
    },
    {
     "name": "stderr",
     "output_type": "stream",
     "text": [
      "Training: 100%|██████████| 469/469 [00:05<00:00, 89.59it/s]\n",
      "validation: 100%|██████████| 79/79 [00:00<00:00, 94.66it/s]\n"
     ]
    },
    {
     "name": "stdout",
     "output_type": "stream",
     "text": [
      "Epoch - 15 Train Loss - 0.272870 Val Loss - 0.280213 Train Accuracy - 0.924224 Val Accuracy - 0.922369\n",
      "Notebook\n",
      "Epoch - 0\n"
     ]
    },
    {
     "name": "stderr",
     "output_type": "stream",
     "text": [
      "Training:   0%|          | 0/469 [00:00<?, ?it/s]/local_scratch/slurm.707385/ipykernel_653943/3305374948.py:15: UserWarning: Implicit dimension choice for log_softmax has been deprecated. Change the call to include dim=X as an argument.\n",
      "  out = F.log_softmax(x)\n",
      "Training: 100%|██████████| 469/469 [00:05<00:00, 89.14it/s]\n",
      "validation: 100%|██████████| 79/79 [00:00<00:00, 96.08it/s]\n"
     ]
    },
    {
     "name": "stdout",
     "output_type": "stream",
     "text": [
      "Epoch - 0 Train Loss - 1.518482 Val Loss - 0.746404 Train Accuracy - 0.576959 Val Accuracy - 0.809929\n",
      "Epoch - 1\n"
     ]
    },
    {
     "name": "stderr",
     "output_type": "stream",
     "text": [
      "Training: 100%|██████████| 469/469 [00:05<00:00, 90.34it/s]\n",
      "validation: 100%|██████████| 79/79 [00:00<00:00, 95.28it/s]\n"
     ]
    },
    {
     "name": "stdout",
     "output_type": "stream",
     "text": [
      "Epoch - 1 Train Loss - 0.598010 Val Loss - 0.463003 Train Accuracy - 0.833861 Val Accuracy - 0.870055\n",
      "Epoch - 2\n"
     ]
    },
    {
     "name": "stderr",
     "output_type": "stream",
     "text": [
      "Training: 100%|██████████| 469/469 [00:05<00:00, 89.61it/s]\n",
      "validation: 100%|██████████| 79/79 [00:00<00:00, 96.64it/s]\n"
     ]
    },
    {
     "name": "stdout",
     "output_type": "stream",
     "text": [
      "Epoch - 2 Train Loss - 0.433913 Val Loss - 0.376416 Train Accuracy - 0.877721 Val Accuracy - 0.892405\n",
      "Epoch - 3\n"
     ]
    },
    {
     "name": "stderr",
     "output_type": "stream",
     "text": [
      "Training: 100%|██████████| 469/469 [00:05<00:00, 89.73it/s]\n",
      "validation: 100%|██████████| 79/79 [00:00<00:00, 95.97it/s]\n"
     ]
    },
    {
     "name": "stdout",
     "output_type": "stream",
     "text": [
      "Epoch - 3 Train Loss - 0.374365 Val Loss - 0.339825 Train Accuracy - 0.894728 Val Accuracy - 0.902195\n",
      "Epoch - 4\n"
     ]
    },
    {
     "name": "stderr",
     "output_type": "stream",
     "text": [
      "Training: 100%|██████████| 469/469 [00:05<00:00, 90.11it/s]\n",
      "validation: 100%|██████████| 79/79 [00:00<00:00, 96.18it/s]\n"
     ]
    },
    {
     "name": "stdout",
     "output_type": "stream",
     "text": [
      "Epoch - 4 Train Loss - 0.346914 Val Loss - 0.328447 Train Accuracy - 0.901575 Val Accuracy - 0.904767\n",
      "Epoch - 5\n"
     ]
    },
    {
     "name": "stderr",
     "output_type": "stream",
     "text": [
      "Training: 100%|██████████| 469/469 [00:05<00:00, 89.94it/s]\n",
      "validation: 100%|██████████| 79/79 [00:00<00:00, 96.63it/s]\n"
     ]
    },
    {
     "name": "stdout",
     "output_type": "stream",
     "text": [
      "Epoch - 5 Train Loss - 0.331212 Val Loss - 0.318566 Train Accuracy - 0.905828 Val Accuracy - 0.910997\n",
      "Epoch - 6\n"
     ]
    },
    {
     "name": "stderr",
     "output_type": "stream",
     "text": [
      "Training: 100%|██████████| 469/469 [00:05<00:00, 89.98it/s]\n",
      "validation: 100%|██████████| 79/79 [00:00<00:00, 95.11it/s]\n"
     ]
    },
    {
     "name": "stdout",
     "output_type": "stream",
     "text": [
      "Epoch - 6 Train Loss - 0.320432 Val Loss - 0.303310 Train Accuracy - 0.909004 Val Accuracy - 0.915645\n",
      "Epoch - 7\n"
     ]
    },
    {
     "name": "stderr",
     "output_type": "stream",
     "text": [
      "Training: 100%|██████████| 469/469 [00:05<00:00, 90.47it/s]\n",
      "validation: 100%|██████████| 79/79 [00:00<00:00, 96.90it/s]\n"
     ]
    },
    {
     "name": "stdout",
     "output_type": "stream",
     "text": [
      "Epoch - 7 Train Loss - 0.312542 Val Loss - 0.297250 Train Accuracy - 0.911442 Val Accuracy - 0.915051\n",
      "Epoch - 8\n"
     ]
    },
    {
     "name": "stderr",
     "output_type": "stream",
     "text": [
      "Training: 100%|██████████| 469/469 [00:05<00:00, 90.05it/s]\n",
      "validation: 100%|██████████| 79/79 [00:00<00:00, 96.15it/s]\n"
     ]
    },
    {
     "name": "stdout",
     "output_type": "stream",
     "text": [
      "Epoch - 8 Train Loss - 0.306634 Val Loss - 0.296217 Train Accuracy - 0.912830 Val Accuracy - 0.917227\n",
      "Epoch - 9\n"
     ]
    },
    {
     "name": "stderr",
     "output_type": "stream",
     "text": [
      "Training: 100%|██████████| 469/469 [00:05<00:00, 89.69it/s]\n",
      "validation: 100%|██████████| 79/79 [00:00<00:00, 95.90it/s]\n"
     ]
    },
    {
     "name": "stdout",
     "output_type": "stream",
     "text": [
      "Epoch - 9 Train Loss - 0.301368 Val Loss - 0.289229 Train Accuracy - 0.914657 Val Accuracy - 0.919007\n",
      "Epoch - 10\n"
     ]
    },
    {
     "name": "stderr",
     "output_type": "stream",
     "text": [
      "Training: 100%|██████████| 469/469 [00:05<00:00, 90.72it/s]\n",
      "validation: 100%|██████████| 79/79 [00:00<00:00, 96.68it/s]\n"
     ]
    },
    {
     "name": "stdout",
     "output_type": "stream",
     "text": [
      "Epoch - 10 Train Loss - 0.296655 Val Loss - 0.288425 Train Accuracy - 0.915451 Val Accuracy - 0.919699\n",
      "Epoch - 11\n"
     ]
    },
    {
     "name": "stderr",
     "output_type": "stream",
     "text": [
      "Training: 100%|██████████| 469/469 [00:05<00:00, 89.79it/s]\n",
      "validation: 100%|██████████| 79/79 [00:00<00:00, 95.64it/s]\n"
     ]
    },
    {
     "name": "stdout",
     "output_type": "stream",
     "text": [
      "Epoch - 11 Train Loss - 0.292726 Val Loss - 0.287186 Train Accuracy - 0.916978 Val Accuracy - 0.919007\n",
      "Epoch - 12\n"
     ]
    },
    {
     "name": "stderr",
     "output_type": "stream",
     "text": [
      "Training: 100%|██████████| 469/469 [00:05<00:00, 89.59it/s]\n",
      "validation: 100%|██████████| 79/79 [00:00<00:00, 95.29it/s]\n"
     ]
    },
    {
     "name": "stdout",
     "output_type": "stream",
     "text": [
      "Epoch - 12 Train Loss - 0.289056 Val Loss - 0.282729 Train Accuracy - 0.917849 Val Accuracy - 0.921776\n",
      "Epoch - 13\n"
     ]
    },
    {
     "name": "stderr",
     "output_type": "stream",
     "text": [
      "Training: 100%|██████████| 469/469 [00:05<00:00, 90.90it/s]\n",
      "validation: 100%|██████████| 79/79 [00:00<00:00, 96.33it/s]\n"
     ]
    },
    {
     "name": "stdout",
     "output_type": "stream",
     "text": [
      "Epoch - 13 Train Loss - 0.285360 Val Loss - 0.283419 Train Accuracy - 0.919809 Val Accuracy - 0.920095\n",
      "Epoch - 14\n"
     ]
    },
    {
     "name": "stderr",
     "output_type": "stream",
     "text": [
      "Training: 100%|██████████| 469/469 [00:05<00:00, 90.02it/s]\n",
      "validation: 100%|██████████| 79/79 [00:00<00:00, 97.06it/s]\n"
     ]
    },
    {
     "name": "stdout",
     "output_type": "stream",
     "text": [
      "Epoch - 14 Train Loss - 0.282152 Val Loss - 0.277950 Train Accuracy - 0.920115 Val Accuracy - 0.921381\n",
      "Epoch - 15\n"
     ]
    },
    {
     "name": "stderr",
     "output_type": "stream",
     "text": [
      "Training: 100%|██████████| 469/469 [00:05<00:00, 90.32it/s]\n",
      "validation: 100%|██████████| 79/79 [00:00<00:00, 97.66it/s]\n"
     ]
    },
    {
     "name": "stdout",
     "output_type": "stream",
     "text": [
      "Epoch - 15 Train Loss - 0.279016 Val Loss - 0.274681 Train Accuracy - 0.921786 Val Accuracy - 0.921875\n",
      "Notebook\n",
      "Epoch - 0\n"
     ]
    },
    {
     "name": "stderr",
     "output_type": "stream",
     "text": [
      "Training:   0%|          | 0/469 [00:00<?, ?it/s]/local_scratch/slurm.707385/ipykernel_653943/3305374948.py:15: UserWarning: Implicit dimension choice for log_softmax has been deprecated. Change the call to include dim=X as an argument.\n",
      "  out = F.log_softmax(x)\n",
      "Training: 100%|██████████| 469/469 [00:05<00:00, 89.96it/s]\n",
      "validation: 100%|██████████| 79/79 [00:00<00:00, 95.07it/s]\n"
     ]
    },
    {
     "name": "stdout",
     "output_type": "stream",
     "text": [
      "Epoch - 0 Train Loss - 1.475146 Val Loss - 0.752174 Train Accuracy - 0.612834 Val Accuracy - 0.803797\n",
      "Epoch - 1\n"
     ]
    },
    {
     "name": "stderr",
     "output_type": "stream",
     "text": [
      "Training: 100%|██████████| 469/469 [00:05<00:00, 89.76it/s]\n",
      "validation: 100%|██████████| 79/79 [00:00<00:00, 97.63it/s]\n"
     ]
    },
    {
     "name": "stdout",
     "output_type": "stream",
     "text": [
      "Epoch - 1 Train Loss - 0.575542 Val Loss - 0.444798 Train Accuracy - 0.844905 Val Accuracy - 0.875593\n",
      "Epoch - 2\n"
     ]
    },
    {
     "name": "stderr",
     "output_type": "stream",
     "text": [
      "Training: 100%|██████████| 469/469 [00:05<00:00, 90.06it/s]\n",
      "validation: 100%|██████████| 79/79 [00:00<00:00, 97.05it/s]\n"
     ]
    },
    {
     "name": "stdout",
     "output_type": "stream",
     "text": [
      "Epoch - 2 Train Loss - 0.420589 Val Loss - 0.375862 Train Accuracy - 0.881075 Val Accuracy - 0.893295\n",
      "Epoch - 3\n"
     ]
    },
    {
     "name": "stderr",
     "output_type": "stream",
     "text": [
      "Training: 100%|██████████| 469/469 [00:05<00:00, 90.48it/s]\n",
      "validation: 100%|██████████| 79/79 [00:00<00:00, 95.83it/s]\n"
     ]
    },
    {
     "name": "stdout",
     "output_type": "stream",
     "text": [
      "Epoch - 3 Train Loss - 0.370259 Val Loss - 0.341402 Train Accuracy - 0.893784 Val Accuracy - 0.901404\n",
      "Epoch - 4\n"
     ]
    },
    {
     "name": "stderr",
     "output_type": "stream",
     "text": [
      "Training: 100%|██████████| 469/469 [00:05<00:00, 89.90it/s]\n",
      "validation: 100%|██████████| 79/79 [00:00<00:00, 96.60it/s]\n"
     ]
    },
    {
     "name": "stdout",
     "output_type": "stream",
     "text": [
      "Epoch - 4 Train Loss - 0.343853 Val Loss - 0.323355 Train Accuracy - 0.901863 Val Accuracy - 0.907437\n",
      "Epoch - 5\n"
     ]
    },
    {
     "name": "stderr",
     "output_type": "stream",
     "text": [
      "Training: 100%|██████████| 469/469 [00:05<00:00, 89.92it/s]\n",
      "validation: 100%|██████████| 79/79 [00:00<00:00, 96.75it/s]\n"
     ]
    },
    {
     "name": "stdout",
     "output_type": "stream",
     "text": [
      "Epoch - 5 Train Loss - 0.326946 Val Loss - 0.313706 Train Accuracy - 0.907011 Val Accuracy - 0.910700\n",
      "Epoch - 6\n"
     ]
    },
    {
     "name": "stderr",
     "output_type": "stream",
     "text": [
      "Training: 100%|██████████| 469/469 [00:05<00:00, 90.21it/s]\n",
      "validation: 100%|██████████| 79/79 [00:00<00:00, 93.92it/s]\n"
     ]
    },
    {
     "name": "stdout",
     "output_type": "stream",
     "text": [
      "Epoch - 6 Train Loss - 0.315259 Val Loss - 0.307306 Train Accuracy - 0.910492 Val Accuracy - 0.912975\n",
      "Epoch - 7\n"
     ]
    },
    {
     "name": "stderr",
     "output_type": "stream",
     "text": [
      "Training: 100%|██████████| 469/469 [00:05<00:00, 89.35it/s]\n",
      "validation: 100%|██████████| 79/79 [00:00<00:00, 96.72it/s]\n"
     ]
    },
    {
     "name": "stdout",
     "output_type": "stream",
     "text": [
      "Epoch - 7 Train Loss - 0.306284 Val Loss - 0.299224 Train Accuracy - 0.913807 Val Accuracy - 0.913667\n",
      "Epoch - 8\n"
     ]
    },
    {
     "name": "stderr",
     "output_type": "stream",
     "text": [
      "Training: 100%|██████████| 469/469 [00:05<00:00, 89.56it/s]\n",
      "validation: 100%|██████████| 79/79 [00:00<00:00, 95.93it/s]\n"
     ]
    },
    {
     "name": "stdout",
     "output_type": "stream",
     "text": [
      "Epoch - 8 Train Loss - 0.299217 Val Loss - 0.293736 Train Accuracy - 0.916089 Val Accuracy - 0.915447\n",
      "Epoch - 9\n"
     ]
    },
    {
     "name": "stderr",
     "output_type": "stream",
     "text": [
      "Training: 100%|██████████| 469/469 [00:05<00:00, 89.95it/s]\n",
      "validation: 100%|██████████| 79/79 [00:00<00:00, 95.53it/s]\n"
     ]
    },
    {
     "name": "stdout",
     "output_type": "stream",
     "text": [
      "Epoch - 9 Train Loss - 0.293382 Val Loss - 0.286123 Train Accuracy - 0.917322 Val Accuracy - 0.920787\n",
      "Epoch - 10\n"
     ]
    },
    {
     "name": "stderr",
     "output_type": "stream",
     "text": [
      "Training: 100%|██████████| 469/469 [00:05<00:00, 89.49it/s]\n",
      "validation: 100%|██████████| 79/79 [00:00<00:00, 96.39it/s]\n"
     ]
    },
    {
     "name": "stdout",
     "output_type": "stream",
     "text": [
      "Epoch - 10 Train Loss - 0.288319 Val Loss - 0.288318 Train Accuracy - 0.918865 Val Accuracy - 0.919798\n",
      "Epoch - 11\n"
     ]
    },
    {
     "name": "stderr",
     "output_type": "stream",
     "text": [
      "Training: 100%|██████████| 469/469 [00:05<00:00, 89.74it/s]\n",
      "validation: 100%|██████████| 79/79 [00:00<00:00, 95.68it/s]\n"
     ]
    },
    {
     "name": "stdout",
     "output_type": "stream",
     "text": [
      "Epoch - 11 Train Loss - 0.284234 Val Loss - 0.282929 Train Accuracy - 0.920465 Val Accuracy - 0.919600\n",
      "Epoch - 12\n"
     ]
    },
    {
     "name": "stderr",
     "output_type": "stream",
     "text": [
      "Training: 100%|██████████| 469/469 [00:05<00:00, 89.52it/s]\n",
      "validation: 100%|██████████| 79/79 [00:00<00:00, 99.73it/s] \n"
     ]
    },
    {
     "name": "stdout",
     "output_type": "stream",
     "text": [
      "Epoch - 12 Train Loss - 0.280469 Val Loss - 0.285348 Train Accuracy - 0.921681 Val Accuracy - 0.921183\n",
      "Epoch - 13\n"
     ]
    },
    {
     "name": "stderr",
     "output_type": "stream",
     "text": [
      "Training: 100%|██████████| 469/469 [00:05<00:00, 89.67it/s]\n",
      "validation: 100%|██████████| 79/79 [00:00<00:00, 96.55it/s]\n"
     ]
    },
    {
     "name": "stdout",
     "output_type": "stream",
     "text": [
      "Epoch - 13 Train Loss - 0.277499 Val Loss - 0.277440 Train Accuracy - 0.922136 Val Accuracy - 0.923457\n",
      "Epoch - 14\n"
     ]
    },
    {
     "name": "stderr",
     "output_type": "stream",
     "text": [
      "Training: 100%|██████████| 469/469 [00:05<00:00, 90.01it/s]\n",
      "validation: 100%|██████████| 79/79 [00:00<00:00, 95.12it/s]\n"
     ]
    },
    {
     "name": "stdout",
     "output_type": "stream",
     "text": [
      "Epoch - 14 Train Loss - 0.274975 Val Loss - 0.274953 Train Accuracy - 0.922908 Val Accuracy - 0.924150\n",
      "Epoch - 15\n"
     ]
    },
    {
     "name": "stderr",
     "output_type": "stream",
     "text": [
      "Training: 100%|██████████| 469/469 [00:05<00:00, 89.68it/s]\n",
      "validation: 100%|██████████| 79/79 [00:00<00:00, 97.36it/s]\n"
     ]
    },
    {
     "name": "stdout",
     "output_type": "stream",
     "text": [
      "Epoch - 15 Train Loss - 0.272203 Val Loss - 0.273283 Train Accuracy - 0.923757 Val Accuracy - 0.924446\n",
      "Notebook\n",
      "Epoch - 0\n"
     ]
    },
    {
     "name": "stderr",
     "output_type": "stream",
     "text": [
      "Training:   0%|          | 0/469 [00:00<?, ?it/s]/local_scratch/slurm.707385/ipykernel_653943/3305374948.py:15: UserWarning: Implicit dimension choice for log_softmax has been deprecated. Change the call to include dim=X as an argument.\n",
      "  out = F.log_softmax(x)\n",
      "Training: 100%|██████████| 469/469 [00:05<00:00, 89.36it/s]\n",
      "validation: 100%|██████████| 79/79 [00:00<00:00, 95.28it/s]\n"
     ]
    },
    {
     "name": "stdout",
     "output_type": "stream",
     "text": [
      "Epoch - 0 Train Loss - 1.441434 Val Loss - 0.729803 Train Accuracy - 0.619320 Val Accuracy - 0.805775\n",
      "Epoch - 1\n"
     ]
    },
    {
     "name": "stderr",
     "output_type": "stream",
     "text": [
      "Training: 100%|██████████| 469/469 [00:05<00:00, 89.73it/s]\n",
      "validation: 100%|██████████| 79/79 [00:00<00:00, 96.87it/s]\n"
     ]
    },
    {
     "name": "stdout",
     "output_type": "stream",
     "text": [
      "Epoch - 1 Train Loss - 0.569934 Val Loss - 0.463781 Train Accuracy - 0.846998 Val Accuracy - 0.869363\n",
      "Epoch - 2\n"
     ]
    },
    {
     "name": "stderr",
     "output_type": "stream",
     "text": [
      "Training: 100%|██████████| 469/469 [00:05<00:00, 89.75it/s]\n",
      "validation: 100%|██████████| 79/79 [00:00<00:00, 98.46it/s] \n"
     ]
    },
    {
     "name": "stdout",
     "output_type": "stream",
     "text": [
      "Epoch - 2 Train Loss - 0.430806 Val Loss - 0.394934 Train Accuracy - 0.880730 Val Accuracy - 0.884889\n",
      "Epoch - 3\n"
     ]
    },
    {
     "name": "stderr",
     "output_type": "stream",
     "text": [
      "Training: 100%|██████████| 469/469 [00:05<00:00, 89.81it/s]\n",
      "validation: 100%|██████████| 79/79 [00:00<00:00, 96.26it/s]\n"
     ]
    },
    {
     "name": "stdout",
     "output_type": "stream",
     "text": [
      "Epoch - 3 Train Loss - 0.380287 Val Loss - 0.358945 Train Accuracy - 0.893312 Val Accuracy - 0.897844\n",
      "Epoch - 4\n"
     ]
    },
    {
     "name": "stderr",
     "output_type": "stream",
     "text": [
      "Training: 100%|██████████| 469/469 [00:05<00:00, 89.52it/s]\n",
      "validation: 100%|██████████| 79/79 [00:00<00:00, 96.51it/s]\n"
     ]
    },
    {
     "name": "stdout",
     "output_type": "stream",
     "text": [
      "Epoch - 4 Train Loss - 0.352675 Val Loss - 0.340808 Train Accuracy - 0.900370 Val Accuracy - 0.903580\n",
      "Epoch - 5\n"
     ]
    },
    {
     "name": "stderr",
     "output_type": "stream",
     "text": [
      "Training: 100%|██████████| 469/469 [00:05<00:00, 89.80it/s]\n",
      "validation: 100%|██████████| 79/79 [00:00<00:00, 98.79it/s]\n"
     ]
    },
    {
     "name": "stdout",
     "output_type": "stream",
     "text": [
      "Epoch - 5 Train Loss - 0.335674 Val Loss - 0.324906 Train Accuracy - 0.905606 Val Accuracy - 0.906151\n",
      "Epoch - 6\n"
     ]
    },
    {
     "name": "stderr",
     "output_type": "stream",
     "text": [
      "Training: 100%|██████████| 469/469 [00:05<00:00, 89.79it/s]\n",
      "validation: 100%|██████████| 79/79 [00:00<00:00, 96.67it/s]\n"
     ]
    },
    {
     "name": "stdout",
     "output_type": "stream",
     "text": [
      "Epoch - 6 Train Loss - 0.323391 Val Loss - 0.315717 Train Accuracy - 0.908604 Val Accuracy - 0.910008\n",
      "Epoch - 7\n"
     ]
    },
    {
     "name": "stderr",
     "output_type": "stream",
     "text": [
      "Training: 100%|██████████| 469/469 [00:05<00:00, 89.59it/s]\n",
      "validation: 100%|██████████| 79/79 [00:00<00:00, 96.37it/s]\n"
     ]
    },
    {
     "name": "stdout",
     "output_type": "stream",
     "text": [
      "Epoch - 7 Train Loss - 0.314093 Val Loss - 0.310924 Train Accuracy - 0.911270 Val Accuracy - 0.909217\n",
      "Epoch - 8\n"
     ]
    },
    {
     "name": "stderr",
     "output_type": "stream",
     "text": [
      "Training: 100%|██████████| 469/469 [00:05<00:00, 90.02it/s]\n",
      "validation: 100%|██████████| 79/79 [00:00<00:00, 96.46it/s]\n"
     ]
    },
    {
     "name": "stdout",
     "output_type": "stream",
     "text": [
      "Epoch - 8 Train Loss - 0.306411 Val Loss - 0.300341 Train Accuracy - 0.914135 Val Accuracy - 0.915348\n",
      "Epoch - 9\n"
     ]
    },
    {
     "name": "stderr",
     "output_type": "stream",
     "text": [
      "Training: 100%|██████████| 469/469 [00:05<00:00, 91.62it/s]\n",
      "validation: 100%|██████████| 79/79 [00:00<00:00, 102.22it/s]\n"
     ]
    },
    {
     "name": "stdout",
     "output_type": "stream",
     "text": [
      "Epoch - 9 Train Loss - 0.300001 Val Loss - 0.296028 Train Accuracy - 0.916272 Val Accuracy - 0.915348\n",
      "Epoch - 10\n"
     ]
    },
    {
     "name": "stderr",
     "output_type": "stream",
     "text": [
      "Training: 100%|██████████| 469/469 [00:05<00:00, 92.03it/s]\n",
      "validation: 100%|██████████| 79/79 [00:00<00:00, 100.58it/s]\n"
     ]
    },
    {
     "name": "stdout",
     "output_type": "stream",
     "text": [
      "Epoch - 10 Train Loss - 0.294676 Val Loss - 0.291758 Train Accuracy - 0.917772 Val Accuracy - 0.917326\n",
      "Epoch - 11\n"
     ]
    },
    {
     "name": "stderr",
     "output_type": "stream",
     "text": [
      "Training: 100%|██████████| 469/469 [00:05<00:00, 91.48it/s]\n",
      "validation: 100%|██████████| 79/79 [00:00<00:00, 101.86it/s]\n"
     ]
    },
    {
     "name": "stdout",
     "output_type": "stream",
     "text": [
      "Epoch - 11 Train Loss - 0.290216 Val Loss - 0.291059 Train Accuracy - 0.918449 Val Accuracy - 0.917524\n",
      "Epoch - 12\n"
     ]
    },
    {
     "name": "stderr",
     "output_type": "stream",
     "text": [
      "Training: 100%|██████████| 469/469 [00:05<00:00, 91.93it/s]\n",
      "validation: 100%|██████████| 79/79 [00:00<00:00, 101.77it/s]\n"
     ]
    },
    {
     "name": "stdout",
     "output_type": "stream",
     "text": [
      "Epoch - 12 Train Loss - 0.286345 Val Loss - 0.286731 Train Accuracy - 0.919543 Val Accuracy - 0.919205\n",
      "Epoch - 13\n"
     ]
    },
    {
     "name": "stderr",
     "output_type": "stream",
     "text": [
      "Training: 100%|██████████| 469/469 [00:05<00:00, 92.02it/s]\n",
      "validation: 100%|██████████| 79/79 [00:00<00:00, 102.52it/s]\n"
     ]
    },
    {
     "name": "stdout",
     "output_type": "stream",
     "text": [
      "Epoch - 13 Train Loss - 0.283063 Val Loss - 0.285411 Train Accuracy - 0.920892 Val Accuracy - 0.920293\n",
      "Epoch - 14\n"
     ]
    },
    {
     "name": "stderr",
     "output_type": "stream",
     "text": [
      "Training: 100%|██████████| 469/469 [00:05<00:00, 91.39it/s]\n",
      "validation: 100%|██████████| 79/79 [00:00<00:00, 103.39it/s]\n"
     ]
    },
    {
     "name": "stdout",
     "output_type": "stream",
     "text": [
      "Epoch - 14 Train Loss - 0.280006 Val Loss - 0.283989 Train Accuracy - 0.921048 Val Accuracy - 0.920392\n",
      "Epoch - 15\n"
     ]
    },
    {
     "name": "stderr",
     "output_type": "stream",
     "text": [
      "Training: 100%|██████████| 469/469 [00:05<00:00, 91.52it/s]\n",
      "validation: 100%|██████████| 79/79 [00:00<00:00, 101.39it/s]\n"
     ]
    },
    {
     "name": "stdout",
     "output_type": "stream",
     "text": [
      "Epoch - 15 Train Loss - 0.277548 Val Loss - 0.284635 Train Accuracy - 0.922419 Val Accuracy - 0.920194\n",
      "Notebook\n",
      "Epoch - 0\n"
     ]
    },
    {
     "name": "stderr",
     "output_type": "stream",
     "text": [
      "Training:   0%|          | 0/469 [00:00<?, ?it/s]/local_scratch/slurm.707385/ipykernel_653943/3305374948.py:15: UserWarning: Implicit dimension choice for log_softmax has been deprecated. Change the call to include dim=X as an argument.\n",
      "  out = F.log_softmax(x)\n",
      "Training: 100%|██████████| 469/469 [00:05<00:00, 91.70it/s]\n",
      "validation: 100%|██████████| 79/79 [00:00<00:00, 100.91it/s]\n"
     ]
    },
    {
     "name": "stdout",
     "output_type": "stream",
     "text": [
      "Epoch - 0 Train Loss - 1.454517 Val Loss - 0.742128 Train Accuracy - 0.599963 Val Accuracy - 0.798655\n",
      "Epoch - 1\n"
     ]
    },
    {
     "name": "stderr",
     "output_type": "stream",
     "text": [
      "Training: 100%|██████████| 469/469 [00:05<00:00, 91.61it/s]\n",
      "validation: 100%|██████████| 79/79 [00:00<00:00, 102.75it/s]\n"
     ]
    },
    {
     "name": "stdout",
     "output_type": "stream",
     "text": [
      "Epoch - 1 Train Loss - 0.612886 Val Loss - 0.514347 Train Accuracy - 0.825493 Val Accuracy - 0.857298\n",
      "Epoch - 2\n"
     ]
    },
    {
     "name": "stderr",
     "output_type": "stream",
     "text": [
      "Training: 100%|██████████| 469/469 [00:05<00:00, 91.12it/s]\n",
      "validation: 100%|██████████| 79/79 [00:00<00:00, 101.48it/s]\n"
     ]
    },
    {
     "name": "stdout",
     "output_type": "stream",
     "text": [
      "Epoch - 2 Train Loss - 0.483764 Val Loss - 0.439860 Train Accuracy - 0.860374 Val Accuracy - 0.876088\n",
      "Epoch - 3\n"
     ]
    },
    {
     "name": "stderr",
     "output_type": "stream",
     "text": [
      "Training: 100%|██████████| 469/469 [00:05<00:00, 91.81it/s]\n",
      "validation: 100%|██████████| 79/79 [00:00<00:00, 100.93it/s]\n"
     ]
    },
    {
     "name": "stdout",
     "output_type": "stream",
     "text": [
      "Epoch - 3 Train Loss - 0.426449 Val Loss - 0.390229 Train Accuracy - 0.877082 Val Accuracy - 0.887757\n",
      "Epoch - 4\n"
     ]
    },
    {
     "name": "stderr",
     "output_type": "stream",
     "text": [
      "Training: 100%|██████████| 469/469 [00:05<00:00, 91.63it/s]\n",
      "validation: 100%|██████████| 79/79 [00:00<00:00, 101.75it/s]\n"
     ]
    },
    {
     "name": "stdout",
     "output_type": "stream",
     "text": [
      "Epoch - 4 Train Loss - 0.387375 Val Loss - 0.357368 Train Accuracy - 0.889109 Val Accuracy - 0.897844\n",
      "Epoch - 5\n"
     ]
    },
    {
     "name": "stderr",
     "output_type": "stream",
     "text": [
      "Training: 100%|██████████| 469/469 [00:05<00:00, 91.49it/s]\n",
      "validation: 100%|██████████| 79/79 [00:00<00:00, 103.08it/s]\n"
     ]
    },
    {
     "name": "stdout",
     "output_type": "stream",
     "text": [
      "Epoch - 5 Train Loss - 0.356764 Val Loss - 0.330282 Train Accuracy - 0.898765 Val Accuracy - 0.905953\n",
      "Epoch - 6\n"
     ]
    },
    {
     "name": "stderr",
     "output_type": "stream",
     "text": [
      "Training: 100%|██████████| 469/469 [00:05<00:00, 92.01it/s]\n",
      "validation: 100%|██████████| 79/79 [00:00<00:00, 102.05it/s]\n"
     ]
    },
    {
     "name": "stdout",
     "output_type": "stream",
     "text": [
      "Epoch - 6 Train Loss - 0.333867 Val Loss - 0.313236 Train Accuracy - 0.906033 Val Accuracy - 0.912184\n",
      "Epoch - 7\n"
     ]
    },
    {
     "name": "stderr",
     "output_type": "stream",
     "text": [
      "Training: 100%|██████████| 469/469 [00:05<00:00, 91.98it/s]\n",
      "validation: 100%|██████████| 79/79 [00:00<00:00, 102.84it/s]\n"
     ]
    },
    {
     "name": "stdout",
     "output_type": "stream",
     "text": [
      "Epoch - 7 Train Loss - 0.317925 Val Loss - 0.300442 Train Accuracy - 0.910326 Val Accuracy - 0.913568\n",
      "Epoch - 8\n"
     ]
    },
    {
     "name": "stderr",
     "output_type": "stream",
     "text": [
      "Training: 100%|██████████| 469/469 [00:05<00:00, 91.40it/s]\n",
      "validation: 100%|██████████| 79/79 [00:00<00:00, 101.60it/s]\n"
     ]
    },
    {
     "name": "stdout",
     "output_type": "stream",
     "text": [
      "Epoch - 8 Train Loss - 0.306963 Val Loss - 0.292864 Train Accuracy - 0.913346 Val Accuracy - 0.915447\n",
      "Epoch - 9\n"
     ]
    },
    {
     "name": "stderr",
     "output_type": "stream",
     "text": [
      "Training: 100%|██████████| 469/469 [00:05<00:00, 91.74it/s]\n",
      "validation: 100%|██████████| 79/79 [00:00<00:00, 101.88it/s]\n"
     ]
    },
    {
     "name": "stdout",
     "output_type": "stream",
     "text": [
      "Epoch - 9 Train Loss - 0.299031 Val Loss - 0.289569 Train Accuracy - 0.915956 Val Accuracy - 0.917524\n",
      "Epoch - 10\n"
     ]
    },
    {
     "name": "stderr",
     "output_type": "stream",
     "text": [
      "Training: 100%|██████████| 469/469 [00:05<00:00, 91.95it/s]\n",
      "validation: 100%|██████████| 79/79 [00:00<00:00, 102.09it/s]\n"
     ]
    },
    {
     "name": "stdout",
     "output_type": "stream",
     "text": [
      "Epoch - 10 Train Loss - 0.292727 Val Loss - 0.288367 Train Accuracy - 0.917888 Val Accuracy - 0.918513\n",
      "Epoch - 11\n"
     ]
    },
    {
     "name": "stderr",
     "output_type": "stream",
     "text": [
      "Training: 100%|██████████| 469/469 [00:05<00:00, 91.29it/s]\n",
      "validation: 100%|██████████| 79/79 [00:00<00:00, 103.09it/s]\n"
     ]
    },
    {
     "name": "stdout",
     "output_type": "stream",
     "text": [
      "Epoch - 11 Train Loss - 0.287863 Val Loss - 0.280499 Train Accuracy - 0.919415 Val Accuracy - 0.921776\n",
      "Epoch - 12\n"
     ]
    },
    {
     "name": "stderr",
     "output_type": "stream",
     "text": [
      "Training: 100%|██████████| 469/469 [00:05<00:00, 91.31it/s]\n",
      "validation: 100%|██████████| 79/79 [00:00<00:00, 101.39it/s]\n"
     ]
    },
    {
     "name": "stdout",
     "output_type": "stream",
     "text": [
      "Epoch - 12 Train Loss - 0.283655 Val Loss - 0.277072 Train Accuracy - 0.921053 Val Accuracy - 0.922567\n",
      "Epoch - 13\n"
     ]
    },
    {
     "name": "stderr",
     "output_type": "stream",
     "text": [
      "Training: 100%|██████████| 469/469 [00:05<00:00, 91.93it/s]\n",
      "validation: 100%|██████████| 79/79 [00:00<00:00, 101.28it/s]\n"
     ]
    },
    {
     "name": "stdout",
     "output_type": "stream",
     "text": [
      "Epoch - 13 Train Loss - 0.280255 Val Loss - 0.276582 Train Accuracy - 0.921103 Val Accuracy - 0.922567\n",
      "Epoch - 14\n"
     ]
    },
    {
     "name": "stderr",
     "output_type": "stream",
     "text": [
      "Training: 100%|██████████| 469/469 [00:05<00:00, 90.95it/s]\n",
      "validation: 100%|██████████| 79/79 [00:00<00:00, 102.70it/s]\n"
     ]
    },
    {
     "name": "stdout",
     "output_type": "stream",
     "text": [
      "Epoch - 14 Train Loss - 0.277466 Val Loss - 0.280663 Train Accuracy - 0.922586 Val Accuracy - 0.922666\n",
      "Epoch - 15\n"
     ]
    },
    {
     "name": "stderr",
     "output_type": "stream",
     "text": [
      "Training: 100%|██████████| 469/469 [00:05<00:00, 92.92it/s]\n",
      "validation: 100%|██████████| 79/79 [00:00<00:00, 96.97it/s] \n"
     ]
    },
    {
     "name": "stdout",
     "output_type": "stream",
     "text": [
      "Epoch - 15 Train Loss - 0.274195 Val Loss - 0.274272 Train Accuracy - 0.923724 Val Accuracy - 0.923358\n",
      "Notebook\n",
      "Epoch - 0\n"
     ]
    },
    {
     "name": "stderr",
     "output_type": "stream",
     "text": [
      "Training:   0%|          | 0/469 [00:00<?, ?it/s]/local_scratch/slurm.707385/ipykernel_653943/3305374948.py:15: UserWarning: Implicit dimension choice for log_softmax has been deprecated. Change the call to include dim=X as an argument.\n",
      "  out = F.log_softmax(x)\n",
      "Training: 100%|██████████| 469/469 [00:04<00:00, 93.86it/s]\n",
      "validation: 100%|██████████| 79/79 [00:00<00:00, 98.70it/s] \n"
     ]
    },
    {
     "name": "stdout",
     "output_type": "stream",
     "text": [
      "Epoch - 0 Train Loss - 1.415984 Val Loss - 0.744397 Train Accuracy - 0.607437 Val Accuracy - 0.802116\n",
      "Epoch - 1\n"
     ]
    },
    {
     "name": "stderr",
     "output_type": "stream",
     "text": [
      "Training: 100%|██████████| 469/469 [00:05<00:00, 93.72it/s]\n",
      "validation: 100%|██████████| 79/79 [00:00<00:00, 98.10it/s] \n"
     ]
    },
    {
     "name": "stdout",
     "output_type": "stream",
     "text": [
      "Epoch - 1 Train Loss - 0.599131 Val Loss - 0.485633 Train Accuracy - 0.835305 Val Accuracy - 0.866001\n",
      "Epoch - 2\n"
     ]
    },
    {
     "name": "stderr",
     "output_type": "stream",
     "text": [
      "Training: 100%|██████████| 469/469 [00:05<00:00, 93.61it/s]\n",
      "validation: 100%|██████████| 79/79 [00:00<00:00, 99.39it/s] \n"
     ]
    },
    {
     "name": "stdout",
     "output_type": "stream",
     "text": [
      "Epoch - 2 Train Loss - 0.454004 Val Loss - 0.404924 Train Accuracy - 0.873606 Val Accuracy - 0.890328\n",
      "Epoch - 3\n"
     ]
    },
    {
     "name": "stderr",
     "output_type": "stream",
     "text": [
      "Training: 100%|██████████| 469/469 [00:04<00:00, 93.81it/s]\n",
      "validation: 100%|██████████| 79/79 [00:00<00:00, 99.75it/s] \n"
     ]
    },
    {
     "name": "stdout",
     "output_type": "stream",
     "text": [
      "Epoch - 3 Train Loss - 0.394990 Val Loss - 0.364188 Train Accuracy - 0.889653 Val Accuracy - 0.899822\n",
      "Epoch - 4\n"
     ]
    },
    {
     "name": "stderr",
     "output_type": "stream",
     "text": [
      "Training: 100%|██████████| 469/469 [00:04<00:00, 94.28it/s]\n",
      "validation: 100%|██████████| 79/79 [00:00<00:00, 100.36it/s]\n"
     ]
    },
    {
     "name": "stdout",
     "output_type": "stream",
     "text": [
      "Epoch - 4 Train Loss - 0.358996 Val Loss - 0.334707 Train Accuracy - 0.900081 Val Accuracy - 0.908129\n",
      "Epoch - 5\n"
     ]
    },
    {
     "name": "stderr",
     "output_type": "stream",
     "text": [
      "Training: 100%|██████████| 469/469 [00:04<00:00, 93.86it/s]\n",
      "validation: 100%|██████████| 79/79 [00:00<00:00, 98.89it/s] \n"
     ]
    },
    {
     "name": "stdout",
     "output_type": "stream",
     "text": [
      "Epoch - 5 Train Loss - 0.334984 Val Loss - 0.313212 Train Accuracy - 0.906478 Val Accuracy - 0.911788\n",
      "Epoch - 6\n"
     ]
    },
    {
     "name": "stderr",
     "output_type": "stream",
     "text": [
      "Training: 100%|██████████| 469/469 [00:04<00:00, 93.96it/s]\n",
      "validation: 100%|██████████| 79/79 [00:00<00:00, 97.15it/s] \n"
     ]
    },
    {
     "name": "stdout",
     "output_type": "stream",
     "text": [
      "Epoch - 6 Train Loss - 0.318500 Val Loss - 0.301490 Train Accuracy - 0.910553 Val Accuracy - 0.915843\n",
      "Epoch - 7\n"
     ]
    },
    {
     "name": "stderr",
     "output_type": "stream",
     "text": [
      "Training: 100%|██████████| 469/469 [00:04<00:00, 93.80it/s]\n",
      "validation: 100%|██████████| 79/79 [00:00<00:00, 99.86it/s] \n"
     ]
    },
    {
     "name": "stdout",
     "output_type": "stream",
     "text": [
      "Epoch - 7 Train Loss - 0.306948 Val Loss - 0.292912 Train Accuracy - 0.913396 Val Accuracy - 0.918315\n",
      "Epoch - 8\n"
     ]
    },
    {
     "name": "stderr",
     "output_type": "stream",
     "text": [
      "Training: 100%|██████████| 469/469 [00:04<00:00, 94.06it/s]\n",
      "validation: 100%|██████████| 79/79 [00:00<00:00, 98.12it/s] \n"
     ]
    },
    {
     "name": "stdout",
     "output_type": "stream",
     "text": [
      "Epoch - 8 Train Loss - 0.298788 Val Loss - 0.287140 Train Accuracy - 0.916017 Val Accuracy - 0.920194\n",
      "Epoch - 9\n"
     ]
    },
    {
     "name": "stderr",
     "output_type": "stream",
     "text": [
      "Training: 100%|██████████| 469/469 [00:04<00:00, 94.14it/s]\n",
      "validation: 100%|██████████| 79/79 [00:00<00:00, 100.78it/s]\n"
     ]
    },
    {
     "name": "stdout",
     "output_type": "stream",
     "text": [
      "Epoch - 9 Train Loss - 0.292770 Val Loss - 0.282524 Train Accuracy - 0.917550 Val Accuracy - 0.919996\n",
      "Epoch - 10\n"
     ]
    },
    {
     "name": "stderr",
     "output_type": "stream",
     "text": [
      "Training: 100%|██████████| 469/469 [00:04<00:00, 94.50it/s]\n",
      "validation: 100%|██████████| 79/79 [00:00<00:00, 104.76it/s]\n"
     ]
    },
    {
     "name": "stdout",
     "output_type": "stream",
     "text": [
      "Epoch - 10 Train Loss - 0.287875 Val Loss - 0.282839 Train Accuracy - 0.919260 Val Accuracy - 0.918710\n",
      "Epoch - 11\n"
     ]
    },
    {
     "name": "stderr",
     "output_type": "stream",
     "text": [
      "Training: 100%|██████████| 469/469 [00:04<00:00, 95.12it/s]\n",
      "validation: 100%|██████████| 79/79 [00:00<00:00, 103.99it/s]\n"
     ]
    },
    {
     "name": "stdout",
     "output_type": "stream",
     "text": [
      "Epoch - 11 Train Loss - 0.284035 Val Loss - 0.277066 Train Accuracy - 0.920442 Val Accuracy - 0.922567\n",
      "Epoch - 12\n"
     ]
    },
    {
     "name": "stderr",
     "output_type": "stream",
     "text": [
      "Training: 100%|██████████| 469/469 [00:04<00:00, 95.15it/s]\n",
      "validation: 100%|██████████| 79/79 [00:00<00:00, 100.72it/s]\n"
     ]
    },
    {
     "name": "stdout",
     "output_type": "stream",
     "text": [
      "Epoch - 12 Train Loss - 0.280606 Val Loss - 0.282499 Train Accuracy - 0.920964 Val Accuracy - 0.922765\n",
      "Epoch - 13\n"
     ]
    },
    {
     "name": "stderr",
     "output_type": "stream",
     "text": [
      "Training: 100%|██████████| 469/469 [00:04<00:00, 94.41it/s]\n",
      "validation: 100%|██████████| 79/79 [00:00<00:00, 88.89it/s]\n"
     ]
    },
    {
     "name": "stdout",
     "output_type": "stream",
     "text": [
      "Epoch - 13 Train Loss - 0.277921 Val Loss - 0.274823 Train Accuracy - 0.922169 Val Accuracy - 0.924051\n",
      "Epoch - 14\n"
     ]
    },
    {
     "name": "stderr",
     "output_type": "stream",
     "text": [
      "Training: 100%|██████████| 469/469 [00:04<00:00, 98.16it/s]\n",
      "validation: 100%|██████████| 79/79 [00:00<00:00, 109.81it/s]\n"
     ]
    },
    {
     "name": "stdout",
     "output_type": "stream",
     "text": [
      "Epoch - 14 Train Loss - 0.275331 Val Loss - 0.273120 Train Accuracy - 0.922913 Val Accuracy - 0.924347\n",
      "Epoch - 15\n"
     ]
    },
    {
     "name": "stderr",
     "output_type": "stream",
     "text": [
      "Training: 100%|██████████| 469/469 [00:04<00:00, 98.58it/s] \n",
      "validation: 100%|██████████| 79/79 [00:00<00:00, 111.30it/s]\n"
     ]
    },
    {
     "name": "stdout",
     "output_type": "stream",
     "text": [
      "Epoch - 15 Train Loss - 0.273297 Val Loss - 0.278572 Train Accuracy - 0.923718 Val Accuracy - 0.923259\n",
      "Notebook\n",
      "Epoch - 0\n"
     ]
    },
    {
     "name": "stderr",
     "output_type": "stream",
     "text": [
      "Training:   0%|          | 0/469 [00:00<?, ?it/s]/local_scratch/slurm.707385/ipykernel_653943/3305374948.py:15: UserWarning: Implicit dimension choice for log_softmax has been deprecated. Change the call to include dim=X as an argument.\n",
      "  out = F.log_softmax(x)\n",
      "Training: 100%|██████████| 469/469 [00:04<00:00, 98.95it/s]\n",
      "validation: 100%|██████████| 79/79 [00:00<00:00, 111.26it/s]\n"
     ]
    },
    {
     "name": "stdout",
     "output_type": "stream",
     "text": [
      "Epoch - 0 Train Loss - 1.481558 Val Loss - 0.786650 Train Accuracy - 0.579341 Val Accuracy - 0.795293\n",
      "Epoch - 1\n"
     ]
    },
    {
     "name": "stderr",
     "output_type": "stream",
     "text": [
      "Training: 100%|██████████| 469/469 [00:04<00:00, 98.79it/s] \n",
      "validation: 100%|██████████| 79/79 [00:00<00:00, 111.70it/s]\n"
     ]
    },
    {
     "name": "stdout",
     "output_type": "stream",
     "text": [
      "Epoch - 1 Train Loss - 0.613171 Val Loss - 0.492700 Train Accuracy - 0.827314 Val Accuracy - 0.859177\n",
      "Epoch - 2\n"
     ]
    },
    {
     "name": "stderr",
     "output_type": "stream",
     "text": [
      "Training: 100%|██████████| 469/469 [00:04<00:00, 99.30it/s] \n",
      "validation: 100%|██████████| 79/79 [00:00<00:00, 111.58it/s]\n"
     ]
    },
    {
     "name": "stdout",
     "output_type": "stream",
     "text": [
      "Epoch - 2 Train Loss - 0.463929 Val Loss - 0.416207 Train Accuracy - 0.864522 Val Accuracy - 0.875791\n",
      "Epoch - 3\n"
     ]
    },
    {
     "name": "stderr",
     "output_type": "stream",
     "text": [
      "Training: 100%|██████████| 469/469 [00:04<00:00, 99.06it/s]\n",
      "validation: 100%|██████████| 79/79 [00:00<00:00, 112.22it/s]\n"
     ]
    },
    {
     "name": "stdout",
     "output_type": "stream",
     "text": [
      "Epoch - 3 Train Loss - 0.412994 Val Loss - 0.381657 Train Accuracy - 0.879625 Val Accuracy - 0.885087\n",
      "Epoch - 4\n"
     ]
    },
    {
     "name": "stderr",
     "output_type": "stream",
     "text": [
      "Training: 100%|██████████| 469/469 [00:04<00:00, 98.92it/s] \n",
      "validation: 100%|██████████| 79/79 [00:00<00:00, 112.02it/s]\n"
     ]
    },
    {
     "name": "stdout",
     "output_type": "stream",
     "text": [
      "Epoch - 4 Train Loss - 0.381527 Val Loss - 0.359775 Train Accuracy - 0.890159 Val Accuracy - 0.894680\n",
      "Epoch - 5\n"
     ]
    },
    {
     "name": "stderr",
     "output_type": "stream",
     "text": [
      "Training: 100%|██████████| 469/469 [00:04<00:00, 99.04it/s]\n",
      "validation: 100%|██████████| 79/79 [00:00<00:00, 111.87it/s]\n"
     ]
    },
    {
     "name": "stdout",
     "output_type": "stream",
     "text": [
      "Epoch - 5 Train Loss - 0.357465 Val Loss - 0.338882 Train Accuracy - 0.897899 Val Accuracy - 0.899822\n",
      "Epoch - 6\n"
     ]
    },
    {
     "name": "stderr",
     "output_type": "stream",
     "text": [
      "Training: 100%|██████████| 469/469 [00:04<00:00, 99.03it/s] \n",
      "validation: 100%|██████████| 79/79 [00:00<00:00, 111.59it/s]\n"
     ]
    },
    {
     "name": "stdout",
     "output_type": "stream",
     "text": [
      "Epoch - 6 Train Loss - 0.338485 Val Loss - 0.323314 Train Accuracy - 0.903551 Val Accuracy - 0.906448\n",
      "Epoch - 7\n"
     ]
    },
    {
     "name": "stderr",
     "output_type": "stream",
     "text": [
      "Training: 100%|██████████| 469/469 [00:04<00:00, 99.88it/s] \n",
      "validation: 100%|██████████| 79/79 [00:00<00:00, 110.92it/s]\n"
     ]
    },
    {
     "name": "stdout",
     "output_type": "stream",
     "text": [
      "Epoch - 7 Train Loss - 0.323781 Val Loss - 0.310630 Train Accuracy - 0.907921 Val Accuracy - 0.909217\n",
      "Epoch - 8\n"
     ]
    },
    {
     "name": "stderr",
     "output_type": "stream",
     "text": [
      "Training: 100%|██████████| 469/469 [00:04<00:00, 100.03it/s]\n",
      "validation: 100%|██████████| 79/79 [00:00<00:00, 112.14it/s]\n"
     ]
    },
    {
     "name": "stdout",
     "output_type": "stream",
     "text": [
      "Epoch - 8 Train Loss - 0.313101 Val Loss - 0.302825 Train Accuracy - 0.910853 Val Accuracy - 0.910997\n",
      "Epoch - 9\n"
     ]
    },
    {
     "name": "stderr",
     "output_type": "stream",
     "text": [
      "Training: 100%|██████████| 469/469 [00:04<00:00, 99.76it/s] \n",
      "validation: 100%|██████████| 79/79 [00:00<00:00, 111.08it/s]\n"
     ]
    },
    {
     "name": "stdout",
     "output_type": "stream",
     "text": [
      "Epoch - 9 Train Loss - 0.304483 Val Loss - 0.294612 Train Accuracy - 0.913357 Val Accuracy - 0.914458\n",
      "Epoch - 10\n"
     ]
    },
    {
     "name": "stderr",
     "output_type": "stream",
     "text": [
      "Training: 100%|██████████| 469/469 [00:04<00:00, 98.66it/s]\n",
      "validation: 100%|██████████| 79/79 [00:00<00:00, 111.41it/s]\n"
     ]
    },
    {
     "name": "stdout",
     "output_type": "stream",
     "text": [
      "Epoch - 10 Train Loss - 0.297790 Val Loss - 0.289189 Train Accuracy - 0.915739 Val Accuracy - 0.916337\n",
      "Epoch - 11\n"
     ]
    },
    {
     "name": "stderr",
     "output_type": "stream",
     "text": [
      "Training: 100%|██████████| 469/469 [00:04<00:00, 99.65it/s] \n",
      "validation: 100%|██████████| 79/79 [00:00<00:00, 108.30it/s]\n"
     ]
    },
    {
     "name": "stdout",
     "output_type": "stream",
     "text": [
      "Epoch - 11 Train Loss - 0.292074 Val Loss - 0.289826 Train Accuracy - 0.917811 Val Accuracy - 0.916634\n",
      "Epoch - 12\n"
     ]
    },
    {
     "name": "stderr",
     "output_type": "stream",
     "text": [
      "Training: 100%|██████████| 469/469 [00:04<00:00, 98.63it/s] \n",
      "validation: 100%|██████████| 79/79 [00:00<00:00, 108.66it/s]\n"
     ]
    },
    {
     "name": "stdout",
     "output_type": "stream",
     "text": [
      "Epoch - 12 Train Loss - 0.286868 Val Loss - 0.285401 Train Accuracy - 0.919071 Val Accuracy - 0.916831\n",
      "Epoch - 13\n"
     ]
    },
    {
     "name": "stderr",
     "output_type": "stream",
     "text": [
      "Training: 100%|██████████| 469/469 [00:04<00:00, 99.16it/s] \n",
      "validation: 100%|██████████| 79/79 [00:00<00:00, 107.29it/s]\n"
     ]
    },
    {
     "name": "stdout",
     "output_type": "stream",
     "text": [
      "Epoch - 13 Train Loss - 0.282370 Val Loss - 0.280372 Train Accuracy - 0.920692 Val Accuracy - 0.919403\n",
      "Epoch - 14\n"
     ]
    },
    {
     "name": "stderr",
     "output_type": "stream",
     "text": [
      "Training: 100%|██████████| 469/469 [00:04<00:00, 98.93it/s] \n",
      "validation: 100%|██████████| 79/79 [00:00<00:00, 107.74it/s]\n"
     ]
    },
    {
     "name": "stdout",
     "output_type": "stream",
     "text": [
      "Epoch - 14 Train Loss - 0.278220 Val Loss - 0.277859 Train Accuracy - 0.922180 Val Accuracy - 0.919502\n",
      "Epoch - 15\n"
     ]
    },
    {
     "name": "stderr",
     "output_type": "stream",
     "text": [
      "Training: 100%|██████████| 469/469 [00:04<00:00, 98.30it/s] \n",
      "validation: 100%|██████████| 79/79 [00:00<00:00, 106.21it/s]\n"
     ]
    },
    {
     "name": "stdout",
     "output_type": "stream",
     "text": [
      "Epoch - 15 Train Loss - 0.274732 Val Loss - 0.276646 Train Accuracy - 0.923141 Val Accuracy - 0.920095\n",
      "Notebook\n",
      "Epoch - 0\n"
     ]
    },
    {
     "name": "stderr",
     "output_type": "stream",
     "text": [
      "Training:   0%|          | 0/469 [00:00<?, ?it/s]/local_scratch/slurm.707385/ipykernel_653943/3305374948.py:15: UserWarning: Implicit dimension choice for log_softmax has been deprecated. Change the call to include dim=X as an argument.\n",
      "  out = F.log_softmax(x)\n",
      "Training: 100%|██████████| 469/469 [00:04<00:00, 97.26it/s]\n",
      "validation: 100%|██████████| 79/79 [00:00<00:00, 105.72it/s]\n"
     ]
    },
    {
     "name": "stdout",
     "output_type": "stream",
     "text": [
      "Epoch - 0 Train Loss - 1.484094 Val Loss - 0.783313 Train Accuracy - 0.557536 Val Accuracy - 0.809237\n",
      "Epoch - 1\n"
     ]
    },
    {
     "name": "stderr",
     "output_type": "stream",
     "text": [
      "Training: 100%|██████████| 469/469 [00:04<00:00, 97.48it/s]\n",
      "validation: 100%|██████████| 79/79 [00:00<00:00, 107.24it/s]\n"
     ]
    },
    {
     "name": "stdout",
     "output_type": "stream",
     "text": [
      "Epoch - 1 Train Loss - 0.590974 Val Loss - 0.463509 Train Accuracy - 0.840546 Val Accuracy - 0.868078\n",
      "Epoch - 2\n"
     ]
    },
    {
     "name": "stderr",
     "output_type": "stream",
     "text": [
      "Training: 100%|██████████| 469/469 [00:04<00:00, 97.75it/s] \n",
      "validation: 100%|██████████| 79/79 [00:00<00:00, 109.13it/s]\n"
     ]
    },
    {
     "name": "stdout",
     "output_type": "stream",
     "text": [
      "Epoch - 2 Train Loss - 0.431038 Val Loss - 0.386253 Train Accuracy - 0.877948 Val Accuracy - 0.888845\n",
      "Epoch - 3\n"
     ]
    },
    {
     "name": "stderr",
     "output_type": "stream",
     "text": [
      "Training: 100%|██████████| 469/469 [00:04<00:00, 97.00it/s]\n",
      "validation: 100%|██████████| 79/79 [00:00<00:00, 110.38it/s]\n"
     ]
    },
    {
     "name": "stdout",
     "output_type": "stream",
     "text": [
      "Epoch - 3 Train Loss - 0.376768 Val Loss - 0.348605 Train Accuracy - 0.892291 Val Accuracy - 0.899130\n",
      "Epoch - 4\n"
     ]
    },
    {
     "name": "stderr",
     "output_type": "stream",
     "text": [
      "Training: 100%|██████████| 469/469 [00:04<00:00, 97.48it/s] \n",
      "validation: 100%|██████████| 79/79 [00:00<00:00, 109.51it/s]\n"
     ]
    },
    {
     "name": "stdout",
     "output_type": "stream",
     "text": [
      "Epoch - 4 Train Loss - 0.348223 Val Loss - 0.328333 Train Accuracy - 0.900270 Val Accuracy - 0.905162\n",
      "Epoch - 5\n"
     ]
    },
    {
     "name": "stderr",
     "output_type": "stream",
     "text": [
      "Training: 100%|██████████| 469/469 [00:04<00:00, 97.93it/s] \n",
      "validation: 100%|██████████| 79/79 [00:00<00:00, 105.92it/s]\n"
     ]
    },
    {
     "name": "stdout",
     "output_type": "stream",
     "text": [
      "Epoch - 5 Train Loss - 0.330485 Val Loss - 0.321667 Train Accuracy - 0.905251 Val Accuracy - 0.908030\n",
      "Epoch - 6\n"
     ]
    },
    {
     "name": "stderr",
     "output_type": "stream",
     "text": [
      "Training: 100%|██████████| 469/469 [00:04<00:00, 97.79it/s] \n",
      "validation: 100%|██████████| 79/79 [00:00<00:00, 105.49it/s]\n"
     ]
    },
    {
     "name": "stdout",
     "output_type": "stream",
     "text": [
      "Epoch - 6 Train Loss - 0.318006 Val Loss - 0.311532 Train Accuracy - 0.909132 Val Accuracy - 0.909711\n",
      "Epoch - 7\n"
     ]
    },
    {
     "name": "stderr",
     "output_type": "stream",
     "text": [
      "Training: 100%|██████████| 469/469 [00:04<00:00, 97.73it/s] \n",
      "validation: 100%|██████████| 79/79 [00:00<00:00, 106.30it/s]\n"
     ]
    },
    {
     "name": "stdout",
     "output_type": "stream",
     "text": [
      "Epoch - 7 Train Loss - 0.309309 Val Loss - 0.300094 Train Accuracy - 0.912141 Val Accuracy - 0.912678\n",
      "Epoch - 8\n"
     ]
    },
    {
     "name": "stderr",
     "output_type": "stream",
     "text": [
      "Training: 100%|██████████| 469/469 [00:04<00:00, 97.78it/s] \n",
      "validation: 100%|██████████| 79/79 [00:00<00:00, 106.99it/s]\n"
     ]
    },
    {
     "name": "stdout",
     "output_type": "stream",
     "text": [
      "Epoch - 8 Train Loss - 0.302151 Val Loss - 0.299141 Train Accuracy - 0.913907 Val Accuracy - 0.913469\n",
      "Epoch - 9\n"
     ]
    },
    {
     "name": "stderr",
     "output_type": "stream",
     "text": [
      "Training: 100%|██████████| 469/469 [00:04<00:00, 97.48it/s]\n",
      "validation: 100%|██████████| 79/79 [00:00<00:00, 108.67it/s]\n"
     ]
    },
    {
     "name": "stdout",
     "output_type": "stream",
     "text": [
      "Epoch - 9 Train Loss - 0.296281 Val Loss - 0.293077 Train Accuracy - 0.915390 Val Accuracy - 0.914656\n",
      "Epoch - 10\n"
     ]
    },
    {
     "name": "stderr",
     "output_type": "stream",
     "text": [
      "Training: 100%|██████████| 469/469 [00:04<00:00, 97.92it/s] \n",
      "validation: 100%|██████████| 79/79 [00:00<00:00, 107.55it/s]\n"
     ]
    },
    {
     "name": "stdout",
     "output_type": "stream",
     "text": [
      "Epoch - 10 Train Loss - 0.291155 Val Loss - 0.290132 Train Accuracy - 0.917733 Val Accuracy - 0.918018\n",
      "Epoch - 11\n"
     ]
    },
    {
     "name": "stderr",
     "output_type": "stream",
     "text": [
      "Training: 100%|██████████| 469/469 [00:04<00:00, 97.74it/s]\n",
      "validation: 100%|██████████| 79/79 [00:00<00:00, 107.95it/s]\n"
     ]
    },
    {
     "name": "stdout",
     "output_type": "stream",
     "text": [
      "Epoch - 11 Train Loss - 0.286380 Val Loss - 0.282830 Train Accuracy - 0.919349 Val Accuracy - 0.919600\n",
      "Epoch - 12\n"
     ]
    },
    {
     "name": "stderr",
     "output_type": "stream",
     "text": [
      "Training: 100%|██████████| 469/469 [00:04<00:00, 98.01it/s]\n",
      "validation: 100%|██████████| 79/79 [00:00<00:00, 109.88it/s]\n"
     ]
    },
    {
     "name": "stdout",
     "output_type": "stream",
     "text": [
      "Epoch - 12 Train Loss - 0.282295 Val Loss - 0.280766 Train Accuracy - 0.920193 Val Accuracy - 0.921183\n",
      "Epoch - 13\n"
     ]
    },
    {
     "name": "stderr",
     "output_type": "stream",
     "text": [
      "Training: 100%|██████████| 469/469 [00:04<00:00, 97.67it/s]\n",
      "validation: 100%|██████████| 79/79 [00:00<00:00, 109.39it/s]\n"
     ]
    },
    {
     "name": "stdout",
     "output_type": "stream",
     "text": [
      "Epoch - 13 Train Loss - 0.279074 Val Loss - 0.281981 Train Accuracy - 0.922047 Val Accuracy - 0.921381\n",
      "Epoch - 14\n"
     ]
    },
    {
     "name": "stderr",
     "output_type": "stream",
     "text": [
      "Training: 100%|██████████| 469/469 [00:04<00:00, 97.61it/s]\n",
      "validation: 100%|██████████| 79/79 [00:00<00:00, 106.91it/s]\n"
     ]
    },
    {
     "name": "stdout",
     "output_type": "stream",
     "text": [
      "Epoch - 14 Train Loss - 0.275003 Val Loss - 0.279614 Train Accuracy - 0.922441 Val Accuracy - 0.921183\n",
      "Epoch - 15\n"
     ]
    },
    {
     "name": "stderr",
     "output_type": "stream",
     "text": [
      "Training: 100%|██████████| 469/469 [00:04<00:00, 97.57it/s]\n",
      "validation: 100%|██████████| 79/79 [00:00<00:00, 106.97it/s]"
     ]
    },
    {
     "name": "stdout",
     "output_type": "stream",
     "text": [
      "Epoch - 15 Train Loss - 0.272193 Val Loss - 0.273954 Train Accuracy - 0.923241 Val Accuracy - 0.922468\n"
     ]
    },
    {
     "name": "stderr",
     "output_type": "stream",
     "text": [
      "\n"
     ]
    }
   ],
   "source": [
    "#collect weights at Dense1 (64), and weights of whole model\n",
    "pca_layer = []\n",
    "pca_all_layers = []\n",
    "accuracies = []\n",
    "for i in range(8):\n",
    "  model = DNN0()\n",
    "  optimizer = torch.optim.Adam(model.parameters(), lr = lr)\n",
    "  trainer = Trainer(model=model,\n",
    "                        device=gpu_id,\n",
    "                        criterion=loss_fn,\n",
    "                        optimizer=optimizer,\n",
    "                        training_DataLoader=training_DataLoader,\n",
    "                        validation_DataLoader=validation_DataLoader,\n",
    "                        # lr_scheduler=lr_scheduler,\n",
    "                        epochs=epochs,\n",
    "                        epoch=0,\n",
    "                        notebook=True,\n",
    "                        path2write= path2write,\n",
    "                        checkpoint_start_epoch=checkpoint_start_epoch,\n",
    "                        collect_weights=True)\n",
    "\n",
    "  weight_layer_all_epoch, weight_all_all_epoch, weight_collection_accuracy, training_loss, validation_loss = trainer.run_trainer()\n",
    "  princ_comps_layer =  Weights_PCA(weight_layer_all_epoch)\n",
    "  princ_all_layers = Weights_PCA(weight_all_all_epoch) \n",
    "  pca_layer.append(princ_comps_layer)\n",
    "  pca_all_layers.append(princ_all_layers)\n",
    "  accuracies.append(weight_collection_accuracy)\n",
    "\n"
   ]
  },
  {
   "cell_type": "code",
   "execution_count": 12,
   "metadata": {
    "executionInfo": {
     "elapsed": 243,
     "status": "ok",
     "timestamp": 1676134168657,
     "user": {
      "displayName": "uma maheswara rao meleti",
      "userId": "16305935137347021824"
     },
     "user_tz": 300
    },
    "id": "uJ_lE3MnIdZN",
    "tags": []
   },
   "outputs": [],
   "source": [
    "def plot_pca(pca_layer, accuracies, plot_name):\n",
    "  fig = plt.figure(figsize=(15,15))\n",
    "  plt.xlabel('Weight PC1')\n",
    "  plt.ylabel('Weight PC2')\n",
    "  plt.title(plot_name)\n",
    "  for i in range(8):\n",
    "    W_i = pca_layer[i]\n",
    "    plt.scatter(W_i[:,0], W_i[:,1])\n",
    "    for j in range(len(W_i)):\n",
    "      plt.annotate(round(accuracies[i][j],1), (W_i[j,0],W_i[j,1]))\n",
    "  plt.show()\n",
    "  fig.savefig(os.path.join(path2write, plot_name))"
   ]
  },
  {
   "cell_type": "code",
   "execution_count": 13,
   "metadata": {
    "colab": {
     "base_uri": "https://localhost:8080/",
     "height": 893
    },
    "executionInfo": {
     "elapsed": 831,
     "status": "ok",
     "timestamp": 1676134170718,
     "user": {
      "displayName": "uma maheswara rao meleti",
      "userId": "16305935137347021824"
     },
     "user_tz": 300
    },
    "id": "fbYC6jfzAJVQ",
    "outputId": "9a2dee63-e53d-49e9-e4a3-2870a85defe6",
    "tags": []
   },
   "outputs": [
    {
     "data": {
      "image/png": "[encoded data removed]",
      "text/plain": [
       "<Figure size 1500x1500 with 1 Axes>"
      ]
     },
     "metadata": {},
     "output_type": "display_data"
    }
   ],
   "source": [
    "plot_pca(pca_all_layers, accuracies, 'PCA of All weights')"
   ]
  },
  {
   "cell_type": "code",
   "execution_count": 14,
   "metadata": {
    "colab": {
     "base_uri": "https://localhost:8080/",
     "height": 893
    },
    "executionInfo": {
     "elapsed": 397,
     "status": "ok",
     "timestamp": 1676134218312,
     "user": {
      "displayName": "uma maheswara rao meleti",
      "userId": "16305935137347021824"
     },
     "user_tz": 300
    },
    "id": "aC0FUtkGCE_k",
    "outputId": "08ec9d31-9911-4868-b5a5-df5bf6df9c3d",
    "tags": []
   },
   "outputs": [
    {
     "data": {
      "image/png": "[encoded data removed]",
      "text/plain": [
       "<Figure size 1500x1500 with 1 Axes>"
      ]
     },
     "metadata": {},
     "output_type": "display_data"
    }
   ],
   "source": [
    "plot_pca(pca_layer, accuracies, 'PCA of layer1')"
   ]
  },
  {
   "cell_type": "code",
   "execution_count": 15,
   "metadata": {
    "colab": {
     "base_uri": "https://localhost:8080/",
     "height": 336
    },
    "executionInfo": {
     "elapsed": 983,
     "status": "ok",
     "timestamp": 1676134304094,
     "user": {
      "displayName": "uma maheswara rao meleti",
      "userId": "16305935137347021824"
     },
     "user_tz": 300
    },
    "id": "JYRegWquQrhN",
    "outputId": "80d9784d-ad0a-4cc7-acd6-d8ff83f292ad",
    "tags": []
   },
   "outputs": [
    {
     "data": {
      "image/png": "[encoded data removed]",
      "text/plain": [
       "<Figure size 1000x500 with 1 Axes>"
      ]
     },
     "metadata": {},
     "output_type": "display_data"
    }
   ],
   "source": [
    "training_loss, validation_loss\n",
    "fig = plt.figure(figsize=(10,5))\n",
    "\n",
    "ax1 = fig.add_subplot(1,1,1)\n",
    "ax1.plot(training_loss, 'r-', label='Training Loss')\n",
    "ax1.plot(validation_loss, 'g-', label='Validation Loss')\n",
    "ax1.legend()\n",
    "ax1.set_title('Loss')\n",
    "fig.savefig(os.path.join(path2write, 'PCA Training Loss.png'))"
   ]
  },
  {
   "cell_type": "code",
   "execution_count": null,
   "metadata": {
    "colab": {
     "base_uri": "https://localhost:8080/",
     "height": 924
    },
    "executionInfo": {
     "elapsed": 1157,
     "status": "ok",
     "timestamp": 1675742582324,
     "user": {
      "displayName": "Uma Maheswara R Meleti",
      "userId": "18211812966589522707"
     },
     "user_tz": 300
    },
    "id": "GV0a4InL2o4W",
    "outputId": "6ceaa1c6-622d-45a3-f015-f271d374e5d2"
   },
   "outputs": [
    {
     "name": "stderr",
     "output_type": "stream",
     "text": [
      "WARNING:matplotlib.legend:No handles with labels found to put in legend.\n"
     ]
    },
    {
     "data": {
      "image/png": "[encoded data removed]",
      "text/plain": [
       "<Figure size 1080x1080 with 1 Axes>"
      ]
     },
     "metadata": {
      "needs_background": "light"
     },
     "output_type": "display_data"
    }
   ],
   "source": [
    "# plt.figure(figsize=(15,15))\n",
    "# plt.xlabel('Weight PC1',fontsize=20)\n",
    "# plt.ylabel('Weight PC2',fontsize=20)\n",
    "# plt.title('PCA of weights',fontsize=20)\n",
    "# plt.legend(fontsize=20)\n",
    "# for i in range(8):\n",
    "#   W_i = pca_layer[i]\n",
    "#   plt.scatter(W_i[:,0], W_i[:,1])\n",
    "#   for j in range(len(W_i)):\n",
    "#     plt.annotate(round(accuracies[i][j].item(),1), (W_i[j,0],W_i[j,1]))\n",
    "#   break\n",
    "# plt.show()\n",
    "\n",
    "# plt.figure(figsize=(20,10))\n",
    "# plt.xlabel('Weight1',fontsize=20)\n",
    "# plt.ylabel('Weight2',fontsize=20)\n",
    "# plt.title('Weights of our layer',fontsize=20)\n",
    "# for i in range(events):\n",
    "# W_i = W2[i]\n",
    "# plt.scatter(W_i[:,0], W_i[:,1])\n",
    "# for j in range(len(W_i)):\n",
    "# plt.annotate(round(W_loss[i][j],1), (W_i[j,0],W_i[j,1]))\n",
    "# plt.show()"
   ]
  },
  {
   "cell_type": "code",
   "execution_count": null,
   "metadata": {
    "id": "JnB0GWQIcB4B"
   },
   "outputs": [],
   "source": []
  },
  {
   "cell_type": "code",
   "execution_count": null,
   "metadata": {
    "id": "vhAFC1pt5_69"
   },
   "outputs": [],
   "source": []
  },
  {
   "cell_type": "code",
   "execution_count": null,
   "metadata": {
    "id": "pPe2GRYQ-mY1"
   },
   "outputs": [],
   "source": []
  }
 ],
 "metadata": {
  "accelerator": "GPU",
  "colab": {
   "provenance": []
  },
  "gpuClass": "standard",
  "kernelspec": {
   "display_name": "Python 3 (ipykernel)",
   "language": "python",
   "name": "python3"
  },
  "language_info": {
   "codemirror_mode": {
    "name": "ipython",
    "version": 3
   },
   "file_extension": ".py",
   "mimetype": "text/x-python",
   "name": "python",
   "nbconvert_exporter": "python",
   "pygments_lexer": "ipython3",
   "version": "3.11.5"
  },
  "widgets": {
   "application/vnd.jupyter.widget-state+json": {
    "1aa533bb429c4b2396bc79444e9d3e28": {
     "model_module": "@jupyter-widgets/controls",
     "model_module_version": "1.5.0",
     "model_name": "ProgressStyleModel",
     "state": {
      "_model_module": "@jupyter-widgets/controls",
      "_model_module_version": "1.5.0",
      "_model_name": "ProgressStyleModel",
      "_view_count": null,
      "_view_module": "@jupyter-widgets/base",
      "_view_module_version": "1.2.0",
      "_view_name": "StyleView",
      "bar_color": null,
      "description_width": ""
     }
    },
    "1cf5b6b648f74ebf9c73a27e20004ed5": {
     "model_module": "@jupyter-widgets/controls",
     "model_module_version": "1.5.0",
     "model_name": "DescriptionStyleModel",
     "state": {
      "_model_module": "@jupyter-widgets/controls",
      "_model_module_version": "1.5.0",
      "_model_name": "DescriptionStyleModel",
      "_view_count": null,
      "_view_module": "@jupyter-widgets/base",
      "_view_module_version": "1.2.0",
      "_view_name": "StyleView",
      "description_width": ""
     }
    },
    "1df8a0eec4574078973efc58c207c56d": {
     "model_module": "@jupyter-widgets/controls",
     "model_module_version": "1.5.0",
     "model_name": "HBoxModel",
     "state": {
      "_dom_classes": [],
      "_model_module": "@jupyter-widgets/controls",
      "_model_module_version": "1.5.0",
      "_model_name": "HBoxModel",
      "_view_count": null,
      "_view_module": "@jupyter-widgets/controls",
      "_view_module_version": "1.5.0",
      "_view_name": "HBoxView",
      "box_style": "",
      "children": [
       "IPY_MODEL_35addf77a09b405a9707bd35d3f1c9bc",
       "IPY_MODEL_6581e79496ea4b17898ae9f9b9784842",
       "IPY_MODEL_a42217fc8ce4493daa7ad8f0d692719a"
      ],
      "layout": "IPY_MODEL_cf225a5a7d914a88b70eba8a16e95fc3"
     }
    },
    "273cb9b5aae1433181042dac1a3f0e4d": {
     "model_module": "@jupyter-widgets/controls",
     "model_module_version": "1.5.0",
     "model_name": "DescriptionStyleModel",
     "state": {
      "_model_module": "@jupyter-widgets/controls",
      "_model_module_version": "1.5.0",
      "_model_name": "DescriptionStyleModel",
      "_view_count": null,
      "_view_module": "@jupyter-widgets/base",
      "_view_module_version": "1.2.0",
      "_view_name": "StyleView",
      "description_width": ""
     }
    },
    "29e2e81e3b7a4722a178ef43b0cabf7c": {
     "model_module": "@jupyter-widgets/controls",
     "model_module_version": "1.5.0",
     "model_name": "FloatProgressModel",
     "state": {
      "_dom_classes": [],
      "_model_module": "@jupyter-widgets/controls",
      "_model_module_version": "1.5.0",
      "_model_name": "FloatProgressModel",
      "_view_count": null,
      "_view_module": "@jupyter-widgets/controls",
      "_view_module_version": "1.5.0",
      "_view_name": "ProgressView",
      "bar_style": "success",
      "description": "",
      "description_tooltip": null,
      "layout": "IPY_MODEL_acf0d4bab30a43ccb776823db0cc0182",
      "max": 4542,
      "min": 0,
      "orientation": "horizontal",
      "style": "IPY_MODEL_5e756b5c11d64239a832fa9631b95d24",
      "value": 4542
     }
    },
    "2a2c1ec50c7e407492dbdc87586dad42": {
     "model_module": "@jupyter-widgets/controls",
     "model_module_version": "1.5.0",
     "model_name": "HTMLModel",
     "state": {
      "_dom_classes": [],
      "_model_module": "@jupyter-widgets/controls",
      "_model_module_version": "1.5.0",
      "_model_name": "HTMLModel",
      "_view_count": null,
      "_view_module": "@jupyter-widgets/controls",
      "_view_module_version": "1.5.0",
      "_view_name": "HTMLView",
      "description": "",
      "description_tooltip": null,
      "layout": "IPY_MODEL_c8d766b6f87d4073a48303f9a4fb7676",
      "placeholder": "​",
      "style": "IPY_MODEL_60a932522078403585be43a055faa720",
      "value": " 9912422/9912422 [00:00&lt;00:00, 142148903.32it/s]"
     }
    },
    "32dc628015d6424290f12a7021b628d5": {
     "model_module": "@jupyter-widgets/controls",
     "model_module_version": "1.5.0",
     "model_name": "HTMLModel",
     "state": {
      "_dom_classes": [],
      "_model_module": "@jupyter-widgets/controls",
      "_model_module_version": "1.5.0",
      "_model_name": "HTMLModel",
      "_view_count": null,
      "_view_module": "@jupyter-widgets/controls",
      "_view_module_version": "1.5.0",
      "_view_name": "HTMLView",
      "description": "",
      "description_tooltip": null,
      "layout": "IPY_MODEL_9554635ff48d4563aacae40ce76d3132",
      "placeholder": "​",
      "style": "IPY_MODEL_e8110e48b07c4218be8e5cedeca15001",
      "value": "100%"
     }
    },
    "35addf77a09b405a9707bd35d3f1c9bc": {
     "model_module": "@jupyter-widgets/controls",
     "model_module_version": "1.5.0",
     "model_name": "HTMLModel",
     "state": {
      "_dom_classes": [],
      "_model_module": "@jupyter-widgets/controls",
      "_model_module_version": "1.5.0",
      "_model_name": "HTMLModel",
      "_view_count": null,
      "_view_module": "@jupyter-widgets/controls",
      "_view_module_version": "1.5.0",
      "_view_name": "HTMLView",
      "description": "",
      "description_tooltip": null,
      "layout": "IPY_MODEL_5b14fc4c88df4fc79a37b1aee52cd7eb",
      "placeholder": "​",
      "style": "IPY_MODEL_1cf5b6b648f74ebf9c73a27e20004ed5",
      "value": "100%"
     }
    },
    "396eecb7e0e24122830ee9e762c8b2aa": {
     "model_module": "@jupyter-widgets/base",
     "model_module_version": "1.2.0",
     "model_name": "LayoutModel",
     "state": {
      "_model_module": "@jupyter-widgets/base",
      "_model_module_version": "1.2.0",
      "_model_name": "LayoutModel",
      "_view_count": null,
      "_view_module": "@jupyter-widgets/base",
      "_view_module_version": "1.2.0",
      "_view_name": "LayoutView",
      "align_content": null,
      "align_items": null,
      "align_self": null,
      "border": null,
      "bottom": null,
      "display": null,
      "flex": null,
      "flex_flow": null,
      "grid_area": null,
      "grid_auto_columns": null,
      "grid_auto_flow": null,
      "grid_auto_rows": null,
      "grid_column": null,
      "grid_gap": null,
      "grid_row": null,
      "grid_template_areas": null,
      "grid_template_columns": null,
      "grid_template_rows": null,
      "height": null,
      "justify_content": null,
      "justify_items": null,
      "left": null,
      "margin": null,
      "max_height": null,
      "max_width": null,
      "min_height": null,
      "min_width": null,
      "object_fit": null,
      "object_position": null,
      "order": null,
      "overflow": null,
      "overflow_x": null,
      "overflow_y": null,
      "padding": null,
      "right": null,
      "top": null,
      "visibility": null,
      "width": null
     }
    },
    "48ec13048f56494c94bc802e6f5cf932": {
     "model_module": "@jupyter-widgets/controls",
     "model_module_version": "1.5.0",
     "model_name": "HTMLModel",
     "state": {
      "_dom_classes": [],
      "_model_module": "@jupyter-widgets/controls",
      "_model_module_version": "1.5.0",
      "_model_name": "HTMLModel",
      "_view_count": null,
      "_view_module": "@jupyter-widgets/controls",
      "_view_module_version": "1.5.0",
      "_view_name": "HTMLView",
      "description": "",
      "description_tooltip": null,
      "layout": "IPY_MODEL_6248b3778735448aa270828ea34ebaf1",
      "placeholder": "​",
      "style": "IPY_MODEL_8dd05705ebea4b0a997fa9d3f8d26e84",
      "value": "100%"
     }
    },
    "506c0f2c5c9748cc9436262b90cfcf83": {
     "model_module": "@jupyter-widgets/base",
     "model_module_version": "1.2.0",
     "model_name": "LayoutModel",
     "state": {
      "_model_module": "@jupyter-widgets/base",
      "_model_module_version": "1.2.0",
      "_model_name": "LayoutModel",
      "_view_count": null,
      "_view_module": "@jupyter-widgets/base",
      "_view_module_version": "1.2.0",
      "_view_name": "LayoutView",
      "align_content": null,
      "align_items": null,
      "align_self": null,
      "border": null,
      "bottom": null,
      "display": null,
      "flex": null,
      "flex_flow": null,
      "grid_area": null,
      "grid_auto_columns": null,
      "grid_auto_flow": null,
      "grid_auto_rows": null,
      "grid_column": null,
      "grid_gap": null,
      "grid_row": null,
      "grid_template_areas": null,
      "grid_template_columns": null,
      "grid_template_rows": null,
      "height": null,
      "justify_content": null,
      "justify_items": null,
      "left": null,
      "margin": null,
      "max_height": null,
      "max_width": null,
      "min_height": null,
      "min_width": null,
      "object_fit": null,
      "object_position": null,
      "order": null,
      "overflow": null,
      "overflow_x": null,
      "overflow_y": null,
      "padding": null,
      "right": null,
      "top": null,
      "visibility": null,
      "width": null
     }
    },
    "5310d0e7635542bebfaa41a2ee991c63": {
     "model_module": "@jupyter-widgets/controls",
     "model_module_version": "1.5.0",
     "model_name": "HTMLModel",
     "state": {
      "_dom_classes": [],
      "_model_module": "@jupyter-widgets/controls",
      "_model_module_version": "1.5.0",
      "_model_name": "HTMLModel",
      "_view_count": null,
      "_view_module": "@jupyter-widgets/controls",
      "_view_module_version": "1.5.0",
      "_view_name": "HTMLView",
      "description": "",
      "description_tooltip": null,
      "layout": "IPY_MODEL_396eecb7e0e24122830ee9e762c8b2aa",
      "placeholder": "​",
      "style": "IPY_MODEL_8cff8b6dc04944eba2f43f42d88724f5",
      "value": " 4542/4542 [00:00&lt;00:00, 275304.62it/s]"
     }
    },
    "5b14fc4c88df4fc79a37b1aee52cd7eb": {
     "model_module": "@jupyter-widgets/base",
     "model_module_version": "1.2.0",
     "model_name": "LayoutModel",
     "state": {
      "_model_module": "@jupyter-widgets/base",
      "_model_module_version": "1.2.0",
      "_model_name": "LayoutModel",
      "_view_count": null,
      "_view_module": "@jupyter-widgets/base",
      "_view_module_version": "1.2.0",
      "_view_name": "LayoutView",
      "align_content": null,
      "align_items": null,
      "align_self": null,
      "border": null,
      "bottom": null,
      "display": null,
      "flex": null,
      "flex_flow": null,
      "grid_area": null,
      "grid_auto_columns": null,
      "grid_auto_flow": null,
      "grid_auto_rows": null,
      "grid_column": null,
      "grid_gap": null,
      "grid_row": null,
      "grid_template_areas": null,
      "grid_template_columns": null,
      "grid_template_rows": null,
      "height": null,
      "justify_content": null,
      "justify_items": null,
      "left": null,
      "margin": null,
      "max_height": null,
      "max_width": null,
      "min_height": null,
      "min_width": null,
      "object_fit": null,
      "object_position": null,
      "order": null,
      "overflow": null,
      "overflow_x": null,
      "overflow_y": null,
      "padding": null,
      "right": null,
      "top": null,
      "visibility": null,
      "width": null
     }
    },
    "5c1b5fcdf2a145e2b52856fb14d9ee86": {
     "model_module": "@jupyter-widgets/controls",
     "model_module_version": "1.5.0",
     "model_name": "HTMLModel",
     "state": {
      "_dom_classes": [],
      "_model_module": "@jupyter-widgets/controls",
      "_model_module_version": "1.5.0",
      "_model_name": "HTMLModel",
      "_view_count": null,
      "_view_module": "@jupyter-widgets/controls",
      "_view_module_version": "1.5.0",
      "_view_name": "HTMLView",
      "description": "",
      "description_tooltip": null,
      "layout": "IPY_MODEL_de10f5236db74fe99aa7e931363d11fb",
      "placeholder": "​",
      "style": "IPY_MODEL_e55e743c274e4b5a8032bc20f65df7f8",
      "value": "100%"
     }
    },
    "5e756b5c11d64239a832fa9631b95d24": {
     "model_module": "@jupyter-widgets/controls",
     "model_module_version": "1.5.0",
     "model_name": "ProgressStyleModel",
     "state": {
      "_model_module": "@jupyter-widgets/controls",
      "_model_module_version": "1.5.0",
      "_model_name": "ProgressStyleModel",
      "_view_count": null,
      "_view_module": "@jupyter-widgets/base",
      "_view_module_version": "1.2.0",
      "_view_name": "StyleView",
      "bar_color": null,
      "description_width": ""
     }
    },
    "60a932522078403585be43a055faa720": {
     "model_module": "@jupyter-widgets/controls",
     "model_module_version": "1.5.0",
     "model_name": "DescriptionStyleModel",
     "state": {
      "_model_module": "@jupyter-widgets/controls",
      "_model_module_version": "1.5.0",
      "_model_name": "DescriptionStyleModel",
      "_view_count": null,
      "_view_module": "@jupyter-widgets/base",
      "_view_module_version": "1.2.0",
      "_view_name": "StyleView",
      "description_width": ""
     }
    },
    "6248b3778735448aa270828ea34ebaf1": {
     "model_module": "@jupyter-widgets/base",
     "model_module_version": "1.2.0",
     "model_name": "LayoutModel",
     "state": {
      "_model_module": "@jupyter-widgets/base",
      "_model_module_version": "1.2.0",
      "_model_name": "LayoutModel",
      "_view_count": null,
      "_view_module": "@jupyter-widgets/base",
      "_view_module_version": "1.2.0",
      "_view_name": "LayoutView",
      "align_content": null,
      "align_items": null,
      "align_self": null,
      "border": null,
      "bottom": null,
      "display": null,
      "flex": null,
      "flex_flow": null,
      "grid_area": null,
      "grid_auto_columns": null,
      "grid_auto_flow": null,
      "grid_auto_rows": null,
      "grid_column": null,
      "grid_gap": null,
      "grid_row": null,
      "grid_template_areas": null,
      "grid_template_columns": null,
      "grid_template_rows": null,
      "height": null,
      "justify_content": null,
      "justify_items": null,
      "left": null,
      "margin": null,
      "max_height": null,
      "max_width": null,
      "min_height": null,
      "min_width": null,
      "object_fit": null,
      "object_position": null,
      "order": null,
      "overflow": null,
      "overflow_x": null,
      "overflow_y": null,
      "padding": null,
      "right": null,
      "top": null,
      "visibility": null,
      "width": null
     }
    },
    "6581e79496ea4b17898ae9f9b9784842": {
     "model_module": "@jupyter-widgets/controls",
     "model_module_version": "1.5.0",
     "model_name": "FloatProgressModel",
     "state": {
      "_dom_classes": [],
      "_model_module": "@jupyter-widgets/controls",
      "_model_module_version": "1.5.0",
      "_model_name": "FloatProgressModel",
      "_view_count": null,
      "_view_module": "@jupyter-widgets/controls",
      "_view_module_version": "1.5.0",
      "_view_name": "ProgressView",
      "bar_style": "success",
      "description": "",
      "description_tooltip": null,
      "layout": "IPY_MODEL_e29cfcae12154f63afb189418bd0dc87",
      "max": 28881,
      "min": 0,
      "orientation": "horizontal",
      "style": "IPY_MODEL_7da2413482ef479e91f79bc7edcf66cb",
      "value": 28881
     }
    },
    "67e7d75579b74f4fbac45d1e599ba374": {
     "model_module": "@jupyter-widgets/controls",
     "model_module_version": "1.5.0",
     "model_name": "HBoxModel",
     "state": {
      "_dom_classes": [],
      "_model_module": "@jupyter-widgets/controls",
      "_model_module_version": "1.5.0",
      "_model_name": "HBoxModel",
      "_view_count": null,
      "_view_module": "@jupyter-widgets/controls",
      "_view_module_version": "1.5.0",
      "_view_name": "HBoxView",
      "box_style": "",
      "children": [
       "IPY_MODEL_48ec13048f56494c94bc802e6f5cf932",
       "IPY_MODEL_c2f5f1f4d87f4d799f17598b53f7dcc6",
       "IPY_MODEL_2a2c1ec50c7e407492dbdc87586dad42"
      ],
      "layout": "IPY_MODEL_b3bf6513903d4fec9085d2d2127aadc3"
     }
    },
    "72d47fe435784a3b89794b648dcaca86": {
     "model_module": "@jupyter-widgets/controls",
     "model_module_version": "1.5.0",
     "model_name": "FloatProgressModel",
     "state": {
      "_dom_classes": [],
      "_model_module": "@jupyter-widgets/controls",
      "_model_module_version": "1.5.0",
      "_model_name": "FloatProgressModel",
      "_view_count": null,
      "_view_module": "@jupyter-widgets/controls",
      "_view_module_version": "1.5.0",
      "_view_name": "ProgressView",
      "bar_style": "success",
      "description": "",
      "description_tooltip": null,
      "layout": "IPY_MODEL_8f2c1857295143bf9ead093737a30c5f",
      "max": 1648877,
      "min": 0,
      "orientation": "horizontal",
      "style": "IPY_MODEL_1aa533bb429c4b2396bc79444e9d3e28",
      "value": 1648877
     }
    },
    "7b2e3c2f5c62436c9a71aac96936847e": {
     "model_module": "@jupyter-widgets/base",
     "model_module_version": "1.2.0",
     "model_name": "LayoutModel",
     "state": {
      "_model_module": "@jupyter-widgets/base",
      "_model_module_version": "1.2.0",
      "_model_name": "LayoutModel",
      "_view_count": null,
      "_view_module": "@jupyter-widgets/base",
      "_view_module_version": "1.2.0",
      "_view_name": "LayoutView",
      "align_content": null,
      "align_items": null,
      "align_self": null,
      "border": null,
      "bottom": null,
      "display": null,
      "flex": null,
      "flex_flow": null,
      "grid_area": null,
      "grid_auto_columns": null,
      "grid_auto_flow": null,
      "grid_auto_rows": null,
      "grid_column": null,
      "grid_gap": null,
      "grid_row": null,
      "grid_template_areas": null,
      "grid_template_columns": null,
      "grid_template_rows": null,
      "height": null,
      "justify_content": null,
      "justify_items": null,
      "left": null,
      "margin": null,
      "max_height": null,
      "max_width": null,
      "min_height": null,
      "min_width": null,
      "object_fit": null,
      "object_position": null,
      "order": null,
      "overflow": null,
      "overflow_x": null,
      "overflow_y": null,
      "padding": null,
      "right": null,
      "top": null,
      "visibility": null,
      "width": null
     }
    },
    "7da2413482ef479e91f79bc7edcf66cb": {
     "model_module": "@jupyter-widgets/controls",
     "model_module_version": "1.5.0",
     "model_name": "ProgressStyleModel",
     "state": {
      "_model_module": "@jupyter-widgets/controls",
      "_model_module_version": "1.5.0",
      "_model_name": "ProgressStyleModel",
      "_view_count": null,
      "_view_module": "@jupyter-widgets/base",
      "_view_module_version": "1.2.0",
      "_view_name": "StyleView",
      "bar_color": null,
      "description_width": ""
     }
    },
    "8cff8b6dc04944eba2f43f42d88724f5": {
     "model_module": "@jupyter-widgets/controls",
     "model_module_version": "1.5.0",
     "model_name": "DescriptionStyleModel",
     "state": {
      "_model_module": "@jupyter-widgets/controls",
      "_model_module_version": "1.5.0",
      "_model_name": "DescriptionStyleModel",
      "_view_count": null,
      "_view_module": "@jupyter-widgets/base",
      "_view_module_version": "1.2.0",
      "_view_name": "StyleView",
      "description_width": ""
     }
    },
    "8dd05705ebea4b0a997fa9d3f8d26e84": {
     "model_module": "@jupyter-widgets/controls",
     "model_module_version": "1.5.0",
     "model_name": "DescriptionStyleModel",
     "state": {
      "_model_module": "@jupyter-widgets/controls",
      "_model_module_version": "1.5.0",
      "_model_name": "DescriptionStyleModel",
      "_view_count": null,
      "_view_module": "@jupyter-widgets/base",
      "_view_module_version": "1.2.0",
      "_view_name": "StyleView",
      "description_width": ""
     }
    },
    "8f2c1857295143bf9ead093737a30c5f": {
     "model_module": "@jupyter-widgets/base",
     "model_module_version": "1.2.0",
     "model_name": "LayoutModel",
     "state": {
      "_model_module": "@jupyter-widgets/base",
      "_model_module_version": "1.2.0",
      "_model_name": "LayoutModel",
      "_view_count": null,
      "_view_module": "@jupyter-widgets/base",
      "_view_module_version": "1.2.0",
      "_view_name": "LayoutView",
      "align_content": null,
      "align_items": null,
      "align_self": null,
      "border": null,
      "bottom": null,
      "display": null,
      "flex": null,
      "flex_flow": null,
      "grid_area": null,
      "grid_auto_columns": null,
      "grid_auto_flow": null,
      "grid_auto_rows": null,
      "grid_column": null,
      "grid_gap": null,
      "grid_row": null,
      "grid_template_areas": null,
      "grid_template_columns": null,
      "grid_template_rows": null,
      "height": null,
      "justify_content": null,
      "justify_items": null,
      "left": null,
      "margin": null,
      "max_height": null,
      "max_width": null,
      "min_height": null,
      "min_width": null,
      "object_fit": null,
      "object_position": null,
      "order": null,
      "overflow": null,
      "overflow_x": null,
      "overflow_y": null,
      "padding": null,
      "right": null,
      "top": null,
      "visibility": null,
      "width": null
     }
    },
    "9554635ff48d4563aacae40ce76d3132": {
     "model_module": "@jupyter-widgets/base",
     "model_module_version": "1.2.0",
     "model_name": "LayoutModel",
     "state": {
      "_model_module": "@jupyter-widgets/base",
      "_model_module_version": "1.2.0",
      "_model_name": "LayoutModel",
      "_view_count": null,
      "_view_module": "@jupyter-widgets/base",
      "_view_module_version": "1.2.0",
      "_view_name": "LayoutView",
      "align_content": null,
      "align_items": null,
      "align_self": null,
      "border": null,
      "bottom": null,
      "display": null,
      "flex": null,
      "flex_flow": null,
      "grid_area": null,
      "grid_auto_columns": null,
      "grid_auto_flow": null,
      "grid_auto_rows": null,
      "grid_column": null,
      "grid_gap": null,
      "grid_row": null,
      "grid_template_areas": null,
      "grid_template_columns": null,
      "grid_template_rows": null,
      "height": null,
      "justify_content": null,
      "justify_items": null,
      "left": null,
      "margin": null,
      "max_height": null,
      "max_width": null,
      "min_height": null,
      "min_width": null,
      "object_fit": null,
      "object_position": null,
      "order": null,
      "overflow": null,
      "overflow_x": null,
      "overflow_y": null,
      "padding": null,
      "right": null,
      "top": null,
      "visibility": null,
      "width": null
     }
    },
    "a42217fc8ce4493daa7ad8f0d692719a": {
     "model_module": "@jupyter-widgets/controls",
     "model_module_version": "1.5.0",
     "model_name": "HTMLModel",
     "state": {
      "_dom_classes": [],
      "_model_module": "@jupyter-widgets/controls",
      "_model_module_version": "1.5.0",
      "_model_name": "HTMLModel",
      "_view_count": null,
      "_view_module": "@jupyter-widgets/controls",
      "_view_module_version": "1.5.0",
      "_view_name": "HTMLView",
      "description": "",
      "description_tooltip": null,
      "layout": "IPY_MODEL_b71c2282eeb7446683ad76ab1a812e66",
      "placeholder": "​",
      "style": "IPY_MODEL_273cb9b5aae1433181042dac1a3f0e4d",
      "value": " 28881/28881 [00:00&lt;00:00, 2306336.15it/s]"
     }
    },
    "a95d2ce1b7c645b1913e550fcec3f19b": {
     "model_module": "@jupyter-widgets/controls",
     "model_module_version": "1.5.0",
     "model_name": "ProgressStyleModel",
     "state": {
      "_model_module": "@jupyter-widgets/controls",
      "_model_module_version": "1.5.0",
      "_model_name": "ProgressStyleModel",
      "_view_count": null,
      "_view_module": "@jupyter-widgets/base",
      "_view_module_version": "1.2.0",
      "_view_name": "StyleView",
      "bar_color": null,
      "description_width": ""
     }
    },
    "acf0d4bab30a43ccb776823db0cc0182": {
     "model_module": "@jupyter-widgets/base",
     "model_module_version": "1.2.0",
     "model_name": "LayoutModel",
     "state": {
      "_model_module": "@jupyter-widgets/base",
      "_model_module_version": "1.2.0",
      "_model_name": "LayoutModel",
      "_view_count": null,
      "_view_module": "@jupyter-widgets/base",
      "_view_module_version": "1.2.0",
      "_view_name": "LayoutView",
      "align_content": null,
      "align_items": null,
      "align_self": null,
      "border": null,
      "bottom": null,
      "display": null,
      "flex": null,
      "flex_flow": null,
      "grid_area": null,
      "grid_auto_columns": null,
      "grid_auto_flow": null,
      "grid_auto_rows": null,
      "grid_column": null,
      "grid_gap": null,
      "grid_row": null,
      "grid_template_areas": null,
      "grid_template_columns": null,
      "grid_template_rows": null,
      "height": null,
      "justify_content": null,
      "justify_items": null,
      "left": null,
      "margin": null,
      "max_height": null,
      "max_width": null,
      "min_height": null,
      "min_width": null,
      "object_fit": null,
      "object_position": null,
      "order": null,
      "overflow": null,
      "overflow_x": null,
      "overflow_y": null,
      "padding": null,
      "right": null,
      "top": null,
      "visibility": null,
      "width": null
     }
    },
    "b3bf6513903d4fec9085d2d2127aadc3": {
     "model_module": "@jupyter-widgets/base",
     "model_module_version": "1.2.0",
     "model_name": "LayoutModel",
     "state": {
      "_model_module": "@jupyter-widgets/base",
      "_model_module_version": "1.2.0",
      "_model_name": "LayoutModel",
      "_view_count": null,
      "_view_module": "@jupyter-widgets/base",
      "_view_module_version": "1.2.0",
      "_view_name": "LayoutView",
      "align_content": null,
      "align_items": null,
      "align_self": null,
      "border": null,
      "bottom": null,
      "display": null,
      "flex": null,
      "flex_flow": null,
      "grid_area": null,
      "grid_auto_columns": null,
      "grid_auto_flow": null,
      "grid_auto_rows": null,
      "grid_column": null,
      "grid_gap": null,
      "grid_row": null,
      "grid_template_areas": null,
      "grid_template_columns": null,
      "grid_template_rows": null,
      "height": null,
      "justify_content": null,
      "justify_items": null,
      "left": null,
      "margin": null,
      "max_height": null,
      "max_width": null,
      "min_height": null,
      "min_width": null,
      "object_fit": null,
      "object_position": null,
      "order": null,
      "overflow": null,
      "overflow_x": null,
      "overflow_y": null,
      "padding": null,
      "right": null,
      "top": null,
      "visibility": null,
      "width": null
     }
    },
    "b43da57304944bc7b3a95729e6dd3fe6": {
     "model_module": "@jupyter-widgets/controls",
     "model_module_version": "1.5.0",
     "model_name": "HBoxModel",
     "state": {
      "_dom_classes": [],
      "_model_module": "@jupyter-widgets/controls",
      "_model_module_version": "1.5.0",
      "_model_name": "HBoxModel",
      "_view_count": null,
      "_view_module": "@jupyter-widgets/controls",
      "_view_module_version": "1.5.0",
      "_view_name": "HBoxView",
      "box_style": "",
      "children": [
       "IPY_MODEL_5c1b5fcdf2a145e2b52856fb14d9ee86",
       "IPY_MODEL_29e2e81e3b7a4722a178ef43b0cabf7c",
       "IPY_MODEL_5310d0e7635542bebfaa41a2ee991c63"
      ],
      "layout": "IPY_MODEL_f7911ed8fd1e4e108a465d4f9bf8a3b9"
     }
    },
    "b71c2282eeb7446683ad76ab1a812e66": {
     "model_module": "@jupyter-widgets/base",
     "model_module_version": "1.2.0",
     "model_name": "LayoutModel",
     "state": {
      "_model_module": "@jupyter-widgets/base",
      "_model_module_version": "1.2.0",
      "_model_name": "LayoutModel",
      "_view_count": null,
      "_view_module": "@jupyter-widgets/base",
      "_view_module_version": "1.2.0",
      "_view_name": "LayoutView",
      "align_content": null,
      "align_items": null,
      "align_self": null,
      "border": null,
      "bottom": null,
      "display": null,
      "flex": null,
      "flex_flow": null,
      "grid_area": null,
      "grid_auto_columns": null,
      "grid_auto_flow": null,
      "grid_auto_rows": null,
      "grid_column": null,
      "grid_gap": null,
      "grid_row": null,
      "grid_template_areas": null,
      "grid_template_columns": null,
      "grid_template_rows": null,
      "height": null,
      "justify_content": null,
      "justify_items": null,
      "left": null,
      "margin": null,
      "max_height": null,
      "max_width": null,
      "min_height": null,
      "min_width": null,
      "object_fit": null,
      "object_position": null,
      "order": null,
      "overflow": null,
      "overflow_x": null,
      "overflow_y": null,
      "padding": null,
      "right": null,
      "top": null,
      "visibility": null,
      "width": null
     }
    },
    "bb609b3044db4742845e5b5fd4e5d942": {
     "model_module": "@jupyter-widgets/base",
     "model_module_version": "1.2.0",
     "model_name": "LayoutModel",
     "state": {
      "_model_module": "@jupyter-widgets/base",
      "_model_module_version": "1.2.0",
      "_model_name": "LayoutModel",
      "_view_count": null,
      "_view_module": "@jupyter-widgets/base",
      "_view_module_version": "1.2.0",
      "_view_name": "LayoutView",
      "align_content": null,
      "align_items": null,
      "align_self": null,
      "border": null,
      "bottom": null,
      "display": null,
      "flex": null,
      "flex_flow": null,
      "grid_area": null,
      "grid_auto_columns": null,
      "grid_auto_flow": null,
      "grid_auto_rows": null,
      "grid_column": null,
      "grid_gap": null,
      "grid_row": null,
      "grid_template_areas": null,
      "grid_template_columns": null,
      "grid_template_rows": null,
      "height": null,
      "justify_content": null,
      "justify_items": null,
      "left": null,
      "margin": null,
      "max_height": null,
      "max_width": null,
      "min_height": null,
      "min_width": null,
      "object_fit": null,
      "object_position": null,
      "order": null,
      "overflow": null,
      "overflow_x": null,
      "overflow_y": null,
      "padding": null,
      "right": null,
      "top": null,
      "visibility": null,
      "width": null
     }
    },
    "c08eed91f16e4d22951aa57ab1b1eed4": {
     "model_module": "@jupyter-widgets/controls",
     "model_module_version": "1.5.0",
     "model_name": "HTMLModel",
     "state": {
      "_dom_classes": [],
      "_model_module": "@jupyter-widgets/controls",
      "_model_module_version": "1.5.0",
      "_model_name": "HTMLModel",
      "_view_count": null,
      "_view_module": "@jupyter-widgets/controls",
      "_view_module_version": "1.5.0",
      "_view_name": "HTMLView",
      "description": "",
      "description_tooltip": null,
      "layout": "IPY_MODEL_7b2e3c2f5c62436c9a71aac96936847e",
      "placeholder": "​",
      "style": "IPY_MODEL_e21c9bb2b4bc4854ad7cf467fcfa02fb",
      "value": " 1648877/1648877 [00:00&lt;00:00, 38130345.40it/s]"
     }
    },
    "c2f5f1f4d87f4d799f17598b53f7dcc6": {
     "model_module": "@jupyter-widgets/controls",
     "model_module_version": "1.5.0",
     "model_name": "FloatProgressModel",
     "state": {
      "_dom_classes": [],
      "_model_module": "@jupyter-widgets/controls",
      "_model_module_version": "1.5.0",
      "_model_name": "FloatProgressModel",
      "_view_count": null,
      "_view_module": "@jupyter-widgets/controls",
      "_view_module_version": "1.5.0",
      "_view_name": "ProgressView",
      "bar_style": "success",
      "description": "",
      "description_tooltip": null,
      "layout": "IPY_MODEL_506c0f2c5c9748cc9436262b90cfcf83",
      "max": 9912422,
      "min": 0,
      "orientation": "horizontal",
      "style": "IPY_MODEL_a95d2ce1b7c645b1913e550fcec3f19b",
      "value": 9912422
     }
    },
    "c8d766b6f87d4073a48303f9a4fb7676": {
     "model_module": "@jupyter-widgets/base",
     "model_module_version": "1.2.0",
     "model_name": "LayoutModel",
     "state": {
      "_model_module": "@jupyter-widgets/base",
      "_model_module_version": "1.2.0",
      "_model_name": "LayoutModel",
      "_view_count": null,
      "_view_module": "@jupyter-widgets/base",
      "_view_module_version": "1.2.0",
      "_view_name": "LayoutView",
      "align_content": null,
      "align_items": null,
      "align_self": null,
      "border": null,
      "bottom": null,
      "display": null,
      "flex": null,
      "flex_flow": null,
      "grid_area": null,
      "grid_auto_columns": null,
      "grid_auto_flow": null,
      "grid_auto_rows": null,
      "grid_column": null,
      "grid_gap": null,
      "grid_row": null,
      "grid_template_areas": null,
      "grid_template_columns": null,
      "grid_template_rows": null,
      "height": null,
      "justify_content": null,
      "justify_items": null,
      "left": null,
      "margin": null,
      "max_height": null,
      "max_width": null,
      "min_height": null,
      "min_width": null,
      "object_fit": null,
      "object_position": null,
      "order": null,
      "overflow": null,
      "overflow_x": null,
      "overflow_y": null,
      "padding": null,
      "right": null,
      "top": null,
      "visibility": null,
      "width": null
     }
    },
    "cf225a5a7d914a88b70eba8a16e95fc3": {
     "model_module": "@jupyter-widgets/base",
     "model_module_version": "1.2.0",
     "model_name": "LayoutModel",
     "state": {
      "_model_module": "@jupyter-widgets/base",
      "_model_module_version": "1.2.0",
      "_model_name": "LayoutModel",
      "_view_count": null,
      "_view_module": "@jupyter-widgets/base",
      "_view_module_version": "1.2.0",
      "_view_name": "LayoutView",
      "align_content": null,
      "align_items": null,
      "align_self": null,
      "border": null,
      "bottom": null,
      "display": null,
      "flex": null,
      "flex_flow": null,
      "grid_area": null,
      "grid_auto_columns": null,
      "grid_auto_flow": null,
      "grid_auto_rows": null,
      "grid_column": null,
      "grid_gap": null,
      "grid_row": null,
      "grid_template_areas": null,
      "grid_template_columns": null,
      "grid_template_rows": null,
      "height": null,
      "justify_content": null,
      "justify_items": null,
      "left": null,
      "margin": null,
      "max_height": null,
      "max_width": null,
      "min_height": null,
      "min_width": null,
      "object_fit": null,
      "object_position": null,
      "order": null,
      "overflow": null,
      "overflow_x": null,
      "overflow_y": null,
      "padding": null,
      "right": null,
      "top": null,
      "visibility": null,
      "width": null
     }
    },
    "db30c4a3abc84a14ba34ce1592e3304c": {
     "model_module": "@jupyter-widgets/controls",
     "model_module_version": "1.5.0",
     "model_name": "HBoxModel",
     "state": {
      "_dom_classes": [],
      "_model_module": "@jupyter-widgets/controls",
      "_model_module_version": "1.5.0",
      "_model_name": "HBoxModel",
      "_view_count": null,
      "_view_module": "@jupyter-widgets/controls",
      "_view_module_version": "1.5.0",
      "_view_name": "HBoxView",
      "box_style": "",
      "children": [
       "IPY_MODEL_32dc628015d6424290f12a7021b628d5",
       "IPY_MODEL_72d47fe435784a3b89794b648dcaca86",
       "IPY_MODEL_c08eed91f16e4d22951aa57ab1b1eed4"
      ],
      "layout": "IPY_MODEL_bb609b3044db4742845e5b5fd4e5d942"
     }
    },
    "de10f5236db74fe99aa7e931363d11fb": {
     "model_module": "@jupyter-widgets/base",
     "model_module_version": "1.2.0",
     "model_name": "LayoutModel",
     "state": {
      "_model_module": "@jupyter-widgets/base",
      "_model_module_version": "1.2.0",
      "_model_name": "LayoutModel",
      "_view_count": null,
      "_view_module": "@jupyter-widgets/base",
      "_view_module_version": "1.2.0",
      "_view_name": "LayoutView",
      "align_content": null,
      "align_items": null,
      "align_self": null,
      "border": null,
      "bottom": null,
      "display": null,
      "flex": null,
      "flex_flow": null,
      "grid_area": null,
      "grid_auto_columns": null,
      "grid_auto_flow": null,
      "grid_auto_rows": null,
      "grid_column": null,
      "grid_gap": null,
      "grid_row": null,
      "grid_template_areas": null,
      "grid_template_columns": null,
      "grid_template_rows": null,
      "height": null,
      "justify_content": null,
      "justify_items": null,
      "left": null,
      "margin": null,
      "max_height": null,
      "max_width": null,
      "min_height": null,
      "min_width": null,
      "object_fit": null,
      "object_position": null,
      "order": null,
      "overflow": null,
      "overflow_x": null,
      "overflow_y": null,
      "padding": null,
      "right": null,
      "top": null,
      "visibility": null,
      "width": null
     }
    },
    "e21c9bb2b4bc4854ad7cf467fcfa02fb": {
     "model_module": "@jupyter-widgets/controls",
     "model_module_version": "1.5.0",
     "model_name": "DescriptionStyleModel",
     "state": {
      "_model_module": "@jupyter-widgets/controls",
      "_model_module_version": "1.5.0",
      "_model_name": "DescriptionStyleModel",
      "_view_count": null,
      "_view_module": "@jupyter-widgets/base",
      "_view_module_version": "1.2.0",
      "_view_name": "StyleView",
      "description_width": ""
     }
    },
    "e29cfcae12154f63afb189418bd0dc87": {
     "model_module": "@jupyter-widgets/base",
     "model_module_version": "1.2.0",
     "model_name": "LayoutModel",
     "state": {
      "_model_module": "@jupyter-widgets/base",
      "_model_module_version": "1.2.0",
      "_model_name": "LayoutModel",
      "_view_count": null,
      "_view_module": "@jupyter-widgets/base",
      "_view_module_version": "1.2.0",
      "_view_name": "LayoutView",
      "align_content": null,
      "align_items": null,
      "align_self": null,
      "border": null,
      "bottom": null,
      "display": null,
      "flex": null,
      "flex_flow": null,
      "grid_area": null,
      "grid_auto_columns": null,
      "grid_auto_flow": null,
      "grid_auto_rows": null,
      "grid_column": null,
      "grid_gap": null,
      "grid_row": null,
      "grid_template_areas": null,
      "grid_template_columns": null,
      "grid_template_rows": null,
      "height": null,
      "justify_content": null,
      "justify_items": null,
      "left": null,
      "margin": null,
      "max_height": null,
      "max_width": null,
      "min_height": null,
      "min_width": null,
      "object_fit": null,
      "object_position": null,
      "order": null,
      "overflow": null,
      "overflow_x": null,
      "overflow_y": null,
      "padding": null,
      "right": null,
      "top": null,
      "visibility": null,
      "width": null
     }
    },
    "e55e743c274e4b5a8032bc20f65df7f8": {
     "model_module": "@jupyter-widgets/controls",
     "model_module_version": "1.5.0",
     "model_name": "DescriptionStyleModel",
     "state": {
      "_model_module": "@jupyter-widgets/controls",
      "_model_module_version": "1.5.0",
      "_model_name": "DescriptionStyleModel",
      "_view_count": null,
      "_view_module": "@jupyter-widgets/base",
      "_view_module_version": "1.2.0",
      "_view_name": "StyleView",
      "description_width": ""
     }
    },
    "e8110e48b07c4218be8e5cedeca15001": {
     "model_module": "@jupyter-widgets/controls",
     "model_module_version": "1.5.0",
     "model_name": "DescriptionStyleModel",
     "state": {
      "_model_module": "@jupyter-widgets/controls",
      "_model_module_version": "1.5.0",
      "_model_name": "DescriptionStyleModel",
      "_view_count": null,
      "_view_module": "@jupyter-widgets/base",
      "_view_module_version": "1.2.0",
      "_view_name": "StyleView",
      "description_width": ""
     }
    },
    "f7911ed8fd1e4e108a465d4f9bf8a3b9": {
     "model_module": "@jupyter-widgets/base",
     "model_module_version": "1.2.0",
     "model_name": "LayoutModel",
     "state": {
      "_model_module": "@jupyter-widgets/base",
      "_model_module_version": "1.2.0",
      "_model_name": "LayoutModel",
      "_view_count": null,
      "_view_module": "@jupyter-widgets/base",
      "_view_module_version": "1.2.0",
      "_view_name": "LayoutView",
      "align_content": null,
      "align_items": null,
      "align_self": null,
      "border": null,
      "bottom": null,
      "display": null,
      "flex": null,
      "flex_flow": null,
      "grid_area": null,
      "grid_auto_columns": null,
      "grid_auto_flow": null,
      "grid_auto_rows": null,
      "grid_column": null,
      "grid_gap": null,
      "grid_row": null,
      "grid_template_areas": null,
      "grid_template_columns": null,
      "grid_template_rows": null,
      "height": null,
      "justify_content": null,
      "justify_items": null,
      "left": null,
      "margin": null,
      "max_height": null,
      "max_width": null,
      "min_height": null,
      "min_width": null,
      "object_fit": null,
      "object_position": null,
      "order": null,
      "overflow": null,
      "overflow_x": null,
      "overflow_y": null,
      "padding": null,
      "right": null,
      "top": null,
      "visibility": null,
      "width": null
     }
    }
   }
  }
 },
 "nbformat": 4,
 "nbformat_minor": 4
}
