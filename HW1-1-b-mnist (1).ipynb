{
 "cells": [
  {
   "cell_type": "code",
   "execution_count": 4,
   "metadata": {
    "tags": []
   },
   "outputs": [],
   "source": [
    "import os\n",
    "os.environ['TF_CPP_MIN_LOG_LEVEL'] = '3'  \n"
   ]
  },
  {
   "cell_type": "code",
   "execution_count": 5,
   "metadata": {
    "executionInfo": {
     "elapsed": 9035,
     "status": "ok",
     "timestamp": 1676138329983,
     "user": {
      "displayName": "uma maheswara rao meleti",
      "userId": "16305935137347021824"
     },
     "user_tz": 300
    },
    "id": "LQ02DKnSgbAQ",
    "tags": []
   },
   "outputs": [],
   "source": [
    "\n",
    "import os\n",
    "import numpy as np\n",
    "import matplotlib.pyplot as plt\n",
    "import pandas as pd\n",
    "import sklearn\n",
    "import seaborn\n",
    "import torch.nn as nn\n",
    "import torch.nn.functional as F\n",
    "from torch import optim\n",
    "import torch\n",
    "from torchvision import datasets\n",
    "from torchvision.transforms import ToTensor\n",
    "from torchvision import transforms\n",
    "\n",
    "from torch.utils.data import TensorDataset\n",
    "from tqdm import tqdm\n",
    "from torch.utils.tensorboard import SummaryWriter\n",
    "from torch.utils.data import DataLoader\n",
    "\n",
    "import matplotlib.pyplot as plt\n",
    "import random"
   ]
  },
  {
   "cell_type": "code",
   "execution_count": 7,
   "metadata": {
    "executionInfo": {
     "elapsed": 131,
     "status": "ok",
     "timestamp": 1676138352929,
     "user": {
      "displayName": "uma maheswara rao meleti",
      "userId": "16305935137347021824"
     },
     "user_tz": 300
    },
    "id": "1Rzm5wpJgkhE",
    "tags": []
   },
   "outputs": [],
   "source": [
    "def seed_all(n=1337):\n",
    "  np.random.seed(n)\n",
    "  torch.manual_seed(n)\n",
    "  random.seed(n)\n",
    "\n",
    "seed_all(1211)"
   ]
  },
  {
   "cell_type": "code",
   "execution_count": 8,
   "metadata": {
    "executionInfo": {
     "elapsed": 129,
     "status": "ok",
     "timestamp": 1676138358110,
     "user": {
      "displayName": "uma maheswara rao meleti",
      "userId": "16305935137347021824"
     },
     "user_tz": 300
    },
    "id": "uL4wIAQig0i0",
    "tags": []
   },
   "outputs": [],
   "source": [
    "class Trainer:\n",
    "\n",
    "    def __init__(self,\n",
    "                 model: torch.nn.Module,\n",
    "                 device: torch.device,\n",
    "                 criterion: torch.nn.Module,\n",
    "                 optimizer: torch.optim.Optimizer,\n",
    "                 training_DataLoader: torch.utils.data.Dataset,\n",
    "                 validation_DataLoader: None,\n",
    "                 # lr_scheduler: torch.optim.lr_scheduler = None,\n",
    "                 epochs: int = 100,\n",
    "                 epoch: int = 0,\n",
    "                 notebook: bool = False,\n",
    "                 path2write: str = None,\n",
    "                 save_best=False,\n",
    "                 save_final=True,\n",
    "                 save_interval=10,\n",
    "                 checkpoint_start_epoch=50\n",
    "                 ):\n",
    "        self.model = model\n",
    "        self.criterion = criterion\n",
    "        self.optimizer = optimizer\n",
    "        # self.lr_scheduler = lr_scheduler\n",
    "        self.training_DataLoader = training_DataLoader\n",
    "        self.validation_DataLoader = validation_DataLoader\n",
    "        self.device = device\n",
    "        self.epochs = epochs\n",
    "        self.epoch = epoch\n",
    "        self.notebook = notebook\n",
    "        #             if self.notebook:\n",
    "        #                 print('Notebook')\n",
    "        #                 from tqdm.notebook import tqdm, trange\n",
    "        #             else:\n",
    "        #                 from tqdm import tqdm, trange\n",
    "        self.path2write = path2write\n",
    "        LOG_DIR = os.path.join(path2write, 'Log')  # path2write + 'Log/'\n",
    "        self.writer_train = SummaryWriter(os.path.join(LOG_DIR, \"train\"))\n",
    "        self.writer_val = SummaryWriter(os.path.join(LOG_DIR, \"val\"))\n",
    "        self.check_point_path = os.path.join(path2write, 'check_points')\n",
    "        if not os.path.exists(self.check_point_path):\n",
    "            os.makedirs(self.check_point_path)\n",
    "        self.save_best = save_best\n",
    "        self.save_final = save_final\n",
    "        self.save_interval = save_interval\n",
    "        self.checkpoint_start_epoch = checkpoint_start_epoch\n",
    "        self.training_loss = []\n",
    "        self.validation_loss = []\n",
    "        self.learning_rate = []\n",
    "        self.training_accuracy = []\n",
    "        self.validation_accuracy = []\n",
    "\n",
    "    def run_trainer(self):\n",
    "        self.model.to(self.device)\n",
    "        #         print(next(self.model.parameters()).device)\n",
    "        if self.notebook:\n",
    "            print('Notebook')\n",
    "            from tqdm.notebook import tqdm, trange\n",
    "        else:\n",
    "            from tqdm import tqdm, trange\n",
    "        #         print(self.epochs)\n",
    "        progressbar = trange(self.epochs, desc='Progress', disable=True)  # don't show progressbar\n",
    "        loss_max = None\n",
    "        for epoch in progressbar:\n",
    "            print(f'Epoch - {epoch}')\n",
    "\n",
    "            # Training Block\n",
    "            train_loss, train_accuracy = self._train()\n",
    "            self.writer_train.add_scalar(\"Train Loss\", train_loss, epoch)\n",
    "            self.writer_train.add_scalar(\"Train Accuracy\", train_accuracy, epoch)\n",
    "\n",
    "\n",
    "            # Val Block\n",
    "            val_loss, val_accuracy = self._validate()\n",
    "            self.writer_val.add_scalar(\"Val Loss\", val_loss, epoch)\n",
    "            self.writer_val.add_scalar(\"Val Accuracy\", val_accuracy, epoch)\n",
    "\n",
    "            # lr\n",
    "            self.writer_train.add_scalar(\"Learning Rate\", self.optimizer.param_groups[0]['lr'], epoch)\n",
    "\n",
    "            print('Epoch - {} Train Loss - {:.6f} Val Loss - {:.6f} Train Accuracy - {:.6f} Val Accuracy - {:.6f}'.format(epoch, train_loss, val_loss, train_accuracy, val_accuracy))\n",
    "            if self.save_final:\n",
    "                if epoch == self.epochs-1:\n",
    "                    model_name = 'epoch-{}-loss{:.6f}'.format(epoch, val_loss)\n",
    "                    torch.save(self.model.state_dict(), os.path.join(self.check_point_path, model_name))\n",
    "            # if epoch == 0:\n",
    "            #     loss_max = val_loss\n",
    "            #     print(loss_max)\n",
    "            #     pass\n",
    "            # if self.save_best and epoch >= self.checkpoint_start_epoch:\n",
    "            #     if val_loss < loss_max:  # loss decreased\n",
    "            #         print('Saving Checkpoint at val loss dropped from {:.6f} -> {:.6f}'.format(loss_max, val_loss))\n",
    "            #         model_name = 'epoch-{}-loss{:.6f}'.format(epoch, val_loss)\n",
    "            #         # torch.save(self.model.state_dict(), os.path.join(self.check_point_path, model_name))\n",
    "            # elif epoch % self.save_interval == 0:\n",
    "            #     print('Saving Checkpoint Val loss - {:.6f}'.format(val_loss))\n",
    "            #     model_name = 'epoch-{}-loss{:.6f}'.format(epoch, val_loss)\n",
    "            #     torch.save(self.model.state_dict(), os.path.join(self.check_point_path, model_name))\n",
    "            loss_max = val_loss\n",
    "\n",
    "        return self.training_loss, self.validation_loss, self.model, self.training_accuracy, self.validation_accuracy\n",
    "\n",
    "    def _train(self):\n",
    "\n",
    "        self.model.train()\n",
    "        train_losses = []\n",
    "        batch_iter = tqdm(enumerate(self.training_DataLoader), 'Training', total=len(self.training_DataLoader),\n",
    "                          disable=False)\n",
    "        batch_acc = 0\n",
    "        for i, (x, y) in batch_iter:\n",
    "            input, target = x.type(torch.float32).to(self.device), y.type(torch.float32).to(self.device)\n",
    "            self.optimizer.zero_grad()\n",
    "            target = target.type(torch.LongTensor).to(self.device)\n",
    "            output = self.model(input)\n",
    "            # target = target.unsqueeze(-1)\n",
    "            # print('Target Shape - ', target.shape)\n",
    "            # print('Output Shape - ', output.shape)\n",
    "            loss = self.criterion(output, target)\n",
    "            train_losses.append(loss.item())\n",
    "            loss.backward()\n",
    "            self.optimizer.step()\n",
    "            pred = output.argmax(dim=1, keepdim=True) # max of prob\n",
    "            pred = pred.flatten()\n",
    "            # correct += pred.eq(target.view_as(pred)).sum().item() \n",
    "            batch_acc += torch.mean(pred.eq(target.view_as(pred)).type(torch.FloatTensor))\n",
    "            # batch_acc += (sum(pred.eq(target.view_as(pred)).type(torch.FloatTensor))/len(pred.eq(target.view_as(pred)).type(torch.FloatTensor)))\n",
    "        accuracy = batch_acc/len(self.training_DataLoader)\n",
    "        self.training_loss.append(np.mean(train_losses))  # Mean batch loss\n",
    "        self.learning_rate.append(self.optimizer.param_groups[0]['lr'])\n",
    "        self.training_accuracy.append(accuracy)\n",
    "\n",
    "        batch_iter.close()  # clean up the bar\n",
    "        return np.mean(train_losses), accuracy\n",
    "\n",
    "    def _validate(self):\n",
    "\n",
    "        self.model.eval()\n",
    "        valid_losses = []\n",
    "        batch_iter = tqdm(enumerate(self.validation_DataLoader), 'validation', total=len(self.validation_DataLoader), disable=False)\n",
    "        batch_acc = 0\n",
    "        for i, (x, y) in batch_iter:\n",
    "            input, target = x.type(torch.float32).to(self.device), y.to(self.device)\n",
    "            with torch.no_grad():\n",
    "                output = self.model(input)\n",
    "                # target = target.unsqueeze(-1)\n",
    "                target = target.type(torch.LongTensor).to(self.device)\n",
    "                loss = self.criterion(output, target)\n",
    "                valid_losses.append(loss.item())\n",
    "                pred = output.argmax(dim=1, keepdim=True)\n",
    "                # correct += pred.eq(target.view_as(pred)).sum().item()\n",
    "                batch_acc += torch.mean(pred.eq(target.view_as(pred)).type(torch.FloatTensor)).item()\n",
    "\n",
    "        accuracy = batch_acc/len(self.validation_DataLoader)\n",
    "        self.validation_loss.append(np.mean(valid_losses))\n",
    "        self.validation_accuracy.append(accuracy)\n",
    "        batch_iter.close()\n",
    "        return np.mean(valid_losses), accuracy"
   ]
  },
  {
   "cell_type": "code",
   "execution_count": 9,
   "metadata": {
    "executionInfo": {
     "elapsed": 133,
     "status": "ok",
     "timestamp": 1676138363144,
     "user": {
      "displayName": "uma maheswara rao meleti",
      "userId": "16305935137347021824"
     },
     "user_tz": 300
    },
    "id": "klgTGCvYg4kE",
    "tags": []
   },
   "outputs": [],
   "source": [
    "class CNN0(nn.Module):\n",
    "  def __init__(self):\n",
    "    super().__init__()\n",
    "    self.conv1 = nn.Conv2d(1, 32, kernel_size=3, stride=1, padding=1) #op dim stays same #  (W - F + 2*P)/S + 1\n",
    "    self.conv2 = nn.Conv2d(32, 64, kernel_size=3, stride=1, padding=1) \n",
    "\n",
    "    self.pool1 = nn.MaxPool2d(kernel_size=2, stride=2) # half of input\n",
    "    self.pool2 = nn.MaxPool2d(kernel_size=2, stride=2)\n",
    "\n",
    "    self.dense1 = nn.Linear(64*7*7, 128) #(28/2/2) -> 7\n",
    "    self.dense2 = nn.Linear(128, 10)\n",
    "\n",
    "\n",
    "  def forward(self, x):\n",
    "    x = self.conv1(x)\n",
    "    x = F.relu(x)\n",
    "    x = self.pool1(x)\n",
    "    x = self.conv2(x)\n",
    "    x = F.relu(x)\n",
    "    x = self.pool2(x)\n",
    "    x = x.view(x.shape[0], -1)\n",
    "    x = self.dense1(x)\n",
    "    x = self.dense2(x)\n",
    "    output = F.log_softmax(x, dim=1)\n",
    "    return output\n",
    "\n",
    "class CNN1(nn.Module):\n",
    "  def __init__(self):\n",
    "    super().__init__()\n",
    "    \n",
    "    self.conv1 = nn.Conv2d(1, 32, kernel_size=3, stride=1, padding=1)\n",
    "    self.conv2 = nn.Conv2d(32, 64, kernel_size=3, stride=1, padding=1)\n",
    "    self.conv3 = nn.Conv2d(64, 128, kernel_size=3, stride=1, padding=1)\n",
    "\n",
    "    self.pool1 = nn.MaxPool2d(kernel_size=2, stride=2) # half of input\n",
    "    self.pool2 = nn.MaxPool2d(kernel_size=2, stride=2)\n",
    "\n",
    "    self.dense1 = nn.Linear(128*7*7, 128)\n",
    "    self.dense2 = nn.Linear(128, 10)\n",
    "\n",
    "  def forward(self, x):\n",
    "    x = self.conv1(x)\n",
    "    x = F.relu(x)\n",
    "    x = self.pool1(x)\n",
    "    x = self.conv2(x)\n",
    "    x = F.relu(x)\n",
    "    x = self.pool2(x)\n",
    "    x = self.conv3(x)\n",
    "    x = F.relu(x)\n",
    "    x = x.view(x.shape[0], -1) #flatten the vector\n",
    "    x = self.dense1(x)\n",
    "    x = self.dense2(x)\n",
    "    output = F.log_softmax(x, dim=1)\n",
    "    return output\n",
    "\n",
    "class CNN2(nn.Module):\n",
    "  def __init__(self):\n",
    "    super().__init__()\n",
    "    self.conv1 = nn.Conv2d(1, 32, kernel_size=3, stride=1, padding=1)\n",
    "    self.pool1 = nn.MaxPool2d(kernel_size=2, stride=2)\n",
    "\n",
    "    self.dense1 = nn.Linear(32*14*14, 128)\n",
    "    self.dense2 = nn.Linear(128, 10)\n",
    "\n",
    "  def forward(self, x):\n",
    "    x = self.conv1(x)\n",
    "    x = F.relu(x)\n",
    "    x = self.pool1(x)\n",
    "    x = x.view(x.shape[0], -1)\n",
    "    x = self.dense1(x)\n",
    "    x = self.dense2(x)\n",
    "    out = F.log_softmax(x)\n",
    "    return out\n",
    "\n",
    "class DNN0(nn.Module): #for mnist\n",
    "  def __init__(self):\n",
    "    super().__init__()\n",
    "    self.layer1 = nn.Conv2d(28*28, 64)\n",
    "    self.layer2 = nn.Conv2d(64, 32)\n",
    "    self.layer3 = nn.Conv2d(32, 16)\n",
    "    self.layer4 = nn.Conv2d(16, 10)\n",
    "\n",
    "  def forward(self, x):\n",
    "    x = self.layer1(x)\n",
    "    x = self.layer2(x)\n",
    "    x = self.layer3(x)\n",
    "    x = self.layer4(x)\n",
    "    out = F.log_softmax(x)\n",
    "\n",
    "    return out\n",
    "\n",
    "class DNN1(nn.Module): #for mnist\n",
    "  def __init__(self):\n",
    "    super().__init__()\n",
    "    self.layer1 = nn.Conv2d(28*28, 32)\n",
    "    self.layer2 = nn.Conv2d(32, 16)\n",
    "    self.layer3 = nn.Conv2d(16, 10)\n",
    "\n",
    "  def forward(self, x):\n",
    "    x = self.layer1(x)\n",
    "    x = self.layer2(x)\n",
    "    x = self.layer3(x)\n",
    "    out = F.log_softmax(x)\n",
    "\n",
    "    return out\n",
    "\n",
    "class DNN2(nn.Module): #for mnist\n",
    "  def __init__(self):\n",
    "    super().__init__()\n",
    "    self.layer1 = nn.Conv2d(28*28, 64)\n",
    "    self.layer2 = nn.Conv2d(64, 32)\n",
    "    self.layer3 = nn.Conv2d(32, 16)\n",
    "    self.layer4 = nn.Conv2d(16, 10)\n",
    "\n",
    "  def forward(self, x):\n",
    "    x = self.layer1(x)\n",
    "    x = self.layer2(x)\n",
    "    x = self.layer3(x)\n",
    "    x = self.layer4(x)\n",
    "    out = F.log_softmax(x)\n",
    "\n",
    "    return out\n",
    "\n",
    "\n"
   ]
  },
  {
   "cell_type": "code",
   "execution_count": 16,
   "metadata": {
    "executionInfo": {
     "elapsed": 269,
     "status": "ok",
     "timestamp": 1676138457440,
     "user": {
      "displayName": "uma maheswara rao meleti",
      "userId": "16305935137347021824"
     },
     "user_tz": 300
    },
    "id": "kW7JuX5fCZ-a",
    "tags": []
   },
   "outputs": [],
   "source": [
    "#dataset prepration\n",
    "bath_size = 1024\n",
    "\n",
    "transform=transforms.Compose([\n",
    "        transforms.ToTensor()\n",
    "        ])\n",
    "dataset1 = datasets.MNIST(root='Home work', train=True, download=True, transform=transform)\n",
    "dataset2 = datasets.MNIST(root='Home work', train=False, transform=transform)\n",
    "\n",
    "training_DataLoader = DataLoader(dataset1, batch_size=bath_size, shuffle=True)\n",
    "validation_DataLoader= DataLoader(dataset2, batch_size=bath_size, shuffle=True)"
   ]
  },
  {
   "cell_type": "code",
   "execution_count": 17,
   "metadata": {
    "executionInfo": {
     "elapsed": 133,
     "status": "ok",
     "timestamp": 1676138462512,
     "user": {
      "displayName": "uma maheswara rao meleti",
      "userId": "16305935137347021824"
     },
     "user_tz": 300
    },
    "id": "HAtGU5fZ0bqu",
    "tags": []
   },
   "outputs": [],
   "source": [
    "gpu_id = 0\n",
    "loss_fn = nn.CrossEntropyLoss()\n",
    "lr = 1e-4\n",
    "epochs =  50\n",
    "notebook = True\n",
    "checkpoint_start_epoch = 5 #Not using\n",
    "path2write = \"drive/MyDrive/DL_homework/HW1_1/CNN/\""
   ]
  },
  {
   "cell_type": "code",
   "execution_count": 20,
   "metadata": {
    "colab": {
     "base_uri": "https://localhost:8080/"
    },
    "executionInfo": {
     "elapsed": 457793,
     "status": "ok",
     "timestamp": 1676138921405,
     "user": {
      "displayName": "uma maheswara rao meleti",
      "userId": "16305935137347021824"
     },
     "user_tz": 300
    },
    "id": "KOxhx3bdEKrc",
    "outputId": "e7783f13-c0af-48d9-d36e-b70d8544419d",
    "tags": []
   },
   "outputs": [
    {
     "name": "stdout",
     "output_type": "stream",
     "text": [
      "Notebook\n",
      "Epoch - 0\n"
     ]
    },
    {
     "name": "stderr",
     "output_type": "stream",
     "text": [
      "Training: 100%|██████████| 59/59 [00:04<00:00, 14.11it/s]\n",
      "validation: 100%|██████████| 10/10 [00:00<00:00, 15.42it/s]\n"
     ]
    },
    {
     "name": "stdout",
     "output_type": "stream",
     "text": [
      "Epoch - 0 Train Loss - 1.939678 Val Loss - 1.332731 Train Accuracy - 0.617537 Val Accuracy - 0.804432\n",
      "Epoch - 1\n"
     ]
    },
    {
     "name": "stderr",
     "output_type": "stream",
     "text": [
      "Training: 100%|██████████| 59/59 [00:04<00:00, 14.15it/s]\n",
      "validation: 100%|██████████| 10/10 [00:00<00:00, 15.39it/s]\n"
     ]
    },
    {
     "name": "stdout",
     "output_type": "stream",
     "text": [
      "Epoch - 1 Train Loss - 0.849737 Val Loss - 0.528177 Train Accuracy - 0.825031 Val Accuracy - 0.872889\n",
      "Epoch - 2\n"
     ]
    },
    {
     "name": "stderr",
     "output_type": "stream",
     "text": [
      "Training: 100%|██████████| 59/59 [00:04<00:00, 14.19it/s]\n",
      "validation: 100%|██████████| 10/10 [00:00<00:00, 15.34it/s]\n"
     ]
    },
    {
     "name": "stdout",
     "output_type": "stream",
     "text": [
      "Epoch - 2 Train Loss - 0.443638 Val Loss - 0.358662 Train Accuracy - 0.882170 Val Accuracy - 0.904165\n",
      "Epoch - 3\n"
     ]
    },
    {
     "name": "stderr",
     "output_type": "stream",
     "text": [
      "Training: 100%|██████████| 59/59 [00:04<00:00, 14.20it/s]\n",
      "validation: 100%|██████████| 10/10 [00:00<00:00, 15.34it/s]\n"
     ]
    },
    {
     "name": "stdout",
     "output_type": "stream",
     "text": [
      "Epoch - 3 Train Loss - 0.334068 Val Loss - 0.290248 Train Accuracy - 0.906625 Val Accuracy - 0.919346\n",
      "Epoch - 4\n"
     ]
    },
    {
     "name": "stderr",
     "output_type": "stream",
     "text": [
      "Training: 100%|██████████| 59/59 [00:04<00:00, 14.16it/s]\n",
      "validation: 100%|██████████| 10/10 [00:00<00:00, 15.42it/s]\n"
     ]
    },
    {
     "name": "stdout",
     "output_type": "stream",
     "text": [
      "Epoch - 4 Train Loss - 0.279715 Val Loss - 0.252381 Train Accuracy - 0.919909 Val Accuracy - 0.928833\n",
      "Epoch - 5\n"
     ]
    },
    {
     "name": "stderr",
     "output_type": "stream",
     "text": [
      "Training: 100%|██████████| 59/59 [00:04<00:00, 14.17it/s]\n",
      "validation: 100%|██████████| 10/10 [00:00<00:00, 15.40it/s]\n"
     ]
    },
    {
     "name": "stdout",
     "output_type": "stream",
     "text": [
      "Epoch - 5 Train Loss - 0.242917 Val Loss - 0.216040 Train Accuracy - 0.930255 Val Accuracy - 0.938401\n",
      "Epoch - 6\n"
     ]
    },
    {
     "name": "stderr",
     "output_type": "stream",
     "text": [
      "Training: 100%|██████████| 59/59 [00:04<00:00, 14.17it/s]\n",
      "validation: 100%|██████████| 10/10 [00:00<00:00, 15.41it/s]\n"
     ]
    },
    {
     "name": "stdout",
     "output_type": "stream",
     "text": [
      "Epoch - 6 Train Loss - 0.213936 Val Loss - 0.190095 Train Accuracy - 0.937397 Val Accuracy - 0.944621\n",
      "Epoch - 7\n"
     ]
    },
    {
     "name": "stderr",
     "output_type": "stream",
     "text": [
      "Training: 100%|██████████| 59/59 [00:04<00:00, 14.20it/s]\n",
      "validation: 100%|██████████| 10/10 [00:00<00:00, 15.29it/s]\n"
     ]
    },
    {
     "name": "stdout",
     "output_type": "stream",
     "text": [
      "Epoch - 7 Train Loss - 0.189871 Val Loss - 0.169672 Train Accuracy - 0.944580 Val Accuracy - 0.951891\n",
      "Epoch - 8\n"
     ]
    },
    {
     "name": "stderr",
     "output_type": "stream",
     "text": [
      "Training: 100%|██████████| 59/59 [00:04<00:00, 13.44it/s]\n",
      "validation: 100%|██████████| 10/10 [00:00<00:00, 15.20it/s]\n"
     ]
    },
    {
     "name": "stdout",
     "output_type": "stream",
     "text": [
      "Epoch - 8 Train Loss - 0.168689 Val Loss - 0.148816 Train Accuracy - 0.950552 Val Accuracy - 0.956758\n",
      "Epoch - 9\n"
     ]
    },
    {
     "name": "stderr",
     "output_type": "stream",
     "text": [
      "Training: 100%|██████████| 59/59 [00:04<00:00, 14.13it/s]\n",
      "validation: 100%|██████████| 10/10 [00:00<00:00, 15.32it/s]\n"
     ]
    },
    {
     "name": "stdout",
     "output_type": "stream",
     "text": [
      "Epoch - 9 Train Loss - 0.151015 Val Loss - 0.132861 Train Accuracy - 0.956010 Val Accuracy - 0.961402\n",
      "Epoch - 10\n"
     ]
    },
    {
     "name": "stderr",
     "output_type": "stream",
     "text": [
      "Training: 100%|██████████| 59/59 [00:04<00:00, 14.26it/s]\n",
      "validation: 100%|██████████| 10/10 [00:00<00:00, 15.50it/s]\n"
     ]
    },
    {
     "name": "stdout",
     "output_type": "stream",
     "text": [
      "Epoch - 10 Train Loss - 0.136232 Val Loss - 0.119867 Train Accuracy - 0.960469 Val Accuracy - 0.965240\n",
      "Epoch - 11\n"
     ]
    },
    {
     "name": "stderr",
     "output_type": "stream",
     "text": [
      "Training: 100%|██████████| 59/59 [00:04<00:00, 14.16it/s]\n",
      "validation: 100%|██████████| 10/10 [00:00<00:00, 15.46it/s]\n"
     ]
    },
    {
     "name": "stdout",
     "output_type": "stream",
     "text": [
      "Epoch - 11 Train Loss - 0.123662 Val Loss - 0.107802 Train Accuracy - 0.964313 Val Accuracy - 0.967642\n",
      "Epoch - 12\n"
     ]
    },
    {
     "name": "stderr",
     "output_type": "stream",
     "text": [
      "Training: 100%|██████████| 59/59 [00:04<00:00, 14.20it/s]\n",
      "validation: 100%|██████████| 10/10 [00:00<00:00, 15.35it/s]\n"
     ]
    },
    {
     "name": "stdout",
     "output_type": "stream",
     "text": [
      "Epoch - 12 Train Loss - 0.112496 Val Loss - 0.097870 Train Accuracy - 0.967763 Val Accuracy - 0.971773\n",
      "Epoch - 13\n"
     ]
    },
    {
     "name": "stderr",
     "output_type": "stream",
     "text": [
      "Training: 100%|██████████| 59/59 [00:04<00:00, 14.16it/s]\n",
      "validation: 100%|██████████| 10/10 [00:00<00:00, 15.40it/s]\n"
     ]
    },
    {
     "name": "stdout",
     "output_type": "stream",
     "text": [
      "Epoch - 13 Train Loss - 0.104354 Val Loss - 0.090145 Train Accuracy - 0.970026 Val Accuracy - 0.973515\n",
      "Epoch - 14\n"
     ]
    },
    {
     "name": "stderr",
     "output_type": "stream",
     "text": [
      "Training: 100%|██████████| 59/59 [00:04<00:00, 14.20it/s]\n",
      "validation: 100%|██████████| 10/10 [00:00<00:00, 15.27it/s]\n"
     ]
    },
    {
     "name": "stdout",
     "output_type": "stream",
     "text": [
      "Epoch - 14 Train Loss - 0.096718 Val Loss - 0.085305 Train Accuracy - 0.972111 Val Accuracy - 0.974289\n",
      "Epoch - 15\n"
     ]
    },
    {
     "name": "stderr",
     "output_type": "stream",
     "text": [
      "Training: 100%|██████████| 59/59 [00:04<00:00, 14.20it/s]\n",
      "validation: 100%|██████████| 10/10 [00:00<00:00, 15.50it/s]\n"
     ]
    },
    {
     "name": "stdout",
     "output_type": "stream",
     "text": [
      "Epoch - 15 Train Loss - 0.090600 Val Loss - 0.080890 Train Accuracy - 0.973926 Val Accuracy - 0.976258\n",
      "Epoch - 16\n"
     ]
    },
    {
     "name": "stderr",
     "output_type": "stream",
     "text": [
      "Training: 100%|██████████| 59/59 [00:04<00:00, 14.20it/s]\n",
      "validation: 100%|██████████| 10/10 [00:00<00:00, 15.47it/s]\n"
     ]
    },
    {
     "name": "stdout",
     "output_type": "stream",
     "text": [
      "Epoch - 16 Train Loss - 0.084969 Val Loss - 0.074260 Train Accuracy - 0.975605 Val Accuracy - 0.977519\n",
      "Epoch - 17\n"
     ]
    },
    {
     "name": "stderr",
     "output_type": "stream",
     "text": [
      "Training: 100%|██████████| 59/59 [00:04<00:00, 13.37it/s]\n",
      "validation: 100%|██████████| 10/10 [00:00<00:00, 15.38it/s]\n"
     ]
    },
    {
     "name": "stdout",
     "output_type": "stream",
     "text": [
      "Epoch - 17 Train Loss - 0.080963 Val Loss - 0.072092 Train Accuracy - 0.976718 Val Accuracy - 0.978263\n",
      "Epoch - 18\n"
     ]
    },
    {
     "name": "stderr",
     "output_type": "stream",
     "text": [
      "Training: 100%|██████████| 59/59 [00:04<00:00, 14.12it/s]\n",
      "validation: 100%|██████████| 10/10 [00:00<00:00, 15.31it/s]\n"
     ]
    },
    {
     "name": "stdout",
     "output_type": "stream",
     "text": [
      "Epoch - 18 Train Loss - 0.076380 Val Loss - 0.067401 Train Accuracy - 0.978551 Val Accuracy - 0.979060\n",
      "Epoch - 19\n"
     ]
    },
    {
     "name": "stderr",
     "output_type": "stream",
     "text": [
      "Training: 100%|██████████| 59/59 [00:04<00:00, 14.17it/s]\n",
      "validation: 100%|██████████| 10/10 [00:00<00:00, 15.41it/s]\n"
     ]
    },
    {
     "name": "stdout",
     "output_type": "stream",
     "text": [
      "Epoch - 19 Train Loss - 0.073664 Val Loss - 0.066333 Train Accuracy - 0.978915 Val Accuracy - 0.979412\n",
      "Epoch - 20\n"
     ]
    },
    {
     "name": "stderr",
     "output_type": "stream",
     "text": [
      "Training: 100%|██████████| 59/59 [00:04<00:00, 14.19it/s]\n",
      "validation: 100%|██████████| 10/10 [00:00<00:00, 15.36it/s]\n"
     ]
    },
    {
     "name": "stdout",
     "output_type": "stream",
     "text": [
      "Epoch - 20 Train Loss - 0.070977 Val Loss - 0.062244 Train Accuracy - 0.980024 Val Accuracy - 0.980546\n",
      "Epoch - 21\n"
     ]
    },
    {
     "name": "stderr",
     "output_type": "stream",
     "text": [
      "Training: 100%|██████████| 59/59 [00:04<00:00, 14.15it/s]\n",
      "validation: 100%|██████████| 10/10 [00:00<00:00, 15.44it/s]\n"
     ]
    },
    {
     "name": "stdout",
     "output_type": "stream",
     "text": [
      "Epoch - 21 Train Loss - 0.067982 Val Loss - 0.060985 Train Accuracy - 0.980648 Val Accuracy - 0.980953\n",
      "Epoch - 22\n"
     ]
    },
    {
     "name": "stderr",
     "output_type": "stream",
     "text": [
      "Training: 100%|██████████| 59/59 [00:04<00:00, 14.20it/s]\n",
      "validation: 100%|██████████| 10/10 [00:00<00:00, 15.53it/s]\n"
     ]
    },
    {
     "name": "stdout",
     "output_type": "stream",
     "text": [
      "Epoch - 22 Train Loss - 0.065130 Val Loss - 0.058167 Train Accuracy - 0.981630 Val Accuracy - 0.980899\n",
      "Epoch - 23\n"
     ]
    },
    {
     "name": "stderr",
     "output_type": "stream",
     "text": [
      "Training: 100%|██████████| 59/59 [00:04<00:00, 14.16it/s]\n",
      "validation: 100%|██████████| 10/10 [00:00<00:00, 15.27it/s]\n"
     ]
    },
    {
     "name": "stdout",
     "output_type": "stream",
     "text": [
      "Epoch - 23 Train Loss - 0.063145 Val Loss - 0.058724 Train Accuracy - 0.981950 Val Accuracy - 0.981320\n",
      "Epoch - 24\n"
     ]
    },
    {
     "name": "stderr",
     "output_type": "stream",
     "text": [
      "Training: 100%|██████████| 59/59 [00:04<00:00, 14.19it/s]\n",
      "validation: 100%|██████████| 10/10 [00:00<00:00, 15.34it/s]\n"
     ]
    },
    {
     "name": "stdout",
     "output_type": "stream",
     "text": [
      "Epoch - 24 Train Loss - 0.061289 Val Loss - 0.056767 Train Accuracy - 0.982513 Val Accuracy - 0.982326\n",
      "Epoch - 25\n"
     ]
    },
    {
     "name": "stderr",
     "output_type": "stream",
     "text": [
      "Training: 100%|██████████| 59/59 [00:04<00:00, 14.14it/s]\n",
      "validation: 100%|██████████| 10/10 [00:00<00:00, 15.52it/s]\n"
     ]
    },
    {
     "name": "stdout",
     "output_type": "stream",
     "text": [
      "Epoch - 25 Train Loss - 0.058991 Val Loss - 0.053541 Train Accuracy - 0.983032 Val Accuracy - 0.982649\n",
      "Epoch - 26\n"
     ]
    },
    {
     "name": "stderr",
     "output_type": "stream",
     "text": [
      "Training: 100%|██████████| 59/59 [00:04<00:00, 13.41it/s]\n",
      "validation: 100%|██████████| 10/10 [00:00<00:00, 15.53it/s]\n"
     ]
    },
    {
     "name": "stdout",
     "output_type": "stream",
     "text": [
      "Epoch - 26 Train Loss - 0.057618 Val Loss - 0.052546 Train Accuracy - 0.983483 Val Accuracy - 0.982237\n",
      "Epoch - 27\n"
     ]
    },
    {
     "name": "stderr",
     "output_type": "stream",
     "text": [
      "Training: 100%|██████████| 59/59 [00:04<00:00, 14.19it/s]\n",
      "validation: 100%|██████████| 10/10 [00:00<00:00, 15.37it/s]\n"
     ]
    },
    {
     "name": "stdout",
     "output_type": "stream",
     "text": [
      "Epoch - 27 Train Loss - 0.055488 Val Loss - 0.054143 Train Accuracy - 0.983921 Val Accuracy - 0.981756\n",
      "Epoch - 28\n"
     ]
    },
    {
     "name": "stderr",
     "output_type": "stream",
     "text": [
      "Training: 100%|██████████| 59/59 [00:04<00:00, 14.23it/s]\n",
      "validation: 100%|██████████| 10/10 [00:00<00:00, 15.54it/s]\n"
     ]
    },
    {
     "name": "stdout",
     "output_type": "stream",
     "text": [
      "Epoch - 28 Train Loss - 0.054031 Val Loss - 0.049988 Train Accuracy - 0.984619 Val Accuracy - 0.983333\n",
      "Epoch - 29\n"
     ]
    },
    {
     "name": "stderr",
     "output_type": "stream",
     "text": [
      "Training: 100%|██████████| 59/59 [00:04<00:00, 14.20it/s]\n",
      "validation: 100%|██████████| 10/10 [00:00<00:00, 15.25it/s]\n"
     ]
    },
    {
     "name": "stdout",
     "output_type": "stream",
     "text": [
      "Epoch - 29 Train Loss - 0.052514 Val Loss - 0.049767 Train Accuracy - 0.984885 Val Accuracy - 0.983235\n",
      "Epoch - 30\n"
     ]
    },
    {
     "name": "stderr",
     "output_type": "stream",
     "text": [
      "Training: 100%|██████████| 59/59 [00:04<00:00, 14.23it/s]\n",
      "validation: 100%|██████████| 10/10 [00:00<00:00, 15.42it/s]\n"
     ]
    },
    {
     "name": "stdout",
     "output_type": "stream",
     "text": [
      "Epoch - 30 Train Loss - 0.052112 Val Loss - 0.047997 Train Accuracy - 0.984813 Val Accuracy - 0.983875\n",
      "Epoch - 31\n"
     ]
    },
    {
     "name": "stderr",
     "output_type": "stream",
     "text": [
      "Training: 100%|██████████| 59/59 [00:04<00:00, 14.15it/s]\n",
      "validation: 100%|██████████| 10/10 [00:00<00:00, 15.53it/s]\n"
     ]
    },
    {
     "name": "stdout",
     "output_type": "stream",
     "text": [
      "Epoch - 31 Train Loss - 0.050030 Val Loss - 0.047115 Train Accuracy - 0.985642 Val Accuracy - 0.984662\n",
      "Epoch - 32\n"
     ]
    },
    {
     "name": "stderr",
     "output_type": "stream",
     "text": [
      "Training: 100%|██████████| 59/59 [00:04<00:00, 14.27it/s]\n",
      "validation: 100%|██████████| 10/10 [00:00<00:00, 15.45it/s]\n"
     ]
    },
    {
     "name": "stdout",
     "output_type": "stream",
     "text": [
      "Epoch - 32 Train Loss - 0.049039 Val Loss - 0.047259 Train Accuracy - 0.985829 Val Accuracy - 0.984542\n",
      "Epoch - 33\n"
     ]
    },
    {
     "name": "stderr",
     "output_type": "stream",
     "text": [
      "Training: 100%|██████████| 59/59 [00:04<00:00, 14.28it/s]\n",
      "validation: 100%|██████████| 10/10 [00:00<00:00, 15.52it/s]\n"
     ]
    },
    {
     "name": "stdout",
     "output_type": "stream",
     "text": [
      "Epoch - 33 Train Loss - 0.047819 Val Loss - 0.045502 Train Accuracy - 0.986373 Val Accuracy - 0.985174\n",
      "Epoch - 34\n"
     ]
    },
    {
     "name": "stderr",
     "output_type": "stream",
     "text": [
      "Training: 100%|██████████| 59/59 [00:04<00:00, 14.21it/s]\n",
      "validation: 100%|██████████| 10/10 [00:00<00:00, 15.45it/s]\n"
     ]
    },
    {
     "name": "stdout",
     "output_type": "stream",
     "text": [
      "Epoch - 34 Train Loss - 0.046761 Val Loss - 0.045055 Train Accuracy - 0.986243 Val Accuracy - 0.985120\n",
      "Epoch - 35\n"
     ]
    },
    {
     "name": "stderr",
     "output_type": "stream",
     "text": [
      "Training: 100%|██████████| 59/59 [00:04<00:00, 14.31it/s]\n",
      "validation: 100%|██████████| 10/10 [00:00<00:00, 11.33it/s]\n"
     ]
    },
    {
     "name": "stdout",
     "output_type": "stream",
     "text": [
      "Epoch - 35 Train Loss - 0.045556 Val Loss - 0.044163 Train Accuracy - 0.987088 Val Accuracy - 0.984776\n",
      "Epoch - 36\n"
     ]
    },
    {
     "name": "stderr",
     "output_type": "stream",
     "text": [
      "Training: 100%|██████████| 59/59 [00:04<00:00, 14.23it/s]\n",
      "validation: 100%|██████████| 10/10 [00:00<00:00, 15.54it/s]\n"
     ]
    },
    {
     "name": "stdout",
     "output_type": "stream",
     "text": [
      "Epoch - 36 Train Loss - 0.044737 Val Loss - 0.044802 Train Accuracy - 0.987103 Val Accuracy - 0.985924\n",
      "Epoch - 37\n"
     ]
    },
    {
     "name": "stderr",
     "output_type": "stream",
     "text": [
      "Training: 100%|██████████| 59/59 [00:04<00:00, 14.20it/s]\n",
      "validation: 100%|██████████| 10/10 [00:00<00:00, 15.51it/s]\n"
     ]
    },
    {
     "name": "stdout",
     "output_type": "stream",
     "text": [
      "Epoch - 37 Train Loss - 0.043508 Val Loss - 0.043317 Train Accuracy - 0.987280 Val Accuracy - 0.985182\n",
      "Epoch - 38\n"
     ]
    },
    {
     "name": "stderr",
     "output_type": "stream",
     "text": [
      "Training: 100%|██████████| 59/59 [00:04<00:00, 14.27it/s]\n",
      "validation: 100%|██████████| 10/10 [00:00<00:00, 15.49it/s]\n"
     ]
    },
    {
     "name": "stdout",
     "output_type": "stream",
     "text": [
      "Epoch - 38 Train Loss - 0.043305 Val Loss - 0.043521 Train Accuracy - 0.987517 Val Accuracy - 0.986308\n",
      "Epoch - 39\n"
     ]
    },
    {
     "name": "stderr",
     "output_type": "stream",
     "text": [
      "Training: 100%|██████████| 59/59 [00:04<00:00, 14.25it/s]\n",
      "validation: 100%|██████████| 10/10 [00:00<00:00, 15.58it/s]\n"
     ]
    },
    {
     "name": "stdout",
     "output_type": "stream",
     "text": [
      "Epoch - 39 Train Loss - 0.042087 Val Loss - 0.042006 Train Accuracy - 0.987745 Val Accuracy - 0.985481\n",
      "Epoch - 40\n"
     ]
    },
    {
     "name": "stderr",
     "output_type": "stream",
     "text": [
      "Training: 100%|██████████| 59/59 [00:04<00:00, 14.25it/s]\n",
      "validation: 100%|██████████| 10/10 [00:00<00:00, 15.56it/s]\n"
     ]
    },
    {
     "name": "stdout",
     "output_type": "stream",
     "text": [
      "Epoch - 40 Train Loss - 0.040858 Val Loss - 0.040996 Train Accuracy - 0.988158 Val Accuracy - 0.986585\n",
      "Epoch - 41\n"
     ]
    },
    {
     "name": "stderr",
     "output_type": "stream",
     "text": [
      "Training: 100%|██████████| 59/59 [00:04<00:00, 14.18it/s]\n",
      "validation: 100%|██████████| 10/10 [00:00<00:00, 15.54it/s]\n"
     ]
    },
    {
     "name": "stdout",
     "output_type": "stream",
     "text": [
      "Epoch - 41 Train Loss - 0.039622 Val Loss - 0.040786 Train Accuracy - 0.988506 Val Accuracy - 0.986466\n",
      "Epoch - 42\n"
     ]
    },
    {
     "name": "stderr",
     "output_type": "stream",
     "text": [
      "Training: 100%|██████████| 59/59 [00:04<00:00, 14.09it/s]\n",
      "validation: 100%|██████████| 10/10 [00:00<00:00, 15.32it/s]\n"
     ]
    },
    {
     "name": "stdout",
     "output_type": "stream",
     "text": [
      "Epoch - 42 Train Loss - 0.040006 Val Loss - 0.040268 Train Accuracy - 0.988472 Val Accuracy - 0.986938\n",
      "Epoch - 43\n"
     ]
    },
    {
     "name": "stderr",
     "output_type": "stream",
     "text": [
      "Training: 100%|██████████| 59/59 [00:04<00:00, 13.89it/s]\n",
      "validation: 100%|██████████| 10/10 [00:00<00:00, 15.37it/s]\n"
     ]
    },
    {
     "name": "stdout",
     "output_type": "stream",
     "text": [
      "Epoch - 43 Train Loss - 0.039508 Val Loss - 0.041690 Train Accuracy - 0.988625 Val Accuracy - 0.986645\n",
      "Epoch - 44\n"
     ]
    },
    {
     "name": "stderr",
     "output_type": "stream",
     "text": [
      "Training: 100%|██████████| 59/59 [00:04<00:00, 14.10it/s]\n",
      "validation: 100%|██████████| 10/10 [00:00<00:00, 11.34it/s]\n"
     ]
    },
    {
     "name": "stdout",
     "output_type": "stream",
     "text": [
      "Epoch - 44 Train Loss - 0.038872 Val Loss - 0.041532 Train Accuracy - 0.988793 Val Accuracy - 0.986308\n",
      "Epoch - 45\n"
     ]
    },
    {
     "name": "stderr",
     "output_type": "stream",
     "text": [
      "Training: 100%|██████████| 59/59 [00:04<00:00, 14.21it/s]\n",
      "validation: 100%|██████████| 10/10 [00:00<00:00, 15.47it/s]\n"
     ]
    },
    {
     "name": "stdout",
     "output_type": "stream",
     "text": [
      "Epoch - 45 Train Loss - 0.037454 Val Loss - 0.039742 Train Accuracy - 0.989222 Val Accuracy - 0.986224\n",
      "Epoch - 46\n"
     ]
    },
    {
     "name": "stderr",
     "output_type": "stream",
     "text": [
      "Training: 100%|██████████| 59/59 [00:04<00:00, 14.18it/s]\n",
      "validation: 100%|██████████| 10/10 [00:00<00:00, 15.44it/s]\n"
     ]
    },
    {
     "name": "stdout",
     "output_type": "stream",
     "text": [
      "Epoch - 46 Train Loss - 0.037223 Val Loss - 0.038598 Train Accuracy - 0.989195 Val Accuracy - 0.985676\n",
      "Epoch - 47\n"
     ]
    },
    {
     "name": "stderr",
     "output_type": "stream",
     "text": [
      "Training: 100%|██████████| 59/59 [00:04<00:00, 14.25it/s]\n",
      "validation: 100%|██████████| 10/10 [00:00<00:00, 15.38it/s]\n"
     ]
    },
    {
     "name": "stdout",
     "output_type": "stream",
     "text": [
      "Epoch - 47 Train Loss - 0.036072 Val Loss - 0.040206 Train Accuracy - 0.989377 Val Accuracy - 0.985001\n",
      "Epoch - 48\n"
     ]
    },
    {
     "name": "stderr",
     "output_type": "stream",
     "text": [
      "Training: 100%|██████████| 59/59 [00:04<00:00, 14.21it/s]\n",
      "validation: 100%|██████████| 10/10 [00:00<00:00, 15.58it/s]\n"
     ]
    },
    {
     "name": "stdout",
     "output_type": "stream",
     "text": [
      "Epoch - 48 Train Loss - 0.035893 Val Loss - 0.038745 Train Accuracy - 0.989702 Val Accuracy - 0.986653\n",
      "Epoch - 49\n"
     ]
    },
    {
     "name": "stderr",
     "output_type": "stream",
     "text": [
      "Training: 100%|██████████| 59/59 [00:04<00:00, 14.10it/s]\n",
      "validation: 100%|██████████| 10/10 [00:00<00:00, 15.30it/s]"
     ]
    },
    {
     "name": "stdout",
     "output_type": "stream",
     "text": [
      "Epoch - 49 Train Loss - 0.034820 Val Loss - 0.037478 Train Accuracy - 0.989962 Val Accuracy - 0.987163\n"
     ]
    },
    {
     "name": "stderr",
     "output_type": "stream",
     "text": [
      "\n"
     ]
    }
   ],
   "source": [
    "model0 = CNN0()\n",
    "optimizer = torch.optim.Adam(model0.parameters(), lr = lr)\n",
    "trainer = Trainer(model=model0,\n",
    "                      device=gpu_id,\n",
    "                      criterion=loss_fn,\n",
    "                      optimizer=optimizer,\n",
    "                      training_DataLoader=training_DataLoader,\n",
    "                      validation_DataLoader=validation_DataLoader,\n",
    "                      # lr_scheduler=lr_scheduler,\n",
    "                      epochs=epochs,\n",
    "                      epoch=0,\n",
    "                      notebook=True,\n",
    "                      path2write= path2write,\n",
    "                      checkpoint_start_epoch=checkpoint_start_epoch )\n",
    "training_loss0, validation_loss0, model0, training_accuracy0, validation_accuracy0 = trainer.run_trainer()"
   ]
  },
  {
   "cell_type": "code",
   "execution_count": 22,
   "metadata": {
    "colab": {
     "base_uri": "https://localhost:8080/"
    },
    "executionInfo": {
     "elapsed": 477612,
     "status": "ok",
     "timestamp": 1676139399138,
     "user": {
      "displayName": "uma maheswara rao meleti",
      "userId": "16305935137347021824"
     },
     "user_tz": 300
    },
    "id": "GpwXXxrEnInW",
    "outputId": "601c1241-dad6-4572-ab2d-0928116cc8bf",
    "tags": []
   },
   "outputs": [
    {
     "name": "stdout",
     "output_type": "stream",
     "text": [
      "Notebook\n",
      "Epoch - 0\n"
     ]
    },
    {
     "name": "stderr",
     "output_type": "stream",
     "text": [
      "Training: 100%|██████████| 59/59 [00:04<00:00, 13.87it/s]\n",
      "validation: 100%|██████████| 10/10 [00:00<00:00, 15.49it/s]\n"
     ]
    },
    {
     "name": "stdout",
     "output_type": "stream",
     "text": [
      "Epoch - 0 Train Loss - 1.693749 Val Loss - 0.746753 Train Accuracy - 0.624003 Val Accuracy - 0.808347\n",
      "Epoch - 1\n"
     ]
    },
    {
     "name": "stderr",
     "output_type": "stream",
     "text": [
      "Training: 100%|██████████| 59/59 [00:04<00:00, 13.42it/s]\n",
      "validation: 100%|██████████| 10/10 [00:00<00:00, 15.56it/s]\n"
     ]
    },
    {
     "name": "stdout",
     "output_type": "stream",
     "text": [
      "Epoch - 1 Train Loss - 0.514259 Val Loss - 0.377082 Train Accuracy - 0.851712 Val Accuracy - 0.889286\n",
      "Epoch - 2\n"
     ]
    },
    {
     "name": "stderr",
     "output_type": "stream",
     "text": [
      "Training: 100%|██████████| 59/59 [00:04<00:00, 14.12it/s]\n",
      "validation: 100%|██████████| 10/10 [00:00<00:00, 15.61it/s]\n"
     ]
    },
    {
     "name": "stdout",
     "output_type": "stream",
     "text": [
      "Epoch - 2 Train Loss - 0.349378 Val Loss - 0.296155 Train Accuracy - 0.895403 Val Accuracy - 0.911802\n",
      "Epoch - 3\n"
     ]
    },
    {
     "name": "stderr",
     "output_type": "stream",
     "text": [
      "Training: 100%|██████████| 59/59 [00:04<00:00, 14.09it/s]\n",
      "validation: 100%|██████████| 10/10 [00:00<00:00, 15.50it/s]\n"
     ]
    },
    {
     "name": "stdout",
     "output_type": "stream",
     "text": [
      "Epoch - 3 Train Loss - 0.282933 Val Loss - 0.242541 Train Accuracy - 0.916947 Val Accuracy - 0.927419\n",
      "Epoch - 4\n"
     ]
    },
    {
     "name": "stderr",
     "output_type": "stream",
     "text": [
      "Training: 100%|██████████| 59/59 [00:04<00:00, 14.11it/s]\n",
      "validation: 100%|██████████| 10/10 [00:00<00:00, 15.39it/s]\n"
     ]
    },
    {
     "name": "stdout",
     "output_type": "stream",
     "text": [
      "Epoch - 4 Train Loss - 0.235439 Val Loss - 0.199134 Train Accuracy - 0.930014 Val Accuracy - 0.942186\n",
      "Epoch - 5\n"
     ]
    },
    {
     "name": "stderr",
     "output_type": "stream",
     "text": [
      "Training: 100%|██████████| 59/59 [00:04<00:00, 14.12it/s]\n",
      "validation: 100%|██████████| 10/10 [00:00<00:00, 15.39it/s]\n"
     ]
    },
    {
     "name": "stdout",
     "output_type": "stream",
     "text": [
      "Epoch - 5 Train Loss - 0.193138 Val Loss - 0.162194 Train Accuracy - 0.942781 Val Accuracy - 0.952770\n",
      "Epoch - 6\n"
     ]
    },
    {
     "name": "stderr",
     "output_type": "stream",
     "text": [
      "Training: 100%|██████████| 59/59 [00:04<00:00, 14.09it/s]\n",
      "validation: 100%|██████████| 10/10 [00:00<00:00, 15.54it/s]\n"
     ]
    },
    {
     "name": "stdout",
     "output_type": "stream",
     "text": [
      "Epoch - 6 Train Loss - 0.159320 Val Loss - 0.131764 Train Accuracy - 0.952675 Val Accuracy - 0.962159\n",
      "Epoch - 7\n"
     ]
    },
    {
     "name": "stderr",
     "output_type": "stream",
     "text": [
      "Training: 100%|██████████| 59/59 [00:04<00:00, 14.08it/s]\n",
      "validation: 100%|██████████| 10/10 [00:00<00:00, 12.03it/s]\n"
     ]
    },
    {
     "name": "stdout",
     "output_type": "stream",
     "text": [
      "Epoch - 7 Train Loss - 0.131756 Val Loss - 0.111479 Train Accuracy - 0.960847 Val Accuracy - 0.966223\n",
      "Epoch - 8\n"
     ]
    },
    {
     "name": "stderr",
     "output_type": "stream",
     "text": [
      "Training: 100%|██████████| 59/59 [00:04<00:00, 14.13it/s]\n",
      "validation: 100%|██████████| 10/10 [00:00<00:00, 15.63it/s]\n"
     ]
    },
    {
     "name": "stdout",
     "output_type": "stream",
     "text": [
      "Epoch - 8 Train Loss - 0.114463 Val Loss - 0.096080 Train Accuracy - 0.966279 Val Accuracy - 0.971429\n",
      "Epoch - 9\n"
     ]
    },
    {
     "name": "stderr",
     "output_type": "stream",
     "text": [
      "Training: 100%|██████████| 59/59 [00:04<00:00, 14.12it/s]\n",
      "validation: 100%|██████████| 10/10 [00:00<00:00, 15.55it/s]\n"
     ]
    },
    {
     "name": "stdout",
     "output_type": "stream",
     "text": [
      "Epoch - 9 Train Loss - 0.101194 Val Loss - 0.085546 Train Accuracy - 0.970026 Val Accuracy - 0.974334\n",
      "Epoch - 10\n"
     ]
    },
    {
     "name": "stderr",
     "output_type": "stream",
     "text": [
      "Training: 100%|██████████| 59/59 [00:04<00:00, 14.19it/s]\n",
      "validation: 100%|██████████| 10/10 [00:00<00:00, 15.66it/s]\n"
     ]
    },
    {
     "name": "stdout",
     "output_type": "stream",
     "text": [
      "Epoch - 10 Train Loss - 0.089763 Val Loss - 0.075794 Train Accuracy - 0.973363 Val Accuracy - 0.977541\n",
      "Epoch - 11\n"
     ]
    },
    {
     "name": "stderr",
     "output_type": "stream",
     "text": [
      "Training: 100%|██████████| 59/59 [00:04<00:00, 14.14it/s]\n",
      "validation: 100%|██████████| 10/10 [00:00<00:00, 15.70it/s]\n"
     ]
    },
    {
     "name": "stdout",
     "output_type": "stream",
     "text": [
      "Epoch - 11 Train Loss - 0.082543 Val Loss - 0.068025 Train Accuracy - 0.975558 Val Accuracy - 0.979630\n",
      "Epoch - 12\n"
     ]
    },
    {
     "name": "stderr",
     "output_type": "stream",
     "text": [
      "Training: 100%|██████████| 59/59 [00:04<00:00, 14.12it/s]\n",
      "validation: 100%|██████████| 10/10 [00:00<00:00, 15.62it/s]\n"
     ]
    },
    {
     "name": "stdout",
     "output_type": "stream",
     "text": [
      "Epoch - 12 Train Loss - 0.076524 Val Loss - 0.063285 Train Accuracy - 0.977330 Val Accuracy - 0.981176\n",
      "Epoch - 13\n"
     ]
    },
    {
     "name": "stderr",
     "output_type": "stream",
     "text": [
      "Training: 100%|██████████| 59/59 [00:04<00:00, 14.13it/s]\n",
      "validation: 100%|██████████| 10/10 [00:00<00:00, 15.53it/s]\n"
     ]
    },
    {
     "name": "stdout",
     "output_type": "stream",
     "text": [
      "Epoch - 13 Train Loss - 0.071900 Val Loss - 0.062356 Train Accuracy - 0.978637 Val Accuracy - 0.980277\n",
      "Epoch - 14\n"
     ]
    },
    {
     "name": "stderr",
     "output_type": "stream",
     "text": [
      "Training: 100%|██████████| 59/59 [00:04<00:00, 14.13it/s]\n",
      "validation: 100%|██████████| 10/10 [00:00<00:00, 15.41it/s]\n"
     ]
    },
    {
     "name": "stdout",
     "output_type": "stream",
     "text": [
      "Epoch - 14 Train Loss - 0.066598 Val Loss - 0.056760 Train Accuracy - 0.980961 Val Accuracy - 0.982492\n",
      "Epoch - 15\n"
     ]
    },
    {
     "name": "stderr",
     "output_type": "stream",
     "text": [
      "Training: 100%|██████████| 59/59 [00:04<00:00, 14.16it/s]\n",
      "validation: 100%|██████████| 10/10 [00:00<00:00, 15.63it/s]\n"
     ]
    },
    {
     "name": "stdout",
     "output_type": "stream",
     "text": [
      "Epoch - 15 Train Loss - 0.062828 Val Loss - 0.053007 Train Accuracy - 0.981475 Val Accuracy - 0.982320\n",
      "Epoch - 16\n"
     ]
    },
    {
     "name": "stderr",
     "output_type": "stream",
     "text": [
      "Training: 100%|██████████| 59/59 [00:04<00:00, 14.18it/s]\n",
      "validation: 100%|██████████| 10/10 [00:00<00:00, 15.64it/s]\n"
     ]
    },
    {
     "name": "stdout",
     "output_type": "stream",
     "text": [
      "Epoch - 16 Train Loss - 0.059554 Val Loss - 0.055296 Train Accuracy - 0.982541 Val Accuracy - 0.982101\n",
      "Epoch - 17\n"
     ]
    },
    {
     "name": "stderr",
     "output_type": "stream",
     "text": [
      "Training: 100%|██████████| 59/59 [00:04<00:00, 13.48it/s]\n",
      "validation: 100%|██████████| 10/10 [00:00<00:00, 15.68it/s]\n"
     ]
    },
    {
     "name": "stdout",
     "output_type": "stream",
     "text": [
      "Epoch - 17 Train Loss - 0.057581 Val Loss - 0.050018 Train Accuracy - 0.982964 Val Accuracy - 0.983257\n",
      "Epoch - 18\n"
     ]
    },
    {
     "name": "stderr",
     "output_type": "stream",
     "text": [
      "Training: 100%|██████████| 59/59 [00:04<00:00, 14.16it/s]\n",
      "validation: 100%|██████████| 10/10 [00:00<00:00, 15.64it/s]\n"
     ]
    },
    {
     "name": "stdout",
     "output_type": "stream",
     "text": [
      "Epoch - 18 Train Loss - 0.054032 Val Loss - 0.045676 Train Accuracy - 0.984212 Val Accuracy - 0.984798\n",
      "Epoch - 19\n"
     ]
    },
    {
     "name": "stderr",
     "output_type": "stream",
     "text": [
      "Training: 100%|██████████| 59/59 [00:04<00:00, 14.11it/s]\n",
      "validation: 100%|██████████| 10/10 [00:00<00:00, 15.54it/s]\n"
     ]
    },
    {
     "name": "stdout",
     "output_type": "stream",
     "text": [
      "Epoch - 19 Train Loss - 0.051372 Val Loss - 0.045991 Train Accuracy - 0.984907 Val Accuracy - 0.984301\n",
      "Epoch - 20\n"
     ]
    },
    {
     "name": "stderr",
     "output_type": "stream",
     "text": [
      "Training: 100%|██████████| 59/59 [00:04<00:00, 14.16it/s]\n",
      "validation: 100%|██████████| 10/10 [00:00<00:00, 15.68it/s]\n"
     ]
    },
    {
     "name": "stdout",
     "output_type": "stream",
     "text": [
      "Epoch - 20 Train Loss - 0.050077 Val Loss - 0.043994 Train Accuracy - 0.985239 Val Accuracy - 0.985308\n",
      "Epoch - 21\n"
     ]
    },
    {
     "name": "stderr",
     "output_type": "stream",
     "text": [
      "Training: 100%|██████████| 59/59 [00:04<00:00, 14.19it/s]\n",
      "validation: 100%|██████████| 10/10 [00:00<00:00, 15.60it/s]\n"
     ]
    },
    {
     "name": "stdout",
     "output_type": "stream",
     "text": [
      "Epoch - 21 Train Loss - 0.048663 Val Loss - 0.043387 Train Accuracy - 0.985531 Val Accuracy - 0.984955\n",
      "Epoch - 22\n"
     ]
    },
    {
     "name": "stderr",
     "output_type": "stream",
     "text": [
      "Training: 100%|██████████| 59/59 [00:04<00:00, 14.18it/s]\n",
      "validation: 100%|██████████| 10/10 [00:00<00:00, 15.64it/s]\n"
     ]
    },
    {
     "name": "stdout",
     "output_type": "stream",
     "text": [
      "Epoch - 22 Train Loss - 0.047281 Val Loss - 0.042937 Train Accuracy - 0.986293 Val Accuracy - 0.985001\n",
      "Epoch - 23\n"
     ]
    },
    {
     "name": "stderr",
     "output_type": "stream",
     "text": [
      "Training: 100%|██████████| 59/59 [00:04<00:00, 13.52it/s]\n",
      "validation: 100%|██████████| 10/10 [00:00<00:00, 15.70it/s]\n"
     ]
    },
    {
     "name": "stdout",
     "output_type": "stream",
     "text": [
      "Epoch - 23 Train Loss - 0.045026 Val Loss - 0.041464 Train Accuracy - 0.986972 Val Accuracy - 0.985150\n",
      "Epoch - 24\n"
     ]
    },
    {
     "name": "stderr",
     "output_type": "stream",
     "text": [
      "Training: 100%|██████████| 59/59 [00:04<00:00, 14.14it/s]\n",
      "validation: 100%|██████████| 10/10 [00:00<00:00, 15.74it/s]\n"
     ]
    },
    {
     "name": "stdout",
     "output_type": "stream",
     "text": [
      "Epoch - 24 Train Loss - 0.043914 Val Loss - 0.040789 Train Accuracy - 0.986761 Val Accuracy - 0.985346\n",
      "Epoch - 25\n"
     ]
    },
    {
     "name": "stderr",
     "output_type": "stream",
     "text": [
      "Training: 100%|██████████| 59/59 [00:04<00:00, 14.14it/s]\n",
      "validation: 100%|██████████| 10/10 [00:00<00:00, 15.78it/s]\n"
     ]
    },
    {
     "name": "stdout",
     "output_type": "stream",
     "text": [
      "Epoch - 25 Train Loss - 0.042043 Val Loss - 0.039446 Train Accuracy - 0.987655 Val Accuracy - 0.986488\n",
      "Epoch - 26\n"
     ]
    },
    {
     "name": "stderr",
     "output_type": "stream",
     "text": [
      "Training: 100%|██████████| 59/59 [00:04<00:00, 14.16it/s]\n",
      "validation: 100%|██████████| 10/10 [00:00<00:00, 15.60it/s]\n"
     ]
    },
    {
     "name": "stdout",
     "output_type": "stream",
     "text": [
      "Epoch - 26 Train Loss - 0.040807 Val Loss - 0.038592 Train Accuracy - 0.988175 Val Accuracy - 0.985924\n",
      "Epoch - 27\n"
     ]
    },
    {
     "name": "stderr",
     "output_type": "stream",
     "text": [
      "Training: 100%|██████████| 59/59 [00:04<00:00, 14.15it/s]\n",
      "validation: 100%|██████████| 10/10 [00:00<00:00, 15.61it/s]\n"
     ]
    },
    {
     "name": "stdout",
     "output_type": "stream",
     "text": [
      "Epoch - 27 Train Loss - 0.039600 Val Loss - 0.035241 Train Accuracy - 0.988295 Val Accuracy - 0.987095\n",
      "Epoch - 28\n"
     ]
    },
    {
     "name": "stderr",
     "output_type": "stream",
     "text": [
      "Training: 100%|██████████| 59/59 [00:04<00:00, 14.22it/s]\n",
      "validation: 100%|██████████| 10/10 [00:00<00:00, 15.71it/s]\n"
     ]
    },
    {
     "name": "stdout",
     "output_type": "stream",
     "text": [
      "Epoch - 28 Train Loss - 0.038603 Val Loss - 0.036540 Train Accuracy - 0.988892 Val Accuracy - 0.986976\n",
      "Epoch - 29\n"
     ]
    },
    {
     "name": "stderr",
     "output_type": "stream",
     "text": [
      "Training: 100%|██████████| 59/59 [00:04<00:00, 13.51it/s]\n",
      "validation: 100%|██████████| 10/10 [00:00<00:00, 15.73it/s]\n"
     ]
    },
    {
     "name": "stdout",
     "output_type": "stream",
     "text": [
      "Epoch - 29 Train Loss - 0.037540 Val Loss - 0.034557 Train Accuracy - 0.988627 Val Accuracy - 0.988215\n",
      "Epoch - 30\n"
     ]
    },
    {
     "name": "stderr",
     "output_type": "stream",
     "text": [
      "Training: 100%|██████████| 59/59 [00:04<00:00, 14.07it/s]\n",
      "validation: 100%|██████████| 10/10 [00:00<00:00, 15.47it/s]\n"
     ]
    },
    {
     "name": "stdout",
     "output_type": "stream",
     "text": [
      "Epoch - 30 Train Loss - 0.036498 Val Loss - 0.034819 Train Accuracy - 0.989036 Val Accuracy - 0.986802\n",
      "Epoch - 31\n"
     ]
    },
    {
     "name": "stderr",
     "output_type": "stream",
     "text": [
      "Training: 100%|██████████| 59/59 [00:04<00:00, 13.93it/s]\n",
      "validation: 100%|██████████| 10/10 [00:00<00:00, 15.38it/s]\n"
     ]
    },
    {
     "name": "stdout",
     "output_type": "stream",
     "text": [
      "Epoch - 31 Train Loss - 0.035166 Val Loss - 0.034227 Train Accuracy - 0.989608 Val Accuracy - 0.988118\n",
      "Epoch - 32\n"
     ]
    },
    {
     "name": "stderr",
     "output_type": "stream",
     "text": [
      "Training: 100%|██████████| 59/59 [00:04<00:00, 14.03it/s]\n",
      "validation: 100%|██████████| 10/10 [00:00<00:00, 15.65it/s]\n"
     ]
    },
    {
     "name": "stdout",
     "output_type": "stream",
     "text": [
      "Epoch - 32 Train Loss - 0.035477 Val Loss - 0.034647 Train Accuracy - 0.989674 Val Accuracy - 0.987952\n",
      "Epoch - 33\n"
     ]
    },
    {
     "name": "stderr",
     "output_type": "stream",
     "text": [
      "Training: 100%|██████████| 59/59 [00:04<00:00, 14.17it/s]\n",
      "validation: 100%|██████████| 10/10 [00:00<00:00, 15.66it/s]\n"
     ]
    },
    {
     "name": "stdout",
     "output_type": "stream",
     "text": [
      "Epoch - 33 Train Loss - 0.033732 Val Loss - 0.031589 Train Accuracy - 0.989974 Val Accuracy - 0.988734\n",
      "Epoch - 34\n"
     ]
    },
    {
     "name": "stderr",
     "output_type": "stream",
     "text": [
      "Training: 100%|██████████| 59/59 [00:04<00:00, 14.14it/s]\n",
      "validation: 100%|██████████| 10/10 [00:00<00:00, 15.59it/s]\n"
     ]
    },
    {
     "name": "stdout",
     "output_type": "stream",
     "text": [
      "Epoch - 34 Train Loss - 0.032955 Val Loss - 0.032869 Train Accuracy - 0.990354 Val Accuracy - 0.988215\n",
      "Epoch - 35\n"
     ]
    },
    {
     "name": "stderr",
     "output_type": "stream",
     "text": [
      "Training: 100%|██████████| 59/59 [00:04<00:00, 14.15it/s]\n",
      "validation: 100%|██████████| 10/10 [00:00<00:00, 15.64it/s]\n"
     ]
    },
    {
     "name": "stdout",
     "output_type": "stream",
     "text": [
      "Epoch - 35 Train Loss - 0.031961 Val Loss - 0.034783 Train Accuracy - 0.990408 Val Accuracy - 0.987749\n",
      "Epoch - 36\n"
     ]
    },
    {
     "name": "stderr",
     "output_type": "stream",
     "text": [
      "Training: 100%|██████████| 59/59 [00:04<00:00, 14.14it/s]\n",
      "validation: 100%|██████████| 10/10 [00:00<00:00, 15.42it/s]\n"
     ]
    },
    {
     "name": "stdout",
     "output_type": "stream",
     "text": [
      "Epoch - 36 Train Loss - 0.031361 Val Loss - 0.031297 Train Accuracy - 0.990889 Val Accuracy - 0.988883\n",
      "Epoch - 37\n"
     ]
    },
    {
     "name": "stderr",
     "output_type": "stream",
     "text": [
      "Training: 100%|██████████| 59/59 [00:04<00:00, 14.15it/s]\n",
      "validation: 100%|██████████| 10/10 [00:00<00:00, 15.51it/s]\n"
     ]
    },
    {
     "name": "stdout",
     "output_type": "stream",
     "text": [
      "Epoch - 37 Train Loss - 0.030437 Val Loss - 0.032515 Train Accuracy - 0.991044 Val Accuracy - 0.988471\n",
      "Epoch - 38\n"
     ]
    },
    {
     "name": "stderr",
     "output_type": "stream",
     "text": [
      "Training: 100%|██████████| 59/59 [00:04<00:00, 13.47it/s]\n",
      "validation: 100%|██████████| 10/10 [00:00<00:00, 15.55it/s]\n"
     ]
    },
    {
     "name": "stdout",
     "output_type": "stream",
     "text": [
      "Epoch - 38 Train Loss - 0.029823 Val Loss - 0.030364 Train Accuracy - 0.990834 Val Accuracy - 0.989792\n",
      "Epoch - 39\n"
     ]
    },
    {
     "name": "stderr",
     "output_type": "stream",
     "text": [
      "Training: 100%|██████████| 59/59 [00:04<00:00, 14.12it/s]\n",
      "validation: 100%|██████████| 10/10 [00:00<00:00, 15.70it/s]\n"
     ]
    },
    {
     "name": "stdout",
     "output_type": "stream",
     "text": [
      "Epoch - 39 Train Loss - 0.028258 Val Loss - 0.029654 Train Accuracy - 0.991591 Val Accuracy - 0.989049\n",
      "Epoch - 40\n"
     ]
    },
    {
     "name": "stderr",
     "output_type": "stream",
     "text": [
      "Training: 100%|██████████| 59/59 [00:04<00:00, 14.10it/s]\n",
      "validation: 100%|██████████| 10/10 [00:00<00:00, 15.50it/s]\n"
     ]
    },
    {
     "name": "stdout",
     "output_type": "stream",
     "text": [
      "Epoch - 40 Train Loss - 0.028393 Val Loss - 0.031500 Train Accuracy - 0.991469 Val Accuracy - 0.988598\n",
      "Epoch - 41\n"
     ]
    },
    {
     "name": "stderr",
     "output_type": "stream",
     "text": [
      "Training: 100%|██████████| 59/59 [00:04<00:00, 14.16it/s]\n",
      "validation: 100%|██████████| 10/10 [00:00<00:00, 15.53it/s]\n"
     ]
    },
    {
     "name": "stdout",
     "output_type": "stream",
     "text": [
      "Epoch - 41 Train Loss - 0.027216 Val Loss - 0.032289 Train Accuracy - 0.992148 Val Accuracy - 0.988682\n",
      "Epoch - 42\n"
     ]
    },
    {
     "name": "stderr",
     "output_type": "stream",
     "text": [
      "Training: 100%|██████████| 59/59 [00:04<00:00, 14.13it/s]\n",
      "validation: 100%|██████████| 10/10 [00:00<00:00, 15.58it/s]\n"
     ]
    },
    {
     "name": "stdout",
     "output_type": "stream",
     "text": [
      "Epoch - 42 Train Loss - 0.026870 Val Loss - 0.030125 Train Accuracy - 0.991939 Val Accuracy - 0.988929\n",
      "Epoch - 43\n"
     ]
    },
    {
     "name": "stderr",
     "output_type": "stream",
     "text": [
      "Training: 100%|██████████| 59/59 [00:04<00:00, 14.12it/s]\n",
      "validation: 100%|██████████| 10/10 [00:00<00:00, 15.68it/s]\n"
     ]
    },
    {
     "name": "stdout",
     "output_type": "stream",
     "text": [
      "Epoch - 43 Train Loss - 0.026194 Val Loss - 0.029447 Train Accuracy - 0.992451 Val Accuracy - 0.989830\n",
      "Epoch - 44\n"
     ]
    },
    {
     "name": "stderr",
     "output_type": "stream",
     "text": [
      "Training: 100%|██████████| 59/59 [00:04<00:00, 14.07it/s]\n",
      "validation: 100%|██████████| 10/10 [00:00<00:00, 15.69it/s]\n"
     ]
    },
    {
     "name": "stdout",
     "output_type": "stream",
     "text": [
      "Epoch - 44 Train Loss - 0.025350 Val Loss - 0.027688 Train Accuracy - 0.992512 Val Accuracy - 0.990191\n",
      "Epoch - 45\n"
     ]
    },
    {
     "name": "stderr",
     "output_type": "stream",
     "text": [
      "Training: 100%|██████████| 59/59 [00:04<00:00, 14.17it/s]\n",
      "validation: 100%|██████████| 10/10 [00:00<00:00, 15.58it/s]\n"
     ]
    },
    {
     "name": "stdout",
     "output_type": "stream",
     "text": [
      "Epoch - 45 Train Loss - 0.025026 Val Loss - 0.030221 Train Accuracy - 0.992534 Val Accuracy - 0.990071\n",
      "Epoch - 46\n"
     ]
    },
    {
     "name": "stderr",
     "output_type": "stream",
     "text": [
      "Training: 100%|██████████| 59/59 [00:04<00:00, 14.13it/s]\n",
      "validation: 100%|██████████| 10/10 [00:00<00:00, 15.57it/s]\n"
     ]
    },
    {
     "name": "stdout",
     "output_type": "stream",
     "text": [
      "Epoch - 46 Train Loss - 0.024329 Val Loss - 0.027842 Train Accuracy - 0.992776 Val Accuracy - 0.989822\n",
      "Epoch - 47\n"
     ]
    },
    {
     "name": "stderr",
     "output_type": "stream",
     "text": [
      "Training: 100%|██████████| 59/59 [00:04<00:00, 13.46it/s]\n",
      "validation: 100%|██████████| 10/10 [00:00<00:00, 15.56it/s]\n"
     ]
    },
    {
     "name": "stdout",
     "output_type": "stream",
     "text": [
      "Epoch - 47 Train Loss - 0.023452 Val Loss - 0.026703 Train Accuracy - 0.993363 Val Accuracy - 0.990220\n",
      "Epoch - 48\n"
     ]
    },
    {
     "name": "stderr",
     "output_type": "stream",
     "text": [
      "Training: 100%|██████████| 59/59 [00:04<00:00, 14.17it/s]\n",
      "validation: 100%|██████████| 10/10 [00:00<00:00, 15.55it/s]\n"
     ]
    },
    {
     "name": "stdout",
     "output_type": "stream",
     "text": [
      "Epoch - 48 Train Loss - 0.022744 Val Loss - 0.028920 Train Accuracy - 0.993577 Val Accuracy - 0.990071\n",
      "Epoch - 49\n"
     ]
    },
    {
     "name": "stderr",
     "output_type": "stream",
     "text": [
      "Training: 100%|██████████| 59/59 [00:04<00:00, 14.10it/s]\n",
      "validation: 100%|██████████| 10/10 [00:00<00:00, 15.56it/s]"
     ]
    },
    {
     "name": "stdout",
     "output_type": "stream",
     "text": [
      "Epoch - 49 Train Loss - 0.022357 Val Loss - 0.028420 Train Accuracy - 0.993500 Val Accuracy - 0.990499\n"
     ]
    },
    {
     "name": "stderr",
     "output_type": "stream",
     "text": [
      "\n"
     ]
    }
   ],
   "source": [
    "model1 = CNN1()\n",
    "optimizer = torch.optim.Adam(model1.parameters(), lr = lr)\n",
    "trainer = Trainer(model=model1,\n",
    "                      device=gpu_id,\n",
    "                      criterion=loss_fn,\n",
    "                      optimizer=optimizer,\n",
    "                      training_DataLoader=training_DataLoader,\n",
    "                      validation_DataLoader=validation_DataLoader,\n",
    "                      # lr_scheduler=lr_scheduler,\n",
    "                      epochs=epochs,\n",
    "                      epoch=0,\n",
    "                      notebook=True,\n",
    "                      path2write= path2write,\n",
    "                      checkpoint_start_epoch=checkpoint_start_epoch )\n",
    "training_loss1, validation_loss1, model1, training_accuracy1, validation_accuracy1 = trainer.run_trainer()"
   ]
  },
  {
   "cell_type": "code",
   "execution_count": 23,
   "metadata": {
    "colab": {
     "base_uri": "https://localhost:8080/"
    },
    "executionInfo": {
     "elapsed": 403586,
     "status": "ok",
     "timestamp": 1676139802706,
     "user": {
      "displayName": "uma maheswara rao meleti",
      "userId": "16305935137347021824"
     },
     "user_tz": 300
    },
    "id": "e8ryhzm7q7A8",
    "outputId": "38f62d0d-3164-456d-f489-31a6ae87a8cc",
    "tags": []
   },
   "outputs": [
    {
     "name": "stdout",
     "output_type": "stream",
     "text": [
      "Notebook\n",
      "Epoch - 0\n"
     ]
    },
    {
     "name": "stderr",
     "output_type": "stream",
     "text": [
      "Training:   0%|          | 0/59 [00:00<?, ?it/s]/local_scratch/slurm.707385/ipykernel_652033/3791466477.py:72: UserWarning: Implicit dimension choice for log_softmax has been deprecated. Change the call to include dim=X as an argument.\n",
      "  out = F.log_softmax(x)\n",
      "Training: 100%|██████████| 59/59 [00:03<00:00, 14.93it/s]\n",
      "validation: 100%|██████████| 10/10 [00:00<00:00, 15.90it/s]\n"
     ]
    },
    {
     "name": "stdout",
     "output_type": "stream",
     "text": [
      "Epoch - 0 Train Loss - 2.313547 Val Loss - 2.315073 Train Accuracy - 0.094375 Val Accuracy - 0.086858\n",
      "Epoch - 1\n"
     ]
    },
    {
     "name": "stderr",
     "output_type": "stream",
     "text": [
      "Training: 100%|██████████| 59/59 [00:03<00:00, 14.86it/s]\n",
      "validation: 100%|██████████| 10/10 [00:00<00:00, 15.87it/s]\n"
     ]
    },
    {
     "name": "stdout",
     "output_type": "stream",
     "text": [
      "Epoch - 1 Train Loss - 2.313571 Val Loss - 2.314961 Train Accuracy - 0.094329 Val Accuracy - 0.086649\n",
      "Epoch - 2\n"
     ]
    },
    {
     "name": "stderr",
     "output_type": "stream",
     "text": [
      "Training: 100%|██████████| 59/59 [00:03<00:00, 14.91it/s]\n",
      "validation: 100%|██████████| 10/10 [00:00<00:00, 15.88it/s]\n"
     ]
    },
    {
     "name": "stdout",
     "output_type": "stream",
     "text": [
      "Epoch - 2 Train Loss - 2.313585 Val Loss - 2.315151 Train Accuracy - 0.094239 Val Accuracy - 0.086649\n",
      "Epoch - 3\n"
     ]
    },
    {
     "name": "stderr",
     "output_type": "stream",
     "text": [
      "Training: 100%|██████████| 59/59 [00:04<00:00, 14.27it/s]\n",
      "validation: 100%|██████████| 10/10 [00:00<00:00, 15.73it/s]\n"
     ]
    },
    {
     "name": "stdout",
     "output_type": "stream",
     "text": [
      "Epoch - 3 Train Loss - 2.313563 Val Loss - 2.315048 Train Accuracy - 0.094239 Val Accuracy - 0.086739\n",
      "Epoch - 4\n"
     ]
    },
    {
     "name": "stderr",
     "output_type": "stream",
     "text": [
      "Training: 100%|██████████| 59/59 [00:03<00:00, 14.96it/s]\n",
      "validation: 100%|██████████| 10/10 [00:00<00:00, 15.78it/s]\n"
     ]
    },
    {
     "name": "stdout",
     "output_type": "stream",
     "text": [
      "Epoch - 4 Train Loss - 2.313532 Val Loss - 2.315057 Train Accuracy - 0.094397 Val Accuracy - 0.086440\n",
      "Epoch - 5\n"
     ]
    },
    {
     "name": "stderr",
     "output_type": "stream",
     "text": [
      "Training: 100%|██████████| 59/59 [00:03<00:00, 14.99it/s]\n",
      "validation: 100%|██████████| 10/10 [00:00<00:00, 15.88it/s]\n"
     ]
    },
    {
     "name": "stdout",
     "output_type": "stream",
     "text": [
      "Epoch - 5 Train Loss - 2.313554 Val Loss - 2.314932 Train Accuracy - 0.094239 Val Accuracy - 0.086769\n",
      "Epoch - 6\n"
     ]
    },
    {
     "name": "stderr",
     "output_type": "stream",
     "text": [
      "Training: 100%|██████████| 59/59 [00:03<00:00, 14.97it/s]\n",
      "validation: 100%|██████████| 10/10 [00:00<00:00, 15.71it/s]\n"
     ]
    },
    {
     "name": "stdout",
     "output_type": "stream",
     "text": [
      "Epoch - 6 Train Loss - 2.313583 Val Loss - 2.315018 Train Accuracy - 0.094363 Val Accuracy - 0.086888\n",
      "Epoch - 7\n"
     ]
    },
    {
     "name": "stderr",
     "output_type": "stream",
     "text": [
      "Training: 100%|██████████| 59/59 [00:03<00:00, 14.95it/s]\n",
      "validation: 100%|██████████| 10/10 [00:00<00:00, 15.81it/s]\n"
     ]
    },
    {
     "name": "stdout",
     "output_type": "stream",
     "text": [
      "Epoch - 7 Train Loss - 2.313555 Val Loss - 2.314949 Train Accuracy - 0.094397 Val Accuracy - 0.086858\n",
      "Epoch - 8\n"
     ]
    },
    {
     "name": "stderr",
     "output_type": "stream",
     "text": [
      "Training: 100%|██████████| 59/59 [00:03<00:00, 14.95it/s]\n",
      "validation: 100%|██████████| 10/10 [00:00<00:00, 15.66it/s]\n"
     ]
    },
    {
     "name": "stdout",
     "output_type": "stream",
     "text": [
      "Epoch - 8 Train Loss - 2.313616 Val Loss - 2.315027 Train Accuracy - 0.094227 Val Accuracy - 0.086470\n",
      "Epoch - 9\n"
     ]
    },
    {
     "name": "stderr",
     "output_type": "stream",
     "text": [
      "Training: 100%|██████████| 59/59 [00:03<00:00, 14.94it/s]\n",
      "validation: 100%|██████████| 10/10 [00:00<00:00, 15.87it/s]\n"
     ]
    },
    {
     "name": "stdout",
     "output_type": "stream",
     "text": [
      "Epoch - 9 Train Loss - 2.313559 Val Loss - 2.315126 Train Accuracy - 0.094318 Val Accuracy - 0.086529\n",
      "Epoch - 10\n"
     ]
    },
    {
     "name": "stderr",
     "output_type": "stream",
     "text": [
      "Training: 100%|██████████| 59/59 [00:03<00:00, 14.99it/s]\n",
      "validation: 100%|██████████| 10/10 [00:00<00:00, 15.79it/s]\n"
     ]
    },
    {
     "name": "stdout",
     "output_type": "stream",
     "text": [
      "Epoch - 10 Train Loss - 2.313543 Val Loss - 2.315085 Train Accuracy - 0.094431 Val Accuracy - 0.086589\n",
      "Epoch - 11\n"
     ]
    },
    {
     "name": "stderr",
     "output_type": "stream",
     "text": [
      "Training: 100%|██████████| 59/59 [00:03<00:00, 15.00it/s]\n",
      "validation: 100%|██████████| 10/10 [00:00<00:00, 15.87it/s]\n"
     ]
    },
    {
     "name": "stdout",
     "output_type": "stream",
     "text": [
      "Epoch - 11 Train Loss - 2.313523 Val Loss - 2.314972 Train Accuracy - 0.094409 Val Accuracy - 0.086709\n",
      "Epoch - 12\n"
     ]
    },
    {
     "name": "stderr",
     "output_type": "stream",
     "text": [
      "Training: 100%|██████████| 59/59 [00:04<00:00, 14.24it/s]\n",
      "validation: 100%|██████████| 10/10 [00:00<00:00, 15.68it/s]\n"
     ]
    },
    {
     "name": "stdout",
     "output_type": "stream",
     "text": [
      "Epoch - 12 Train Loss - 2.313553 Val Loss - 2.315018 Train Accuracy - 0.094397 Val Accuracy - 0.086619\n",
      "Epoch - 13\n"
     ]
    },
    {
     "name": "stderr",
     "output_type": "stream",
     "text": [
      "Training: 100%|██████████| 59/59 [00:04<00:00, 14.25it/s]\n",
      "validation: 100%|██████████| 10/10 [00:00<00:00, 15.00it/s]\n"
     ]
    },
    {
     "name": "stdout",
     "output_type": "stream",
     "text": [
      "Epoch - 13 Train Loss - 2.313550 Val Loss - 2.314852 Train Accuracy - 0.094465 Val Accuracy - 0.086828\n",
      "Epoch - 14\n"
     ]
    },
    {
     "name": "stderr",
     "output_type": "stream",
     "text": [
      "Training: 100%|██████████| 59/59 [00:04<00:00, 14.52it/s]\n",
      "validation: 100%|██████████| 10/10 [00:00<00:00, 15.71it/s]\n"
     ]
    },
    {
     "name": "stdout",
     "output_type": "stream",
     "text": [
      "Epoch - 14 Train Loss - 2.313579 Val Loss - 2.315003 Train Accuracy - 0.094397 Val Accuracy - 0.086918\n",
      "Epoch - 15\n"
     ]
    },
    {
     "name": "stderr",
     "output_type": "stream",
     "text": [
      "Training: 100%|██████████| 59/59 [00:03<00:00, 14.93it/s]\n",
      "validation: 100%|██████████| 10/10 [00:00<00:00, 14.94it/s]\n"
     ]
    },
    {
     "name": "stdout",
     "output_type": "stream",
     "text": [
      "Epoch - 15 Train Loss - 2.313524 Val Loss - 2.314937 Train Accuracy - 0.094341 Val Accuracy - 0.087008\n",
      "Epoch - 16\n"
     ]
    },
    {
     "name": "stderr",
     "output_type": "stream",
     "text": [
      "Training: 100%|██████████| 59/59 [00:03<00:00, 14.89it/s]\n",
      "validation: 100%|██████████| 10/10 [00:00<00:00, 15.88it/s]\n"
     ]
    },
    {
     "name": "stdout",
     "output_type": "stream",
     "text": [
      "Epoch - 16 Train Loss - 2.313555 Val Loss - 2.314875 Train Accuracy - 0.094386 Val Accuracy - 0.086858\n",
      "Epoch - 17\n"
     ]
    },
    {
     "name": "stderr",
     "output_type": "stream",
     "text": [
      "Training: 100%|██████████| 59/59 [00:04<00:00, 14.72it/s]\n",
      "validation: 100%|██████████| 10/10 [00:00<00:00, 15.06it/s]\n"
     ]
    },
    {
     "name": "stdout",
     "output_type": "stream",
     "text": [
      "Epoch - 17 Train Loss - 2.313512 Val Loss - 2.314974 Train Accuracy - 0.094329 Val Accuracy - 0.087038\n",
      "Epoch - 18\n"
     ]
    },
    {
     "name": "stderr",
     "output_type": "stream",
     "text": [
      "Training: 100%|██████████| 59/59 [00:04<00:00, 14.31it/s]\n",
      "validation: 100%|██████████| 10/10 [00:00<00:00, 15.05it/s]\n"
     ]
    },
    {
     "name": "stdout",
     "output_type": "stream",
     "text": [
      "Epoch - 18 Train Loss - 2.313535 Val Loss - 2.314957 Train Accuracy - 0.094511 Val Accuracy - 0.086739\n",
      "Epoch - 19\n"
     ]
    },
    {
     "name": "stderr",
     "output_type": "stream",
     "text": [
      "Training: 100%|██████████| 59/59 [00:04<00:00, 14.38it/s]\n",
      "validation: 100%|██████████| 10/10 [00:00<00:00, 15.03it/s]\n"
     ]
    },
    {
     "name": "stdout",
     "output_type": "stream",
     "text": [
      "Epoch - 19 Train Loss - 2.313571 Val Loss - 2.314918 Train Accuracy - 0.094386 Val Accuracy - 0.086739\n",
      "Epoch - 20\n"
     ]
    },
    {
     "name": "stderr",
     "output_type": "stream",
     "text": [
      "Training: 100%|██████████| 59/59 [00:04<00:00, 14.23it/s]\n",
      "validation: 100%|██████████| 10/10 [00:00<00:00, 15.01it/s]\n"
     ]
    },
    {
     "name": "stdout",
     "output_type": "stream",
     "text": [
      "Epoch - 20 Train Loss - 2.313577 Val Loss - 2.314856 Train Accuracy - 0.094182 Val Accuracy - 0.086948\n",
      "Epoch - 21\n"
     ]
    },
    {
     "name": "stderr",
     "output_type": "stream",
     "text": [
      "Training: 100%|██████████| 59/59 [00:04<00:00, 13.88it/s]\n",
      "validation: 100%|██████████| 10/10 [00:00<00:00, 15.86it/s]\n"
     ]
    },
    {
     "name": "stdout",
     "output_type": "stream",
     "text": [
      "Epoch - 21 Train Loss - 2.313569 Val Loss - 2.315047 Train Accuracy - 0.094261 Val Accuracy - 0.086559\n",
      "Epoch - 22\n"
     ]
    },
    {
     "name": "stderr",
     "output_type": "stream",
     "text": [
      "Training: 100%|██████████| 59/59 [00:04<00:00, 14.52it/s]\n",
      "validation: 100%|██████████| 10/10 [00:00<00:00, 15.07it/s]\n"
     ]
    },
    {
     "name": "stdout",
     "output_type": "stream",
     "text": [
      "Epoch - 22 Train Loss - 2.313566 Val Loss - 2.314983 Train Accuracy - 0.094397 Val Accuracy - 0.086798\n",
      "Epoch - 23\n"
     ]
    },
    {
     "name": "stderr",
     "output_type": "stream",
     "text": [
      "Training: 100%|██████████| 59/59 [00:04<00:00, 14.21it/s]\n",
      "validation: 100%|██████████| 10/10 [00:00<00:00, 15.76it/s]\n"
     ]
    },
    {
     "name": "stdout",
     "output_type": "stream",
     "text": [
      "Epoch - 23 Train Loss - 2.313564 Val Loss - 2.315012 Train Accuracy - 0.094273 Val Accuracy - 0.086798\n",
      "Epoch - 24\n"
     ]
    },
    {
     "name": "stderr",
     "output_type": "stream",
     "text": [
      "Training: 100%|██████████| 59/59 [00:04<00:00, 14.66it/s]\n",
      "validation: 100%|██████████| 10/10 [00:00<00:00, 15.20it/s]\n"
     ]
    },
    {
     "name": "stdout",
     "output_type": "stream",
     "text": [
      "Epoch - 24 Train Loss - 2.313545 Val Loss - 2.315053 Train Accuracy - 0.094363 Val Accuracy - 0.086470\n",
      "Epoch - 25\n"
     ]
    },
    {
     "name": "stderr",
     "output_type": "stream",
     "text": [
      "Training: 100%|██████████| 59/59 [00:04<00:00, 14.13it/s]\n",
      "validation: 100%|██████████| 10/10 [00:00<00:00, 14.96it/s]\n"
     ]
    },
    {
     "name": "stdout",
     "output_type": "stream",
     "text": [
      "Epoch - 25 Train Loss - 2.313557 Val Loss - 2.315092 Train Accuracy - 0.094352 Val Accuracy - 0.086500\n",
      "Epoch - 26\n"
     ]
    },
    {
     "name": "stderr",
     "output_type": "stream",
     "text": [
      "Training: 100%|██████████| 59/59 [00:04<00:00, 14.71it/s]\n",
      "validation: 100%|██████████| 10/10 [00:00<00:00, 15.91it/s]\n"
     ]
    },
    {
     "name": "stdout",
     "output_type": "stream",
     "text": [
      "Epoch - 26 Train Loss - 2.313539 Val Loss - 2.315184 Train Accuracy - 0.094307 Val Accuracy - 0.086500\n",
      "Epoch - 27\n"
     ]
    },
    {
     "name": "stderr",
     "output_type": "stream",
     "text": [
      "Training: 100%|██████████| 59/59 [00:04<00:00, 13.90it/s]\n",
      "validation: 100%|██████████| 10/10 [00:00<00:00, 15.53it/s]\n"
     ]
    },
    {
     "name": "stdout",
     "output_type": "stream",
     "text": [
      "Epoch - 27 Train Loss - 2.313540 Val Loss - 2.314978 Train Accuracy - 0.094409 Val Accuracy - 0.086709\n",
      "Epoch - 28\n"
     ]
    },
    {
     "name": "stderr",
     "output_type": "stream",
     "text": [
      "Training: 100%|██████████| 59/59 [00:03<00:00, 15.01it/s]\n",
      "validation: 100%|██████████| 10/10 [00:00<00:00, 15.90it/s]\n"
     ]
    },
    {
     "name": "stdout",
     "output_type": "stream",
     "text": [
      "Epoch - 28 Train Loss - 2.313504 Val Loss - 2.314946 Train Accuracy - 0.094329 Val Accuracy - 0.086649\n",
      "Epoch - 29\n"
     ]
    },
    {
     "name": "stderr",
     "output_type": "stream",
     "text": [
      "Training: 100%|██████████| 59/59 [00:03<00:00, 14.97it/s]\n",
      "validation: 100%|██████████| 10/10 [00:00<00:00, 15.91it/s]\n"
     ]
    },
    {
     "name": "stdout",
     "output_type": "stream",
     "text": [
      "Epoch - 29 Train Loss - 2.313560 Val Loss - 2.314934 Train Accuracy - 0.094216 Val Accuracy - 0.087038\n",
      "Epoch - 30\n"
     ]
    },
    {
     "name": "stderr",
     "output_type": "stream",
     "text": [
      "Training: 100%|██████████| 59/59 [00:03<00:00, 15.03it/s]\n",
      "validation: 100%|██████████| 10/10 [00:00<00:00, 15.92it/s]\n"
     ]
    },
    {
     "name": "stdout",
     "output_type": "stream",
     "text": [
      "Epoch - 30 Train Loss - 2.313576 Val Loss - 2.315063 Train Accuracy - 0.094307 Val Accuracy - 0.086559\n",
      "Epoch - 31\n"
     ]
    },
    {
     "name": "stderr",
     "output_type": "stream",
     "text": [
      "Training: 100%|██████████| 59/59 [00:03<00:00, 15.02it/s]\n",
      "validation: 100%|██████████| 10/10 [00:00<00:00, 15.99it/s]\n"
     ]
    },
    {
     "name": "stdout",
     "output_type": "stream",
     "text": [
      "Epoch - 31 Train Loss - 2.313542 Val Loss - 2.315069 Train Accuracy - 0.094375 Val Accuracy - 0.086589\n",
      "Epoch - 32\n"
     ]
    },
    {
     "name": "stderr",
     "output_type": "stream",
     "text": [
      "Training: 100%|██████████| 59/59 [00:03<00:00, 15.02it/s]\n",
      "validation: 100%|██████████| 10/10 [00:00<00:00, 15.71it/s]\n"
     ]
    },
    {
     "name": "stdout",
     "output_type": "stream",
     "text": [
      "Epoch - 32 Train Loss - 2.313593 Val Loss - 2.315002 Train Accuracy - 0.094250 Val Accuracy - 0.086619\n",
      "Epoch - 33\n"
     ]
    },
    {
     "name": "stderr",
     "output_type": "stream",
     "text": [
      "Training: 100%|██████████| 59/59 [00:04<00:00, 14.23it/s]\n",
      "validation: 100%|██████████| 10/10 [00:00<00:00, 15.79it/s]\n"
     ]
    },
    {
     "name": "stdout",
     "output_type": "stream",
     "text": [
      "Epoch - 33 Train Loss - 2.313548 Val Loss - 2.315033 Train Accuracy - 0.094171 Val Accuracy - 0.086769\n",
      "Epoch - 34\n"
     ]
    },
    {
     "name": "stderr",
     "output_type": "stream",
     "text": [
      "Training: 100%|██████████| 59/59 [00:03<00:00, 14.87it/s]\n",
      "validation: 100%|██████████| 10/10 [00:00<00:00, 15.77it/s]\n"
     ]
    },
    {
     "name": "stdout",
     "output_type": "stream",
     "text": [
      "Epoch - 34 Train Loss - 2.313551 Val Loss - 2.315055 Train Accuracy - 0.094409 Val Accuracy - 0.086888\n",
      "Epoch - 35\n"
     ]
    },
    {
     "name": "stderr",
     "output_type": "stream",
     "text": [
      "Training: 100%|██████████| 59/59 [00:03<00:00, 15.01it/s]\n",
      "validation: 100%|██████████| 10/10 [00:00<00:00, 15.84it/s]\n"
     ]
    },
    {
     "name": "stdout",
     "output_type": "stream",
     "text": [
      "Epoch - 35 Train Loss - 2.313553 Val Loss - 2.315094 Train Accuracy - 0.094375 Val Accuracy - 0.086828\n",
      "Epoch - 36\n"
     ]
    },
    {
     "name": "stderr",
     "output_type": "stream",
     "text": [
      "Training: 100%|██████████| 59/59 [00:03<00:00, 14.98it/s]\n",
      "validation: 100%|██████████| 10/10 [00:00<00:00, 15.98it/s]\n"
     ]
    },
    {
     "name": "stdout",
     "output_type": "stream",
     "text": [
      "Epoch - 36 Train Loss - 2.313597 Val Loss - 2.315148 Train Accuracy - 0.094307 Val Accuracy - 0.086619\n",
      "Epoch - 37\n"
     ]
    },
    {
     "name": "stderr",
     "output_type": "stream",
     "text": [
      "Training: 100%|██████████| 59/59 [00:03<00:00, 15.08it/s]\n",
      "validation: 100%|██████████| 10/10 [00:00<00:00, 15.99it/s]\n"
     ]
    },
    {
     "name": "stdout",
     "output_type": "stream",
     "text": [
      "Epoch - 37 Train Loss - 2.313563 Val Loss - 2.315037 Train Accuracy - 0.094363 Val Accuracy - 0.086619\n",
      "Epoch - 38\n"
     ]
    },
    {
     "name": "stderr",
     "output_type": "stream",
     "text": [
      "Training: 100%|██████████| 59/59 [00:03<00:00, 14.98it/s]\n",
      "validation: 100%|██████████| 10/10 [00:00<00:00, 15.65it/s]\n"
     ]
    },
    {
     "name": "stdout",
     "output_type": "stream",
     "text": [
      "Epoch - 38 Train Loss - 2.313552 Val Loss - 2.315132 Train Accuracy - 0.094477 Val Accuracy - 0.086470\n",
      "Epoch - 39\n"
     ]
    },
    {
     "name": "stderr",
     "output_type": "stream",
     "text": [
      "Training: 100%|██████████| 59/59 [00:03<00:00, 14.85it/s]\n",
      "validation: 100%|██████████| 10/10 [00:00<00:00, 12.04it/s]\n"
     ]
    },
    {
     "name": "stdout",
     "output_type": "stream",
     "text": [
      "Epoch - 39 Train Loss - 2.313534 Val Loss - 2.314867 Train Accuracy - 0.094216 Val Accuracy - 0.087187\n",
      "Epoch - 40\n"
     ]
    },
    {
     "name": "stderr",
     "output_type": "stream",
     "text": [
      "Training: 100%|██████████| 59/59 [00:03<00:00, 14.88it/s]\n",
      "validation: 100%|██████████| 10/10 [00:00<00:00, 15.69it/s]\n"
     ]
    },
    {
     "name": "stdout",
     "output_type": "stream",
     "text": [
      "Epoch - 40 Train Loss - 2.313566 Val Loss - 2.314955 Train Accuracy - 0.094307 Val Accuracy - 0.087038\n",
      "Epoch - 41\n"
     ]
    },
    {
     "name": "stderr",
     "output_type": "stream",
     "text": [
      "Training: 100%|██████████| 59/59 [00:03<00:00, 14.93it/s]\n",
      "validation: 100%|██████████| 10/10 [00:00<00:00, 15.87it/s]\n"
     ]
    },
    {
     "name": "stdout",
     "output_type": "stream",
     "text": [
      "Epoch - 41 Train Loss - 2.313566 Val Loss - 2.314959 Train Accuracy - 0.094261 Val Accuracy - 0.086948\n",
      "Epoch - 42\n"
     ]
    },
    {
     "name": "stderr",
     "output_type": "stream",
     "text": [
      "Training: 100%|██████████| 59/59 [00:03<00:00, 14.98it/s]\n",
      "validation: 100%|██████████| 10/10 [00:00<00:00, 15.74it/s]\n"
     ]
    },
    {
     "name": "stdout",
     "output_type": "stream",
     "text": [
      "Epoch - 42 Train Loss - 2.313576 Val Loss - 2.314883 Train Accuracy - 0.094239 Val Accuracy - 0.087097\n",
      "Epoch - 43\n"
     ]
    },
    {
     "name": "stderr",
     "output_type": "stream",
     "text": [
      "Training: 100%|██████████| 59/59 [00:03<00:00, 14.96it/s]\n",
      "validation: 100%|██████████| 10/10 [00:00<00:00, 15.97it/s]\n"
     ]
    },
    {
     "name": "stdout",
     "output_type": "stream",
     "text": [
      "Epoch - 43 Train Loss - 2.313609 Val Loss - 2.314945 Train Accuracy - 0.094341 Val Accuracy - 0.086948\n",
      "Epoch - 44\n"
     ]
    },
    {
     "name": "stderr",
     "output_type": "stream",
     "text": [
      "Training: 100%|██████████| 59/59 [00:03<00:00, 14.96it/s]\n",
      "validation: 100%|██████████| 10/10 [00:00<00:00, 15.75it/s]\n"
     ]
    },
    {
     "name": "stdout",
     "output_type": "stream",
     "text": [
      "Epoch - 44 Train Loss - 2.313499 Val Loss - 2.314915 Train Accuracy - 0.094635 Val Accuracy - 0.086798\n",
      "Epoch - 45\n"
     ]
    },
    {
     "name": "stderr",
     "output_type": "stream",
     "text": [
      "Training: 100%|██████████| 59/59 [00:03<00:00, 14.95it/s]\n",
      "validation: 100%|██████████| 10/10 [00:00<00:00, 15.90it/s]\n"
     ]
    },
    {
     "name": "stdout",
     "output_type": "stream",
     "text": [
      "Epoch - 45 Train Loss - 2.313586 Val Loss - 2.315051 Train Accuracy - 0.094273 Val Accuracy - 0.086888\n",
      "Epoch - 46\n"
     ]
    },
    {
     "name": "stderr",
     "output_type": "stream",
     "text": [
      "Training: 100%|██████████| 59/59 [00:04<00:00, 14.17it/s]\n",
      "validation: 100%|██████████| 10/10 [00:00<00:00, 15.71it/s]\n"
     ]
    },
    {
     "name": "stdout",
     "output_type": "stream",
     "text": [
      "Epoch - 46 Train Loss - 2.313582 Val Loss - 2.315167 Train Accuracy - 0.094295 Val Accuracy - 0.086440\n",
      "Epoch - 47\n"
     ]
    },
    {
     "name": "stderr",
     "output_type": "stream",
     "text": [
      "Training: 100%|██████████| 59/59 [00:03<00:00, 14.95it/s]\n",
      "validation: 100%|██████████| 10/10 [00:00<00:00, 15.74it/s]\n"
     ]
    },
    {
     "name": "stdout",
     "output_type": "stream",
     "text": [
      "Epoch - 47 Train Loss - 2.313529 Val Loss - 2.314995 Train Accuracy - 0.094397 Val Accuracy - 0.086798\n",
      "Epoch - 48\n"
     ]
    },
    {
     "name": "stderr",
     "output_type": "stream",
     "text": [
      "Training: 100%|██████████| 59/59 [00:03<00:00, 14.90it/s]\n",
      "validation: 100%|██████████| 10/10 [00:00<00:00, 15.06it/s]\n"
     ]
    },
    {
     "name": "stdout",
     "output_type": "stream",
     "text": [
      "Epoch - 48 Train Loss - 2.313568 Val Loss - 2.315011 Train Accuracy - 0.094273 Val Accuracy - 0.086888\n",
      "Epoch - 49\n"
     ]
    },
    {
     "name": "stderr",
     "output_type": "stream",
     "text": [
      "Training: 100%|██████████| 59/59 [00:03<00:00, 14.86it/s]\n",
      "validation: 100%|██████████| 10/10 [00:00<00:00, 15.88it/s]"
     ]
    },
    {
     "name": "stdout",
     "output_type": "stream",
     "text": [
      "Epoch - 49 Train Loss - 2.313501 Val Loss - 2.315143 Train Accuracy - 0.094363 Val Accuracy - 0.086529\n"
     ]
    },
    {
     "name": "stderr",
     "output_type": "stream",
     "text": [
      "\n"
     ]
    }
   ],
   "source": [
    "model2 = CNN2()\n",
    "optimizer = torch.optim.Adam(model1.parameters(), lr = lr)\n",
    "trainer = Trainer(model=model2,\n",
    "                      device=gpu_id,\n",
    "                      criterion=loss_fn,\n",
    "                      optimizer=optimizer,\n",
    "                      training_DataLoader=training_DataLoader,\n",
    "                      validation_DataLoader=validation_DataLoader,\n",
    "                      # lr_scheduler=lr_scheduler,\n",
    "                      epochs=epochs,\n",
    "                      epoch=0,\n",
    "                      notebook=True,\n",
    "                      path2write= path2write,\n",
    "                      checkpoint_start_epoch=checkpoint_start_epoch )\n",
    "training_loss2, validation_loss2, model2, training_accuracy2, validation_accuracy2 = trainer.run_trainer()"
   ]
  },
  {
   "cell_type": "code",
   "execution_count": 24,
   "metadata": {
    "colab": {
     "base_uri": "https://localhost:8080/",
     "height": 879
    },
    "executionInfo": {
     "elapsed": 836,
     "status": "ok",
     "timestamp": 1676141143350,
     "user": {
      "displayName": "uma maheswara rao meleti",
      "userId": "16305935137347021824"
     },
     "user_tz": 300
    },
    "id": "HvXPegUVmIdn",
    "outputId": "ba46dcc1-40a7-4820-9c2b-368e5f0c5a16",
    "tags": []
   },
   "outputs": [
    {
     "data": {
      "image/png": "[encoded data removed]",
      "text/plain": [
       "<Figure size 1500x1500 with 1 Axes>"
      ]
     },
     "metadata": {},
     "output_type": "display_data"
    }
   ],
   "source": [
    "# plt.figure(figsize=(15, 15))\n",
    "fig = plt.figure(figsize=(15, 15))\n",
    "\n",
    "ax1 = fig.add_subplot(1,1,1)\n",
    "ax1.plot(training_loss0, 'y-', label='CNN0')\n",
    "ax1.plot(training_loss1, 'g-', label='CNN1')\n",
    "ax1.plot(training_loss2, 'r-', label='CNN2')\n",
    "ax1.legend()\n",
    "ax1.set_title('Training Loss')\n",
    "\n",
    "plt.show()\n",
    "fig.savefig(os.path.join(path2write, 'loss.png'))\n",
    "\n",
    "\n"
   ]
  },
  {
   "cell_type": "code",
   "execution_count": 25,
   "metadata": {
    "colab": {
     "base_uri": "https://localhost:8080/",
     "height": 879
    },
    "executionInfo": {
     "elapsed": 621,
     "status": "ok",
     "timestamp": 1676141149247,
     "user": {
      "displayName": "uma maheswara rao meleti",
      "userId": "16305935137347021824"
     },
     "user_tz": 300
    },
    "id": "132e-EE0seDV",
    "outputId": "d7e5a668-6e25-456f-f93f-40c3fab6fbd8",
    "tags": []
   },
   "outputs": [
    {
     "data": {
      "image/png": "[encoded data removed]",
      "text/plain": [
       "<Figure size 1500x1500 with 1 Axes>"
      ]
     },
     "metadata": {},
     "output_type": "display_data"
    }
   ],
   "source": [
    "fig = plt.figure(figsize=(15, 15))\n",
    "\n",
    "ax1 = fig.add_subplot(1,1,1)\n",
    "ax1.plot(training_accuracy0, 'y-', label='CNN0')\n",
    "ax1.plot(training_accuracy1, 'g-', label='CNN1')\n",
    "ax1.plot(training_accuracy2, 'r-', label='CNN2')\n",
    "ax1.legend()\n",
    "ax1.set_title('Training Loss')\n",
    "\n",
    "plt.show()\n",
    "fig.savefig(os.path.join(path2write, 'Accuracy.png'))"
   ]
  }
 ],
 "metadata": {
  "accelerator": "GPU",
  "colab": {
   "provenance": []
  },
  "gpuClass": "standard",
  "kernelspec": {
   "display_name": "Python 3 (ipykernel)",
   "language": "python",
   "name": "python3"
  },
  "language_info": {
   "codemirror_mode": {
    "name": "ipython",
    "version": 3
   },
   "file_extension": ".py",
   "mimetype": "text/x-python",
   "name": "python",
   "nbconvert_exporter": "python",
   "pygments_lexer": "ipython3",
   "version": "3.11.5"
  }
 },
 "nbformat": 4,
 "nbformat_minor": 4
}
