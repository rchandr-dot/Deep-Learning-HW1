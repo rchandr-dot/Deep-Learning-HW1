{
 "cells": [
  {
   "cell_type": "code",
   "execution_count": 1,
   "id": "1c78c385-6ea3-4bba-b651-a89ef390bc17",
   "metadata": {
    "tags": []
   },
   "outputs": [],
   "source": [
    "import os\n",
    "os.environ['TF_CPP_MIN_LOG_LEVEL'] = '3'  \n"
   ]
  },
  {
   "cell_type": "code",
   "execution_count": 2,
   "id": "c292812f",
   "metadata": {},
   "outputs": [],
   "source": [
    "import os\n",
    "import numpy as np\n",
    "import matplotlib.pyplot as plt\n",
    "import pandas as pd\n",
    "import sklearn\n",
    "import seaborn\n",
    "import torch.nn as nn\n",
    "import torch.nn.functional as F\n",
    "from torch import optim\n",
    "import torch\n",
    "from torchvision import datasets\n",
    "from torchvision.transforms import ToTensor\n",
    "from torchvision import transforms"
   ]
  },
  {
   "cell_type": "code",
   "execution_count": 3,
   "id": "f0300602",
   "metadata": {
    "lines_to_next_cell": 1
   },
   "outputs": [],
   "source": [
    "from torch.utils.data import TensorDataset\n",
    "from tqdm import tqdm\n",
    "from torch.utils.tensorboard import SummaryWriter\n",
    "from torch.utils.data import DataLoader"
   ]
  },
  {
   "cell_type": "code",
   "execution_count": 4,
   "id": "1c4a42c4",
   "metadata": {
    "lines_to_next_cell": 1
   },
   "outputs": [],
   "source": [
    "class Trainer:\n",
    "\n",
    "    def __init__(self,\n",
    "                 model: torch.nn.Module,\n",
    "                 device: torch.device,\n",
    "                 criterion: torch.nn.Module,\n",
    "                 optimizer: torch.optim.Optimizer,\n",
    "                 training_DataLoader: torch.utils.data.Dataset,\n",
    "                 validation_DataLoader: None,\n",
    "                 # lr_scheduler: torch.optim.lr_scheduler = None,\n",
    "                 epochs: int = 100,\n",
    "                 epoch: int = 0,\n",
    "                 notebook: bool = False,\n",
    "                 path2write: str = None,\n",
    "                 save_best=False,\n",
    "                 save_final=True,\n",
    "                 save_interval=10,\n",
    "                 checkpoint_start_epoch=50\n",
    "                 ):\n",
    "        self.model = model\n",
    "        self.criterion = criterion\n",
    "        self.optimizer = optimizer\n",
    "        # self.lr_scheduler = lr_scheduler\n",
    "        self.training_DataLoader = training_DataLoader\n",
    "        self.validation_DataLoader = validation_DataLoader\n",
    "        self.device = device\n",
    "        self.epochs = epochs\n",
    "        self.epoch = epoch\n",
    "        self.notebook = notebook\n",
    "        self.path2write = path2write\n",
    "        LOG_DIR = os.path.join(path2write, 'Log')  # path2write + 'Log/'\n",
    "        self.writer_train = SummaryWriter(os.path.join(LOG_DIR, \"train\"))\n",
    "        self.writer_val = SummaryWriter(os.path.join(LOG_DIR, \"val\"))\n",
    "        self.check_point_path = os.path.join(path2write, 'check_points')\n",
    "        if not os.path.exists(self.check_point_path):\n",
    "            os.makedirs(self.check_point_path)\n",
    "        self.save_best = save_best\n",
    "        self.save_final = save_final\n",
    "        self.save_interval = save_interval\n",
    "        self.checkpoint_start_epoch = checkpoint_start_epoch\n",
    "        self.training_loss = []\n",
    "        self.validation_loss = []\n",
    "        self.learning_rate = []\n",
    "        self.training_accuracy = []\n",
    "        self.validation_accuracy = []\n",
    "\n",
    "    def run_trainer(self):\n",
    "        self.model.to(self.device)\n",
    "        #         print(next(self.model.parameters()).device)\n",
    "        if self.notebook:\n",
    "            print('Notebook')\n",
    "            from tqdm.notebook import tqdm, trange\n",
    "        else:\n",
    "            from tqdm import tqdm, trange\n",
    "        #         print(self.epochs)\n",
    "        progressbar = trange(self.epochs, desc='Progress', disable=True)  # don't show progressbar\n",
    "        loss_max = None\n",
    "        for epoch in progressbar:\n",
    "            # print(f'Epoch - {epoch}')\n",
    "\n",
    "            # Training Block\n",
    "            train_loss, train_accuracy = self._train()\n",
    "            self.writer_train.add_scalar(\"Train Loss\", train_loss, epoch)\n",
    "            self.writer_train.add_scalar(\"Train Accuracy\", train_accuracy, epoch)\n",
    "\n",
    "\n",
    "            # Val Block\n",
    "            val_loss, val_accuracy = self._validate()\n",
    "            self.writer_val.add_scalar(\"Val Loss\", val_loss, epoch)\n",
    "            self.writer_val.add_scalar(\"Val Accuracy\", val_accuracy, epoch)\n",
    "\n",
    "            # lr\n",
    "            self.writer_train.add_scalar(\"Learning Rate\", self.optimizer.param_groups[0]['lr'], epoch)\n",
    "\n",
    "            # print('Epoch - {} Train Loss - {:.6f} Val Loss - {:.6f} Train Accuracy - {:.6f} Val Accuracy - {:.6f}'.format(epoch, train_loss, val_loss, train_accuracy, val_accuracy))\n",
    "            if self.save_final:\n",
    "                if epoch == self.epochs-1:\n",
    "                    model_name = 'epoch-{}-loss{:.6f}'.format(epoch, val_loss)\n",
    "                    torch.save(self.model.state_dict(), os.path.join(self.check_point_path, model_name))\n",
    "            loss_max = val_loss\n",
    "\n",
    "        return train_loss, train_accuracy, val_loss, val_accuracy\n",
    "        # return self.training_loss, self.validation_loss, self.model, self.training_accuracy, self.validation_accuracy\n",
    "\n",
    "    def _train(self):\n",
    "\n",
    "        self.model.train()\n",
    "        train_losses = []\n",
    "        batch_iter = tqdm(enumerate(self.training_DataLoader), 'Training', total=len(self.training_DataLoader),\n",
    "                          disable=True)\n",
    "        batch_acc = 0\n",
    "        for i, (x, y) in batch_iter:\n",
    "            input, target = x.type(torch.float32).to(self.device), y.type(torch.float32).to(self.device)\n",
    "            self.optimizer.zero_grad()\n",
    "            target = target.type(torch.LongTensor).to(self.device)\n",
    "            output = self.model(input)\n",
    "            loss = self.criterion(output, target)\n",
    "            train_losses.append(loss.item())\n",
    "            loss.backward()\n",
    "            self.optimizer.step()\n",
    "            pred = output.argmax(dim=1, keepdim=True) # max of prob\n",
    "            pred = pred.flatten()\n",
    "            batch_acc += torch.mean(pred.eq(target.view_as(pred)).type(torch.FloatTensor))\n",
    "        accuracy = batch_acc/len(self.training_DataLoader)\n",
    "        self.training_loss.append(np.mean(train_losses))  # Mean batch loss\n",
    "        self.learning_rate.append(self.optimizer.param_groups[0]['lr'])\n",
    "        self.training_accuracy.append(accuracy)\n",
    "\n",
    "        batch_iter.close()  # clean up the bar\n",
    "        return np.mean(train_losses), accuracy\n",
    "\n",
    "    def _validate(self):\n",
    "\n",
    "        self.model.eval()\n",
    "        valid_losses = []\n",
    "        batch_iter = tqdm(enumerate(self.validation_DataLoader), 'validation', total=len(self.validation_DataLoader), disable=True)\n",
    "        batch_acc = 0\n",
    "        for i, (x, y) in batch_iter:\n",
    "            input, target = x.type(torch.float32).to(self.device), y.to(self.device)\n",
    "            with torch.no_grad():\n",
    "                output = self.model(input)\n",
    "                target = target.type(torch.LongTensor).to(self.device)\n",
    "                loss = self.criterion(output, target)\n",
    "                valid_losses.append(loss.item())\n",
    "                pred = output.argmax(dim=1, keepdim=True)\n",
    "                batch_acc += torch.mean(pred.eq(target.view_as(pred)).type(torch.FloatTensor)).item()\n",
    "\n",
    "        accuracy = batch_acc/len(self.validation_DataLoader)\n",
    "        self.validation_loss.append(np.mean(valid_losses))\n",
    "        self.validation_accuracy.append(accuracy)\n",
    "        batch_iter.close()\n",
    "        return np.mean(valid_losses), accuracy"
   ]
  },
  {
   "cell_type": "code",
   "execution_count": 5,
   "id": "fb6ce3e2",
   "metadata": {},
   "outputs": [],
   "source": [
    "class scale_DNN(nn.Module): #for mnist\n",
    "  def __init__(self, start_num):\n",
    "    super().__init__()\n",
    "    self.Dense1 = nn.Linear(28*28, start_num)\n",
    "    self.Dense2 = nn.Linear(start_num, start_num*2)\n",
    "    self.Dense3 = nn.Linear(start_num*2, start_num*4)\n",
    "    self.Dense4 = nn.Linear(start_num*4, start_num*8)\n",
    "    self.Dense5 = nn.Linear(start_num*8, 10)\n",
    "\n",
    "  def forward(self, x):\n",
    "    x = x.view(x.shape[0], -1)\n",
    "    x = self.Dense1(x)\n",
    "    x = self.Dense2(x)\n",
    "    x = self.Dense3(x)\n",
    "    x = self.Dense4(x)\n",
    "    x = self.Dense5(x)\n",
    "    out = F.log_softmax(x)\n",
    "\n",
    "    return out"
   ]
  },
  {
   "cell_type": "code",
   "execution_count": 6,
   "id": "1dd46a41",
   "metadata": {},
   "outputs": [],
   "source": [
    "bath_size = 4096*6"
   ]
  },
  {
   "cell_type": "code",
   "execution_count": 7,
   "id": "dd740dfe-656c-4696-ab10-a65ad27b0569",
   "metadata": {
    "tags": []
   },
   "outputs": [],
   "source": [
    "from torchvision import transforms, datasets\n"
   ]
  },
  {
   "cell_type": "code",
   "execution_count": 8,
   "id": "d218e08b",
   "metadata": {},
   "outputs": [],
   "source": [
    "transform=transforms.Compose([\n",
    "        transforms.ToTensor()\n",
    "        ])\n",
    "dataset1 = datasets.MNIST('Home work', train=True, download=True, transform=transform)\n",
    "dataset2 = datasets.MNIST('Home work', train=False, transform=transform)"
   ]
  },
  {
   "cell_type": "code",
   "execution_count": 9,
   "id": "e75c7b7f",
   "metadata": {},
   "outputs": [],
   "source": [
    "training_DataLoader = DataLoader(dataset1, batch_size=bath_size, shuffle=True)\n",
    "validation_DataLoader= DataLoader(dataset2, batch_size=bath_size, shuffle=True)"
   ]
  },
  {
   "cell_type": "code",
   "execution_count": 10,
   "id": "e9aee7c2",
   "metadata": {},
   "outputs": [],
   "source": [
    "gpu_id = 0\n",
    "loss_fn = nn.CrossEntropyLoss()\n",
    "lr = 1e-4\n",
    "epochs = 15\n",
    "notebook = True\n",
    "checkpoint_start_epoch = 1 #Not using\n",
    "path2write = r\"/Users/ramya/Desktop\""
   ]
  },
  {
   "cell_type": "code",
   "execution_count": 11,
   "id": "6eb0e365-1aaa-412b-8876-836455d4d88c",
   "metadata": {
    "tags": []
   },
   "outputs": [],
   "source": [
    "path2write = os.path.expanduser(\"~/my_logs\")  # This will create a 'my_logs' directory in your home directory\n"
   ]
  },
  {
   "cell_type": "code",
   "execution_count": 12,
   "id": "2818e688",
   "metadata": {},
   "outputs": [
    {
     "name": "stderr",
     "output_type": "stream",
     "text": [
      "  0%|          | 0/15 [00:00<?, ?it/s]"
     ]
    },
    {
     "name": "stdout",
     "output_type": "stream",
     "text": [
      "Notebook\n"
     ]
    },
    {
     "name": "stderr",
     "output_type": "stream",
     "text": [
      "/local_scratch/slurm.707385/ipykernel_657266/1284617082.py:17: UserWarning: Implicit dimension choice for log_softmax has been deprecated. Change the call to include dim=X as an argument.\n",
      "  out = F.log_softmax(x)\n",
      "  7%|▋         | 1/15 [01:16<17:53, 76.64s/it]"
     ]
    },
    {
     "name": "stdout",
     "output_type": "stream",
     "text": [
      "Notebook\n"
     ]
    },
    {
     "name": "stderr",
     "output_type": "stream",
     "text": [
      " 13%|█▎        | 2/15 [02:32<16:27, 75.98s/it]"
     ]
    },
    {
     "name": "stdout",
     "output_type": "stream",
     "text": [
      "Notebook\n"
     ]
    },
    {
     "name": "stderr",
     "output_type": "stream",
     "text": [
      " 20%|██        | 3/15 [03:48<15:11, 75.93s/it]"
     ]
    },
    {
     "name": "stdout",
     "output_type": "stream",
     "text": [
      "Notebook\n"
     ]
    },
    {
     "name": "stderr",
     "output_type": "stream",
     "text": [
      " 27%|██▋       | 4/15 [05:03<13:51, 75.63s/it]"
     ]
    },
    {
     "name": "stdout",
     "output_type": "stream",
     "text": [
      "Notebook\n"
     ]
    },
    {
     "name": "stderr",
     "output_type": "stream",
     "text": [
      " 33%|███▎      | 5/15 [06:18<12:36, 75.65s/it]"
     ]
    },
    {
     "name": "stdout",
     "output_type": "stream",
     "text": [
      "Notebook\n"
     ]
    },
    {
     "name": "stderr",
     "output_type": "stream",
     "text": [
      " 40%|████      | 6/15 [07:34<11:19, 75.54s/it]"
     ]
    },
    {
     "name": "stdout",
     "output_type": "stream",
     "text": [
      "Notebook\n"
     ]
    },
    {
     "name": "stderr",
     "output_type": "stream",
     "text": [
      " 47%|████▋     | 7/15 [08:49<10:03, 75.43s/it]"
     ]
    },
    {
     "name": "stdout",
     "output_type": "stream",
     "text": [
      "Notebook\n"
     ]
    },
    {
     "name": "stderr",
     "output_type": "stream",
     "text": [
      " 53%|█████▎    | 8/15 [10:04<08:46, 75.24s/it]"
     ]
    },
    {
     "name": "stdout",
     "output_type": "stream",
     "text": [
      "Notebook\n"
     ]
    },
    {
     "name": "stderr",
     "output_type": "stream",
     "text": [
      " 60%|██████    | 9/15 [11:18<07:29, 74.91s/it]"
     ]
    },
    {
     "name": "stdout",
     "output_type": "stream",
     "text": [
      "Notebook\n"
     ]
    },
    {
     "name": "stderr",
     "output_type": "stream",
     "text": [
      " 67%|██████▋   | 10/15 [12:32<06:13, 74.79s/it]"
     ]
    },
    {
     "name": "stdout",
     "output_type": "stream",
     "text": [
      "Notebook\n"
     ]
    },
    {
     "name": "stderr",
     "output_type": "stream",
     "text": [
      " 73%|███████▎  | 11/15 [13:47<04:58, 74.72s/it]"
     ]
    },
    {
     "name": "stdout",
     "output_type": "stream",
     "text": [
      "Notebook\n"
     ]
    },
    {
     "name": "stderr",
     "output_type": "stream",
     "text": [
      " 80%|████████  | 12/15 [15:02<03:44, 74.75s/it]"
     ]
    },
    {
     "name": "stdout",
     "output_type": "stream",
     "text": [
      "Notebook\n"
     ]
    },
    {
     "name": "stderr",
     "output_type": "stream",
     "text": [
      " 87%|████████▋ | 13/15 [16:16<02:29, 74.53s/it]"
     ]
    },
    {
     "name": "stdout",
     "output_type": "stream",
     "text": [
      "Notebook\n"
     ]
    },
    {
     "name": "stderr",
     "output_type": "stream",
     "text": [
      " 93%|█████████▎| 14/15 [17:29<01:14, 74.21s/it]"
     ]
    },
    {
     "name": "stdout",
     "output_type": "stream",
     "text": [
      "Notebook\n"
     ]
    },
    {
     "name": "stderr",
     "output_type": "stream",
     "text": [
      "100%|██████████| 15/15 [18:43<00:00, 74.90s/it]\n"
     ]
    }
   ],
   "source": [
    "parms = []\n",
    "train_loss = []\n",
    "val_loss = []\n",
    "train_acc = []\n",
    "val_acc = []\n",
    "for i in tqdm(list(map(lambda x : x*8, range(1,16)))):\n",
    "  model = scale_DNN(i)\n",
    "  total_params = sum(p.numel() for p in model.parameters() if p.requires_grad)\n",
    "  optimizer = torch.optim.Adam(model.parameters(), lr = lr)\n",
    "  trainer = Trainer(model=model,\n",
    "                        device=gpu_id,\n",
    "                        criterion=loss_fn,\n",
    "                        optimizer=optimizer,\n",
    "                        training_DataLoader=training_DataLoader,\n",
    "                        validation_DataLoader=validation_DataLoader,\n",
    "                        # lr_scheduler=lr_scheduler,\n",
    "                        epochs=epochs,\n",
    "                        epoch=0,\n",
    "                        notebook=True,\n",
    "                        path2write= path2write,\n",
    "                        checkpoint_start_epoch=checkpoint_start_epoch )\n",
    "  training_loss, training_accuracy, validation_loss, validation_accuracy = trainer.run_trainer()\n",
    "  parms.append(total_params)\n",
    "  train_loss.append(training_loss)\n",
    "  val_loss.append(validation_loss)\n",
    "  train_acc.append(training_accuracy)\n",
    "  val_acc.append(validation_accuracy)"
   ]
  },
  {
   "cell_type": "markdown",
   "id": "ecaccaa3",
   "metadata": {},
   "source": [
    "plt.subplots_adjust(bottom=0.15)"
   ]
  },
  {
   "cell_type": "code",
   "execution_count": 13,
   "id": "669411fa",
   "metadata": {},
   "outputs": [
    {
     "data": {
      "text/plain": [
       "Text(150.09722222222223, 0.5, 'Loss')"
      ]
     },
     "execution_count": 13,
     "metadata": {},
     "output_type": "execute_result"
    },
    {
     "data": {
      "image/png": "[encoded data removed]",
      "text/plain": [
       "<Figure size 1500x500 with 1 Axes>"
      ]
     },
     "metadata": {},
     "output_type": "display_data"
    }
   ],
   "source": [
    "fig = plt.figure(figsize=(15,5))\n",
    "fig.autolayout : True\n",
    "ax1 = fig.add_subplot(1,1,1)\n",
    "ax1.scatter(parms, train_loss, color='blue', marker='o', label='Training Loss')\n",
    "ax1.scatter(parms, val_loss, color='orange', marker='o', label='Validation Loss')\n",
    "ax1.legend()\n",
    "ax1.set_title('Parameters Vs Loss')\n",
    "fig.savefig(os.path.join(path2write, 'ParamsVsGen_loss.png'))\n",
    "ax1.set_xlabel('Number Of Parameters')\n",
    "ax1.set_ylabel('Loss')"
   ]
  },
  {
   "cell_type": "code",
   "execution_count": 14,
   "id": "fe4d17e2",
   "metadata": {},
   "outputs": [
    {
     "data": {
      "image/png": "[encoded data removed]",
      "text/plain": [
       "<Figure size 1500x800 with 1 Axes>"
      ]
     },
     "metadata": {},
     "output_type": "display_data"
    }
   ],
   "source": [
    "fig = plt.figure(figsize=(15,8))\n",
    "fig.autolayout : True\n",
    "ax2 = fig.add_subplot(1,1,1)\n",
    "ax2.scatter(parms, train_acc, color='blue', marker='o', label='Training Accuracy')\n",
    "ax2.scatter(parms, val_acc, color='orange', marker='o', label='Validation Accuracy')\n",
    "ax2.legend()\n",
    "ax2.set_title('ParamsVsGen_Accuracy')\n",
    "fig.savefig(os.path.join(path2write, 'Params Vs accuracy.png'))\n",
    "ax2.set_xlabel('Number Of Parameters')\n",
    "ax2.set_label('Accuracy')"
   ]
  },
  {
   "cell_type": "code",
   "execution_count": 16,
   "id": "004c7ee5",
   "metadata": {},
   "outputs": [
    {
     "name": "stdout",
     "output_type": "stream",
     "text": [
      "\n"
     ]
    }
   ],
   "source": [
    "print('')\n",
    "plt.show()"
   ]
  }
 ],
 "metadata": {
  "jupytext": {
   "cell_metadata_filter": "-all",
   "main_language": "python",
   "notebook_metadata_filter": "-all"
  },
  "kernelspec": {
   "display_name": "Python 3 (ipykernel)",
   "language": "python",
   "name": "python3"
  },
  "language_info": {
   "codemirror_mode": {
    "name": "ipython",
    "version": 3
   },
   "file_extension": ".py",
   "mimetype": "text/x-python",
   "name": "python",
   "nbconvert_exporter": "python",
   "pygments_lexer": "ipython3",
   "version": "3.11.5"
  }
 },
 "nbformat": 4,
 "nbformat_minor": 5
}
