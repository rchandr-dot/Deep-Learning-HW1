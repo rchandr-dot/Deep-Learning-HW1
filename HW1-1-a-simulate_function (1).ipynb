{
 "cells": [
  {
   "cell_type": "code",
   "execution_count": null,
   "id": "f0d6dca4",
   "metadata": {
    "lines_to_next_cell": 0
   },
   "outputs": [],
   "source": []
  },
  {
   "cell_type": "markdown",
   "id": "0c76c9bb",
   "metadata": {},
   "source": [
    "from trainer import Trainer\n",
    "from model import model0, model1, model2\n",
    "from dataloader import prep_data"
   ]
  },
  {
   "cell_type": "code",
   "execution_count": 1,
   "id": "ad9ace58-11a2-459f-b3cc-9647158183f1",
   "metadata": {
    "tags": []
   },
   "outputs": [
    {
     "name": "stdout",
     "output_type": "stream",
     "text": [
      "Defaulting to user installation because normal site-packages is not writeable\n",
      "Requirement already satisfied: tensorflow in ./.local/lib/python3.11/site-packages (2.17.0)\n",
      "Requirement already satisfied: absl-py>=1.0.0 in ./.local/lib/python3.11/site-packages (from tensorflow) (2.1.0)\n",
      "Requirement already satisfied: astunparse>=1.6.0 in ./.local/lib/python3.11/site-packages (from tensorflow) (1.6.3)\n",
      "Requirement already satisfied: flatbuffers>=24.3.25 in ./.local/lib/python3.11/site-packages (from tensorflow) (24.3.25)\n",
      "Requirement already satisfied: gast!=0.5.0,!=0.5.1,!=0.5.2,>=0.2.1 in ./.local/lib/python3.11/site-packages (from tensorflow) (0.6.0)\n",
      "Requirement already satisfied: google-pasta>=0.1.1 in ./.local/lib/python3.11/site-packages (from tensorflow) (0.2.0)\n",
      "Requirement already satisfied: h5py>=3.10.0 in ./.local/lib/python3.11/site-packages (from tensorflow) (3.11.0)\n",
      "Requirement already satisfied: libclang>=13.0.0 in ./.local/lib/python3.11/site-packages (from tensorflow) (18.1.1)\n",
      "Requirement already satisfied: ml-dtypes<0.5.0,>=0.3.1 in ./.local/lib/python3.11/site-packages (from tensorflow) (0.4.1)\n",
      "Requirement already satisfied: opt-einsum>=2.3.2 in ./.local/lib/python3.11/site-packages (from tensorflow) (3.3.0)\n",
      "Requirement already satisfied: packaging in /software/slurm/spackages/linux-rocky8-x86_64/gcc-12.2.0/anaconda3-2023.09-0-3mhml42fa64byxqyd5fig5tbih625dp2/lib/python3.11/site-packages (from tensorflow) (23.1)\n",
      "Requirement already satisfied: protobuf!=4.21.0,!=4.21.1,!=4.21.2,!=4.21.3,!=4.21.4,!=4.21.5,<5.0.0dev,>=3.20.3 in ./.local/lib/python3.11/site-packages (from tensorflow) (4.25.5)\n",
      "Requirement already satisfied: requests<3,>=2.21.0 in /software/slurm/spackages/linux-rocky8-x86_64/gcc-12.2.0/anaconda3-2023.09-0-3mhml42fa64byxqyd5fig5tbih625dp2/lib/python3.11/site-packages (from tensorflow) (2.31.0)\n",
      "Requirement already satisfied: setuptools in /software/slurm/spackages/linux-rocky8-x86_64/gcc-12.2.0/anaconda3-2023.09-0-3mhml42fa64byxqyd5fig5tbih625dp2/lib/python3.11/site-packages (from tensorflow) (68.0.0)\n",
      "Requirement already satisfied: six>=1.12.0 in /software/slurm/spackages/linux-rocky8-x86_64/gcc-12.2.0/anaconda3-2023.09-0-3mhml42fa64byxqyd5fig5tbih625dp2/lib/python3.11/site-packages (from tensorflow) (1.16.0)\n",
      "Requirement already satisfied: termcolor>=1.1.0 in ./.local/lib/python3.11/site-packages (from tensorflow) (2.4.0)\n",
      "Requirement already satisfied: typing-extensions>=3.6.6 in ./.local/lib/python3.11/site-packages (from tensorflow) (4.12.2)\n",
      "Requirement already satisfied: wrapt>=1.11.0 in /software/slurm/spackages/linux-rocky8-x86_64/gcc-12.2.0/anaconda3-2023.09-0-3mhml42fa64byxqyd5fig5tbih625dp2/lib/python3.11/site-packages (from tensorflow) (1.14.1)\n",
      "Requirement already satisfied: grpcio<2.0,>=1.24.3 in ./.local/lib/python3.11/site-packages (from tensorflow) (1.66.1)\n",
      "Requirement already satisfied: tensorboard<2.18,>=2.17 in ./.local/lib/python3.11/site-packages (from tensorflow) (2.17.1)\n",
      "Requirement already satisfied: keras>=3.2.0 in ./.local/lib/python3.11/site-packages (from tensorflow) (3.5.0)\n",
      "Requirement already satisfied: tensorflow-io-gcs-filesystem>=0.23.1 in ./.local/lib/python3.11/site-packages (from tensorflow) (0.37.1)\n",
      "Requirement already satisfied: numpy<2.0.0,>=1.23.5 in /software/slurm/spackages/linux-rocky8-x86_64/gcc-12.2.0/anaconda3-2023.09-0-3mhml42fa64byxqyd5fig5tbih625dp2/lib/python3.11/site-packages (from tensorflow) (1.24.3)\n",
      "Requirement already satisfied: wheel<1.0,>=0.23.0 in /software/slurm/spackages/linux-rocky8-x86_64/gcc-12.2.0/anaconda3-2023.09-0-3mhml42fa64byxqyd5fig5tbih625dp2/lib/python3.11/site-packages (from astunparse>=1.6.0->tensorflow) (0.38.4)\n",
      "Requirement already satisfied: rich in ./.local/lib/python3.11/site-packages (from keras>=3.2.0->tensorflow) (13.8.1)\n",
      "Requirement already satisfied: namex in ./.local/lib/python3.11/site-packages (from keras>=3.2.0->tensorflow) (0.0.8)\n",
      "Requirement already satisfied: optree in ./.local/lib/python3.11/site-packages (from keras>=3.2.0->tensorflow) (0.12.1)\n",
      "Requirement already satisfied: charset-normalizer<4,>=2 in /software/slurm/spackages/linux-rocky8-x86_64/gcc-12.2.0/anaconda3-2023.09-0-3mhml42fa64byxqyd5fig5tbih625dp2/lib/python3.11/site-packages (from requests<3,>=2.21.0->tensorflow) (2.0.4)\n",
      "Requirement already satisfied: idna<4,>=2.5 in /software/slurm/spackages/linux-rocky8-x86_64/gcc-12.2.0/anaconda3-2023.09-0-3mhml42fa64byxqyd5fig5tbih625dp2/lib/python3.11/site-packages (from requests<3,>=2.21.0->tensorflow) (3.4)\n",
      "Requirement already satisfied: urllib3<3,>=1.21.1 in /software/slurm/spackages/linux-rocky8-x86_64/gcc-12.2.0/anaconda3-2023.09-0-3mhml42fa64byxqyd5fig5tbih625dp2/lib/python3.11/site-packages (from requests<3,>=2.21.0->tensorflow) (1.26.16)\n",
      "Requirement already satisfied: certifi>=2017.4.17 in /software/slurm/spackages/linux-rocky8-x86_64/gcc-12.2.0/anaconda3-2023.09-0-3mhml42fa64byxqyd5fig5tbih625dp2/lib/python3.11/site-packages (from requests<3,>=2.21.0->tensorflow) (2023.7.22)\n",
      "Requirement already satisfied: markdown>=2.6.8 in /software/slurm/spackages/linux-rocky8-x86_64/gcc-12.2.0/anaconda3-2023.09-0-3mhml42fa64byxqyd5fig5tbih625dp2/lib/python3.11/site-packages (from tensorboard<2.18,>=2.17->tensorflow) (3.4.1)\n",
      "Requirement already satisfied: tensorboard-data-server<0.8.0,>=0.7.0 in ./.local/lib/python3.11/site-packages (from tensorboard<2.18,>=2.17->tensorflow) (0.7.2)\n",
      "Requirement already satisfied: werkzeug>=1.0.1 in /software/slurm/spackages/linux-rocky8-x86_64/gcc-12.2.0/anaconda3-2023.09-0-3mhml42fa64byxqyd5fig5tbih625dp2/lib/python3.11/site-packages (from tensorboard<2.18,>=2.17->tensorflow) (2.2.3)\n",
      "Requirement already satisfied: MarkupSafe>=2.1.1 in /software/slurm/spackages/linux-rocky8-x86_64/gcc-12.2.0/anaconda3-2023.09-0-3mhml42fa64byxqyd5fig5tbih625dp2/lib/python3.11/site-packages (from werkzeug>=1.0.1->tensorboard<2.18,>=2.17->tensorflow) (2.1.1)\n",
      "Requirement already satisfied: markdown-it-py>=2.2.0 in /software/slurm/spackages/linux-rocky8-x86_64/gcc-12.2.0/anaconda3-2023.09-0-3mhml42fa64byxqyd5fig5tbih625dp2/lib/python3.11/site-packages (from rich->keras>=3.2.0->tensorflow) (2.2.0)\n",
      "Requirement already satisfied: pygments<3.0.0,>=2.13.0 in /software/slurm/spackages/linux-rocky8-x86_64/gcc-12.2.0/anaconda3-2023.09-0-3mhml42fa64byxqyd5fig5tbih625dp2/lib/python3.11/site-packages (from rich->keras>=3.2.0->tensorflow) (2.15.1)\n",
      "Requirement already satisfied: mdurl~=0.1 in /software/slurm/spackages/linux-rocky8-x86_64/gcc-12.2.0/anaconda3-2023.09-0-3mhml42fa64byxqyd5fig5tbih625dp2/lib/python3.11/site-packages (from markdown-it-py>=2.2.0->rich->keras>=3.2.0->tensorflow) (0.1.0)\n"
     ]
    }
   ],
   "source": [
    "!pip install tensorflow\n"
   ]
  },
  {
   "cell_type": "code",
   "execution_count": 2,
   "id": "20188634",
   "metadata": {
    "tags": []
   },
   "outputs": [],
   "source": [
    "import os\n",
    "import numpy as np\n",
    "import matplotlib.pyplot as plt\n",
    "import pandas as pd\n",
    "import sklearn\n",
    "import seaborn\n",
    "import torch.nn as nn\n",
    "import torch.nn.functional as F\n",
    "from torch import optim\n",
    "import torch\n",
    "from torchvision import datasets\n",
    "from torchvision.transforms import ToTensor"
   ]
  },
  {
   "cell_type": "code",
   "execution_count": 3,
   "id": "17f81131-9250-42d9-a0a9-0a9b382a1f3b",
   "metadata": {
    "tags": []
   },
   "outputs": [],
   "source": [
    "import os\n",
    "os.environ['TF_CPP_MIN_LOG_LEVEL'] = '3'  \n"
   ]
  },
  {
   "cell_type": "code",
   "execution_count": 4,
   "id": "1174a7c1",
   "metadata": {
    "tags": []
   },
   "outputs": [],
   "source": [
    "from torch.utils.data import TensorDataset\n",
    "from tqdm import tqdm\n",
    "from torch.utils.tensorboard import SummaryWriter\n",
    "from torch.utils.data import DataLoader"
   ]
  },
  {
   "cell_type": "code",
   "execution_count": 5,
   "id": "bba08642",
   "metadata": {
    "lines_to_next_cell": 1,
    "tags": []
   },
   "outputs": [],
   "source": [
    "import matplotlib.pyplot as plt\n",
    "import random"
   ]
  },
  {
   "cell_type": "code",
   "execution_count": 6,
   "id": "b8ded530",
   "metadata": {
    "lines_to_next_cell": 1,
    "tags": []
   },
   "outputs": [],
   "source": [
    "class Trainer:\n",
    "\n",
    "    def __init__(self,\n",
    "                 model: torch.nn.Module,\n",
    "                 device: torch.device,\n",
    "                 criterion: torch.nn.Module,\n",
    "                 optimizer: torch.optim.Optimizer,\n",
    "                 training_DataLoader: torch.utils.data.Dataset,\n",
    "                 validation_DataLoader: None,\n",
    "                 # lr_scheduler: torch.optim.lr_scheduler = None,\n",
    "                 epochs: int = 100,\n",
    "                 epoch: int = 0,\n",
    "                 notebook: bool = False,\n",
    "                 path2write: str = None,\n",
    "                 save_best=False,\n",
    "                 save_final=True,\n",
    "                 save_interval=10,\n",
    "                 checkpoint_start_epoch=50\n",
    "                 ):\n",
    "        self.model = model\n",
    "        self.criterion = criterion\n",
    "        self.optimizer = optimizer\n",
    "        # self.lr_scheduler = lr_scheduler\n",
    "        self.training_DataLoader = training_DataLoader\n",
    "        self.validation_DataLoader = validation_DataLoader\n",
    "        self.device = device\n",
    "        self.epochs = epochs\n",
    "        self.epoch = epoch\n",
    "        self.notebook = notebook\n",
    "        #             if self.notebook:\n",
    "        #                 print('Notebook')\n",
    "        #                 from tqdm.notebook import tqdm, trange\n",
    "        #             else:\n",
    "        #                 from tqdm import tqdm, trange\n",
    "        self.path2write = path2write\n",
    "        LOG_DIR = os.path.join(path2write, 'Log')  # path2write + 'Log/'\n",
    "        self.writer_train = SummaryWriter(os.path.join(LOG_DIR, \"train\"))\n",
    "        self.writer_val = SummaryWriter(os.path.join(LOG_DIR, \"val\"))\n",
    "        self.check_point_path = os.path.join(path2write, 'check_points')\n",
    "        if not os.path.exists(self.check_point_path):\n",
    "            os.makedirs(self.check_point_path)\n",
    "        self.save_best = save_best\n",
    "        self.save_final = save_final\n",
    "        self.save_interval = save_interval\n",
    "        self.checkpoint_start_epoch = checkpoint_start_epoch\n",
    "        self.training_loss = []\n",
    "        self.validation_loss = []\n",
    "        self.learning_rate = []\n",
    "\n",
    "    def run_trainer(self):\n",
    "        self.model.to(self.device)\n",
    "        #         print(next(self.model.parameters()).device)\n",
    "        if self.notebook:\n",
    "            print('Notebook')\n",
    "            from tqdm.notebook import tqdm, trange\n",
    "        else:\n",
    "            from tqdm import tqdm, trange\n",
    "        #         print(self.epochs)\n",
    "        progressbar = trange(self.epochs, desc='Progress', disable=True)  # don't show progressbar\n",
    "        loss_max = None\n",
    "        for epoch in progressbar:\n",
    "            # print(f'Epoch - {epoch}')\n",
    "\n",
    "            # Training Block\n",
    "            train_loss = self._train()\n",
    "            self.writer_train.add_scalar(\"Loss\", train_loss, epoch)\n",
    "\n",
    "            # Val Block\n",
    "            val_loss = self._validate()\n",
    "            self.writer_val.add_scalar(\"Loss\", val_loss, epoch)\n",
    "\n",
    "            # lr\n",
    "            self.writer_train.add_scalar(\"Learning Rate\", self.optimizer.param_groups[0]['lr'], epoch)\n",
    "\n",
    "            print('Epoch - {} Train Loss - {} Val Loss - {}'.format(epoch, train_loss, val_loss))\n",
    "            if self.save_final:\n",
    "                if epoch == self.epochs-1:\n",
    "                    model_name = 'epoch-{}-loss{:.6f}'.format(epoch, val_loss)\n",
    "                    torch.save(self.model.state_dict(), os.path.join(self.check_point_path, model_name))\n",
    "            # if epoch == 0:\n",
    "            #     loss_max = val_loss\n",
    "            #     print(loss_max)\n",
    "            #     pass\n",
    "            # if self.save_best and epoch >= self.checkpoint_start_epoch:\n",
    "            #     if val_loss < loss_max:  # loss decreased\n",
    "            #         print('Saving Checkpoint at val loss dropped from {:.6f} -> {:.6f}'.format(loss_max, val_loss))\n",
    "            #         model_name = 'epoch-{}-loss{:.6f}'.format(epoch, val_loss)\n",
    "            #         # torch.save(self.model.state_dict(), os.path.join(self.check_point_path, model_name))\n",
    "            # elif epoch % self.save_interval == 0:\n",
    "            #     print('Saving Checkpoint Val loss - {:.6f}'.format(val_loss))\n",
    "            #     model_name = 'epoch-{}-loss{:.6f}'.format(epoch, val_loss)\n",
    "            #     torch.save(self.model.state_dict(), os.path.join(self.check_point_path, model_name))\n",
    "            loss_max = val_loss\n",
    "\n",
    "        return self.training_loss, self.validation_loss, self.model\n",
    "\n",
    "    def _train(self):\n",
    "\n",
    "        self.model.train()\n",
    "        train_losses = []\n",
    "        batch_iter = tqdm(enumerate(self.training_DataLoader), 'Training', total=len(self.training_DataLoader),\n",
    "                          disable=False)\n",
    "        for i, (x, y) in batch_iter:\n",
    "            input, target = x.type(torch.float32).to(self.device), y.type(torch.float32).to(self.device)\n",
    "            self.optimizer.zero_grad()\n",
    "            output = self.model(input)\n",
    "            # target = target.unsqueeze(-1)\n",
    "            #             print('Target Shape - ', target.shape)\n",
    "            #             print('Output Shape - ', output.shape)\n",
    "            loss = self.criterion(output, target)\n",
    "            train_losses.append(loss.item())\n",
    "            loss.backward()\n",
    "            self.optimizer.step()\n",
    "\n",
    "        self.training_loss.append(np.mean(train_losses))  # Mean batch loss\n",
    "        self.learning_rate.append(self.optimizer.param_groups[0]['lr'])\n",
    "\n",
    "        batch_iter.close()  # clean up the bar\n",
    "        return np.mean(train_losses)\n",
    "\n",
    "    def _validate(self):\n",
    "\n",
    "        self.model.eval()\n",
    "        valid_losses = []\n",
    "        batch_iter = tqdm(enumerate(self.validation_DataLoader), 'validation', total=len(self.validation_DataLoader),\n",
    "                          disable=False)\n",
    "        for i, (x, y) in batch_iter:\n",
    "            input, target = x.type(torch.float32).to(self.device), y.type(torch.float32).to(self.device)\n",
    "            with torch.no_grad():\n",
    "                out = self.model(input)\n",
    "                loss = self.criterion(target, out)\n",
    "                valid_losses.append(loss.item())\n",
    "        self.validation_loss.append(np.mean(valid_losses))\n",
    "        batch_iter.close()\n",
    "        return np.mean(valid_losses)"
   ]
  },
  {
   "cell_type": "code",
   "execution_count": 7,
   "id": "ad937173",
   "metadata": {
    "lines_to_next_cell": 1,
    "tags": []
   },
   "outputs": [],
   "source": [
    "class model0(nn.Module):\n",
    "    def __init__(self, input_size=1, output_size=1):\n",
    "        super().__init__()\n",
    "        self.dense_1 = nn.Linear(input_size, 5)\n",
    "        self.dense_2 = nn.Linear(5, 10)\n",
    "        self.dense_3 = nn.Linear(10, 10)\n",
    "        self.dense_4 = nn.Linear(10, 10)\n",
    "        self.dense_5 = nn.Linear(10, 10)\n",
    "        self.dense_6 = nn.Linear(10, 10)\n",
    "        self.dense_7 = nn.Linear(10, 5)\n",
    "        self.dense_8 = nn.Linear(5, output_size)\n",
    "\n",
    "    def forward(self, input_data):\n",
    "        x1 = F.relu(self.dense_1(input_data))\n",
    "        x2 = F.relu(self.dense_2(x1))\n",
    "        x3 = F.relu(self.dense_3(x2))\n",
    "        x4 = F.relu(self.dense_4(x3))\n",
    "        x5 = F.relu(self.dense_5(x4))\n",
    "        x6 = F.relu(self.dense_6(x5))\n",
    "        x7 = F.relu(self.dense_7(x6))\n",
    "        x8 = self.dense_8(x7)\n",
    "        return x8"
   ]
  },
  {
   "cell_type": "code",
   "execution_count": 8,
   "id": "c6df9b3b",
   "metadata": {
    "lines_to_next_cell": 1,
    "tags": []
   },
   "outputs": [],
   "source": [
    "class model1(nn.Module):\n",
    "    def __init__(self, input_size=1, output_size=1):\n",
    "        super().__init__()\n",
    "        self.dense1 = nn.Linear(input_size, 10)\n",
    "        self.dense2 = nn.Linear(10, 18)\n",
    "        self.dense3 = nn.Linear(18, 15)\n",
    "        self.dense4 = nn.Linear(15, 4)\n",
    "        self.dense5 = nn.Linear(4, output_size)\n",
    "\n",
    "    def forward(self, input_data):\n",
    "        x1 = F.relu(self.dense1(input_data))\n",
    "        x2 = F.relu(self.dense2(x1))\n",
    "        x3 = F.relu(self.dense3(x2))\n",
    "        x4 = F.relu(self.dense4(x3))\n",
    "        x5 = self.dense5(x4)\n",
    "        return x5"
   ]
  },
  {
   "cell_type": "code",
   "execution_count": 9,
   "id": "84f9e320",
   "metadata": {
    "lines_to_next_cell": 1,
    "tags": []
   },
   "outputs": [],
   "source": [
    "class model2(nn.Module):\n",
    "    def __init__(self, input_size=1, output_size=1):\n",
    "        super(model2, self).__init__()\n",
    "        self.dense1 = nn.Linear(input_size, 190)\n",
    "        self.dense2 = nn.Linear(190, output_size)\n",
    "    def forward(self, input_data):\n",
    "        x1 = F.relu(self.dense1(input_data))\n",
    "        x2 = self.dense2(x1)\n",
    "        return x2"
   ]
  },
  {
   "cell_type": "code",
   "execution_count": 10,
   "id": "ea5bf467",
   "metadata": {
    "lines_to_next_cell": 1,
    "tags": []
   },
   "outputs": [],
   "source": [
    "def prep_data(func, data_length=2500, train_ratio=0.7, batch_size=8, shuffle=True):\n",
    "    X = np.linspace(1e-4, 1, data_length)\n",
    "    # np.random.shuffle(X)\n",
    "    y = np.array(list(map(func, X)))\n",
    "    X = X.reshape(X.shape[0], 1)\n",
    "    y = y.reshape(y.shape[0], 1)\n",
    "    X = torch.from_numpy(X).float()\n",
    "    y = torch.from_numpy(y).float()\n",
    "    X_train, X_val = X[0:int(data_length * train_ratio), ], X[int(data_length * train_ratio):, ]\n",
    "    y_train, y_val = y[0:int(data_length * train_ratio), ], y[int(data_length * train_ratio):, ]\n",
    "    assert X_train.shape[0] == y_train.shape[0]\n",
    "    assert X_val.shape[0] == y_val.shape[0]\n",
    "    TrainDataLoader = DataLoader(TensorDataset(X_train, y_train), batch_size, shuffle)\n",
    "    ValDataLoader = DataLoader(TensorDataset(X_val, y_val), batch_size, shuffle)\n",
    "\n",
    "    return TrainDataLoader, ValDataLoader"
   ]
  },
  {
   "cell_type": "code",
   "execution_count": 11,
   "id": "ac92438f-7abc-4edc-b9c7-acea26c64da2",
   "metadata": {
    "lines_to_next_cell": 1,
    "tags": []
   },
   "outputs": [],
   "source": [
    "def evaluate_model(model, eval_input_, device=0):\n",
    "  output = []\n",
    "  eval_input = eval_input_.reshape(eval_input_.shape[0], 1)\n",
    "  eval_input = torch.from_numpy(eval_input).float()\n",
    "  EvalDataLoader = DataLoader(TensorDataset(eval_input), batch_size = 1024, shuffle=False)\n",
    "  for x in EvalDataLoader:\n",
    "    model.eval()\n",
    "    x = x[0].type(torch.float32).to(device)\n",
    "    out = model(x)\n",
    "    output_ = list(out.flatten().detach().cpu().numpy())\n",
    "    output += output_\n",
    "  return output"
   ]
  },
  {
   "cell_type": "markdown",
   "id": "8cfa8f36",
   "metadata": {},
   "source": [
    "model_0 = model0()\n",
    "model_1 = model1()\n",
    "model_2 = model2()"
   ]
  },
  {
   "cell_type": "code",
   "execution_count": 12,
   "id": "5614dbbf",
   "metadata": {
    "tags": []
   },
   "outputs": [],
   "source": [
    "gpu_id = 0\n",
    "loss_fn = nn.MSELoss()\n",
    "lr = 1e-4\n",
    "func1 = lambda x: (np.sin(5 * (np.pi) * x)) / (5 * np.pi * x)\n",
    "func2 = lambda x: np.sign(np.sin(5*np.pi*x))\n",
    "training_DataLoader,  validation_DataLoader = prep_data(func=func1,batch_size=2048*2)\n",
    "epochs =  20000\n",
    "notebook = True\n",
    "checkpoint_start_epoch = 5 #Not using\n",
    "path2write = r\"/Users/ramya/Desktop\""
   ]
  },
  {
   "cell_type": "code",
   "execution_count": 13,
   "id": "1041aeb3-353d-4c15-9944-22f59f91b227",
   "metadata": {
    "tags": []
   },
   "outputs": [],
   "source": [
    "path2write = os.path.expanduser(\"~/my_logs\")  # This will create a 'my_logs' directory in your home directory\n"
   ]
  },
  {
   "cell_type": "code",
   "execution_count": null,
   "id": "b5c2717b-ee13-4a90-9573-3d49db5bad2b",
   "metadata": {
    "tags": []
   },
   "outputs": [
    {
     "name": "stdout",
     "output_type": "stream",
     "text": [
      "Notebook\n"
     ]
    },
    {
     "name": "stderr",
     "output_type": "stream",
     "text": [
      "Training: 100%|██████████| 1/1 [00:00<00:00,  4.70it/s]\n",
      "validation: 100%|██████████| 1/1 [00:00<00:00, 169.22it/s]\n"
     ]
    },
    {
     "name": "stdout",
     "output_type": "stream",
     "text": [
      "Epoch - 0 Train Loss - 0.24928607046604156 Val Loss - 0.05493501201272011\n"
     ]
    },
    {
     "name": "stderr",
     "output_type": "stream",
     "text": [
      "Training: 100%|██████████| 1/1 [00:00<00:00, 71.53it/s]\n",
      "validation: 100%|██████████| 1/1 [00:00<00:00, 189.44it/s]\n"
     ]
    },
    {
     "name": "stdout",
     "output_type": "stream",
     "text": [
      "Epoch - 1 Train Loss - 0.24897214770317078 Val Loss - 0.05473710596561432\n"
     ]
    },
    {
     "name": "stderr",
     "output_type": "stream",
     "text": [
      "Training: 100%|██████████| 1/1 [00:00<00:00, 77.33it/s]\n",
      "validation: 100%|██████████| 1/1 [00:00<00:00, 188.92it/s]\n"
     ]
    },
    {
     "name": "stdout",
     "output_type": "stream",
     "text": [
      "Epoch - 2 Train Loss - 0.24865886569023132 Val Loss - 0.0545397587120533\n"
     ]
    },
    {
     "name": "stderr",
     "output_type": "stream",
     "text": [
      "Training: 100%|██████████| 1/1 [00:00<00:00, 78.13it/s]\n",
      "validation: 100%|██████████| 1/1 [00:00<00:00, 180.33it/s]\n"
     ]
    },
    {
     "name": "stdout",
     "output_type": "stream",
     "text": [
      "Epoch - 3 Train Loss - 0.2483462542295456 Val Loss - 0.05434296652674675\n"
     ]
    },
    {
     "name": "stderr",
     "output_type": "stream",
     "text": [
      "Training: 100%|██████████| 1/1 [00:00<00:00, 78.98it/s]\n",
      "validation: 100%|██████████| 1/1 [00:00<00:00, 185.96it/s]\n"
     ]
    },
    {
     "name": "stdout",
     "output_type": "stream",
     "text": [
      "Epoch - 4 Train Loss - 0.2480342984199524 Val Loss - 0.054146748036146164\n"
     ]
    },
    {
     "name": "stderr",
     "output_type": "stream",
     "text": [
      "Training: 100%|██████████| 1/1 [00:00<00:00,  3.22it/s]\n",
      "validation: 100%|██████████| 1/1 [00:00<00:00, 189.08it/s]\n"
     ]
    },
    {
     "name": "stdout",
     "output_type": "stream",
     "text": [
      "Epoch - 5 Train Loss - 0.2477230429649353 Val Loss - 0.05395109951496124\n"
     ]
    },
    {
     "name": "stderr",
     "output_type": "stream",
     "text": [
      "Training: 100%|██████████| 1/1 [00:00<00:00, 75.02it/s]\n",
      "validation: 100%|██████████| 1/1 [00:00<00:00, 196.08it/s]\n"
     ]
    },
    {
     "name": "stdout",
     "output_type": "stream",
     "text": [
      "Epoch - 6 Train Loss - 0.24741245806217194 Val Loss - 0.053756020963191986\n"
     ]
    },
    {
     "name": "stderr",
     "output_type": "stream",
     "text": [
      "Training: 100%|██████████| 1/1 [00:00<00:00, 76.10it/s]\n",
      "validation: 100%|██████████| 1/1 [00:00<00:00, 189.15it/s]\n"
     ]
    },
    {
     "name": "stdout",
     "output_type": "stream",
     "text": [
      "Epoch - 7 Train Loss - 0.2471025586128235 Val Loss - 0.05356154218316078\n"
     ]
    },
    {
     "name": "stderr",
     "output_type": "stream",
     "text": [
      "Training: 100%|██████████| 1/1 [00:00<00:00, 78.34it/s]\n",
      "validation: 100%|██████████| 1/1 [00:00<00:00, 188.64it/s]\n"
     ]
    },
    {
     "name": "stdout",
     "output_type": "stream",
     "text": [
      "Epoch - 8 Train Loss - 0.24679340422153473 Val Loss - 0.05336764454841614\n"
     ]
    },
    {
     "name": "stderr",
     "output_type": "stream",
     "text": [
      "Training: 100%|██████████| 1/1 [00:00<00:00, 78.15it/s]\n",
      "validation: 100%|██████████| 1/1 [00:00<00:00, 178.14it/s]\n"
     ]
    },
    {
     "name": "stdout",
     "output_type": "stream",
     "text": [
      "Epoch - 9 Train Loss - 0.24648495018482208 Val Loss - 0.05317433550953865\n"
     ]
    },
    {
     "name": "stderr",
     "output_type": "stream",
     "text": [
      "Training: 100%|██████████| 1/1 [00:00<00:00, 78.07it/s]\n",
      "validation: 100%|██████████| 1/1 [00:00<00:00, 185.79it/s]\n"
     ]
    },
    {
     "name": "stdout",
     "output_type": "stream",
     "text": [
      "Epoch - 10 Train Loss - 0.24617721140384674 Val Loss - 0.052981626242399216\n"
     ]
    },
    {
     "name": "stderr",
     "output_type": "stream",
     "text": [
      "Training: 100%|██████████| 1/1 [00:00<00:00, 74.84it/s]\n",
      "validation: 100%|██████████| 1/1 [00:00<00:00, 188.05it/s]\n"
     ]
    },
    {
     "name": "stdout",
     "output_type": "stream",
     "text": [
      "Epoch - 11 Train Loss - 0.2458702027797699 Val Loss - 0.05278952047228813\n"
     ]
    },
    {
     "name": "stderr",
     "output_type": "stream",
     "text": [
      "Training: 100%|██████████| 1/1 [00:00<00:00, 74.04it/s]\n",
      "validation: 100%|██████████| 1/1 [00:00<00:00, 186.58it/s]\n"
     ]
    },
    {
     "name": "stdout",
     "output_type": "stream",
     "text": [
      "Epoch - 12 Train Loss - 0.24556393921375275 Val Loss - 0.0525980181992054\n"
     ]
    },
    {
     "name": "stderr",
     "output_type": "stream",
     "text": [
      "Training: 100%|██████████| 1/1 [00:00<00:00, 76.79it/s]\n",
      "validation: 100%|██████████| 1/1 [00:00<00:00, 186.14it/s]\n"
     ]
    },
    {
     "name": "stdout",
     "output_type": "stream",
     "text": [
      "Epoch - 13 Train Loss - 0.2452584207057953 Val Loss - 0.052407123148441315\n"
     ]
    },
    {
     "name": "stderr",
     "output_type": "stream",
     "text": [
      "Training: 100%|██████████| 1/1 [00:00<00:00, 78.34it/s]\n",
      "validation: 100%|██████████| 1/1 [00:00<00:00, 178.19it/s]\n"
     ]
    },
    {
     "name": "stdout",
     "output_type": "stream",
     "text": [
      "Epoch - 14 Train Loss - 0.24495364725589752 Val Loss - 0.05221683159470558\n"
     ]
    },
    {
     "name": "stderr",
     "output_type": "stream",
     "text": [
      "Training: 100%|██████████| 1/1 [00:00<00:00, 78.55it/s]\n",
      "validation: 100%|██████████| 1/1 [00:00<00:00, 171.27it/s]\n"
     ]
    },
    {
     "name": "stdout",
     "output_type": "stream",
     "text": [
      "Epoch - 15 Train Loss - 0.24464961886405945 Val Loss - 0.05202716961503029\n"
     ]
    },
    {
     "name": "stderr",
     "output_type": "stream",
     "text": [
      "Training: 100%|██████████| 1/1 [00:00<00:00, 78.62it/s]\n",
      "validation: 100%|██████████| 1/1 [00:00<00:00, 185.19it/s]\n"
     ]
    },
    {
     "name": "stdout",
     "output_type": "stream",
     "text": [
      "Epoch - 16 Train Loss - 0.24434638023376465 Val Loss - 0.05183812230825424\n"
     ]
    },
    {
     "name": "stderr",
     "output_type": "stream",
     "text": [
      "Training: 100%|██████████| 1/1 [00:00<00:00, 73.10it/s]\n",
      "validation: 100%|██████████| 1/1 [00:00<00:00, 194.36it/s]\n"
     ]
    },
    {
     "name": "stdout",
     "output_type": "stream",
     "text": [
      "Epoch - 17 Train Loss - 0.24404387176036835 Val Loss - 0.05164969339966774\n"
     ]
    },
    {
     "name": "stderr",
     "output_type": "stream",
     "text": [
      "Training: 100%|██████████| 1/1 [00:00<00:00, 74.16it/s]\n",
      "validation: 100%|██████████| 1/1 [00:00<00:00, 187.42it/s]\n"
     ]
    },
    {
     "name": "stdout",
     "output_type": "stream",
     "text": [
      "Epoch - 18 Train Loss - 0.24374215304851532 Val Loss - 0.05146189406514168\n"
     ]
    },
    {
     "name": "stderr",
     "output_type": "stream",
     "text": [
      "Training: 100%|██████████| 1/1 [00:00<00:00, 75.93it/s]\n",
      "validation: 100%|██████████| 1/1 [00:00<00:00, 187.02it/s]\n"
     ]
    },
    {
     "name": "stdout",
     "output_type": "stream",
     "text": [
      "Epoch - 19 Train Loss - 0.24344120919704437 Val Loss - 0.05127471685409546\n"
     ]
    },
    {
     "name": "stderr",
     "output_type": "stream",
     "text": [
      "Training: 100%|██████████| 1/1 [00:00<00:00, 78.08it/s]\n",
      "validation: 100%|██████████| 1/1 [00:00<00:00, 179.65it/s]\n"
     ]
    },
    {
     "name": "stdout",
     "output_type": "stream",
     "text": [
      "Epoch - 20 Train Loss - 0.2431410402059555 Val Loss - 0.05108817666769028\n"
     ]
    },
    {
     "name": "stderr",
     "output_type": "stream",
     "text": [
      "Training: 100%|██████████| 1/1 [00:00<00:00, 77.10it/s]\n",
      "validation: 100%|██████████| 1/1 [00:00<00:00, 180.63it/s]\n"
     ]
    },
    {
     "name": "stdout",
     "output_type": "stream",
     "text": [
      "Epoch - 21 Train Loss - 0.2428416609764099 Val Loss - 0.05090226233005524\n"
     ]
    },
    {
     "name": "stderr",
     "output_type": "stream",
     "text": [
      "Training: 100%|██████████| 1/1 [00:00<00:00, 77.80it/s]\n",
      "validation: 100%|██████████| 1/1 [00:00<00:00, 190.39it/s]\n"
     ]
    },
    {
     "name": "stdout",
     "output_type": "stream",
     "text": [
      "Epoch - 22 Train Loss - 0.2425430566072464 Val Loss - 0.050716981291770935\n"
     ]
    },
    {
     "name": "stderr",
     "output_type": "stream",
     "text": [
      "Training: 100%|██████████| 1/1 [00:00<00:00, 74.98it/s]\n",
      "validation: 100%|██████████| 1/1 [00:00<00:00, 183.69it/s]\n"
     ]
    },
    {
     "name": "stdout",
     "output_type": "stream",
     "text": [
      "Epoch - 23 Train Loss - 0.24224525690078735 Val Loss - 0.05053233727812767\n"
     ]
    },
    {
     "name": "stderr",
     "output_type": "stream",
     "text": [
      "Training: 100%|██████████| 1/1 [00:00<00:00, 73.27it/s]\n",
      "validation: 100%|██████████| 1/1 [00:00<00:00, 178.21it/s]\n"
     ]
    },
    {
     "name": "stdout",
     "output_type": "stream",
     "text": [
      "Epoch - 24 Train Loss - 0.2419482171535492 Val Loss - 0.050348326563835144\n"
     ]
    },
    {
     "name": "stderr",
     "output_type": "stream",
     "text": [
      "Training: 100%|██████████| 1/1 [00:00<00:00, 77.13it/s]\n",
      "validation: 100%|██████████| 1/1 [00:00<00:00, 183.25it/s]\n"
     ]
    },
    {
     "name": "stdout",
     "output_type": "stream",
     "text": [
      "Epoch - 25 Train Loss - 0.2416519969701767 Val Loss - 0.05016495659947395\n"
     ]
    },
    {
     "name": "stderr",
     "output_type": "stream",
     "text": [
      "Training: 100%|██████████| 1/1 [00:00<00:00, 78.21it/s]\n",
      "validation: 100%|██████████| 1/1 [00:00<00:00, 177.80it/s]\n"
     ]
    },
    {
     "name": "stdout",
     "output_type": "stream",
     "text": [
      "Epoch - 26 Train Loss - 0.24135658144950867 Val Loss - 0.0499822162091732\n"
     ]
    },
    {
     "name": "stderr",
     "output_type": "stream",
     "text": [
      "Training: 100%|██████████| 1/1 [00:00<00:00, 77.58it/s]\n",
      "validation: 100%|██████████| 1/1 [00:00<00:00, 181.10it/s]\n"
     ]
    },
    {
     "name": "stdout",
     "output_type": "stream",
     "text": [
      "Epoch - 27 Train Loss - 0.24106194078922272 Val Loss - 0.049800120294094086\n"
     ]
    },
    {
     "name": "stderr",
     "output_type": "stream",
     "text": [
      "Training: 100%|██████████| 1/1 [00:00<00:00, 77.15it/s]\n",
      "validation: 100%|██████████| 1/1 [00:00<00:00, 180.52it/s]\n"
     ]
    },
    {
     "name": "stdout",
     "output_type": "stream",
     "text": [
      "Epoch - 28 Train Loss - 0.24076810479164124 Val Loss - 0.049618661403656006\n"
     ]
    },
    {
     "name": "stderr",
     "output_type": "stream",
     "text": [
      "Training: 100%|██████████| 1/1 [00:00<00:00, 73.13it/s]\n",
      "validation: 100%|██████████| 1/1 [00:00<00:00, 184.78it/s]\n"
     ]
    },
    {
     "name": "stdout",
     "output_type": "stream",
     "text": [
      "Epoch - 29 Train Loss - 0.24047504365444183 Val Loss - 0.049437835812568665\n"
     ]
    },
    {
     "name": "stderr",
     "output_type": "stream",
     "text": [
      "Training: 100%|██████████| 1/1 [00:00<00:00, 74.35it/s]\n",
      "validation: 100%|██████████| 1/1 [00:00<00:00, 178.82it/s]\n"
     ]
    },
    {
     "name": "stdout",
     "output_type": "stream",
     "text": [
      "Epoch - 30 Train Loss - 0.2401827871799469 Val Loss - 0.049257658421993256\n"
     ]
    },
    {
     "name": "stderr",
     "output_type": "stream",
     "text": [
      "Training: 100%|██████████| 1/1 [00:00<00:00, 77.49it/s]\n",
      "validation: 100%|██████████| 1/1 [00:00<00:00, 181.13it/s]\n"
     ]
    },
    {
     "name": "stdout",
     "output_type": "stream",
     "text": [
      "Epoch - 31 Train Loss - 0.23989133536815643 Val Loss - 0.04907974228262901\n"
     ]
    },
    {
     "name": "stderr",
     "output_type": "stream",
     "text": [
      "Training: 100%|██████████| 1/1 [00:00<00:00, 76.79it/s]\n",
      "validation: 100%|██████████| 1/1 [00:00<00:00, 188.50it/s]\n"
     ]
    },
    {
     "name": "stdout",
     "output_type": "stream",
     "text": [
      "Epoch - 32 Train Loss - 0.23960068821907043 Val Loss - 0.04890671744942665\n"
     ]
    },
    {
     "name": "stderr",
     "output_type": "stream",
     "text": [
      "Training: 100%|██████████| 1/1 [00:00<00:00, 76.66it/s]\n",
      "validation: 100%|██████████| 1/1 [00:00<00:00, 177.41it/s]\n"
     ]
    },
    {
     "name": "stdout",
     "output_type": "stream",
     "text": [
      "Epoch - 33 Train Loss - 0.23931081593036652 Val Loss - 0.04874144494533539\n"
     ]
    },
    {
     "name": "stderr",
     "output_type": "stream",
     "text": [
      "Training: 100%|██████████| 1/1 [00:00<00:00, 76.72it/s]\n",
      "validation: 100%|██████████| 1/1 [00:00<00:00, 179.79it/s]\n"
     ]
    },
    {
     "name": "stdout",
     "output_type": "stream",
     "text": [
      "Epoch - 34 Train Loss - 0.23902176320552826 Val Loss - 0.04857928305864334\n"
     ]
    },
    {
     "name": "stderr",
     "output_type": "stream",
     "text": [
      "Training: 100%|██████████| 1/1 [00:00<00:00, 73.97it/s]\n",
      "validation: 100%|██████████| 1/1 [00:00<00:00, 185.63it/s]\n"
     ]
    },
    {
     "name": "stdout",
     "output_type": "stream",
     "text": [
      "Epoch - 35 Train Loss - 0.23873350024223328 Val Loss - 0.04841862991452217\n"
     ]
    },
    {
     "name": "stderr",
     "output_type": "stream",
     "text": [
      "Training: 100%|██████████| 1/1 [00:00<00:00, 77.30it/s]\n",
      "validation: 100%|██████████| 1/1 [00:00<00:00, 187.82it/s]\n"
     ]
    },
    {
     "name": "stdout",
     "output_type": "stream",
     "text": [
      "Epoch - 36 Train Loss - 0.23844628036022186 Val Loss - 0.04825853928923607\n"
     ]
    },
    {
     "name": "stderr",
     "output_type": "stream",
     "text": [
      "Training: 100%|██████████| 1/1 [00:00<00:00, 75.67it/s]\n",
      "validation: 100%|██████████| 1/1 [00:00<00:00, 188.47it/s]\n"
     ]
    },
    {
     "name": "stdout",
     "output_type": "stream",
     "text": [
      "Epoch - 37 Train Loss - 0.23816131055355072 Val Loss - 0.04809901490807533\n"
     ]
    },
    {
     "name": "stderr",
     "output_type": "stream",
     "text": [
      "Training: 100%|██████████| 1/1 [00:00<00:00, 76.78it/s]\n",
      "validation: 100%|██████████| 1/1 [00:00<00:00, 189.42it/s]\n"
     ]
    },
    {
     "name": "stdout",
     "output_type": "stream",
     "text": [
      "Epoch - 38 Train Loss - 0.23787999153137207 Val Loss - 0.04794007167220116\n"
     ]
    },
    {
     "name": "stderr",
     "output_type": "stream",
     "text": [
      "Training: 100%|██████████| 1/1 [00:00<00:00, 76.08it/s]\n",
      "validation: 100%|██████████| 1/1 [00:00<00:00, 180.74it/s]\n"
     ]
    },
    {
     "name": "stdout",
     "output_type": "stream",
     "text": [
      "Epoch - 39 Train Loss - 0.23760254681110382 Val Loss - 0.04778173938393593\n"
     ]
    },
    {
     "name": "stderr",
     "output_type": "stream",
     "text": [
      "Training: 100%|██████████| 1/1 [00:00<00:00, 77.93it/s]\n",
      "validation: 100%|██████████| 1/1 [00:00<00:00, 176.87it/s]\n"
     ]
    },
    {
     "name": "stdout",
     "output_type": "stream",
     "text": [
      "Epoch - 40 Train Loss - 0.23732754588127136 Val Loss - 0.04762399196624756\n"
     ]
    },
    {
     "name": "stderr",
     "output_type": "stream",
     "text": [
      "Training: 100%|██████████| 1/1 [00:00<00:00, 75.30it/s]\n",
      "validation: 100%|██████████| 1/1 [00:00<00:00,  4.09it/s]\n"
     ]
    },
    {
     "name": "stdout",
     "output_type": "stream",
     "text": [
      "Epoch - 41 Train Loss - 0.237053781747818 Val Loss - 0.047466836869716644\n"
     ]
    },
    {
     "name": "stderr",
     "output_type": "stream",
     "text": [
      "Training: 100%|██████████| 1/1 [00:00<00:00, 74.85it/s]\n",
      "validation: 100%|██████████| 1/1 [00:00<00:00, 185.29it/s]\n"
     ]
    },
    {
     "name": "stdout",
     "output_type": "stream",
     "text": [
      "Epoch - 42 Train Loss - 0.23678278923034668 Val Loss - 0.04731030389666557\n"
     ]
    },
    {
     "name": "stderr",
     "output_type": "stream",
     "text": [
      "Training: 100%|██████████| 1/1 [00:00<00:00, 76.27it/s]\n",
      "validation: 100%|██████████| 1/1 [00:00<00:00, 188.93it/s]\n"
     ]
    },
    {
     "name": "stdout",
     "output_type": "stream",
     "text": [
      "Epoch - 43 Train Loss - 0.2365204393863678 Val Loss - 0.047154501080513\n"
     ]
    },
    {
     "name": "stderr",
     "output_type": "stream",
     "text": [
      "Training: 100%|██████████| 1/1 [00:00<00:00, 76.95it/s]\n",
      "validation: 100%|██████████| 1/1 [00:00<00:00, 188.15it/s]\n"
     ]
    },
    {
     "name": "stdout",
     "output_type": "stream",
     "text": [
      "Epoch - 44 Train Loss - 0.23626556992530823 Val Loss - 0.04699941352009773\n"
     ]
    },
    {
     "name": "stderr",
     "output_type": "stream",
     "text": [
      "Training: 100%|██████████| 1/1 [00:00<00:00, 77.01it/s]\n",
      "validation: 100%|██████████| 1/1 [00:00<00:00, 189.66it/s]\n"
     ]
    },
    {
     "name": "stdout",
     "output_type": "stream",
     "text": [
      "Epoch - 45 Train Loss - 0.23601168394088745 Val Loss - 0.04684504121541977\n"
     ]
    },
    {
     "name": "stderr",
     "output_type": "stream",
     "text": [
      "Training: 100%|██████████| 1/1 [00:00<00:00, 77.78it/s]\n",
      "validation: 100%|██████████| 1/1 [00:00<00:00, 188.62it/s]\n"
     ]
    },
    {
     "name": "stdout",
     "output_type": "stream",
     "text": [
      "Epoch - 46 Train Loss - 0.23575881123542786 Val Loss - 0.046691350638866425\n"
     ]
    },
    {
     "name": "stderr",
     "output_type": "stream",
     "text": [
      "Training: 100%|██████████| 1/1 [00:00<00:00, 76.66it/s]\n",
      "validation: 100%|██████████| 1/1 [00:00<00:00, 190.92it/s]\n"
     ]
    },
    {
     "name": "stdout",
     "output_type": "stream",
     "text": [
      "Epoch - 47 Train Loss - 0.23550686240196228 Val Loss - 0.046538345515728\n"
     ]
    },
    {
     "name": "stderr",
     "output_type": "stream",
     "text": [
      "Training: 100%|██████████| 1/1 [00:00<00:00, 75.54it/s]\n",
      "validation: 100%|██████████| 1/1 [00:00<00:00, 187.09it/s]\n"
     ]
    },
    {
     "name": "stdout",
     "output_type": "stream",
     "text": [
      "Epoch - 48 Train Loss - 0.2352558672428131 Val Loss - 0.0463859960436821\n"
     ]
    },
    {
     "name": "stderr",
     "output_type": "stream",
     "text": [
      "Training: 100%|██████████| 1/1 [00:00<00:00, 76.10it/s]\n",
      "validation: 100%|██████████| 1/1 [00:00<00:00, 188.14it/s]\n"
     ]
    },
    {
     "name": "stdout",
     "output_type": "stream",
     "text": [
      "Epoch - 49 Train Loss - 0.23500578105449677 Val Loss - 0.046234287321567535\n"
     ]
    },
    {
     "name": "stderr",
     "output_type": "stream",
     "text": [
      "Training: 100%|██████████| 1/1 [00:00<00:00, 78.18it/s]\n",
      "validation: 100%|██████████| 1/1 [00:00<00:00, 184.74it/s]\n"
     ]
    },
    {
     "name": "stdout",
     "output_type": "stream",
     "text": [
      "Epoch - 50 Train Loss - 0.23475660383701324 Val Loss - 0.04608321934938431\n"
     ]
    },
    {
     "name": "stderr",
     "output_type": "stream",
     "text": [
      "Training: 100%|██████████| 1/1 [00:00<00:00, 77.18it/s]\n",
      "validation: 100%|██████████| 1/1 [00:00<00:00, 182.45it/s]\n"
     ]
    },
    {
     "name": "stdout",
     "output_type": "stream",
     "text": [
      "Epoch - 51 Train Loss - 0.23450829088687897 Val Loss - 0.04593277350068092\n"
     ]
    },
    {
     "name": "stderr",
     "output_type": "stream",
     "text": [
      "Training: 100%|██████████| 1/1 [00:00<00:00, 77.28it/s]\n",
      "validation: 100%|██████████| 1/1 [00:00<00:00, 178.38it/s]\n"
     ]
    },
    {
     "name": "stdout",
     "output_type": "stream",
     "text": [
      "Epoch - 52 Train Loss - 0.23426082730293274 Val Loss - 0.04578293859958649\n"
     ]
    },
    {
     "name": "stderr",
     "output_type": "stream",
     "text": [
      "Training: 100%|██████████| 1/1 [00:00<00:00, 78.86it/s]\n",
      "validation: 100%|██████████| 1/1 [00:00<00:00, 178.72it/s]\n"
     ]
    },
    {
     "name": "stdout",
     "output_type": "stream",
     "text": [
      "Epoch - 53 Train Loss - 0.23401419818401337 Val Loss - 0.04563369229435921\n"
     ]
    },
    {
     "name": "stderr",
     "output_type": "stream",
     "text": [
      "Training: 100%|██████████| 1/1 [00:00<00:00, 76.35it/s]\n",
      "validation: 100%|██████████| 1/1 [00:00<00:00, 181.46it/s]\n"
     ]
    },
    {
     "name": "stdout",
     "output_type": "stream",
     "text": [
      "Epoch - 54 Train Loss - 0.23376834392547607 Val Loss - 0.045485034584999084\n"
     ]
    },
    {
     "name": "stderr",
     "output_type": "stream",
     "text": [
      "Training: 100%|██████████| 1/1 [00:00<00:00, 76.71it/s]\n",
      "validation: 100%|██████████| 1/1 [00:00<00:00, 177.60it/s]\n"
     ]
    },
    {
     "name": "stdout",
     "output_type": "stream",
     "text": [
      "Epoch - 55 Train Loss - 0.23352330923080444 Val Loss - 0.045336950570344925\n"
     ]
    },
    {
     "name": "stderr",
     "output_type": "stream",
     "text": [
      "Training: 100%|██████████| 1/1 [00:00<00:00, 78.43it/s]\n",
      "validation: 100%|██████████| 1/1 [00:00<00:00, 183.23it/s]\n"
     ]
    },
    {
     "name": "stdout",
     "output_type": "stream",
     "text": [
      "Epoch - 56 Train Loss - 0.2332790493965149 Val Loss - 0.045189425349235535\n"
     ]
    },
    {
     "name": "stderr",
     "output_type": "stream",
     "text": [
      "Training: 100%|██████████| 1/1 [00:00<00:00, 77.12it/s]\n",
      "validation: 100%|██████████| 1/1 [00:00<00:00, 182.40it/s]\n"
     ]
    },
    {
     "name": "stdout",
     "output_type": "stream",
     "text": [
      "Epoch - 57 Train Loss - 0.23303557932376862 Val Loss - 0.04504246637225151\n"
     ]
    },
    {
     "name": "stderr",
     "output_type": "stream",
     "text": [
      "Training: 100%|██████████| 1/1 [00:00<00:00, 77.15it/s]\n",
      "validation: 100%|██████████| 1/1 [00:00<00:00, 184.42it/s]\n"
     ]
    },
    {
     "name": "stdout",
     "output_type": "stream",
     "text": [
      "Epoch - 58 Train Loss - 0.23279279470443726 Val Loss - 0.044896047562360764\n"
     ]
    },
    {
     "name": "stderr",
     "output_type": "stream",
     "text": [
      "Training: 100%|██████████| 1/1 [00:00<00:00, 76.79it/s]\n",
      "validation: 100%|██████████| 1/1 [00:00<00:00, 178.82it/s]\n"
     ]
    },
    {
     "name": "stdout",
     "output_type": "stream",
     "text": [
      "Epoch - 59 Train Loss - 0.23255078494548798 Val Loss - 0.04475016891956329\n"
     ]
    },
    {
     "name": "stderr",
     "output_type": "stream",
     "text": [
      "Training: 100%|██████████| 1/1 [00:00<00:00, 74.67it/s]\n",
      "validation: 100%|██████████| 1/1 [00:00<00:00, 178.61it/s]\n"
     ]
    },
    {
     "name": "stdout",
     "output_type": "stream",
     "text": [
      "Epoch - 60 Train Loss - 0.2323094606399536 Val Loss - 0.044604815542697906\n"
     ]
    },
    {
     "name": "stderr",
     "output_type": "stream",
     "text": [
      "Training: 100%|██████████| 1/1 [00:00<00:00, 75.09it/s]\n",
      "validation: 100%|██████████| 1/1 [00:00<00:00, 182.18it/s]\n"
     ]
    },
    {
     "name": "stdout",
     "output_type": "stream",
     "text": [
      "Epoch - 61 Train Loss - 0.23206885159015656 Val Loss - 0.0444599911570549\n"
     ]
    },
    {
     "name": "stderr",
     "output_type": "stream",
     "text": [
      "Training: 100%|██████████| 1/1 [00:00<00:00, 75.97it/s]\n",
      "validation: 100%|██████████| 1/1 [00:00<00:00, 191.99it/s]\n"
     ]
    },
    {
     "name": "stdout",
     "output_type": "stream",
     "text": [
      "Epoch - 62 Train Loss - 0.2318289577960968 Val Loss - 0.04431568458676338\n"
     ]
    },
    {
     "name": "stderr",
     "output_type": "stream",
     "text": [
      "Training: 100%|██████████| 1/1 [00:00<00:00, 76.93it/s]\n",
      "validation: 100%|██████████| 1/1 [00:00<00:00, 183.15it/s]\n"
     ]
    },
    {
     "name": "stdout",
     "output_type": "stream",
     "text": [
      "Epoch - 63 Train Loss - 0.23158973455429077 Val Loss - 0.044171884655952454\n"
     ]
    },
    {
     "name": "stderr",
     "output_type": "stream",
     "text": [
      "Training: 100%|██████████| 1/1 [00:00<00:00, 77.62it/s]\n",
      "validation: 100%|██████████| 1/1 [00:00<00:00, 178.66it/s]\n"
     ]
    },
    {
     "name": "stdout",
     "output_type": "stream",
     "text": [
      "Epoch - 64 Train Loss - 0.23135121166706085 Val Loss - 0.04402858763933182\n"
     ]
    },
    {
     "name": "stderr",
     "output_type": "stream",
     "text": [
      "Training: 100%|██████████| 1/1 [00:00<00:00, 76.54it/s]\n",
      "validation: 100%|██████████| 1/1 [00:00<00:00, 184.41it/s]\n"
     ]
    },
    {
     "name": "stdout",
     "output_type": "stream",
     "text": [
      "Epoch - 65 Train Loss - 0.23111332952976227 Val Loss - 0.043885793536901474\n"
     ]
    },
    {
     "name": "stderr",
     "output_type": "stream",
     "text": [
      "Training: 100%|██████████| 1/1 [00:00<00:00, 75.10it/s]\n",
      "validation: 100%|██████████| 1/1 [00:00<00:00, 184.65it/s]\n"
     ]
    },
    {
     "name": "stdout",
     "output_type": "stream",
     "text": [
      "Epoch - 66 Train Loss - 0.2308761030435562 Val Loss - 0.04374348372220993\n"
     ]
    },
    {
     "name": "stderr",
     "output_type": "stream",
     "text": [
      "Training: 100%|██████████| 1/1 [00:00<00:00, 74.41it/s]\n",
      "validation: 100%|██████████| 1/1 [00:00<00:00, 187.86it/s]\n"
     ]
    },
    {
     "name": "stdout",
     "output_type": "stream",
     "text": [
      "Epoch - 67 Train Loss - 0.2306395024061203 Val Loss - 0.04360166937112808\n"
     ]
    },
    {
     "name": "stderr",
     "output_type": "stream",
     "text": [
      "Training: 100%|██████████| 1/1 [00:00<00:00, 76.32it/s]\n",
      "validation: 100%|██████████| 1/1 [00:00<00:00, 185.38it/s]\n"
     ]
    },
    {
     "name": "stdout",
     "output_type": "stream",
     "text": [
      "Epoch - 68 Train Loss - 0.2304036021232605 Val Loss - 0.04346033185720444\n"
     ]
    },
    {
     "name": "stderr",
     "output_type": "stream",
     "text": [
      "Training: 100%|██████████| 1/1 [00:00<00:00, 76.67it/s]\n",
      "validation: 100%|██████████| 1/1 [00:00<00:00, 181.38it/s]\n"
     ]
    },
    {
     "name": "stdout",
     "output_type": "stream",
     "text": [
      "Epoch - 69 Train Loss - 0.23016828298568726 Val Loss - 0.04331947863101959\n"
     ]
    },
    {
     "name": "stderr",
     "output_type": "stream",
     "text": [
      "Training: 100%|██████████| 1/1 [00:00<00:00, 76.53it/s]\n",
      "validation: 100%|██████████| 1/1 [00:00<00:00, 178.26it/s]\n"
     ]
    },
    {
     "name": "stdout",
     "output_type": "stream",
     "text": [
      "Epoch - 70 Train Loss - 0.22993358969688416 Val Loss - 0.04317909851670265\n"
     ]
    },
    {
     "name": "stderr",
     "output_type": "stream",
     "text": [
      "Training: 100%|██████████| 1/1 [00:00<00:00, 77.17it/s]\n",
      "validation: 100%|██████████| 1/1 [00:00<00:00, 179.35it/s]\n"
     ]
    },
    {
     "name": "stdout",
     "output_type": "stream",
     "text": [
      "Epoch - 71 Train Loss - 0.2296995371580124 Val Loss - 0.04303918033838272\n"
     ]
    },
    {
     "name": "stderr",
     "output_type": "stream",
     "text": [
      "Training: 100%|██████████| 1/1 [00:00<00:00, 73.23it/s]\n",
      "validation: 100%|██████████| 1/1 [00:00<00:00, 194.22it/s]\n"
     ]
    },
    {
     "name": "stdout",
     "output_type": "stream",
     "text": [
      "Epoch - 72 Train Loss - 0.22946609556674957 Val Loss - 0.0428997278213501\n"
     ]
    },
    {
     "name": "stderr",
     "output_type": "stream",
     "text": [
      "Training: 100%|██████████| 1/1 [00:00<00:00, 74.68it/s]\n",
      "validation: 100%|██████████| 1/1 [00:00<00:00, 183.91it/s]\n"
     ]
    },
    {
     "name": "stdout",
     "output_type": "stream",
     "text": [
      "Epoch - 73 Train Loss - 0.22923323512077332 Val Loss - 0.04276072978973389\n"
     ]
    },
    {
     "name": "stderr",
     "output_type": "stream",
     "text": [
      "Training: 100%|██████████| 1/1 [00:00<00:00, 77.39it/s]\n",
      "validation: 100%|██████████| 1/1 [00:00<00:00, 184.49it/s]\n"
     ]
    },
    {
     "name": "stdout",
     "output_type": "stream",
     "text": [
      "Epoch - 74 Train Loss - 0.229000985622406 Val Loss - 0.042622197419404984\n"
     ]
    },
    {
     "name": "stderr",
     "output_type": "stream",
     "text": [
      "Training: 100%|██████████| 1/1 [00:00<00:00, 77.54it/s]\n",
      "validation: 100%|██████████| 1/1 [00:00<00:00, 180.34it/s]\n"
     ]
    },
    {
     "name": "stdout",
     "output_type": "stream",
     "text": [
      "Epoch - 75 Train Loss - 0.22876933217048645 Val Loss - 0.04248411953449249\n"
     ]
    },
    {
     "name": "stderr",
     "output_type": "stream",
     "text": [
      "Training: 100%|██████████| 1/1 [00:00<00:00, 79.22it/s]\n",
      "validation: 100%|██████████| 1/1 [00:00<00:00, 173.45it/s]\n"
     ]
    },
    {
     "name": "stdout",
     "output_type": "stream",
     "text": [
      "Epoch - 76 Train Loss - 0.22853827476501465 Val Loss - 0.04234648123383522\n"
     ]
    },
    {
     "name": "stderr",
     "output_type": "stream",
     "text": [
      "Training: 100%|██████████| 1/1 [00:00<00:00, 77.83it/s]\n",
      "validation: 100%|██████████| 1/1 [00:00<00:00, 182.66it/s]\n"
     ]
    },
    {
     "name": "stdout",
     "output_type": "stream",
     "text": [
      "Epoch - 77 Train Loss - 0.2283077836036682 Val Loss - 0.04220929741859436\n"
     ]
    },
    {
     "name": "stderr",
     "output_type": "stream",
     "text": [
      "Training: 100%|██████████| 1/1 [00:00<00:00, 73.18it/s]\n",
      "validation: 100%|██████████| 1/1 [00:00<00:00, 182.20it/s]\n"
     ]
    },
    {
     "name": "stdout",
     "output_type": "stream",
     "text": [
      "Epoch - 78 Train Loss - 0.22807788848876953 Val Loss - 0.04207254946231842\n"
     ]
    },
    {
     "name": "stderr",
     "output_type": "stream",
     "text": [
      "Training: 100%|██████████| 1/1 [00:00<00:00, 73.25it/s]\n",
      "validation: 100%|██████████| 1/1 [00:00<00:00, 180.21it/s]\n"
     ]
    },
    {
     "name": "stdout",
     "output_type": "stream",
     "text": [
      "Epoch - 79 Train Loss - 0.22784855961799622 Val Loss - 0.0419362410902977\n"
     ]
    },
    {
     "name": "stderr",
     "output_type": "stream",
     "text": [
      "Training: 100%|██████████| 1/1 [00:00<00:00, 76.11it/s]\n",
      "validation: 100%|██████████| 1/1 [00:00<00:00, 185.57it/s]\n"
     ]
    },
    {
     "name": "stdout",
     "output_type": "stream",
     "text": [
      "Epoch - 80 Train Loss - 0.22761979699134827 Val Loss - 0.0418003648519516\n"
     ]
    },
    {
     "name": "stderr",
     "output_type": "stream",
     "text": [
      "Training: 100%|██████████| 1/1 [00:00<00:00, 77.29it/s]\n",
      "validation: 100%|██████████| 1/1 [00:00<00:00, 173.82it/s]\n"
     ]
    },
    {
     "name": "stdout",
     "output_type": "stream",
     "text": [
      "Epoch - 81 Train Loss - 0.22739161550998688 Val Loss - 0.04166492819786072\n"
     ]
    },
    {
     "name": "stderr",
     "output_type": "stream",
     "text": [
      "Training: 100%|██████████| 1/1 [00:00<00:00, 78.25it/s]\n",
      "validation: 100%|██████████| 1/1 [00:00<00:00, 182.08it/s]\n"
     ]
    },
    {
     "name": "stdout",
     "output_type": "stream",
     "text": [
      "Epoch - 82 Train Loss - 0.22716398537158966 Val Loss - 0.04152991622686386\n"
     ]
    },
    {
     "name": "stderr",
     "output_type": "stream",
     "text": [
      "Training: 100%|██████████| 1/1 [00:00<00:00, 76.69it/s]\n",
      "validation: 100%|██████████| 1/1 [00:00<00:00, 190.36it/s]\n"
     ]
    },
    {
     "name": "stdout",
     "output_type": "stream",
     "text": [
      "Epoch - 83 Train Loss - 0.2269369214773178 Val Loss - 0.04139532893896103\n"
     ]
    },
    {
     "name": "stderr",
     "output_type": "stream",
     "text": [
      "Training: 100%|██████████| 1/1 [00:00<00:00,  3.91it/s]\n",
      "validation: 100%|██████████| 1/1 [00:00<00:00, 190.22it/s]\n"
     ]
    },
    {
     "name": "stdout",
     "output_type": "stream",
     "text": [
      "Epoch - 84 Train Loss - 0.22671039402484894 Val Loss - 0.04126117005944252\n"
     ]
    },
    {
     "name": "stderr",
     "output_type": "stream",
     "text": [
      "Training: 100%|██████████| 1/1 [00:00<00:00, 54.14it/s]\n",
      "validation: 100%|██████████| 1/1 [00:00<00:00, 182.08it/s]\n"
     ]
    },
    {
     "name": "stdout",
     "output_type": "stream",
     "text": [
      "Epoch - 85 Train Loss - 0.22648444771766663 Val Loss - 0.04112742841243744\n"
     ]
    },
    {
     "name": "stderr",
     "output_type": "stream",
     "text": [
      "Training: 100%|██████████| 1/1 [00:00<00:00, 76.48it/s]\n",
      "validation: 100%|██████████| 1/1 [00:00<00:00, 182.23it/s]\n"
     ]
    },
    {
     "name": "stdout",
     "output_type": "stream",
     "text": [
      "Epoch - 86 Train Loss - 0.2262590080499649 Val Loss - 0.040994103997945786\n"
     ]
    },
    {
     "name": "stderr",
     "output_type": "stream",
     "text": [
      "Training: 100%|██████████| 1/1 [00:00<00:00, 78.06it/s]\n",
      "validation: 100%|██████████| 1/1 [00:00<00:00, 183.35it/s]\n"
     ]
    },
    {
     "name": "stdout",
     "output_type": "stream",
     "text": [
      "Epoch - 87 Train Loss - 0.22603414952754974 Val Loss - 0.04086118936538696\n"
     ]
    },
    {
     "name": "stderr",
     "output_type": "stream",
     "text": [
      "Training: 100%|██████████| 1/1 [00:00<00:00, 77.76it/s]\n",
      "validation: 100%|██████████| 1/1 [00:00<00:00, 180.79it/s]\n"
     ]
    },
    {
     "name": "stdout",
     "output_type": "stream",
     "text": [
      "Epoch - 88 Train Loss - 0.22580981254577637 Val Loss - 0.040728695690631866\n"
     ]
    },
    {
     "name": "stderr",
     "output_type": "stream",
     "text": [
      "Training: 100%|██████████| 1/1 [00:00<00:00, 76.64it/s]\n",
      "validation: 100%|██████████| 1/1 [00:00<00:00, 188.78it/s]\n"
     ]
    },
    {
     "name": "stdout",
     "output_type": "stream",
     "text": [
      "Epoch - 89 Train Loss - 0.22558601200580597 Val Loss - 0.0405966080725193\n"
     ]
    },
    {
     "name": "stderr",
     "output_type": "stream",
     "text": [
      "Training: 100%|██████████| 1/1 [00:00<00:00, 73.67it/s]\n",
      "validation: 100%|██████████| 1/1 [00:00<00:00, 191.34it/s]\n"
     ]
    },
    {
     "name": "stdout",
     "output_type": "stream",
     "text": [
      "Epoch - 90 Train Loss - 0.22536276280879974 Val Loss - 0.04046492651104927\n"
     ]
    },
    {
     "name": "stderr",
     "output_type": "stream",
     "text": [
      "Training: 100%|██████████| 1/1 [00:00<00:00, 74.48it/s]\n",
      "validation: 100%|██████████| 1/1 [00:00<00:00, 180.94it/s]\n"
     ]
    },
    {
     "name": "stdout",
     "output_type": "stream",
     "text": [
      "Epoch - 91 Train Loss - 0.22514000535011292 Val Loss - 0.040332138538360596\n"
     ]
    },
    {
     "name": "stderr",
     "output_type": "stream",
     "text": [
      "Training: 100%|██████████| 1/1 [00:00<00:00, 78.11it/s]\n",
      "validation: 100%|██████████| 1/1 [00:00<00:00, 181.44it/s]\n"
     ]
    },
    {
     "name": "stdout",
     "output_type": "stream",
     "text": [
      "Epoch - 92 Train Loss - 0.22491781413555145 Val Loss - 0.040199290961027145\n"
     ]
    },
    {
     "name": "stderr",
     "output_type": "stream",
     "text": [
      "Training: 100%|██████████| 1/1 [00:00<00:00, 77.15it/s]\n",
      "validation: 100%|██████████| 1/1 [00:00<00:00, 186.47it/s]\n"
     ]
    },
    {
     "name": "stdout",
     "output_type": "stream",
     "text": [
      "Epoch - 93 Train Loss - 0.22469614446163177 Val Loss - 0.04006703197956085\n"
     ]
    },
    {
     "name": "stderr",
     "output_type": "stream",
     "text": [
      "Training: 100%|██████████| 1/1 [00:00<00:00, 77.37it/s]\n",
      "validation: 100%|██████████| 1/1 [00:00<00:00, 183.08it/s]\n"
     ]
    },
    {
     "name": "stdout",
     "output_type": "stream",
     "text": [
      "Epoch - 94 Train Loss - 0.2244749665260315 Val Loss - 0.039935339242219925\n"
     ]
    },
    {
     "name": "stderr",
     "output_type": "stream",
     "text": [
      "Training: 100%|██████████| 1/1 [00:00<00:00, 76.50it/s]\n",
      "validation: 100%|██████████| 1/1 [00:00<00:00, 193.30it/s]\n"
     ]
    },
    {
     "name": "stdout",
     "output_type": "stream",
     "text": [
      "Epoch - 95 Train Loss - 0.22425435483455658 Val Loss - 0.03980420157313347\n"
     ]
    },
    {
     "name": "stderr",
     "output_type": "stream",
     "text": [
      "Training: 100%|██████████| 1/1 [00:00<00:00, 73.43it/s]\n",
      "validation: 100%|██████████| 1/1 [00:00<00:00, 188.64it/s]\n"
     ]
    },
    {
     "name": "stdout",
     "output_type": "stream",
     "text": [
      "Epoch - 96 Train Loss - 0.22403420507907867 Val Loss - 0.03967360034584999\n"
     ]
    },
    {
     "name": "stderr",
     "output_type": "stream",
     "text": [
      "Training: 100%|██████████| 1/1 [00:00<00:00, 74.01it/s]\n",
      "validation: 100%|██████████| 1/1 [00:00<00:00, 186.26it/s]\n"
     ]
    },
    {
     "name": "stdout",
     "output_type": "stream",
     "text": [
      "Epoch - 97 Train Loss - 0.22381460666656494 Val Loss - 0.0395435132086277\n"
     ]
    },
    {
     "name": "stderr",
     "output_type": "stream",
     "text": [
      "Training: 100%|██████████| 1/1 [00:00<00:00, 76.59it/s]\n",
      "validation: 100%|██████████| 1/1 [00:00<00:00, 182.13it/s]\n"
     ]
    },
    {
     "name": "stdout",
     "output_type": "stream",
     "text": [
      "Epoch - 98 Train Loss - 0.223595529794693 Val Loss - 0.0394139289855957\n"
     ]
    },
    {
     "name": "stderr",
     "output_type": "stream",
     "text": [
      "Training: 100%|██████████| 1/1 [00:00<00:00, 77.34it/s]\n",
      "validation: 100%|██████████| 1/1 [00:00<00:00, 183.28it/s]\n"
     ]
    },
    {
     "name": "stdout",
     "output_type": "stream",
     "text": [
      "Epoch - 99 Train Loss - 0.22337691485881805 Val Loss - 0.039284829050302505\n"
     ]
    },
    {
     "name": "stderr",
     "output_type": "stream",
     "text": [
      "Training: 100%|██████████| 1/1 [00:00<00:00, 74.70it/s]\n",
      "validation: 100%|██████████| 1/1 [00:00<00:00, 193.83it/s]\n"
     ]
    },
    {
     "name": "stdout",
     "output_type": "stream",
     "text": [
      "Epoch - 100 Train Loss - 0.2231588214635849 Val Loss - 0.03915621340274811\n"
     ]
    },
    {
     "name": "stderr",
     "output_type": "stream",
     "text": [
      "Training: 100%|██████████| 1/1 [00:00<00:00, 75.77it/s]\n",
      "validation: 100%|██████████| 1/1 [00:00<00:00, 179.11it/s]\n"
     ]
    },
    {
     "name": "stdout",
     "output_type": "stream",
     "text": [
      "Epoch - 101 Train Loss - 0.22294126451015472 Val Loss - 0.03902805969119072\n"
     ]
    },
    {
     "name": "stderr",
     "output_type": "stream",
     "text": [
      "Training: 100%|██████████| 1/1 [00:00<00:00, 73.04it/s]\n",
      "validation: 100%|██████████| 1/1 [00:00<00:00, 183.04it/s]\n"
     ]
    },
    {
     "name": "stdout",
     "output_type": "stream",
     "text": [
      "Epoch - 102 Train Loss - 0.22272418439388275 Val Loss - 0.038900360465049744\n"
     ]
    },
    {
     "name": "stderr",
     "output_type": "stream",
     "text": [
      "Training: 100%|██████████| 1/1 [00:00<00:00, 74.99it/s]\n",
      "validation: 100%|██████████| 1/1 [00:00<00:00, 185.42it/s]\n"
     ]
    },
    {
     "name": "stdout",
     "output_type": "stream",
     "text": [
      "Epoch - 103 Train Loss - 0.22250759601593018 Val Loss - 0.038773100823163986\n"
     ]
    },
    {
     "name": "stderr",
     "output_type": "stream",
     "text": [
      "Training: 100%|██████████| 1/1 [00:00<00:00, 77.47it/s]\n",
      "validation: 100%|██████████| 1/1 [00:00<00:00, 185.05it/s]\n"
     ]
    },
    {
     "name": "stdout",
     "output_type": "stream",
     "text": [
      "Epoch - 104 Train Loss - 0.222291499376297 Val Loss - 0.0386459045112133\n"
     ]
    },
    {
     "name": "stderr",
     "output_type": "stream",
     "text": [
      "Training: 100%|██████████| 1/1 [00:00<00:00, 77.59it/s]\n",
      "validation: 100%|██████████| 1/1 [00:00<00:00, 187.05it/s]\n"
     ]
    },
    {
     "name": "stdout",
     "output_type": "stream",
     "text": [
      "Epoch - 105 Train Loss - 0.2220759093761444 Val Loss - 0.038518548011779785\n"
     ]
    },
    {
     "name": "stderr",
     "output_type": "stream",
     "text": [
      "Training: 100%|██████████| 1/1 [00:00<00:00, 75.66it/s]\n",
      "validation: 100%|██████████| 1/1 [00:00<00:00, 179.16it/s]\n"
     ]
    },
    {
     "name": "stdout",
     "output_type": "stream",
     "text": [
      "Epoch - 106 Train Loss - 0.22186079621315002 Val Loss - 0.038391392678022385\n"
     ]
    },
    {
     "name": "stderr",
     "output_type": "stream",
     "text": [
      "Training: 100%|██████████| 1/1 [00:00<00:00, 76.93it/s]\n",
      "validation: 100%|██████████| 1/1 [00:00<00:00, 178.45it/s]\n"
     ]
    },
    {
     "name": "stdout",
     "output_type": "stream",
     "text": [
      "Epoch - 107 Train Loss - 0.22164618968963623 Val Loss - 0.038264766335487366\n"
     ]
    },
    {
     "name": "stderr",
     "output_type": "stream",
     "text": [
      "Training: 100%|██████████| 1/1 [00:00<00:00, 73.18it/s]\n",
      "validation: 100%|██████████| 1/1 [00:00<00:00, 183.02it/s]\n"
     ]
    },
    {
     "name": "stdout",
     "output_type": "stream",
     "text": [
      "Epoch - 108 Train Loss - 0.22143206000328064 Val Loss - 0.03813865780830383\n"
     ]
    },
    {
     "name": "stderr",
     "output_type": "stream",
     "text": [
      "Training: 100%|██████████| 1/1 [00:00<00:00, 76.79it/s]\n",
      "validation: 100%|██████████| 1/1 [00:00<00:00, 177.97it/s]\n"
     ]
    },
    {
     "name": "stdout",
     "output_type": "stream",
     "text": [
      "Epoch - 109 Train Loss - 0.22121839225292206 Val Loss - 0.038013044744729996\n"
     ]
    },
    {
     "name": "stderr",
     "output_type": "stream",
     "text": [
      "Training: 100%|██████████| 1/1 [00:00<00:00, 76.91it/s]\n",
      "validation: 100%|██████████| 1/1 [00:00<00:00, 188.94it/s]\n"
     ]
    },
    {
     "name": "stdout",
     "output_type": "stream",
     "text": [
      "Epoch - 110 Train Loss - 0.22100524604320526 Val Loss - 0.03788791596889496\n"
     ]
    },
    {
     "name": "stderr",
     "output_type": "stream",
     "text": [
      "Training: 100%|██████████| 1/1 [00:00<00:00, 76.43it/s]\n",
      "validation: 100%|██████████| 1/1 [00:00<00:00, 188.61it/s]\n"
     ]
    },
    {
     "name": "stdout",
     "output_type": "stream",
     "text": [
      "Epoch - 111 Train Loss - 0.22079254686832428 Val Loss - 0.03776325285434723\n"
     ]
    },
    {
     "name": "stderr",
     "output_type": "stream",
     "text": [
      "Training: 100%|██████████| 1/1 [00:00<00:00, 75.66it/s]\n",
      "validation: 100%|██████████| 1/1 [00:00<00:00, 178.12it/s]\n"
     ]
    },
    {
     "name": "stdout",
     "output_type": "stream",
     "text": [
      "Epoch - 112 Train Loss - 0.2205803245306015 Val Loss - 0.03763905167579651\n"
     ]
    },
    {
     "name": "stderr",
     "output_type": "stream",
     "text": [
      "Training: 100%|██████████| 1/1 [00:00<00:00, 76.89it/s]\n",
      "validation: 100%|██████████| 1/1 [00:00<00:00, 184.56it/s]\n"
     ]
    },
    {
     "name": "stdout",
     "output_type": "stream",
     "text": [
      "Epoch - 113 Train Loss - 0.22036860883235931 Val Loss - 0.037515293806791306\n"
     ]
    },
    {
     "name": "stderr",
     "output_type": "stream",
     "text": [
      "Training: 100%|██████████| 1/1 [00:00<00:00, 74.86it/s]\n",
      "validation: 100%|██████████| 1/1 [00:00<00:00, 184.72it/s]\n"
     ]
    },
    {
     "name": "stdout",
     "output_type": "stream",
     "text": [
      "Epoch - 114 Train Loss - 0.22015732526779175 Val Loss - 0.03739197179675102\n"
     ]
    },
    {
     "name": "stderr",
     "output_type": "stream",
     "text": [
      "Training: 100%|██████████| 1/1 [00:00<00:00, 74.86it/s]\n",
      "validation: 100%|██████████| 1/1 [00:00<00:00, 183.35it/s]\n"
     ]
    },
    {
     "name": "stdout",
     "output_type": "stream",
     "text": [
      "Epoch - 115 Train Loss - 0.21994654834270477 Val Loss - 0.037269074469804764\n"
     ]
    },
    {
     "name": "stderr",
     "output_type": "stream",
     "text": [
      "Training: 100%|██████████| 1/1 [00:00<00:00, 74.58it/s]\n",
      "validation: 100%|██████████| 1/1 [00:00<00:00, 188.41it/s]\n"
     ]
    },
    {
     "name": "stdout",
     "output_type": "stream",
     "text": [
      "Epoch - 116 Train Loss - 0.21973620355129242 Val Loss - 0.03714600205421448\n"
     ]
    },
    {
     "name": "stderr",
     "output_type": "stream",
     "text": [
      "Training: 100%|██████████| 1/1 [00:00<00:00, 77.03it/s]\n",
      "validation: 100%|██████████| 1/1 [00:00<00:00, 180.71it/s]\n"
     ]
    },
    {
     "name": "stdout",
     "output_type": "stream",
     "text": [
      "Epoch - 117 Train Loss - 0.21952633559703827 Val Loss - 0.0370231457054615\n"
     ]
    },
    {
     "name": "stderr",
     "output_type": "stream",
     "text": [
      "Training: 100%|██████████| 1/1 [00:00<00:00, 75.98it/s]\n",
      "validation: 100%|██████████| 1/1 [00:00<00:00, 177.90it/s]\n"
     ]
    },
    {
     "name": "stdout",
     "output_type": "stream",
     "text": [
      "Epoch - 118 Train Loss - 0.21931692957878113 Val Loss - 0.03690087050199509\n"
     ]
    },
    {
     "name": "stderr",
     "output_type": "stream",
     "text": [
      "Training: 100%|██████████| 1/1 [00:00<00:00, 76.83it/s]\n",
      "validation: 100%|██████████| 1/1 [00:00<00:00, 181.94it/s]\n"
     ]
    },
    {
     "name": "stdout",
     "output_type": "stream",
     "text": [
      "Epoch - 119 Train Loss - 0.21910801529884338 Val Loss - 0.036779168993234634\n"
     ]
    },
    {
     "name": "stderr",
     "output_type": "stream",
     "text": [
      "Training: 100%|██████████| 1/1 [00:00<00:00, 74.09it/s]\n",
      "validation:   0%|          | 0/1 [00:00<?, ?it/s]"
     ]
    }
   ],
   "source": [
    "model0 = model0()\n",
    "optimizer = torch.optim.Adam(model0.parameters(), lr = lr)\n",
    "trainer = Trainer(model=model0,\n",
    "                      device=gpu_id,\n",
    "                      criterion=loss_fn,\n",
    "                      optimizer=optimizer,\n",
    "                      training_DataLoader=training_DataLoader,\n",
    "                      validation_DataLoader=validation_DataLoader,\n",
    "                      # lr_scheduler=lr_scheduler,\n",
    "                      epochs=600,\n",
    "                      epoch=0,\n",
    "                      notebook=True,\n",
    "                      path2write= path2write,\n",
    "                      checkpoint_start_epoch=checkpoint_start_epoch )\n",
    "training_losses_m0, validation_losses_m0, model0 = trainer.run_trainer()"
   ]
  },
  {
   "cell_type": "code",
   "execution_count": null,
   "id": "d454aab5",
   "metadata": {
    "tags": []
   },
   "outputs": [],
   "source": [
    "model1 = model1()\n",
    "optimizer = torch.optim.Adam(model1.parameters(), lr = lr)\n",
    "trainer = Trainer(model=model1,\n",
    "                      device=gpu_id,\n",
    "                      criterion=loss_fn,\n",
    "                      optimizer=optimizer,\n",
    "                      training_DataLoader=training_DataLoader,\n",
    "                      validation_DataLoader=validation_DataLoader,\n",
    "                      # lr_scheduler=lr_scheduler,\n",
    "                      epochs=600,\n",
    "                      epoch=0,\n",
    "                      notebook=True,\n",
    "                      path2write= path2write,\n",
    "                      checkpoint_start_epoch=checkpoint_start_epoch )\n",
    "training_losses_m1, validation_losses_m1, model1 = trainer.run_trainer()"
   ]
  },
  {
   "cell_type": "code",
   "execution_count": null,
   "id": "e1a45246",
   "metadata": {
    "lines_to_next_cell": 2,
    "tags": []
   },
   "outputs": [],
   "source": [
    "model2 = model2()\n",
    "trainer = Trainer(model=model2,\n",
    "                      device=gpu_id,\n",
    "                      criterion=loss_fn,\n",
    "                      optimizer=optimizer,\n",
    "                      training_DataLoader=training_DataLoader,\n",
    "                      validation_DataLoader=validation_DataLoader,\n",
    "                      # lr_scheduler=lr_scheduler,\n",
    "                      epochs=600,\n",
    "                      epoch=0,\n",
    "                      notebook=True,\n",
    "                      path2write= path2write,\n",
    "                      checkpoint_start_epoch=checkpoint_start_epoch )\n",
    "training_losses_m2, validation_losses_m2, model2 = trainer.run_trainer()"
   ]
  },
  {
   "cell_type": "code",
   "execution_count": null,
   "id": "a79c83c9",
   "metadata": {
    "tags": []
   },
   "outputs": [],
   "source": [
    "fig = plt.figure(figsize=(15, 15))\n",
    "plt.plot(np.array(training_losses_m0), label='Model0',color='r')\n",
    "plt.plot(np.array(training_losses_m1), label='Model1',color='g')\n",
    "plt.plot(np.array(training_losses_m2), label='Model2',color='y')\n",
    "plt.title('sin(5*pi*x)/5*pi*x - Training Loss')\n",
    "plt.xlabel('Epoch')\n",
    "plt.ylabel('MSE loss')\n",
    "plt.legend()\n",
    "plt.savefig(os.path.join(path2write, 'sin_func_loss.png'))"
   ]
  },
  {
   "cell_type": "code",
   "execution_count": null,
   "id": "820843e9",
   "metadata": {
    "tags": []
   },
   "outputs": [],
   "source": [
    "points = 10000\n",
    "eval_input_ = np.linspace(1e-4, 1, points)\n",
    "model_1_op = evaluate_model(model0, eval_input_)\n",
    "model_2_op = evaluate_model(model1, eval_input_)\n",
    "model_3_op = evaluate_model(model2, eval_input_)"
   ]
  },
  {
   "cell_type": "code",
   "execution_count": null,
   "id": "1157094c",
   "metadata": {
    "tags": []
   },
   "outputs": [],
   "source": [
    "fig = plt.figure(figsize=(15, 15))\n",
    "exp_output = list(map(func1, eval_input_))\n",
    "plt.plot(eval_input_, exp_output, label='Expected Output')\n",
    "plt.plot(eval_input_, np.array(model_1_op), label='Model0 output',color='y')\n",
    "plt.plot(eval_input_, np.array(model_2_op), label='Model1 output',color='r')\n",
    "plt.plot(eval_input_, np.array(model_3_op), label='Model2_output',color='g')\n",
    "plt.title('sin(5*pi*x)/5*pi*x - output')\n",
    "plt.xlabel('Input')\n",
    "plt.ylabel('Output')\n",
    "plt.legend()\n",
    "plt.xticks(np.arange(0, 11, 10)/10)\n",
    "plt.savefig(os.path.join(path2write, 'sin_output.png'))\n",
    "# plt.xlim(1e-4,1)\n",
    "plt.show()"
   ]
  },
  {
   "cell_type": "code",
   "execution_count": null,
   "id": "9852985c",
   "metadata": {
    "lines_to_next_cell": 2
   },
   "outputs": [],
   "source": []
  }
 ],
 "metadata": {
  "jupytext": {
   "cell_metadata_filter": "-all",
   "main_language": "python",
   "notebook_metadata_filter": "-all"
  },
  "kernelspec": {
   "display_name": "Python 3 (ipykernel)",
   "language": "python",
   "name": "python3"
  },
  "language_info": {
   "codemirror_mode": {
    "name": "ipython",
    "version": 3
   },
   "file_extension": ".py",
   "mimetype": "text/x-python",
   "name": "python",
   "nbconvert_exporter": "python",
   "pygments_lexer": "ipython3",
   "version": "3.11.5"
  }
 },
 "nbformat": 4,
 "nbformat_minor": 5
}
