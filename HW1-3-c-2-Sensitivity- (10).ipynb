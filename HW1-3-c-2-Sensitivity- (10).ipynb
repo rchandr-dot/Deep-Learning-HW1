{
 "cells": [
  {
   "cell_type": "code",
   "execution_count": 34,
   "id": "ee7ff5ee-50ed-47e5-b21a-2380344dcbdc",
   "metadata": {
    "tags": []
   },
   "outputs": [],
   "source": [
    "import os\n",
    "os.environ['TF_CPP_MIN_LOG_LEVEL'] = '3'  \n"
   ]
  },
  {
   "cell_type": "code",
   "execution_count": 35,
   "id": "78190a05",
   "metadata": {
    "tags": []
   },
   "outputs": [],
   "source": [
    "import os\n",
    "import numpy as np\n",
    "import matplotlib.pyplot as plt\n",
    "import pandas as pd\n",
    "import sklearn\n",
    "import seaborn\n",
    "import torch.nn as nn\n",
    "import torch.nn.functional as F\n",
    "from torch import optim\n",
    "import torch\n",
    "from torchvision import datasets\n",
    "from torchvision.transforms import ToTensor\n",
    "from torchvision import transforms"
   ]
  },
  {
   "cell_type": "code",
   "execution_count": 36,
   "id": "a9a8ad31",
   "metadata": {
    "tags": []
   },
   "outputs": [],
   "source": [
    "from torch.utils.data import TensorDataset\n",
    "from tqdm import tqdm\n",
    "from torch.utils.tensorboard import SummaryWriter\n",
    "from torch.utils.data import DataLoader\n",
    "from sklearn.metrics import confusion_matrix\n",
    "from sklearn.metrics import precision_score, recall_score"
   ]
  },
  {
   "cell_type": "code",
   "execution_count": 37,
   "id": "f9975c3f",
   "metadata": {
    "lines_to_next_cell": 1,
    "tags": []
   },
   "outputs": [],
   "source": [
    "class Trainer:\n",
    "\n",
    "    def __init__(self,\n",
    "                 model: torch.nn.Module,\n",
    "                 device: torch.device,\n",
    "                 criterion: torch.nn.Module,\n",
    "                 optimizer: torch.optim.Optimizer,\n",
    "                 training_DataLoader: torch.utils.data.Dataset,\n",
    "                 validation_DataLoader: None,\n",
    "                 # lr_scheduler: torch.optim.lr_scheduler = None,\n",
    "                 epochs: int = 100,\n",
    "                 epoch: int = 0,\n",
    "                 notebook: bool = False,\n",
    "                 path2write: str = None,\n",
    "                 save_best=False,\n",
    "                 save_final=True,\n",
    "                 save_interval=10,\n",
    "                 checkpoint_start_epoch=50\n",
    "                 ):\n",
    "        self.model = model\n",
    "        self.criterion = criterion\n",
    "        self.optimizer = optimizer\n",
    "        # self.lr_scheduler = lr_scheduler\n",
    "        self.training_DataLoader = training_DataLoader\n",
    "        self.validation_DataLoader = validation_DataLoader\n",
    "        self.device = device\n",
    "        self.epochs = epochs\n",
    "        self.epoch = epoch\n",
    "        self.notebook = notebook\n",
    "        self.path2write = path2write\n",
    "        LOG_DIR = os.path.join(path2write, 'Log')  # path2write + 'Log/'\n",
    "        self.writer_train = SummaryWriter(os.path.join(LOG_DIR, \"train\"))\n",
    "        self.writer_val = SummaryWriter(os.path.join(LOG_DIR, \"val\"))\n",
    "        self.check_point_path = os.path.join(path2write, 'check_points')\n",
    "        if not os.path.exists(self.check_point_path):\n",
    "            os.makedirs(self.check_point_path)\n",
    "        self.save_best = save_best\n",
    "        self.save_final = save_final\n",
    "        self.save_interval = save_interval\n",
    "        self.checkpoint_start_epoch = checkpoint_start_epoch\n",
    "        self.training_loss = []\n",
    "        self.validation_loss = []\n",
    "        self.learning_rate = []\n",
    "        self.training_accuracy = []\n",
    "        self.validation_accuracy = []\n",
    "\n",
    "    def run_trainer(self):\n",
    "        self.model.to(self.device)\n",
    "        #         print(next(self.model.parameters()).device)\n",
    "        if self.notebook:\n",
    "            print('Notebook')\n",
    "            from tqdm.notebook import tqdm, trange\n",
    "        else:\n",
    "            from tqdm import tqdm, trange\n",
    "        #         print(self.epochs)\n",
    "        progressbar = trange(self.epochs, desc='Progress', disable=True)  # don't show progressbar\n",
    "        loss_max = None\n",
    "        for epoch in progressbar:\n",
    "            print(f'Epoch - {epoch}')\n",
    "\n",
    "            # Training Block\n",
    "            train_loss, train_accuracy = self._train()\n",
    "            self.writer_train.add_scalar(\"Train Loss\", train_loss, epoch)\n",
    "            self.writer_train.add_scalar(\"Train Accuracy\", train_accuracy, epoch)\n",
    "\n",
    "            # Val Block\n",
    "            val_loss, val_accuracy = self._validate()\n",
    "            self.writer_val.add_scalar(\"Val Loss\", val_loss, epoch)\n",
    "            self.writer_val.add_scalar(\"Val Accuracy\", val_accuracy, epoch)\n",
    "\n",
    "            # lr\n",
    "            self.writer_train.add_scalar(\"Learning Rate\", self.optimizer.param_groups[0]['lr'], epoch)\n",
    "\n",
    "            print(\n",
    "                'Epoch - {} Train Loss - {:.6f} Val Loss - {:.6f} Train Accuracy - {:.6f} Val Accuracy - {:.6f}'.format(\n",
    "                    epoch, train_loss, val_loss, train_accuracy, val_accuracy))\n",
    "            if self.save_final:\n",
    "                if epoch == self.epochs - 1:\n",
    "                    model_name = 'epoch-{}-loss{:.6f}'.format(epoch, val_loss)\n",
    "                    torch.save(self.model.state_dict(), os.path.join(self.check_point_path, model_name))\n",
    "            loss_max = val_loss\n",
    "        sensitivity = self.sensitivity()\n",
    "        return train_loss, train_accuracy, val_loss, val_accuracy, sensitivity\n",
    "        # return self.training_loss, self.validation_loss, self.model, self.training_accuracy, self.validation_accuracy\n",
    "\n",
    "    def _train(self):\n",
    "\n",
    "        self.model.train()\n",
    "        train_losses = []\n",
    "        batch_iter = tqdm(enumerate(self.training_DataLoader), 'Training', total=len(self.training_DataLoader),\n",
    "                          disable=True)\n",
    "        batch_acc = 0\n",
    "        for i, (x, y) in batch_iter:\n",
    "            input, target = x.type(torch.float32).to(self.device), y.type(torch.float32).to(self.device)\n",
    "            self.optimizer.zero_grad()\n",
    "            target = target.type(torch.LongTensor).to(self.device)\n",
    "            output = self.model(input)\n",
    "            loss = self.criterion(output, target)\n",
    "            train_losses.append(loss.item())\n",
    "            loss.backward()\n",
    "            self.optimizer.step()\n",
    "            pred = output.argmax(dim=1, keepdim=True)  # max of prob\n",
    "            pred = pred.flatten()\n",
    "            batch_acc += torch.mean(pred.eq(target.view_as(pred)).type(torch.FloatTensor))\n",
    "\n",
    "        accuracy = batch_acc / len(self.training_DataLoader)\n",
    "        self.training_loss.append(np.mean(train_losses))  # Mean batch loss\n",
    "        self.learning_rate.append(self.optimizer.param_groups[0]['lr'])\n",
    "        self.training_accuracy.append(accuracy)\n",
    "\n",
    "        batch_iter.close()  # clean up the bar\n",
    "        return np.mean(train_losses), accuracy\n",
    "\n",
    "    def _validate(self):\n",
    "\n",
    "        self.model.eval()\n",
    "        valid_losses = []\n",
    "        batch_iter = tqdm(enumerate(self.validation_DataLoader), 'validation', total=len(self.validation_DataLoader),\n",
    "                          disable=True)\n",
    "        batch_acc = 0\n",
    "        for i, (x, y) in batch_iter:\n",
    "            input, target = x.type(torch.float32).to(self.device), y.to(self.device)\n",
    "            with torch.no_grad():\n",
    "                output = self.model(input)\n",
    "                target = target.type(torch.LongTensor).to(self.device)\n",
    "                loss = self.criterion(output, target)\n",
    "                valid_losses.append(loss.item())\n",
    "                pred = output.argmax(dim=1, keepdim=True)\n",
    "                batch_acc += torch.mean(pred.eq(target.view_as(pred)).type(torch.FloatTensor)).item()\n",
    "\n",
    "        accuracy = batch_acc / len(self.validation_DataLoader)\n",
    "        self.validation_loss.append(np.mean(valid_losses))\n",
    "        self.validation_accuracy.append(accuracy)\n",
    "        batch_iter.close()\n",
    "        return np.mean(valid_losses), accuracy\n",
    "\n",
    "    def sensitivity(self):\n",
    "        num = 0\n",
    "        FNorm = 0\n",
    "        for p in self.model.parameters():\n",
    "            grad = 0.0\n",
    "            if p.grad is not None:\n",
    "                num += 1\n",
    "                grad = p.grad\n",
    "                FNorm += torch.linalg.norm(grad).cpu().numpy()\n",
    "        return FNorm / num"
   ]
  },
  {
   "cell_type": "code",
   "execution_count": 42,
   "id": "345a1fe0-37cb-4a90-a7d0-e876312cd733",
   "metadata": {
    "tags": []
   },
   "outputs": [],
   "source": [
    "path2write = os.path.expanduser(\"~/my_logs\")  # This will create a 'my_logs' directory in your home directory\n"
   ]
  },
  {
   "cell_type": "code",
   "execution_count": 43,
   "id": "24d5cda8",
   "metadata": {
    "lines_to_next_cell": 1,
    "tags": []
   },
   "outputs": [],
   "source": [
    "gpu_id = 0\n",
    "loss_fn = nn.CrossEntropyLoss()\n",
    "lr = 1e-4\n",
    "epochs =  15\n",
    "notebook = True\n",
    "checkpoint_start_epoch = 5 #Not using\n",
    "path2write = r\"/Users/ramya/Desktop\""
   ]
  },
  {
   "cell_type": "code",
   "execution_count": 44,
   "id": "822e96d0",
   "metadata": {
    "tags": []
   },
   "outputs": [],
   "source": [
    "class CNN2(nn.Module):\n",
    "  def __init__(self):\n",
    "    super().__init__()\n",
    "    self.conv1 = nn.Conv2d(1, 32, kernel_size=3, stride=1, padding=1)\n",
    "    self.pool1 = nn.MaxPool2d(kernel_size=2, stride=2)\n",
    "\n",
    "    self.dense1 = nn.Linear(32*14*14, 128)\n",
    "    self.dense2 = nn.Linear(128, 10)\n",
    "\n",
    "  def forward(self, x):\n",
    "    x = self.conv1(x)\n",
    "    x = F.relu(x)\n",
    "    x = self.pool1(x)\n",
    "    x = x.view(x.shape[0], -1)\n",
    "    x = self.dense1(x)\n",
    "    x = self.dense2(x)\n",
    "    out = F.log_softmax(x)\n",
    "    return out"
   ]
  },
  {
   "cell_type": "code",
   "execution_count": 46,
   "id": "3446a5b5-971a-4a77-a56e-a76876475046",
   "metadata": {
    "tags": []
   },
   "outputs": [],
   "source": [
    "import tempfile\n",
    "\n",
    "path2write = tempfile.mkdtemp()\n"
   ]
  },
  {
   "cell_type": "code",
   "execution_count": 47,
   "id": "35bc1818",
   "metadata": {
    "tags": []
   },
   "outputs": [
    {
     "name": "stderr",
     "output_type": "stream",
     "text": [
      "  0%|          | 0/6 [00:00<?, ?it/s]/local_scratch/slurm.707385/ipykernel_654196/979612184.py:17: UserWarning: Implicit dimension choice for log_softmax has been deprecated. Change the call to include dim=X as an argument.\n",
      "  out = F.log_softmax(x)\n"
     ]
    },
    {
     "name": "stdout",
     "output_type": "stream",
     "text": [
      "Notebook\n",
      "Epoch - 0\n",
      "Epoch - 0 Train Loss - 0.289530 Val Loss - 0.144010 Train Accuracy - 0.916600 Val Accuracy - 0.959800\n",
      "Epoch - 1\n",
      "Epoch - 1 Train Loss - 0.119026 Val Loss - 0.090531 Train Accuracy - 0.965550 Val Accuracy - 0.972300\n",
      "Epoch - 2\n",
      "Epoch - 2 Train Loss - 0.082189 Val Loss - 0.073536 Train Accuracy - 0.975983 Val Accuracy - 0.976700\n",
      "Epoch - 3\n",
      "Epoch - 3 Train Loss - 0.065142 Val Loss - 0.071108 Train Accuracy - 0.980283 Val Accuracy - 0.977500\n",
      "Epoch - 4\n",
      "Epoch - 4 Train Loss - 0.055208 Val Loss - 0.064226 Train Accuracy - 0.983133 Val Accuracy - 0.979500\n",
      "Epoch - 5\n",
      "Epoch - 5 Train Loss - 0.047766 Val Loss - 0.054830 Train Accuracy - 0.985667 Val Accuracy - 0.983200\n",
      "Epoch - 6\n",
      "Epoch - 6 Train Loss - 0.042008 Val Loss - 0.054808 Train Accuracy - 0.987167 Val Accuracy - 0.982300\n",
      "Epoch - 7\n",
      "Epoch - 7 Train Loss - 0.037747 Val Loss - 0.053245 Train Accuracy - 0.988650 Val Accuracy - 0.982400\n",
      "Epoch - 8\n",
      "Epoch - 8 Train Loss - 0.034735 Val Loss - 0.052380 Train Accuracy - 0.989250 Val Accuracy - 0.983400\n",
      "Epoch - 9\n",
      "Epoch - 9 Train Loss - 0.030402 Val Loss - 0.058427 Train Accuracy - 0.990683 Val Accuracy - 0.981300\n",
      "Epoch - 10\n",
      "Epoch - 10 Train Loss - 0.027050 Val Loss - 0.052950 Train Accuracy - 0.991800 Val Accuracy - 0.983800\n",
      "Epoch - 11\n",
      "Epoch - 11 Train Loss - 0.024407 Val Loss - 0.050572 Train Accuracy - 0.992567 Val Accuracy - 0.984800\n",
      "Epoch - 12\n",
      "Epoch - 12 Train Loss - 0.021788 Val Loss - 0.058816 Train Accuracy - 0.993383 Val Accuracy - 0.982100\n",
      "Epoch - 13\n",
      "Epoch - 13 Train Loss - 0.019842 Val Loss - 0.064136 Train Accuracy - 0.994100 Val Accuracy - 0.980900\n",
      "Epoch - 14\n"
     ]
    },
    {
     "name": "stderr",
     "output_type": "stream",
     "text": [
      " 17%|█▋        | 1/6 [04:22<21:53, 262.78s/it]"
     ]
    },
    {
     "name": "stdout",
     "output_type": "stream",
     "text": [
      "Epoch - 14 Train Loss - 0.017608 Val Loss - 0.058687 Train Accuracy - 0.994850 Val Accuracy - 0.984500\n",
      "Notebook\n",
      "Epoch - 0\n",
      "Epoch - 0 Train Loss - 0.392191 Val Loss - 0.169826 Train Accuracy - 0.896983 Val Accuracy - 0.951777\n",
      "Epoch - 1\n",
      "Epoch - 1 Train Loss - 0.147243 Val Loss - 0.118667 Train Accuracy - 0.958100 Val Accuracy - 0.966853\n",
      "Epoch - 2\n",
      "Epoch - 2 Train Loss - 0.104538 Val Loss - 0.091860 Train Accuracy - 0.970133 Val Accuracy - 0.973343\n",
      "Epoch - 3\n",
      "Epoch - 3 Train Loss - 0.083073 Val Loss - 0.077427 Train Accuracy - 0.976383 Val Accuracy - 0.976837\n",
      "Epoch - 4\n",
      "Epoch - 4 Train Loss - 0.069783 Val Loss - 0.063426 Train Accuracy - 0.979233 Val Accuracy - 0.979732\n",
      "Epoch - 5\n",
      "Epoch - 5 Train Loss - 0.060391 Val Loss - 0.063698 Train Accuracy - 0.982300 Val Accuracy - 0.979433\n",
      "Epoch - 6\n",
      "Epoch - 6 Train Loss - 0.055126 Val Loss - 0.061159 Train Accuracy - 0.983783 Val Accuracy - 0.981230\n",
      "Epoch - 7\n",
      "Epoch - 7 Train Loss - 0.049165 Val Loss - 0.059270 Train Accuracy - 0.985783 Val Accuracy - 0.981330\n",
      "Epoch - 8\n",
      "Epoch - 8 Train Loss - 0.044904 Val Loss - 0.061927 Train Accuracy - 0.986950 Val Accuracy - 0.981030\n",
      "Epoch - 9\n",
      "Epoch - 9 Train Loss - 0.041566 Val Loss - 0.057504 Train Accuracy - 0.987417 Val Accuracy - 0.982428\n",
      "Epoch - 10\n",
      "Epoch - 10 Train Loss - 0.038029 Val Loss - 0.060133 Train Accuracy - 0.989067 Val Accuracy - 0.981230\n",
      "Epoch - 11\n",
      "Epoch - 11 Train Loss - 0.035074 Val Loss - 0.057981 Train Accuracy - 0.989833 Val Accuracy - 0.981829\n",
      "Epoch - 12\n",
      "Epoch - 12 Train Loss - 0.032562 Val Loss - 0.054000 Train Accuracy - 0.990433 Val Accuracy - 0.982827\n",
      "Epoch - 13\n",
      "Epoch - 13 Train Loss - 0.029990 Val Loss - 0.052334 Train Accuracy - 0.991450 Val Accuracy - 0.984225\n",
      "Epoch - 14\n"
     ]
    },
    {
     "name": "stderr",
     "output_type": "stream",
     "text": [
      " 33%|███▎      | 2/6 [06:21<11:51, 177.87s/it]"
     ]
    },
    {
     "name": "stdout",
     "output_type": "stream",
     "text": [
      "Epoch - 14 Train Loss - 0.028374 Val Loss - 0.051795 Train Accuracy - 0.991567 Val Accuracy - 0.984525\n",
      "Notebook\n",
      "Epoch - 0\n",
      "Epoch - 0 Train Loss - 0.637958 Val Loss - 0.260511 Train Accuracy - 0.858514 Val Accuracy - 0.927512\n",
      "Epoch - 1\n",
      "Epoch - 1 Train Loss - 0.225896 Val Loss - 0.180283 Train Accuracy - 0.936945 Val Accuracy - 0.948972\n",
      "Epoch - 2\n",
      "Epoch - 2 Train Loss - 0.167017 Val Loss - 0.141969 Train Accuracy - 0.953097 Val Accuracy - 0.960344\n",
      "Epoch - 3\n",
      "Epoch - 3 Train Loss - 0.134371 Val Loss - 0.120584 Train Accuracy - 0.962925 Val Accuracy - 0.966377\n",
      "Epoch - 4\n",
      "Epoch - 4 Train Loss - 0.112940 Val Loss - 0.104863 Train Accuracy - 0.968411 Val Accuracy - 0.970134\n",
      "Epoch - 5\n",
      "Epoch - 5 Train Loss - 0.098312 Val Loss - 0.093266 Train Accuracy - 0.972692 Val Accuracy - 0.972706\n",
      "Epoch - 6\n",
      "Epoch - 6 Train Loss - 0.087520 Val Loss - 0.083368 Train Accuracy - 0.975652 Val Accuracy - 0.976068\n",
      "Epoch - 7\n",
      "Epoch - 7 Train Loss - 0.079228 Val Loss - 0.082032 Train Accuracy - 0.977962 Val Accuracy - 0.975969\n",
      "Epoch - 8\n",
      "Epoch - 8 Train Loss - 0.072238 Val Loss - 0.079786 Train Accuracy - 0.979278 Val Accuracy - 0.975574\n",
      "Epoch - 9\n",
      "Epoch - 9 Train Loss - 0.066802 Val Loss - 0.070311 Train Accuracy - 0.980766 Val Accuracy - 0.979035\n",
      "Epoch - 10\n",
      "Epoch - 10 Train Loss - 0.061854 Val Loss - 0.068873 Train Accuracy - 0.982126 Val Accuracy - 0.979233\n",
      "Epoch - 11\n",
      "Epoch - 11 Train Loss - 0.057556 Val Loss - 0.071389 Train Accuracy - 0.983326 Val Accuracy - 0.977848\n",
      "Epoch - 12\n",
      "Epoch - 12 Train Loss - 0.054497 Val Loss - 0.061916 Train Accuracy - 0.984503 Val Accuracy - 0.981112\n",
      "Epoch - 13\n",
      "Epoch - 13 Train Loss - 0.051728 Val Loss - 0.060891 Train Accuracy - 0.985430 Val Accuracy - 0.981705\n",
      "Epoch - 14\n"
     ]
    },
    {
     "name": "stderr",
     "output_type": "stream",
     "text": [
      " 50%|█████     | 3/6 [07:45<06:45, 135.15s/it]"
     ]
    },
    {
     "name": "stdout",
     "output_type": "stream",
     "text": [
      "Epoch - 14 Train Loss - 0.048911 Val Loss - 0.063498 Train Accuracy - 0.985791 Val Accuracy - 0.981112\n",
      "Notebook\n",
      "Epoch - 0\n",
      "Epoch - 0 Train Loss - 1.228585 Val Loss - 0.590994 Train Accuracy - 0.771093 Val Accuracy - 0.880699\n",
      "Epoch - 1\n",
      "Epoch - 1 Train Loss - 0.457983 Val Loss - 0.348198 Train Accuracy - 0.891778 Val Accuracy - 0.914987\n",
      "Epoch - 2\n",
      "Epoch - 2 Train Loss - 0.321654 Val Loss - 0.275639 Train Accuracy - 0.913445 Val Accuracy - 0.925850\n",
      "Epoch - 3\n",
      "Epoch - 3 Train Loss - 0.264609 Val Loss - 0.240190 Train Accuracy - 0.927001 Val Accuracy - 0.932370\n",
      "Epoch - 4\n",
      "Epoch - 4 Train Loss - 0.230231 Val Loss - 0.207275 Train Accuracy - 0.935470 Val Accuracy - 0.944083\n",
      "Epoch - 5\n",
      "Epoch - 5 Train Loss - 0.203848 Val Loss - 0.187866 Train Accuracy - 0.942830 Val Accuracy - 0.946214\n",
      "Epoch - 6\n",
      "Epoch - 6 Train Loss - 0.184572 Val Loss - 0.168895 Train Accuracy - 0.948391 Val Accuracy - 0.952660\n",
      "Epoch - 7\n",
      "Epoch - 7 Train Loss - 0.164824 Val Loss - 0.153480 Train Accuracy - 0.954096 Val Accuracy - 0.956641\n",
      "Epoch - 8\n",
      "Epoch - 8 Train Loss - 0.149853 Val Loss - 0.141806 Train Accuracy - 0.958857 Val Accuracy - 0.960708\n",
      "Epoch - 9\n",
      "Epoch - 9 Train Loss - 0.137225 Val Loss - 0.131138 Train Accuracy - 0.962400 Val Accuracy - 0.962236\n",
      "Epoch - 10\n",
      "Epoch - 10 Train Loss - 0.126464 Val Loss - 0.120090 Train Accuracy - 0.964921 Val Accuracy - 0.965654\n",
      "Epoch - 11\n",
      "Epoch - 11 Train Loss - 0.116853 Val Loss - 0.113623 Train Accuracy - 0.968093 Val Accuracy - 0.968158\n",
      "Epoch - 12\n",
      "Epoch - 12 Train Loss - 0.108853 Val Loss - 0.108541 Train Accuracy - 0.970289 Val Accuracy - 0.969037\n",
      "Epoch - 13\n",
      "Epoch - 13 Train Loss - 0.102385 Val Loss - 0.101063 Train Accuracy - 0.971448 Val Accuracy - 0.971324\n",
      "Epoch - 14\n"
     ]
    },
    {
     "name": "stderr",
     "output_type": "stream",
     "text": [
      " 67%|██████▋   | 4/6 [09:00<03:42, 111.41s/it]"
     ]
    },
    {
     "name": "stdout",
     "output_type": "stream",
     "text": [
      "Epoch - 14 Train Loss - 0.097061 Val Loss - 0.096408 Train Accuracy - 0.973451 Val Accuracy - 0.971662\n",
      "Notebook\n",
      "Epoch - 0\n",
      "Epoch - 0 Train Loss - 1.973876 Val Loss - 1.631400 Train Accuracy - 0.596765 Val Accuracy - 0.756119\n",
      "Epoch - 1\n",
      "Epoch - 1 Train Loss - 1.375455 Val Loss - 1.109080 Train Accuracy - 0.782015 Val Accuracy - 0.824049\n",
      "Epoch - 2\n",
      "Epoch - 2 Train Loss - 0.952271 Val Loss - 0.781038 Train Accuracy - 0.832639 Val Accuracy - 0.864285\n",
      "Epoch - 3\n",
      "Epoch - 3 Train Loss - 0.697092 Val Loss - 0.591647 Train Accuracy - 0.866287 Val Accuracy - 0.884876\n",
      "Epoch - 4\n",
      "Epoch - 4 Train Loss - 0.547201 Val Loss - 0.477228 Train Accuracy - 0.885576 Val Accuracy - 0.901527\n",
      "Epoch - 5\n",
      "Epoch - 5 Train Loss - 0.454305 Val Loss - 0.404975 Train Accuracy - 0.898405 Val Accuracy - 0.910785\n",
      "Epoch - 6\n",
      "Epoch - 6 Train Loss - 0.393663 Val Loss - 0.354168 Train Accuracy - 0.906737 Val Accuracy - 0.917801\n",
      "Epoch - 7\n",
      "Epoch - 7 Train Loss - 0.347955 Val Loss - 0.319631 Train Accuracy - 0.913831 Val Accuracy - 0.920451\n",
      "Epoch - 8\n",
      "Epoch - 8 Train Loss - 0.316905 Val Loss - 0.290796 Train Accuracy - 0.918792 Val Accuracy - 0.927554\n",
      "Epoch - 9\n",
      "Epoch - 9 Train Loss - 0.288964 Val Loss - 0.268183 Train Accuracy - 0.924935 Val Accuracy - 0.931342\n",
      "Epoch - 10\n",
      "Epoch - 10 Train Loss - 0.268029 Val Loss - 0.249911 Train Accuracy - 0.929785 Val Accuracy - 0.934923\n",
      "Epoch - 11\n",
      "Epoch - 11 Train Loss - 0.250379 Val Loss - 0.234709 Train Accuracy - 0.933123 Val Accuracy - 0.937514\n",
      "Epoch - 12\n",
      "Epoch - 12 Train Loss - 0.234187 Val Loss - 0.220477 Train Accuracy - 0.936955 Val Accuracy - 0.941672\n",
      "Epoch - 13\n",
      "Epoch - 13 Train Loss - 0.220451 Val Loss - 0.208549 Train Accuracy - 0.940682 Val Accuracy - 0.943131\n",
      "Epoch - 14\n"
     ]
    },
    {
     "name": "stderr",
     "output_type": "stream",
     "text": [
      " 83%|████████▎ | 5/6 [10:14<01:37, 97.95s/it] "
     ]
    },
    {
     "name": "stdout",
     "output_type": "stream",
     "text": [
      "Epoch - 14 Train Loss - 0.207326 Val Loss - 0.197571 Train Accuracy - 0.943968 Val Accuracy - 0.946959\n",
      "Notebook\n",
      "Epoch - 0\n",
      "Epoch - 0 Train Loss - 2.124531 Val Loss - 1.919305 Train Accuracy - 0.538419 Val Accuracy - 0.705643\n",
      "Epoch - 1\n",
      "Epoch - 1 Train Loss - 1.759254 Val Loss - 1.567566 Train Accuracy - 0.714494 Val Accuracy - 0.786413\n",
      "Epoch - 2\n",
      "Epoch - 2 Train Loss - 1.433450 Val Loss - 1.266770 Train Accuracy - 0.783126 Val Accuracy - 0.807769\n",
      "Epoch - 3\n",
      "Epoch - 3 Train Loss - 1.163809 Val Loss - 1.030812 Train Accuracy - 0.814548 Val Accuracy - 0.837728\n",
      "Epoch - 4\n",
      "Epoch - 4 Train Loss - 0.954296 Val Loss - 0.848357 Train Accuracy - 0.837209 Val Accuracy - 0.860563\n",
      "Epoch - 5\n",
      "Epoch - 5 Train Loss - 0.797423 Val Loss - 0.715513 Train Accuracy - 0.855184 Val Accuracy - 0.874419\n",
      "Epoch - 6\n",
      "Epoch - 6 Train Loss - 0.681762 Val Loss - 0.615564 Train Accuracy - 0.868900 Val Accuracy - 0.886609\n",
      "Epoch - 7\n",
      "Epoch - 7 Train Loss - 0.595684 Val Loss - 0.542147 Train Accuracy - 0.878823 Val Accuracy - 0.893509\n",
      "Epoch - 8\n",
      "Epoch - 8 Train Loss - 0.530424 Val Loss - 0.488514 Train Accuracy - 0.887692 Val Accuracy - 0.897015\n",
      "Epoch - 9\n",
      "Epoch - 9 Train Loss - 0.479704 Val Loss - 0.442635 Train Accuracy - 0.893962 Val Accuracy - 0.901965\n",
      "Epoch - 10\n",
      "Epoch - 10 Train Loss - 0.439228 Val Loss - 0.407929 Train Accuracy - 0.899795 Val Accuracy - 0.908965\n",
      "Epoch - 11\n",
      "Epoch - 11 Train Loss - 0.406551 Val Loss - 0.382815 Train Accuracy - 0.904249 Val Accuracy - 0.909064\n",
      "Epoch - 12\n",
      "Epoch - 12 Train Loss - 0.379478 Val Loss - 0.356335 Train Accuracy - 0.907947 Val Accuracy - 0.913832\n",
      "Epoch - 13\n",
      "Epoch - 13 Train Loss - 0.356781 Val Loss - 0.333073 Train Accuracy - 0.912737 Val Accuracy - 0.919035\n",
      "Epoch - 14\n"
     ]
    },
    {
     "name": "stderr",
     "output_type": "stream",
     "text": [
      "100%|██████████| 6/6 [11:30<00:00, 115.16s/it]"
     ]
    },
    {
     "name": "stdout",
     "output_type": "stream",
     "text": [
      "Epoch - 14 Train Loss - 0.337240 Val Loss - 0.316037 Train Accuracy - 0.915197 Val Accuracy - 0.921635\n"
     ]
    },
    {
     "name": "stderr",
     "output_type": "stream",
     "text": [
      "\n"
     ]
    }
   ],
   "source": [
    "batch_ = [8, 32, 128, 512, 2048, 4016]\n",
    "train_loss_ = []\n",
    "val_loss_ = []\n",
    "train_acc_ = []\n",
    "val_acc_ = []\n",
    "sensitivity_ = []\n",
    "for batch_size in tqdm(batch_):\n",
    "    transform = transforms.Compose([\n",
    "        transforms.ToTensor()\n",
    "    ])\n",
    "    dataset1 = datasets.MNIST('Home work', train=True, download=True, transform=transform)\n",
    "    dataset2 = datasets.MNIST('Home work', train=False, transform=transform)\n",
    "\n",
    "    training_DataLoader = DataLoader(dataset1, batch_size=batch_size, shuffle=True)\n",
    "    validation_DataLoader = DataLoader(dataset2, batch_size=batch_size, shuffle=True)\n",
    "\n",
    "    model = CNN2()\n",
    "    optimizer = torch.optim.Adam(model.parameters(), lr=lr)\n",
    "    trainer = Trainer(model=model,\n",
    "                      device=gpu_id,\n",
    "                      criterion=loss_fn,\n",
    "                      optimizer=optimizer,\n",
    "                      training_DataLoader=training_DataLoader,\n",
    "                      validation_DataLoader=validation_DataLoader,\n",
    "                      # lr_scheduler=lr_scheduler,\n",
    "                      epochs=epochs,\n",
    "                      epoch=0,\n",
    "                      notebook=True,\n",
    "                      path2write=path2write,\n",
    "                      checkpoint_start_epoch=checkpoint_start_epoch)\n",
    "    training_loss, training_accuracy, validation_loss, validation_accuracy, sensitivity = trainer.run_trainer()\n",
    "    train_loss_.append(training_loss)\n",
    "    val_loss_.append(validation_loss)\n",
    "    train_acc_.append(training_accuracy)\n",
    "    val_acc_.append(validation_accuracy)\n",
    "    sensitivity_.append(sensitivity)"
   ]
  },
  {
   "cell_type": "code",
   "execution_count": 55,
   "id": "b3fb13a1",
   "metadata": {
    "tags": []
   },
   "outputs": [
    {
     "data": {
      "image/png": "[encoded data removed]",
      "text/plain": [
       "<Figure size 1500x500 with 1 Axes>"
      ]
     },
     "metadata": {},
     "output_type": "display_data"
    }
   ],
   "source": [
    "fig, ax1 = plt.subplots(figsize=(15, 5))"
   ]
  },
  {
   "cell_type": "code",
   "execution_count": 56,
   "id": "227b7619",
   "metadata": {
    "tags": []
   },
   "outputs": [
    {
     "data": {
      "text/plain": [
       "Text(0.5, 1.0, 'Batch Size Vs loss Vs Sensitivity')"
      ]
     },
     "execution_count": 56,
     "metadata": {},
     "output_type": "execute_result"
    }
   ],
   "source": [
    "ax1 = fig.add_subplot(1, 1, 1)\n",
    "ax1.plot(batch_, train_loss_, 'b-', label='Train')\n",
    "ax1.plot(batch_, val_loss_, 'b--', label='Validation')\n",
    "ax1.legend()\n",
    "ax1.set_xlabel('Batch Size')\n",
    "ax1.set_ylabel('Loss', color='b')\n",
    "ax1.set_title('Batch Size Vs loss Vs Sensitivity')"
   ]
  },
  {
   "cell_type": "code",
   "execution_count": 57,
   "id": "5f3f5a57",
   "metadata": {
    "tags": []
   },
   "outputs": [
    {
     "name": "stderr",
     "output_type": "stream",
     "text": [
      "No artists with labels found to put in legend.  Note that artists whose label start with an underscore are ignored when legend() is called with no argument.\n"
     ]
    }
   ],
   "source": [
    "ax2 = ax1.twinx()\n",
    "ax2.plot(batch_, sensitivity_, 'r-')\n",
    "ax2.legend()\n",
    "ax2.set_ylabel('Sensitivity', color='r')\n",
    "fig.tight_layout()\n",
    "fig.savefig(os.path.join(path2write, 'sensitivity_loss.png'))"
   ]
  },
  {
   "cell_type": "code",
   "execution_count": 58,
   "id": "69d3a24e",
   "metadata": {
    "tags": []
   },
   "outputs": [
    {
     "data": {
      "image/png": "[encoded data removed]",
      "text/plain": [
       "<Figure size 1500x500 with 1 Axes>"
      ]
     },
     "metadata": {},
     "output_type": "display_data"
    }
   ],
   "source": [
    "fig, ax1 = plt.subplots(figsize=(15, 5))"
   ]
  },
  {
   "cell_type": "code",
   "execution_count": 59,
   "id": "6ff04d1f",
   "metadata": {
    "tags": []
   },
   "outputs": [
    {
     "data": {
      "text/plain": [
       "Text(0.5, 1.0, 'Batch Size Vs Accuracy Vs Sensitivity')"
      ]
     },
     "execution_count": 59,
     "metadata": {},
     "output_type": "execute_result"
    }
   ],
   "source": [
    "ax1 = fig.add_subplot(1, 1, 1)\n",
    "ax1.plot(batch_, train_acc_, 'b-', label='Train')\n",
    "ax1.plot(batch_, val_acc_, 'b--', label='Validation')\n",
    "ax1.legend()\n",
    "ax1.set_xlabel('Batch Size')\n",
    "ax1.set_ylabel('Accuracy', color='b')\n",
    "ax1.set_title('Batch Size Vs Accuracy Vs Sensitivity')"
   ]
  },
  {
   "cell_type": "code",
   "execution_count": 60,
   "id": "dd8997fa",
   "metadata": {
    "tags": []
   },
   "outputs": [
    {
     "name": "stderr",
     "output_type": "stream",
     "text": [
      "No artists with labels found to put in legend.  Note that artists whose label start with an underscore are ignored when legend() is called with no argument.\n"
     ]
    }
   ],
   "source": [
    "ax2 = ax1.twinx()\n",
    "ax2.plot(batch_, sensitivity_, 'r-')\n",
    "ax2.legend()\n",
    "ax2.set_ylabel('Sensitivity', color='r')\n",
    "fig.tight_layout()\n",
    "fig.savefig(os.path.join(path2write, 'sensitivity_accuracy.png'))"
   ]
  },
  {
   "cell_type": "code",
   "execution_count": null,
   "id": "567a802e-e28d-49d5-b61b-919fca76cf7a",
   "metadata": {},
   "outputs": [],
   "source": []
  }
 ],
 "metadata": {
  "jupytext": {
   "cell_metadata_filter": "-all",
   "main_language": "python",
   "notebook_metadata_filter": "-all"
  },
  "kernelspec": {
   "display_name": "Python 3 (ipykernel)",
   "language": "python",
   "name": "python3"
  },
  "language_info": {
   "codemirror_mode": {
    "name": "ipython",
    "version": 3
   },
   "file_extension": ".py",
   "mimetype": "text/x-python",
   "name": "python",
   "nbconvert_exporter": "python",
   "pygments_lexer": "ipython3",
   "version": "3.11.5"
  }
 },
 "nbformat": 4,
 "nbformat_minor": 5
}
